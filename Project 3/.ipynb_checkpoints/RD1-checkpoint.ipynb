{
 "cells": [
  {
   "cell_type": "markdown",
   "id": "f8de3cb3-902a-4cbc-a256-4ccb605e9ab3",
   "metadata": {},
   "source": [
    "# <div style=\"text-align: center;\">Project 3: Classification</div>"
   ]
  },
  {
   "cell_type": "markdown",
   "id": "c52df7d6-81cf-4c87-845e-263fa7364eec",
   "metadata": {},
   "source": [
    "## **1. Problem Description (Business Understanding)**\n",
    "\n",
    "The ongoing COVID-19 pandemic has revealed stark disparities in how counties across the United States—and particularly in Texas—have been impacted. Research has consistently shown that differences in health outcomes are influenced by a complex interaction of socioeconomic, demographic, and behavioral factors (CDC, 2021; Benitez et al., 2020). State and local health departments, including the Texas Department of State Health Services (DSHS), require reliable models to anticipate where resources and interventions are most needed.\n",
    "\n",
    "The goal of this project is to build predictive models that can accurately identify counties with high COVID-19 mortality rates using a range of population and health-related features. These include income inequality, poverty rates, commuting patterns, ability to work remotely, food insecurity, and access to healthcare (Raifman & Raifman, 2020). By understanding which variables most strongly correlate with severe outcomes, policymakers can prioritize data-driven strategies for prevention and resource allocation.\n",
    "\n",
    "Key stakeholders include:\n",
    "- **Public health agencies** (e.g., DSHS, CDC)\n",
    "- **Local governments** seeking to allocate medical supplies, testing, or vaccination campaigns\n",
    "- **Epidemiologists and data analysts** responsible for surveillance and predictive monitoring\n",
    "\n",
    "**Research Questions:**\n",
    "1. Which counties in Texas are most vulnerable to COVID-19 mortality based on social and economic indicators?\n",
    "2. Can predictive models classify counties as low, medium, or high risk with high accuracy?\n",
    "3. What are the most important features that drive model predictions, and how can they guide policy interventions?\n",
    "\n",
    "This project is important because it translates raw COVID-19 case data into actionable intelligence. A well-performing model will not only help in short-term response planning but also inform longer-term policy decisions to reduce structural vulnerabilities before future public health emergencies (Bertsimas et al., 2020).\n",
    "\n",
    "### References (APA Style)\n",
    "\n",
    "- Benitez, J. A., Courtemanche, C., & Yelowitz, A. (2020). *Racial and ethnic disparities in COVID-19: Evidence from six large cities*. National Bureau of Economic Research. https://doi.org/10.3386/w27592  \n",
    "- Bertsimas, D., Boussioux, L., Cory-Wright, R., Delarue, A., Digalakis Jr, V., & Lami, O. (2020). *From predictions to prescriptions: A data-driven response to COVID-19*. Health Care Management Science, 24(2), 1–22. https://doi.org/10.1007/s10729-020-09549-8  \n",
    "- Centers for Disease Control and Prevention (CDC). (2021). *COVID-19 racial and ethnic health disparities*. https://www.cdc.gov/coronavirus/2019-ncov/community/health-equity/race-ethnicity.html  \n",
    "- Raifman, M. A., & Raifman, J. R. (2020). *Disparities in the population at risk of severe illness from COVID-19 by race/ethnicity and income*. American Journal of Preventive Medicine, 59(1), 137–139. https://doi.org/10.1016/j.amepre.2020.04.003  "
   ]
  },
  {
   "cell_type": "code",
   "execution_count": 18,
   "id": "e6593ef7-cd17-46af-949f-76d4a64ddf86",
   "metadata": {},
   "outputs": [],
   "source": [
    "# Define all the required packages\n",
    "packages <- c(\n",
    "  \"tidyverse\", \"ggrepel\", \"ggcorrplot\", \"DT\", \"gridExtra\",\n",
    "  \"sf\", \"modeest\", \"factoextra\", \"kableExtra\", \"reshape2\",\n",
    "  \"knitr\", \"caret\", \"car\", \"lubridate\", \"tigris\",\n",
    "  \"mclust\", \"dbscan\"\n",
    ")\n",
    "\n",
    "# Install any that aren't already installed\n",
    "installed <- packages %in% rownames(installed.packages())\n",
    "if (any(!installed)) {\n",
    "  install.packages(packages[!installed])\n",
    "}"
   ]
  },
  {
   "cell_type": "code",
   "execution_count": 20,
   "id": "ee828d21-6ed5-4627-8df7-4e54e3cca516",
   "metadata": {},
   "outputs": [],
   "source": [
    "# List of required libraries\n",
    "libs <- c(\n",
    "  \"tidyverse\", \"ggrepel\", \"ggcorrplot\", \"DT\", \"gridExtra\",\n",
    "  \"sf\", \"modeest\", \"knitr\", \"factoextra\", \"reshape2\",\n",
    "  \"kableExtra\", \"stringr\", \"caret\", \"car\", \"lubridate\",\n",
    "  \"tigris\", \"mclust\", \"cluster\", \"dbscan\"\n",
    ")\n",
    "\n",
    "# Load each library\n",
    "invisible(lapply(libs, library, character.only = TRUE))"
   ]
  },
  {
   "cell_type": "code",
   "execution_count": 22,
   "id": "afd4232c-9634-4973-9bae-90544648cc7d",
   "metadata": {},
   "outputs": [],
   "source": [
    "# Define base directory\n",
    "#base_dir <- \"../../../../../COVID-19/\"\n",
    "#base_dir <- \"C:/Users/leona/OneDrive/CSMS/Data Mining (CS7331)/Projects/Project 1/COVID-19/\"\n",
    "base_dir <- \"/Users/salissa/Desktop/Data Mining/Datasets/COVID-19\"\n",
    "\n",
    "# Use file.path() for better compatibility\n",
    "global_mobility_path <- file.path(base_dir, \"Global_Mobility_Report.csv\")\n",
    "covid_cases_census_path <- file.path(base_dir, \"c19_census.csv\")\n",
    "covid_cases_tx_path <- file.path(base_dir, \"c19_tx.csv\")"
   ]
  },
  {
   "cell_type": "code",
   "execution_count": 24,
   "id": "b619c626-05aa-4bcd-b4f1-ae855c185e4f",
   "metadata": {},
   "outputs": [
    {
     "name": "stdout",
     "output_type": "stream",
     "text": [
      "\n",
      "--- Loading Global Mobility Data ---\n",
      "\n",
      "--- Loading COVID-19 Cases and Census Data ---\n",
      "\n",
      "--- Loading COVID-19 Cases for Texas ---\n",
      "\n",
      "--- All datasets successfully loaded! ---\n"
     ]
    }
   ],
   "source": [
    "# Custom function to read CSV files\n",
    "read_data <- function(file_path, dataset_name) {\n",
    "  if (file.exists(file_path)) {\n",
    "    cat(paste0(\"\\n--- Loading \", dataset_name, \" ---\\n\"))\n",
    "    # Suppress col_type messages\n",
    "    return(read_csv(file_path, show_col_types = FALSE))\n",
    "  } else {\n",
    "    stop(paste0(\"Error: File not found -> \", file_path))\n",
    "  }\n",
    "}\n",
    "\n",
    "# Load datasets\n",
    "global_mobility <- read_data(global_mobility_path, \"Global Mobility Data\")\n",
    "c19_census <- read_data(covid_cases_census_path, \"COVID-19 Cases and Census Data\")\n",
    "covid_cases_tx <- read_data(covid_cases_tx_path, \"COVID-19 Cases for Texas\")\n",
    "\n",
    "cat(\"\\n--- All datasets successfully loaded! ---\\n\")"
   ]
  },
  {
   "cell_type": "markdown",
   "id": "5421bebe-4968-45c1-baae-b7b1c8c8d49c",
   "metadata": {},
   "source": [
    "### 2. Data Preparation [40 points]\n",
    "Define your classes (e.g., more than x corona-related cases or fatalities per population of 10000 per week). Explain why you defined the classes this way. You should look at the data to answer this question. [10]\n",
    "Combine files as needed to prepare the data set for classification. You will need a single table with a class attribute to learn a model. [10]\n",
    "Identify predictive features, create additional features, and deal with missing data (for classification models that cannot handle missing data). [20]\n"
   ]
  },
  {
   "cell_type": "markdown",
   "id": "13f0a91a-8567-4bb9-91e9-942b345249e1",
   "metadata": {},
   "source": [
    "### 2.1 Defining Classes [10 points]\n",
    "To predict county-level vulnerability to a future virus similar to COVID-19, we defined three classes based on historical COVID-19 death rates per 100,000 people. This outcome reflects the severity of pandemic impact, which public health departments use to allocate resources and prioritize interventions.\n",
    "\n",
    "**Class Definition:**\n",
    "\n",
    "- Low Risk: ≤ 100 deaths per 100k\n",
    "- Medium Risk: 101–200 deaths per 100k\n",
    "- High Risk: > 200 deaths per 100k\n",
    "\n",
    "**Rationale:**\n",
    "\n",
    "These thresholds align with natural breakpoints in the observed distribution of the data (see histogram in Figure 1).\n",
    "They offer clear, interpretable groupings useful for health policy decision-making.\n",
    "Classification models benefit from roughly balanced classes, which these thresholds help achieve after inspecting the distribution.\n"
   ]
  },
  {
   "cell_type": "code",
   "execution_count": null,
   "id": "f07fde7b-f5e2-4a40-afaa-386c8572f092",
   "metadata": {},
   "outputs": [],
   "source": []
  },
  {
   "cell_type": "code",
   "execution_count": null,
   "id": "883e7db0-0757-4d60-ab45-74b44ca152a8",
   "metadata": {},
   "outputs": [],
   "source": []
  },
  {
   "cell_type": "code",
   "execution_count": null,
   "id": "382f0110-beb2-4056-8cd4-ca86949945c5",
   "metadata": {},
   "outputs": [],
   "source": []
  },
  {
   "cell_type": "code",
   "execution_count": null,
   "id": "12bbf1ad-aafb-49f5-9534-bd3265edce09",
   "metadata": {},
   "outputs": [],
   "source": []
  },
  {
   "cell_type": "code",
   "execution_count": null,
   "id": "5d69bf97-bd47-4c6d-af40-43f1ef49d356",
   "metadata": {},
   "outputs": [],
   "source": []
  },
  {
   "cell_type": "code",
   "execution_count": null,
   "id": "081717b7-f2b3-4347-b6ef-79dd1fbf3507",
   "metadata": {},
   "outputs": [],
   "source": []
  },
  {
   "cell_type": "code",
   "execution_count": null,
   "id": "53219d4d-a163-45c1-b84e-35255a11f21f",
   "metadata": {},
   "outputs": [],
   "source": []
  },
  {
   "cell_type": "markdown",
   "id": "25b85d45-0eb7-4b18-9455-d078c43014d2",
   "metadata": {},
   "source": [
    "### 2. Modeling [50 points]\n",
    "Prepare the data for training, testing, and hyperparameter tuning. [5]\n",
    "Using the training data, create at least three different classification models (different techniques). Discuss each model and the advantages of each used classification method for your classification task. [30]\n",
    "Assess each model's performance (use training/test data, cross-validation, etc., as appropriate). [15]\n"
   ]
  },
  {
   "cell_type": "code",
   "execution_count": null,
   "id": "d80a1a40-e4bd-4649-bac0-303416b72074",
   "metadata": {},
   "outputs": [],
   "source": []
  },
  {
   "cell_type": "markdown",
   "id": "304ef17c-46bc-4f59-8b52-e56be2ea2fad",
   "metadata": {},
   "source": [
    "### 3. Evaluation [5 points]\n",
    "Discuss how useful your model is for your chosen stakeholders. How would you assess the model's value if\n",
    "it was used?"
   ]
  },
  {
   "cell_type": "code",
   "execution_count": null,
   "id": "20365a54-b4f1-40c1-8089-624ae8cf914d",
   "metadata": {},
   "outputs": [],
   "source": []
  },
  {
   "cell_type": "markdown",
   "id": "91c17199-cbfa-42de-86a2-b38d1630a00d",
   "metadata": {},
   "source": [
    "### 4. Deployment [5 points]\n",
    "• How would your model be used in practice? What actions would be taken based on your model? How often would the model be updated? Etc."
   ]
  },
  {
   "cell_type": "code",
   "execution_count": null,
   "id": "a07de4ea-104e-41bc-bb1b-9d522a9350e1",
   "metadata": {},
   "outputs": [],
   "source": []
  },
  {
   "cell_type": "code",
   "execution_count": null,
   "id": "5df4bd45-691d-45f3-b6dc-70059571d7b7",
   "metadata": {},
   "outputs": [],
   "source": []
  },
  {
   "cell_type": "code",
   "execution_count": null,
   "id": "f57a36d1-da6e-448b-8c0e-c0dd35b0ee6e",
   "metadata": {},
   "outputs": [],
   "source": []
  },
  {
   "cell_type": "code",
   "execution_count": null,
   "id": "72fbbfd3-a156-42ec-8ea8-0d73b26d1f8e",
   "metadata": {},
   "outputs": [],
   "source": []
  },
  {
   "cell_type": "code",
   "execution_count": null,
   "id": "bf235b6d-aa4b-4cb7-b841-294014cbde4e",
   "metadata": {},
   "outputs": [],
   "source": []
  },
  {
   "cell_type": "code",
   "execution_count": null,
   "id": "5a9fa96d-e191-406c-825b-0a8e3f917db9",
   "metadata": {},
   "outputs": [],
   "source": []
  },
  {
   "cell_type": "code",
   "execution_count": null,
   "id": "e9ba386e-2d54-4ba8-b867-12a96a07a106",
   "metadata": {},
   "outputs": [],
   "source": []
  }
 ],
 "metadata": {
  "kernelspec": {
   "display_name": "R",
   "language": "R",
   "name": "ir"
  },
  "language_info": {
   "codemirror_mode": "r",
   "file_extension": ".r",
   "mimetype": "text/x-r-source",
   "name": "R",
   "pygments_lexer": "r",
   "version": "4.4.3"
  }
 },
 "nbformat": 4,
 "nbformat_minor": 5
}
