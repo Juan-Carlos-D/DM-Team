{
 "cells": [
  {
   "cell_type": "markdown",
   "metadata": {},
   "source": [
    "# <div style=\"text-align: center;\">Project 1: Data & Visualization</div>"
   ]
  },
  {
   "cell_type": "markdown",
   "metadata": {},
   "source": [
    "I have extracted data about the number of cases, demographics, and social distancing and put the data sets on Canvas (see above). You can always get more data directly from the link above.\n",
    "\n",
    "Some general example questions we are interested in answering throughout the semester are:\n",
    "\n",
    "- What is the trend in different areas (states, counties) of the US?\n",
    "- Is social distancing done, and is it working?\n",
    "- Can we identify regions that do particularly well? Why did they do well?\n",
    "- Can we predict the development in a region given the data from other areas?\n",
    "- What actions can we recommend to provide an effective emergency response?\n",
    "- During the projects, you will come up with your own questions.\n",
    "\n",
    "In this project, we will focus on cleaning and understanding the data. You need to work on the following steps of the CRISP-DM framework:"
   ]
  },
  {
   "cell_type": "markdown",
   "metadata": {},
   "source": [
    "# 1. Problem Description (Business Understanding) [10 points]\n",
    "[3 points]\n",
    "Describe the Problem: \n",
    "- What is COVID-19, and what is social distancing and flattening the curve? \n",
    "- Why is it important to look at data about the virus spread, hospitalizations, and available resources? \n",
    "\n",
    "[7 point]\n",
    "- Choose a stakeholder for whom you analyze and, later on, model the data. \n",
    "- Define some questions that are important for this stakeholder. \n",
    "- What decisions can your stakeholders make, and how would they affect COVID-19 outcomes? \n",
    "- Brainstorm this a lot since this choice will guide your exploration of this and all the following projects. \n",
    "- Make sure you can produce actionable recommendations for these questions using your data later in your report. "
   ]
  },
  {
   "cell_type": "markdown",
   "metadata": {},
   "source": [
    "## 1 Problem Description\n",
    "##### 1.1 *What is COVID-19, and what are social distancing and flattening the curve?*\n",
    "- **COVID-19**, caused by the SARS-CoV-2 virus, is a respiratory illness that emerged in late 2019 and led to a global pandemic. It spreads primarily through respiratory droplets and airborne transmission, causing symptoms ranging from mild respiratory issues to severe complications such as pneumonia, organ failure, and death, particularly in high-risk populations ([cdc.gov](https://www.cdc.gov/covid/about/index.html?CDC_AA_refVal=https%3A%2F%2Fwww.cdc.gov%2Fcoronavirus%2F2019-ncov%2Fprevent-getting-sick%2Fhow-covid-spreads.html)). \n",
    "\n",
    "- **Social distancing** refers to reducing close physical interactions between individuals to prevent viral spread. This includes staying at least six feet apart, avoiding large gatherings, and minimizing non-essential travel ([who.int](https://www.who.int/emergencies/diseases/novel-coronavirus-2019/advice-for-public)).\n",
    "\n",
    "- **Flattening the curve** refers to implementing measures, such as social distancing, mask mandates, lockdowns, and remote work policies, to slow the virus's spread. The goal is to reduce the peak number of cases, preventing healthcare systems from becoming overwhelmed and ensuring medical resources remain available for critical patients and preventing healthcare systems from being overwhelmed (source: [michiganmedicine.org](https://www.michiganmedicine.org/health-lab/flattening-curve-covid-19-what-does-it-mean-and-how-can-you-help?)).\n",
    "\n",
    "##### 1.2 *Why is it important to look at data about the virus spread, hospitalizations, and available resources?*\n",
    "Analyzing COVID-19 data is essential for evidence-based decision-making in public health. Monitoring infection rates, hospital capacity, and medical resource availability helps in:\n",
    "- Identifying outbreak hotspots – Tracking new cases allows health agencies to implement targeted restrictions before widespread community transmission occurs ([jhu.edu](https://coronavirus.jhu.edu/data)).\n",
    "- Resource allocation – Data on hospitalizations guide the distribution of ICU beds, ventilators, and medical personnel where they are needed most ([nih.gov](https://www.nhlbi.nih.gov/covid)).\n",
    "- Assessing policy effectiveness – Evaluating trends before and after interventions (e.g., lockdowns, mask mandates, and vaccine rollouts) determines which strategies work best ([researchunc.edu](https://research.unc.edu/2020/10/01/the-importance-of-covid-19-data-collection-and-transmission)).\n",
    "- Protecting vulnerable populations – Disaggregated data by age, race, socioeconomic status, and pre-existing conditions ensure at-risk groups receive priority care and vaccinations ([cdc.gov](https://covid.cdc.gov/covid-data-tracker/#datatracker-home)).\n",
    "\n",
    "##### 1.3 *Choose a stakeholder for whom you analyze and, later on, model the data*\n",
    "- The chosen stakeholder for this analysis is the **Texas Department of State Health Services (DSHS)** ([DSHS](https://www.dshs.texas.gov/)). DSHS is responsible for monitoring and managing public health policies, coordinating COVID-19 responses, and allocating medical resources across all Texas counties. The agency works closely with local public health departments, such as Dallas County Health and Human Services (DCHHS), to implement interventions at both the state and county levels ([DCHSS](https://www.dallascounty.org/departments/dchhs)).\n",
    "- This stakeholder is ideal for this analysis because:\n",
    "    - DSHS oversees statewide pandemic response efforts, making it responsible for policy decisions that impact all Texas residents.\n",
    "    - The agency allocates resources (e.g., vaccines, ventilators, funding) across urban and rural counties with varying healthcare capacities.\n",
    "    - DSHS collaborates with local agencies like DCHHS to manage regional outbreaks, making Dallas County a relevant case study for assessing local policy effectiveness within the state.\n",
    "\n",
    "##### 1.4 *Define some questions that are important for this stakeholder.*\n",
    "To effectively support DSHS in decision-making, this analysis focuses on the following key questions:  \n",
    "1. **Which Texas counties exhibit the highest COVID-19 infection and mortality rates per capita, and how do demographic factors (e.g., population size, income levels) correlate with these trends?**  \n",
    "   - *Rationale*: Enables prioritization of state and/or federal resources to high-risk regions.  \n",
    "2. **How does social distancing compliance (measured via mobility data, such as percent change from baseline in retail and recreation, grocery and pharmacy, transit stations, workplaces, and residential areas) differ between urban and rural counties, and how does this correlate with case growth rates?**  \n",
    "   - *Rationale*: Informs targeted federal guidelines for mobility restrictions based on specific mobility patterns in different regions.  \n",
    "3. **Which counties have the lowest per capita access to workers staying at home, and how does this relate to COVID-19 case rates?**  \n",
    "   - *Rationale*: Evaluates the impact of workplace exposure risks and social distancing compliance..  \n",
    "4. **How do poverty and public assistance rates correlate with COVID-19 case and mortality rates across Texas counties?**  \n",
    "   - *Rationale*: Helps assess whether economically disadvantaged counties experienced higher COVID-19 burdens and informs targeted interventions.\n",
    "5. **How do vaccination rates vary across urban and rural counties with differing socioeconomic profiles, and what disparities exist in vaccine accessibility?**  \n",
    "   - *Rationale*: Identifies gaps in vaccine equity to direct federal outreach efforts.\n",
    "\n",
    "- **Why Are These Questions Important?**\n",
    "    - These questions are critical because they allow DSHS to:\n",
    "        - Identify and address COVID-19 hotspots to implement targeted interventions before widespread transmission occurs.\n",
    "        - Allocate medical resources more efficiently based on the current needs and capacity of local hospitals.\n",
    "        - Evaluate the effectiveness of public health measures to decide whether they should be intensified, relaxed, or restructured.\n",
    "        - Protect vulnerable populations by ensuring that healthcare services, such as vaccination and treatment, are prioritized based on demographic risk factors.\n",
    "    - Answering these questions will enable the **CDC** to make informed, data-driven decisions that can directly improve public health outcomes across different counties in the US.\n",
    "\n",
    "##### 1.5 *What decisions can your stakeholders make, and how would they affect COVID-19 outcomes?*\n",
    "DSHS plays a critical role in pandemic response by making data-driven decisions that directly impact COVID-19 transmission, healthcare system strain, and mortality rates. Their key decision areas include:\n",
    "- **Implementing or Adjusting Social Distancing Measures**\n",
    "    - By analyzing infection trends, **DCHHS** can tighten or relax mask mandates, capacity limits, and stay-at-home orders.\n",
    "    - **Example**: During the Delta variant surge (2021), **DSHS** reinstated indoor mask mandates based on rising case counts, reducing the growth rate of hospitalizations ([dallasnews.com](https://www.dallasnews.com/news/2021/08/11/dallas-county-judge-clay-jenkins-issues-new-mandate-requiring-masks-in-schools-businesses/)).\n",
    "\n",
    "- **Allocating Medical Resources Efficiently**\n",
    "    - Hospitalization and ICU data guide staffing and resource distribution across **Dallas County** hospitals.\n",
    "    - **Example**: In July 2020, **DSHS** used hospitalization data to redistribute ventilators to overwhelmed hospitals in South Texas ([texastribune.org](https://www.texastribune.org/2020/07/14/texas-hospitals-coronavirus/)).\n",
    "\n",
    "- **Target Vaccination and Outreach Programs**\n",
    "    - Demographic analysis ensures that high-risk and underserved communities receive vaccines early.\n",
    "    - **Example**: **DSHS** launched community-based vaccination clinics in South Dallas to combat low vaccination rates and high case counts ([parklandhealth.org](https://www.parklandhealth.org/community-calendar/dchhs-popup-clinics-2176?utm_source=chatgpt.com)).\n",
    "\n",
    "- **Public Health Communication Strategies**\n",
    "    - Data helps shape effective health campaigns to encourage compliance with safety measures.\n",
    "    - **Example**: In December 2020, **DSHS** used Google Mobility Data to warn against holiday travel surges, reducing post-holiday infection spikes ([nbcdfw.com](https://www.nbcdfw.com/news/local/holiday-travel-surge-amid-rising-covid-19-cases/2843212/)).\n",
    "\n",
    "Each of these decisions directly affects COVID-19 outcomes by controlling transmission, reducing hospital burden, and saving lives.\n",
    "\n",
    "##### 1.6 *What data is needed?*\n",
    "For this analysis, several types of data will be necessary:\n",
    "- **COVID-19 case data**: Information on the number of infections, recoveries, and deaths, segmented by location, age, and other demographics.\n",
    "- **Hospitalization data**: Data on ICU capacity, ventilator use, and hospital admissions related to COVID-19.\n",
    "- **Social distancing and mobility data**: Information on people's movement patterns to understand compliance with public health mandates and detect emerging risks (e.g., increased mobility during holidays).\n",
    "- **Vaccination rates**: Data on vaccination coverage, particularly broken down by demographic groups, to assess disparities in vaccine access and uptake.\n",
    "- **Public health intervention data**: Insights on mask mandates, social distancing measures, and other interventions, along with their timeline and geographic implementation.\n",
    "\n",
    "By collecting and analyzing these data points, **DSHS** can develop a clearer picture of the pandemic’s impact, forecast future trends, and make decisions that mitigate harm to the community.\n"
   ]
  },
  {
   "cell_type": "markdown",
   "metadata": {},
   "source": [
    "# 2. Data Understanding [45 points]\n",
    "You must include all three provided datasets in your analysis!\n",
    "\n",
    "[9 point]\n",
    "- Describe what data is available. \n",
    "- Choose 5-10 important variables for the questions you have identified in the section above. \n",
    "- Describe the type of data (scale, values, etc.) of the most critical variables in the data. \n",
    "\n",
    "[9 Points]\n",
    "- Verify data quality: \n",
    "    - Are there missing values? \n",
    "    - Duplicate Data? \n",
    "    - Outliers? \n",
    "    - Are those mistakes? \n",
    "    - How can these be fixed? \n",
    "- Ensure your report states how much data is removed and how much you have left. \n",
    "\n",
    "[9 points]\n",
    "- Give appropriate statistics (range, mode, mean, median, variance, etc.) for the most important variables in these files and describe what they mean or if you find something interesting. \n",
    "\n",
    "[9 points]\n",
    "- Visually explore the chosen attributes appropriately. \n",
    "- Provide an interpretation for each graph. \n",
    "- Explain why you chose the visualization for each attribute type. \n",
    "\n",
    "[9 points]\n",
    "- Explore relationships between attributes: \n",
    "    - Look at the attributes and then use cross-tabulation, correlation, group-wise averages, box plots, etc., as appropriate. "
   ]
  },
  {
   "cell_type": "code",
   "execution_count": null,
   "metadata": {
    "vscode": {
     "languageId": "r"
    }
   },
   "outputs": [],
   "source": [
    "# Libraries\n",
    "library(\"tidyverse\")\n",
    "library(\"ggrepel\")\n",
    "library(\"ggcorrplot\")\n",
    "library(\"DT\")\n",
    "library(\"gridExtra\")\n",
    "library(\"ggcorrplot\")\n",
    "library(\"sf\")\n",
    "library(\"modeest\")\n",
    "library(\"knitr\")"
   ]
  },
  {
   "cell_type": "code",
   "execution_count": 2,
   "metadata": {
    "vscode": {
     "languageId": "r"
    }
   },
   "outputs": [],
   "source": [
    "# File paths\n",
    "global_mobility_path <- \"../../../../../../../Desktop/COVID-19/\" %>%\n",
    "  paste0(\"Global_Mobility_Report.csv\")\n",
    "\n",
    "covid_cases_census_path <- \"../../../../../../../Desktop/COVID-19/\" %>%\n",
    "  paste0(\"COVID-19_cases_plus_census.csv\")\n",
    "\n",
    "covid_cases_tx_path <- \"../../../../../../../Desktop/COVID-19/\" %>%\n",
    "  paste0(\"COVID-19_cases_TX.csv\")"
   ]
  },
  {
   "cell_type": "code",
   "execution_count": 3,
   "metadata": {
    "vscode": {
     "languageId": "r"
    }
   },
   "outputs": [
    {
     "name": "stderr",
     "output_type": "stream",
     "text": [
      "\u001b[1mRows: \u001b[22m\u001b[34m3991405\u001b[39m \u001b[1mColumns: \u001b[22m\u001b[34m14\u001b[39m\n",
      "\u001b[36m──\u001b[39m \u001b[1mColumn specification\u001b[22m \u001b[36m────────────────────────────────────────────────────────\u001b[39m\n",
      "\u001b[1mDelimiter:\u001b[22m \",\"\n",
      "\u001b[31mchr\u001b[39m  (7): country_region_code, country_region, sub_region_1, sub_region_2, m...\n",
      "\u001b[32mdbl\u001b[39m  (6): retail_and_recreation_percent_change_from_baseline, grocery_and_ph...\n",
      "\u001b[34mdate\u001b[39m (1): date\n",
      "\n",
      "\u001b[36mℹ\u001b[39m Use `spec()` to retrieve the full column specification for this data.\n",
      "\u001b[36mℹ\u001b[39m Specify the column types or set `show_col_types = FALSE` to quiet this message.\n"
     ]
    },
    {
     "name": "stdout",
     "output_type": "stream",
     "text": [
      "\n",
      "--- Global Mobility Data Loaded ---\n",
      "\n"
     ]
    },
    {
     "name": "stderr",
     "output_type": "stream",
     "text": [
      "\u001b[1mRows: \u001b[22m\u001b[34m3142\u001b[39m \u001b[1mColumns: \u001b[22m\u001b[34m259\u001b[39m\n",
      "\u001b[36m──\u001b[39m \u001b[1mColumn specification\u001b[22m \u001b[36m────────────────────────────────────────────────────────\u001b[39m\n",
      "\u001b[1mDelimiter:\u001b[22m \",\"\n",
      "\u001b[31mchr\u001b[39m    (5): county_fips_code, county_name, state, state_fips_code, geo_id\n",
      "\u001b[32mdbl\u001b[39m  (243): confirmed_cases, deaths, nonfamily_households, family_households...\n",
      "\u001b[33mlgl\u001b[39m   (10): pop_5_years_over, speak_only_english_at_home, speak_spanish_at_h...\n",
      "\u001b[34mdate\u001b[39m   (1): date\n",
      "\n",
      "\u001b[36mℹ\u001b[39m Use `spec()` to retrieve the full column specification for this data.\n",
      "\u001b[36mℹ\u001b[39m Specify the column types or set `show_col_types = FALSE` to quiet this message.\n"
     ]
    },
    {
     "name": "stdout",
     "output_type": "stream",
     "text": [
      "--- COVID-19 Cases and Census Data Loaded ---\n",
      "\n"
     ]
    },
    {
     "name": "stderr",
     "output_type": "stream",
     "text": [
      "\u001b[1mRows: \u001b[22m\u001b[34m94350\u001b[39m \u001b[1mColumns: \u001b[22m\u001b[34m7\u001b[39m\n",
      "\u001b[36m──\u001b[39m \u001b[1mColumn specification\u001b[22m \u001b[36m────────────────────────────────────────────────────────\u001b[39m\n",
      "\u001b[1mDelimiter:\u001b[22m \",\"\n",
      "\u001b[31mchr\u001b[39m  (3): county_fips_code, county_name, state\n",
      "\u001b[32mdbl\u001b[39m  (3): state_fips_code, confirmed_cases, deaths\n",
      "\u001b[34mdate\u001b[39m (1): date\n",
      "\n",
      "\u001b[36mℹ\u001b[39m Use `spec()` to retrieve the full column specification for this data.\n",
      "\u001b[36mℹ\u001b[39m Specify the column types or set `show_col_types = FALSE` to quiet this message.\n"
     ]
    },
    {
     "name": "stdout",
     "output_type": "stream",
     "text": [
      "--- COVID-19 Cases for Texas Loaded ---\n",
      "\n"
     ]
    }
   ],
   "source": [
    "# ==========================\n",
    "# Reading datasets\n",
    "# ==========================\n",
    "\n",
    "# Reading global mobility data\n",
    "global_mobility <- read_csv(global_mobility_path)\n",
    "cat(\"\\n--- Global Mobility Data Loaded ---\\n\\n\")\n",
    "\n",
    "# Reading COVID-19 cases and census data\n",
    "covid_cases_census <- read_csv(covid_cases_census_path)\n",
    "cat(\"--- COVID-19 Cases and Census Data Loaded ---\\n\\n\")\n",
    "\n",
    "# Reading COVID-19 cases for Texas\n",
    "covid_cases_tx <- read_csv(covid_cases_tx_path)\n",
    "cat(\"--- COVID-19 Cases for Texas Loaded ---\\n\\n\")\n"
   ]
  },
  {
   "cell_type": "markdown",
   "metadata": {},
   "source": [
    "## 2.1 Global Mobility Data"
   ]
  },
  {
   "cell_type": "markdown",
   "metadata": {},
   "source": [
    "### Key Questions for Global Mobility Data:\n",
    "- Which Texas counties experienced the sharpest economic disruptions based on retail and workplace mobility changes?\n",
    "    - Why it matters: Mobility changes can be used as a proxy for economic activity. Counties with the steepest declines may have suffered greater economic damage\n",
    "    - Key variables: `sub_region_2`, `retail_and_recreation_percent_change_from_baseline`, `workplaces_percent_change_from_baseline`, `transit_stations_percent_change_from_baseline`\n",
    "\n",
    "- How did grocery and pharmacy mobility compare to retail and recreation mobility in response to COVID-19 waves in Texas?\n",
    "    - Why it matters: This helps determine if consumer behavior showed a clear distinction between essential vs. non-essential trips.\n",
    "    - Key variables: `grocery_and_pharmacy_percent_change_from_baseline`, `retail_and_recreation_percent_change_from_baseline`, `date`, `sub_region_2`\n",
    "\n",
    "- Did major Texas metropolitan areas (Houston, Dallas, Austin, San Antonio) experience different mobility trends compared to rural areas?\n",
    "    - Why it matters: Large cities likely had different mobility patterns compared to rural counties, influenced by population density, economic activity, and public transit usage\n",
    "    - Key variables: `sub_region_2`, `transit_stations_percent_change_from_baseline`, `workplaces_percent_change_from_baseline`, `residential_percent_change_from_baseline`"
   ]
  },
  {
   "cell_type": "code",
   "execution_count": 4,
   "metadata": {
    "vscode": {
     "languageId": "r"
    }
   },
   "outputs": [
    {
     "data": {
      "text/html": [
       "<table class=\"dataframe\">\n",
       "<caption>A spec_tbl_df: 10 × 14</caption>\n",
       "<thead>\n",
       "\t<tr><th scope=col>country_region_code</th><th scope=col>country_region</th><th scope=col>sub_region_1</th><th scope=col>sub_region_2</th><th scope=col>metro_area</th><th scope=col>iso_3166_2_code</th><th scope=col>census_fips_code</th><th scope=col>date</th><th scope=col>retail_and_recreation_percent_change_from_baseline</th><th scope=col>grocery_and_pharmacy_percent_change_from_baseline</th><th scope=col>parks_percent_change_from_baseline</th><th scope=col>transit_stations_percent_change_from_baseline</th><th scope=col>workplaces_percent_change_from_baseline</th><th scope=col>residential_percent_change_from_baseline</th></tr>\n",
       "\t<tr><th scope=col>&lt;chr&gt;</th><th scope=col>&lt;chr&gt;</th><th scope=col>&lt;chr&gt;</th><th scope=col>&lt;chr&gt;</th><th scope=col>&lt;chr&gt;</th><th scope=col>&lt;chr&gt;</th><th scope=col>&lt;chr&gt;</th><th scope=col>&lt;date&gt;</th><th scope=col>&lt;dbl&gt;</th><th scope=col>&lt;dbl&gt;</th><th scope=col>&lt;dbl&gt;</th><th scope=col>&lt;dbl&gt;</th><th scope=col>&lt;dbl&gt;</th><th scope=col>&lt;dbl&gt;</th></tr>\n",
       "</thead>\n",
       "<tbody>\n",
       "\t<tr><td>NL</td><td>Netherlands  </td><td>Flevoland                      </td><td>Urk                      </td><td>NA</td><td>NA    </td><td>NA   </td><td>2020-10-31</td><td>-31</td><td>-14</td><td> -6</td><td>NA</td><td>-10</td><td>NA</td></tr>\n",
       "\t<tr><td>US</td><td>United States</td><td>Ohio                           </td><td>Seneca County            </td><td>NA</td><td>NA    </td><td>39147</td><td>2020-12-02</td><td>-12</td><td> -1</td><td> NA</td><td>NA</td><td>-18</td><td> 7</td></tr>\n",
       "\t<tr><td>AR</td><td>Argentina    </td><td>Santa Fe Province              </td><td>Nueve de Julio Department</td><td>NA</td><td>NA    </td><td>NA   </td><td>2020-11-25</td><td> NA</td><td>-18</td><td>-72</td><td>NA</td><td> -2</td><td> 9</td></tr>\n",
       "\t<tr><td>PT</td><td>Portugal     </td><td>Guarda District                </td><td>NA                       </td><td>NA</td><td>PT-09 </td><td>NA   </td><td>2020-12-28</td><td> 12</td><td> 34</td><td> NA</td><td>NA</td><td>-36</td><td>14</td></tr>\n",
       "\t<tr><td>AR</td><td>Argentina    </td><td>Tucumán                        </td><td>Graneros Department      </td><td>NA</td><td>NA    </td><td>NA   </td><td>2020-04-28</td><td> NA</td><td> NA</td><td>-70</td><td>NA</td><td> NA</td><td>NA</td></tr>\n",
       "\t<tr><td>US</td><td>United States</td><td>Arkansas                       </td><td>Johnson County           </td><td>NA</td><td>NA    </td><td>05071</td><td>2021-01-19</td><td> NA</td><td> NA</td><td> NA</td><td>NA</td><td>-18</td><td> 5</td></tr>\n",
       "\t<tr><td>PL</td><td>Poland       </td><td>Kuyavian-Pomeranian Voivodeship</td><td>toruński                 </td><td>NA</td><td>NA    </td><td>NA   </td><td>2020-08-31</td><td> NA</td><td> NA</td><td> NA</td><td>NA</td><td> -3</td><td> 2</td></tr>\n",
       "\t<tr><td>PL</td><td>Poland       </td><td>Masovian Voivodeship           </td><td>Przasnysz County         </td><td>NA</td><td>NA    </td><td>NA   </td><td>2020-10-05</td><td> NA</td><td> NA</td><td> NA</td><td>NA</td><td> -6</td><td>-3</td></tr>\n",
       "\t<tr><td>MX</td><td>Mexico       </td><td>Quintana Roo                   </td><td>NA                       </td><td>NA</td><td>MX-ROO</td><td>NA   </td><td>2020-02-15</td><td>  8</td><td>  8</td><td> 10</td><td> 3</td><td>  4</td><td>-2</td></tr>\n",
       "\t<tr><td>KE</td><td>Kenya        </td><td>Garissa County                 </td><td>NA                       </td><td>NA</td><td>KE-07 </td><td>NA   </td><td>2020-06-02</td><td> NA</td><td> NA</td><td> NA</td><td>NA</td><td> 18</td><td>NA</td></tr>\n",
       "</tbody>\n",
       "</table>\n"
      ],
      "text/latex": [
       "A spec\\_tbl\\_df: 10 × 14\n",
       "\\begin{tabular}{llllllllllllll}\n",
       " country\\_region\\_code & country\\_region & sub\\_region\\_1 & sub\\_region\\_2 & metro\\_area & iso\\_3166\\_2\\_code & census\\_fips\\_code & date & retail\\_and\\_recreation\\_percent\\_change\\_from\\_baseline & grocery\\_and\\_pharmacy\\_percent\\_change\\_from\\_baseline & parks\\_percent\\_change\\_from\\_baseline & transit\\_stations\\_percent\\_change\\_from\\_baseline & workplaces\\_percent\\_change\\_from\\_baseline & residential\\_percent\\_change\\_from\\_baseline\\\\\n",
       " <chr> & <chr> & <chr> & <chr> & <chr> & <chr> & <chr> & <date> & <dbl> & <dbl> & <dbl> & <dbl> & <dbl> & <dbl>\\\\\n",
       "\\hline\n",
       "\t NL & Netherlands   & Flevoland                       & Urk                       & NA & NA     & NA    & 2020-10-31 & -31 & -14 &  -6 & NA & -10 & NA\\\\\n",
       "\t US & United States & Ohio                            & Seneca County             & NA & NA     & 39147 & 2020-12-02 & -12 &  -1 &  NA & NA & -18 &  7\\\\\n",
       "\t AR & Argentina     & Santa Fe Province               & Nueve de Julio Department & NA & NA     & NA    & 2020-11-25 &  NA & -18 & -72 & NA &  -2 &  9\\\\\n",
       "\t PT & Portugal      & Guarda District                 & NA                        & NA & PT-09  & NA    & 2020-12-28 &  12 &  34 &  NA & NA & -36 & 14\\\\\n",
       "\t AR & Argentina     & Tucumán                         & Graneros Department       & NA & NA     & NA    & 2020-04-28 &  NA &  NA & -70 & NA &  NA & NA\\\\\n",
       "\t US & United States & Arkansas                        & Johnson County            & NA & NA     & 05071 & 2021-01-19 &  NA &  NA &  NA & NA & -18 &  5\\\\\n",
       "\t PL & Poland        & Kuyavian-Pomeranian Voivodeship & toruński                  & NA & NA     & NA    & 2020-08-31 &  NA &  NA &  NA & NA &  -3 &  2\\\\\n",
       "\t PL & Poland        & Masovian Voivodeship            & Przasnysz County          & NA & NA     & NA    & 2020-10-05 &  NA &  NA &  NA & NA &  -6 & -3\\\\\n",
       "\t MX & Mexico        & Quintana Roo                    & NA                        & NA & MX-ROO & NA    & 2020-02-15 &   8 &   8 &  10 &  3 &   4 & -2\\\\\n",
       "\t KE & Kenya         & Garissa County                  & NA                        & NA & KE-07  & NA    & 2020-06-02 &  NA &  NA &  NA & NA &  18 & NA\\\\\n",
       "\\end{tabular}\n"
      ],
      "text/markdown": [
       "\n",
       "A spec_tbl_df: 10 × 14\n",
       "\n",
       "| country_region_code &lt;chr&gt; | country_region &lt;chr&gt; | sub_region_1 &lt;chr&gt; | sub_region_2 &lt;chr&gt; | metro_area &lt;chr&gt; | iso_3166_2_code &lt;chr&gt; | census_fips_code &lt;chr&gt; | date &lt;date&gt; | retail_and_recreation_percent_change_from_baseline &lt;dbl&gt; | grocery_and_pharmacy_percent_change_from_baseline &lt;dbl&gt; | parks_percent_change_from_baseline &lt;dbl&gt; | transit_stations_percent_change_from_baseline &lt;dbl&gt; | workplaces_percent_change_from_baseline &lt;dbl&gt; | residential_percent_change_from_baseline &lt;dbl&gt; |\n",
       "|---|---|---|---|---|---|---|---|---|---|---|---|---|---|\n",
       "| NL | Netherlands   | Flevoland                       | Urk                       | NA | NA     | NA    | 2020-10-31 | -31 | -14 |  -6 | NA | -10 | NA |\n",
       "| US | United States | Ohio                            | Seneca County             | NA | NA     | 39147 | 2020-12-02 | -12 |  -1 |  NA | NA | -18 |  7 |\n",
       "| AR | Argentina     | Santa Fe Province               | Nueve de Julio Department | NA | NA     | NA    | 2020-11-25 |  NA | -18 | -72 | NA |  -2 |  9 |\n",
       "| PT | Portugal      | Guarda District                 | NA                        | NA | PT-09  | NA    | 2020-12-28 |  12 |  34 |  NA | NA | -36 | 14 |\n",
       "| AR | Argentina     | Tucumán                         | Graneros Department       | NA | NA     | NA    | 2020-04-28 |  NA |  NA | -70 | NA |  NA | NA |\n",
       "| US | United States | Arkansas                        | Johnson County            | NA | NA     | 05071 | 2021-01-19 |  NA |  NA |  NA | NA | -18 |  5 |\n",
       "| PL | Poland        | Kuyavian-Pomeranian Voivodeship | toruński                  | NA | NA     | NA    | 2020-08-31 |  NA |  NA |  NA | NA |  -3 |  2 |\n",
       "| PL | Poland        | Masovian Voivodeship            | Przasnysz County          | NA | NA     | NA    | 2020-10-05 |  NA |  NA |  NA | NA |  -6 | -3 |\n",
       "| MX | Mexico        | Quintana Roo                    | NA                        | NA | MX-ROO | NA    | 2020-02-15 |   8 |   8 |  10 |  3 |   4 | -2 |\n",
       "| KE | Kenya         | Garissa County                  | NA                        | NA | KE-07  | NA    | 2020-06-02 |  NA |  NA |  NA | NA |  18 | NA |\n",
       "\n"
      ],
      "text/plain": [
       "   country_region_code country_region sub_region_1                   \n",
       "1  NL                  Netherlands    Flevoland                      \n",
       "2  US                  United States  Ohio                           \n",
       "3  AR                  Argentina      Santa Fe Province              \n",
       "4  PT                  Portugal       Guarda District                \n",
       "5  AR                  Argentina      Tucumán                        \n",
       "6  US                  United States  Arkansas                       \n",
       "7  PL                  Poland         Kuyavian-Pomeranian Voivodeship\n",
       "8  PL                  Poland         Masovian Voivodeship           \n",
       "9  MX                  Mexico         Quintana Roo                   \n",
       "10 KE                  Kenya          Garissa County                 \n",
       "   sub_region_2              metro_area iso_3166_2_code census_fips_code\n",
       "1  Urk                       NA         NA              NA              \n",
       "2  Seneca County             NA         NA              39147           \n",
       "3  Nueve de Julio Department NA         NA              NA              \n",
       "4  NA                        NA         PT-09           NA              \n",
       "5  Graneros Department       NA         NA              NA              \n",
       "6  Johnson County            NA         NA              05071           \n",
       "7  toruński                  NA         NA              NA              \n",
       "8  Przasnysz County          NA         NA              NA              \n",
       "9  NA                        NA         MX-ROO          NA              \n",
       "10 NA                        NA         KE-07           NA              \n",
       "   date       retail_and_recreation_percent_change_from_baseline\n",
       "1  2020-10-31 -31                                               \n",
       "2  2020-12-02 -12                                               \n",
       "3  2020-11-25  NA                                               \n",
       "4  2020-12-28  12                                               \n",
       "5  2020-04-28  NA                                               \n",
       "6  2021-01-19  NA                                               \n",
       "7  2020-08-31  NA                                               \n",
       "8  2020-10-05  NA                                               \n",
       "9  2020-02-15   8                                               \n",
       "10 2020-06-02  NA                                               \n",
       "   grocery_and_pharmacy_percent_change_from_baseline\n",
       "1  -14                                              \n",
       "2   -1                                              \n",
       "3  -18                                              \n",
       "4   34                                              \n",
       "5   NA                                              \n",
       "6   NA                                              \n",
       "7   NA                                              \n",
       "8   NA                                              \n",
       "9    8                                              \n",
       "10  NA                                              \n",
       "   parks_percent_change_from_baseline\n",
       "1   -6                               \n",
       "2   NA                               \n",
       "3  -72                               \n",
       "4   NA                               \n",
       "5  -70                               \n",
       "6   NA                               \n",
       "7   NA                               \n",
       "8   NA                               \n",
       "9   10                               \n",
       "10  NA                               \n",
       "   transit_stations_percent_change_from_baseline\n",
       "1  NA                                           \n",
       "2  NA                                           \n",
       "3  NA                                           \n",
       "4  NA                                           \n",
       "5  NA                                           \n",
       "6  NA                                           \n",
       "7  NA                                           \n",
       "8  NA                                           \n",
       "9   3                                           \n",
       "10 NA                                           \n",
       "   workplaces_percent_change_from_baseline\n",
       "1  -10                                    \n",
       "2  -18                                    \n",
       "3   -2                                    \n",
       "4  -36                                    \n",
       "5   NA                                    \n",
       "6  -18                                    \n",
       "7   -3                                    \n",
       "8   -6                                    \n",
       "9    4                                    \n",
       "10  18                                    \n",
       "   residential_percent_change_from_baseline\n",
       "1  NA                                      \n",
       "2   7                                      \n",
       "3   9                                      \n",
       "4  14                                      \n",
       "5  NA                                      \n",
       "6   5                                      \n",
       "7   2                                      \n",
       "8  -3                                      \n",
       "9  -2                                      \n",
       "10 NA                                      "
      ]
     },
     "metadata": {},
     "output_type": "display_data"
    }
   ],
   "source": [
    "# Randomly display 10 rows\n",
    "global_mobility %>%\n",
    "  sample_n(10)"
   ]
  },
  {
   "cell_type": "code",
   "execution_count": 5,
   "metadata": {
    "vscode": {
     "languageId": "r"
    }
   },
   "outputs": [
    {
     "name": "stdout",
     "output_type": "stream",
     "text": [
      "spc_tbl_ [3,991,405 × 14] (S3: spec_tbl_df/tbl_df/tbl/data.frame)\n",
      " $ country_region_code                               : chr [1:3991405] \"AE\" \"AE\" \"AE\" \"AE\" ...\n",
      " $ country_region                                    : chr [1:3991405] \"United Arab Emirates\" \"United Arab Emirates\" \"United Arab Emirates\" \"United Arab Emirates\" ...\n",
      " $ sub_region_1                                      : chr [1:3991405] NA NA NA NA ...\n",
      " $ sub_region_2                                      : chr [1:3991405] NA NA NA NA ...\n",
      " $ metro_area                                        : chr [1:3991405] NA NA NA NA ...\n",
      " $ iso_3166_2_code                                   : chr [1:3991405] NA NA NA NA ...\n",
      " $ census_fips_code                                  : chr [1:3991405] NA NA NA NA ...\n",
      " $ date                                              : Date[1:3991405], format: \"2020-02-15\" \"2020-02-16\" ...\n",
      " $ retail_and_recreation_percent_change_from_baseline: num [1:3991405] 0 1 -1 -2 -2 -2 -3 -2 -1 -3 ...\n",
      " $ grocery_and_pharmacy_percent_change_from_baseline : num [1:3991405] 4 4 1 1 0 1 2 2 3 0 ...\n",
      " $ parks_percent_change_from_baseline                : num [1:3991405] 5 4 5 5 4 6 6 4 3 5 ...\n",
      " $ transit_stations_percent_change_from_baseline     : num [1:3991405] 0 1 1 0 -1 1 0 -2 -1 -1 ...\n",
      " $ workplaces_percent_change_from_baseline           : num [1:3991405] 2 2 2 2 2 1 -1 3 4 3 ...\n",
      " $ residential_percent_change_from_baseline          : num [1:3991405] 1 1 1 1 1 1 1 1 1 1 ...\n",
      " - attr(*, \"spec\")=\n",
      "  .. cols(\n",
      "  ..   country_region_code = \u001b[31mcol_character()\u001b[39m,\n",
      "  ..   country_region = \u001b[31mcol_character()\u001b[39m,\n",
      "  ..   sub_region_1 = \u001b[31mcol_character()\u001b[39m,\n",
      "  ..   sub_region_2 = \u001b[31mcol_character()\u001b[39m,\n",
      "  ..   metro_area = \u001b[31mcol_character()\u001b[39m,\n",
      "  ..   iso_3166_2_code = \u001b[31mcol_character()\u001b[39m,\n",
      "  ..   census_fips_code = \u001b[31mcol_character()\u001b[39m,\n",
      "  ..   date = \u001b[34mcol_date(format = \"\")\u001b[39m,\n",
      "  ..   retail_and_recreation_percent_change_from_baseline = \u001b[32mcol_double()\u001b[39m,\n",
      "  ..   grocery_and_pharmacy_percent_change_from_baseline = \u001b[32mcol_double()\u001b[39m,\n",
      "  ..   parks_percent_change_from_baseline = \u001b[32mcol_double()\u001b[39m,\n",
      "  ..   transit_stations_percent_change_from_baseline = \u001b[32mcol_double()\u001b[39m,\n",
      "  ..   workplaces_percent_change_from_baseline = \u001b[32mcol_double()\u001b[39m,\n",
      "  ..   residential_percent_change_from_baseline = \u001b[32mcol_double()\u001b[39m\n",
      "  .. )\n",
      " - attr(*, \"problems\")=<externalptr> \n"
     ]
    }
   ],
   "source": [
    "str(global_mobility)"
   ]
  },
  {
   "cell_type": "markdown",
   "metadata": {},
   "source": [
    "### 2.1.1 Dataset Description & Key Variables"
   ]
  },
  {
   "cell_type": "markdown",
   "metadata": {},
   "source": [
    "[9 point]\n",
    "- Describe what data is available. \n",
    "- Choose 5-10 important variables for the questions you have identified in the section above. \n",
    "- Describe the type of data (scale, values, etc.) of the most critical variables in the data. \n"
   ]
  },
  {
   "cell_type": "markdown",
   "metadata": {},
   "source": [
    "#### Global Mobility Dataset Overview  \n",
    "\n",
    "The global mobility dataset contains **3,991,405 rows and 14 columns**, tracking **mobility changes** across different countries and regions in response to COVID-19.  \n",
    "\n",
    "##### **Key Variables for Analysis**  \n",
    "To track mobility behavior over time and allow for geographic comparisons within Texas, the following variables were selected:  \n",
    "\n",
    "- **`date`** – Essential for tracking mobility trends over time (before, during, after lockdowns).  \n",
    "- **`country_region`** – Ensures the data is filtered for the U.S. before focusing on Texas.  \n",
    "- **`sub_region_1`** – Used to isolate Texas-specific data for analysis.  \n",
    "- **`sub_region_2`** – Allows for county-level comparisons within Texas, adding another layer of geographic granularity.  \n",
    "- **`retail_and_recreation_percent_change_from_baseline`** – Tracks consumer activity in non-essential locations (shopping, entertainment).  \n",
    "- **`grocery_and_pharmacy_percent_change_from_baseline`** – Reflects essential shopping behavior during lockdowns.  \n",
    "- **`workplaces_percent_change_from_baseline`** – Key metric for work-from-home trends and return-to-office transitions.  \n",
    "- **`residential_percent_change_from_baseline`** – Indicates whether people stayed at home more during lockdowns.  \n",
    "- **`transit_stations_percent_change_from_baseline`** – Measures public transportation usage and its impact from COVID-19.  \n",
    "\n",
    "##### **Variables Dropped (Less Relevant to Texas-Specific Analysis)**  \n",
    "Certain variables were excluded due to redundancy or lack of relevance to the study’s focus on Texas:  \n",
    "\n",
    "- **`country_region_code`** – Redundant since `country_region` already identifies the country (U.S.).  \n",
    "- **`metro_area`** – More suited for urban/suburban comparisons, whereas this study focuses on state-wide and county-level trends.  \n",
    "- **`iso_3166_2_code`** – A standardized region identifier that does not add value beyond filtering for Texas.  \n",
    "- **`census_fips_code`** – Since `sub_region_2` provides county-level detail, this additional identifier is unnecessary.  \n",
    "- **`parks_percent_change_from_baseline`** – While relevant for analyzing outdoor mobility, it is secondary to essential and non-essential movement trends related to economic activity and public health measures.  "
   ]
  },
  {
   "cell_type": "code",
   "execution_count": 6,
   "metadata": {
    "vscode": {
     "languageId": "r"
    }
   },
   "outputs": [],
   "source": [
    "# Selecting relevant variables from the global_mobility dataset\n",
    "global_mobility_filtered <- global_mobility %>%\n",
    "  select(\n",
    "    date,\n",
    "    country_region,\n",
    "    sub_region_1,\n",
    "    sub_region_2,\n",
    "    retail_and_recreation_percent_change_from_baseline,\n",
    "    grocery_and_pharmacy_percent_change_from_baseline,\n",
    "    workplaces_percent_change_from_baseline,\n",
    "    residential_percent_change_from_baseline,\n",
    "    transit_stations_percent_change_from_baseline\n",
    "  )"
   ]
  },
  {
   "cell_type": "code",
   "execution_count": 7,
   "metadata": {
    "vscode": {
     "languageId": "r"
    }
   },
   "outputs": [
    {
     "data": {
      "text/html": [
       "<table class=\"dataframe\">\n",
       "<caption>A tibble: 6 × 9</caption>\n",
       "<thead>\n",
       "\t<tr><th scope=col>date</th><th scope=col>country_region</th><th scope=col>sub_region_1</th><th scope=col>sub_region_2</th><th scope=col>retail_and_recreation_percent_change_from_baseline</th><th scope=col>grocery_and_pharmacy_percent_change_from_baseline</th><th scope=col>workplaces_percent_change_from_baseline</th><th scope=col>residential_percent_change_from_baseline</th><th scope=col>transit_stations_percent_change_from_baseline</th></tr>\n",
       "\t<tr><th scope=col>&lt;date&gt;</th><th scope=col>&lt;chr&gt;</th><th scope=col>&lt;chr&gt;</th><th scope=col>&lt;chr&gt;</th><th scope=col>&lt;dbl&gt;</th><th scope=col>&lt;dbl&gt;</th><th scope=col>&lt;dbl&gt;</th><th scope=col>&lt;dbl&gt;</th><th scope=col>&lt;dbl&gt;</th></tr>\n",
       "</thead>\n",
       "<tbody>\n",
       "\t<tr><td>2020-02-15</td><td>United Arab Emirates</td><td>NA</td><td>NA</td><td> 0</td><td>4</td><td>2</td><td>1</td><td> 0</td></tr>\n",
       "\t<tr><td>2020-02-16</td><td>United Arab Emirates</td><td>NA</td><td>NA</td><td> 1</td><td>4</td><td>2</td><td>1</td><td> 1</td></tr>\n",
       "\t<tr><td>2020-02-17</td><td>United Arab Emirates</td><td>NA</td><td>NA</td><td>-1</td><td>1</td><td>2</td><td>1</td><td> 1</td></tr>\n",
       "\t<tr><td>2020-02-18</td><td>United Arab Emirates</td><td>NA</td><td>NA</td><td>-2</td><td>1</td><td>2</td><td>1</td><td> 0</td></tr>\n",
       "\t<tr><td>2020-02-19</td><td>United Arab Emirates</td><td>NA</td><td>NA</td><td>-2</td><td>0</td><td>2</td><td>1</td><td>-1</td></tr>\n",
       "\t<tr><td>2020-02-20</td><td>United Arab Emirates</td><td>NA</td><td>NA</td><td>-2</td><td>1</td><td>1</td><td>1</td><td> 1</td></tr>\n",
       "</tbody>\n",
       "</table>\n"
      ],
      "text/latex": [
       "A tibble: 6 × 9\n",
       "\\begin{tabular}{lllllllll}\n",
       " date & country\\_region & sub\\_region\\_1 & sub\\_region\\_2 & retail\\_and\\_recreation\\_percent\\_change\\_from\\_baseline & grocery\\_and\\_pharmacy\\_percent\\_change\\_from\\_baseline & workplaces\\_percent\\_change\\_from\\_baseline & residential\\_percent\\_change\\_from\\_baseline & transit\\_stations\\_percent\\_change\\_from\\_baseline\\\\\n",
       " <date> & <chr> & <chr> & <chr> & <dbl> & <dbl> & <dbl> & <dbl> & <dbl>\\\\\n",
       "\\hline\n",
       "\t 2020-02-15 & United Arab Emirates & NA & NA &  0 & 4 & 2 & 1 &  0\\\\\n",
       "\t 2020-02-16 & United Arab Emirates & NA & NA &  1 & 4 & 2 & 1 &  1\\\\\n",
       "\t 2020-02-17 & United Arab Emirates & NA & NA & -1 & 1 & 2 & 1 &  1\\\\\n",
       "\t 2020-02-18 & United Arab Emirates & NA & NA & -2 & 1 & 2 & 1 &  0\\\\\n",
       "\t 2020-02-19 & United Arab Emirates & NA & NA & -2 & 0 & 2 & 1 & -1\\\\\n",
       "\t 2020-02-20 & United Arab Emirates & NA & NA & -2 & 1 & 1 & 1 &  1\\\\\n",
       "\\end{tabular}\n"
      ],
      "text/markdown": [
       "\n",
       "A tibble: 6 × 9\n",
       "\n",
       "| date &lt;date&gt; | country_region &lt;chr&gt; | sub_region_1 &lt;chr&gt; | sub_region_2 &lt;chr&gt; | retail_and_recreation_percent_change_from_baseline &lt;dbl&gt; | grocery_and_pharmacy_percent_change_from_baseline &lt;dbl&gt; | workplaces_percent_change_from_baseline &lt;dbl&gt; | residential_percent_change_from_baseline &lt;dbl&gt; | transit_stations_percent_change_from_baseline &lt;dbl&gt; |\n",
       "|---|---|---|---|---|---|---|---|---|\n",
       "| 2020-02-15 | United Arab Emirates | NA | NA |  0 | 4 | 2 | 1 |  0 |\n",
       "| 2020-02-16 | United Arab Emirates | NA | NA |  1 | 4 | 2 | 1 |  1 |\n",
       "| 2020-02-17 | United Arab Emirates | NA | NA | -1 | 1 | 2 | 1 |  1 |\n",
       "| 2020-02-18 | United Arab Emirates | NA | NA | -2 | 1 | 2 | 1 |  0 |\n",
       "| 2020-02-19 | United Arab Emirates | NA | NA | -2 | 0 | 2 | 1 | -1 |\n",
       "| 2020-02-20 | United Arab Emirates | NA | NA | -2 | 1 | 1 | 1 |  1 |\n",
       "\n"
      ],
      "text/plain": [
       "  date       country_region       sub_region_1 sub_region_2\n",
       "1 2020-02-15 United Arab Emirates NA           NA          \n",
       "2 2020-02-16 United Arab Emirates NA           NA          \n",
       "3 2020-02-17 United Arab Emirates NA           NA          \n",
       "4 2020-02-18 United Arab Emirates NA           NA          \n",
       "5 2020-02-19 United Arab Emirates NA           NA          \n",
       "6 2020-02-20 United Arab Emirates NA           NA          \n",
       "  retail_and_recreation_percent_change_from_baseline\n",
       "1  0                                                \n",
       "2  1                                                \n",
       "3 -1                                                \n",
       "4 -2                                                \n",
       "5 -2                                                \n",
       "6 -2                                                \n",
       "  grocery_and_pharmacy_percent_change_from_baseline\n",
       "1 4                                                \n",
       "2 4                                                \n",
       "3 1                                                \n",
       "4 1                                                \n",
       "5 0                                                \n",
       "6 1                                                \n",
       "  workplaces_percent_change_from_baseline\n",
       "1 2                                      \n",
       "2 2                                      \n",
       "3 2                                      \n",
       "4 2                                      \n",
       "5 2                                      \n",
       "6 1                                      \n",
       "  residential_percent_change_from_baseline\n",
       "1 1                                       \n",
       "2 1                                       \n",
       "3 1                                       \n",
       "4 1                                       \n",
       "5 1                                       \n",
       "6 1                                       \n",
       "  transit_stations_percent_change_from_baseline\n",
       "1  0                                           \n",
       "2  1                                           \n",
       "3  1                                           \n",
       "4  0                                           \n",
       "5 -1                                           \n",
       "6  1                                           "
      ]
     },
     "metadata": {},
     "output_type": "display_data"
    }
   ],
   "source": [
    "global_mobility_filtered %>%\n",
    "  head()\n"
   ]
  },
  {
   "cell_type": "code",
   "execution_count": 8,
   "metadata": {
    "vscode": {
     "languageId": "r"
    }
   },
   "outputs": [
    {
     "data": {
      "text/html": [
       "<style>\n",
       ".list-inline {list-style: none; margin:0; padding: 0}\n",
       ".list-inline>li {display: inline-block}\n",
       ".list-inline>li:not(:last-child)::after {content: \"\\00b7\"; padding: 0 .5ex}\n",
       "</style>\n",
       "<ol class=list-inline><li>'date'</li><li>'country_region'</li><li>'sub_region_1'</li><li>'sub_region_2'</li><li>'retail_and_recreation_percent_change_from_baseline'</li><li>'grocery_and_pharmacy_percent_change_from_baseline'</li><li>'workplaces_percent_change_from_baseline'</li><li>'residential_percent_change_from_baseline'</li><li>'transit_stations_percent_change_from_baseline'</li></ol>\n"
      ],
      "text/latex": [
       "\\begin{enumerate*}\n",
       "\\item 'date'\n",
       "\\item 'country\\_region'\n",
       "\\item 'sub\\_region\\_1'\n",
       "\\item 'sub\\_region\\_2'\n",
       "\\item 'retail\\_and\\_recreation\\_percent\\_change\\_from\\_baseline'\n",
       "\\item 'grocery\\_and\\_pharmacy\\_percent\\_change\\_from\\_baseline'\n",
       "\\item 'workplaces\\_percent\\_change\\_from\\_baseline'\n",
       "\\item 'residential\\_percent\\_change\\_from\\_baseline'\n",
       "\\item 'transit\\_stations\\_percent\\_change\\_from\\_baseline'\n",
       "\\end{enumerate*}\n"
      ],
      "text/markdown": [
       "1. 'date'\n",
       "2. 'country_region'\n",
       "3. 'sub_region_1'\n",
       "4. 'sub_region_2'\n",
       "5. 'retail_and_recreation_percent_change_from_baseline'\n",
       "6. 'grocery_and_pharmacy_percent_change_from_baseline'\n",
       "7. 'workplaces_percent_change_from_baseline'\n",
       "8. 'residential_percent_change_from_baseline'\n",
       "9. 'transit_stations_percent_change_from_baseline'\n",
       "\n",
       "\n"
      ],
      "text/plain": [
       "[1] \"date\"                                              \n",
       "[2] \"country_region\"                                    \n",
       "[3] \"sub_region_1\"                                      \n",
       "[4] \"sub_region_2\"                                      \n",
       "[5] \"retail_and_recreation_percent_change_from_baseline\"\n",
       "[6] \"grocery_and_pharmacy_percent_change_from_baseline\" \n",
       "[7] \"workplaces_percent_change_from_baseline\"           \n",
       "[8] \"residential_percent_change_from_baseline\"          \n",
       "[9] \"transit_stations_percent_change_from_baseline\"     "
      ]
     },
     "metadata": {},
     "output_type": "display_data"
    }
   ],
   "source": [
    "# Confirming columns kept\n",
    "global_mobility_filtered %>%\n",
    "  colnames()"
   ]
  },
  {
   "cell_type": "code",
   "execution_count": 9,
   "metadata": {
    "vscode": {
     "languageId": "r"
    }
   },
   "outputs": [
    {
     "name": "stdout",
     "output_type": "stream",
     "text": [
      "tibble [3,991,405 × 9] (S3: tbl_df/tbl/data.frame)\n",
      " $ date                                              : Date[1:3991405], format: \"2020-02-15\" \"2020-02-16\" ...\n",
      " $ country_region                                    : chr [1:3991405] \"United Arab Emirates\" \"United Arab Emirates\" \"United Arab Emirates\" \"United Arab Emirates\" ...\n",
      " $ sub_region_1                                      : chr [1:3991405] NA NA NA NA ...\n",
      " $ sub_region_2                                      : chr [1:3991405] NA NA NA NA ...\n",
      " $ retail_and_recreation_percent_change_from_baseline: num [1:3991405] 0 1 -1 -2 -2 -2 -3 -2 -1 -3 ...\n",
      " $ grocery_and_pharmacy_percent_change_from_baseline : num [1:3991405] 4 4 1 1 0 1 2 2 3 0 ...\n",
      " $ workplaces_percent_change_from_baseline           : num [1:3991405] 2 2 2 2 2 1 -1 3 4 3 ...\n",
      " $ residential_percent_change_from_baseline          : num [1:3991405] 1 1 1 1 1 1 1 1 1 1 ...\n",
      " $ transit_stations_percent_change_from_baseline     : num [1:3991405] 0 1 1 0 -1 1 0 -2 -1 -1 ...\n"
     ]
    }
   ],
   "source": [
    "# Checking more detailed summary\n",
    "str(global_mobility_filtered)\n"
   ]
  },
  {
   "cell_type": "code",
   "execution_count": 10,
   "metadata": {
    "vscode": {
     "languageId": "r"
    }
   },
   "outputs": [
    {
     "name": "stdout",
     "output_type": "stream",
     "text": [
      "Rows: 3,991,405\n",
      "Columns: 9\n",
      "$ date                                               \u001b[3m\u001b[90m<date>\u001b[39m\u001b[23m 2020-02-15, 2020-0…\n",
      "$ country_region                                     \u001b[3m\u001b[90m<chr>\u001b[39m\u001b[23m \"United Arab Emirat…\n",
      "$ sub_region_1                                       \u001b[3m\u001b[90m<chr>\u001b[39m\u001b[23m \u001b[31mNA\u001b[39m, \u001b[31mNA\u001b[39m, \u001b[31mNA\u001b[39m, \u001b[31mNA\u001b[39m, \u001b[31mNA\u001b[39m,…\n",
      "$ sub_region_2                                       \u001b[3m\u001b[90m<chr>\u001b[39m\u001b[23m \u001b[31mNA\u001b[39m, \u001b[31mNA\u001b[39m, \u001b[31mNA\u001b[39m, \u001b[31mNA\u001b[39m, \u001b[31mNA\u001b[39m,…\n",
      "$ retail_and_recreation_percent_change_from_baseline \u001b[3m\u001b[90m<dbl>\u001b[39m\u001b[23m 0, 1, -1, -2, -2, -…\n",
      "$ grocery_and_pharmacy_percent_change_from_baseline  \u001b[3m\u001b[90m<dbl>\u001b[39m\u001b[23m 4, 4, 1, 1, 0, 1, 2…\n",
      "$ workplaces_percent_change_from_baseline            \u001b[3m\u001b[90m<dbl>\u001b[39m\u001b[23m 2, 2, 2, 2, 2, 1, -…\n",
      "$ residential_percent_change_from_baseline           \u001b[3m\u001b[90m<dbl>\u001b[39m\u001b[23m 1, 1, 1, 1, 1, 1, 1…\n",
      "$ transit_stations_percent_change_from_baseline      \u001b[3m\u001b[90m<dbl>\u001b[39m\u001b[23m 0, 1, 1, 0, -1, 1, …\n"
     ]
    }
   ],
   "source": [
    "global_mobility_filtered %>%\n",
    "  glimpse()"
   ]
  },
  {
   "cell_type": "markdown",
   "metadata": {},
   "source": [
    "### 2.1.2 Data Types & Justification for Changes"
   ]
  },
  {
   "cell_type": "markdown",
   "metadata": {},
   "source": [
    "The dataset consists of various variables capturing mobility trends in Texas during COVID-19. To optimize analysis and memory efficiency, appropriate data types were assigned to each variable based on their nature and intended use.\n",
    "\n",
    "#### 1. Categorical Variables (Converted from Character to Factor)\n",
    "Categorical variables represent distinct groups and were originally stored as character (`chr`). Converting them to factors improves computational efficiency, especially when performing grouping, filtering, or statistical modeling.\n",
    "\n",
    "- **`country_region`** (*Factor*) – Identifies the country where mobility data was recorded. Since the analysis focuses on Texas within the U.S., this variable is primarily used for filtering.\n",
    "- **`sub_region_1`** (*Factor*) – Represents the first-level administrative division, which, in this case, helps isolate Texas-specific data.\n",
    "- **`sub_region_2`** (*Factor*) – Denotes Texas counties, allowing for granular comparisons of mobility trends at the county level.\n",
    "\n",
    "#### 2. Time Variable (Date Format)\n",
    "Time-related data plays a crucial role in identifying trends and seasonal patterns. \n",
    "\n",
    "- **`date`** (*Date*) – Stored as a proper date format (`Date`), enabling chronological analysis, time-series visualizations, and easier manipulation for aggregations (e.g., weekly or monthly trends).\n",
    "\n",
    "#### 3. Continuous Numerical Variables (Kept as Double)\n",
    "Percentage change values in mobility serve as key indicators of behavior shifts. These were already stored as `double`, which is suitable for numerical calculations.\n",
    "\n",
    "- **`retail_and_recreation_percent_change_from_baseline`** (*Double*) – Measures consumer activity in non-essential locations, such as malls and entertainment venues.\n",
    "- **`grocery_and_pharmacy_percent_change_from_baseline`** (*Double*) – Captures foot traffic in essential businesses, reflecting consumer demand during lockdowns.\n",
    "- **`workplaces_percent_change_from_baseline`** (*Double*) – Tracks fluctuations in workplace attendance, indicating work-from-home trends and return-to-office patterns.\n",
    "- **`residential_percent_change_from_baseline`** (*Double*) – Reflects changes in time spent at home, which can correlate with lockdown measures and remote work.\n",
    "- **`transit_stations_percent_change_from_baseline`** (*Double*) – Shows changes in public transportation usage, which can be influenced by COVID-19 restrictions and economic activity."
   ]
  },
  {
   "cell_type": "code",
   "execution_count": 11,
   "metadata": {
    "vscode": {
     "languageId": "r"
    }
   },
   "outputs": [],
   "source": [
    "# Filter for Texas, since we will focus on this region,\n",
    "# before converting to factors\n",
    "texas_mobility_data <- global_mobility_filtered %>%\n",
    "  filter(country_region == \"United States\" & sub_region_1 == \"Texas\")"
   ]
  },
  {
   "cell_type": "markdown",
   "metadata": {},
   "source": [
    "### Checking Missing Values"
   ]
  },
  {
   "cell_type": "code",
   "execution_count": 12,
   "metadata": {
    "vscode": {
     "languageId": "r"
    }
   },
   "outputs": [
    {
     "name": "stdout",
     "output_type": "stream",
     "text": [
      "\u001b[90m# A tibble: 9 × 2\u001b[39m\n",
      "  Column                                             NA_Count\n",
      "  \u001b[3m\u001b[90m<chr>\u001b[39m\u001b[23m                                                 \u001b[3m\u001b[90m<dbl>\u001b[39m\u001b[23m\n",
      "\u001b[90m1\u001b[39m date                                                      0\n",
      "\u001b[90m2\u001b[39m country_region                                            0\n",
      "\u001b[90m3\u001b[39m sub_region_1                                              0\n",
      "\u001b[90m4\u001b[39m sub_region_2                                            343\n",
      "\u001b[90m5\u001b[39m retail_and_recreation_percent_change_from_baseline    \u001b[4m2\u001b[24m\u001b[4m3\u001b[24m368\n",
      "\u001b[90m6\u001b[39m grocery_and_pharmacy_percent_change_from_baseline     \u001b[4m2\u001b[24m\u001b[4m6\u001b[24m865\n",
      "\u001b[90m7\u001b[39m workplaces_percent_change_from_baseline                \u001b[4m4\u001b[24m789\n",
      "\u001b[90m8\u001b[39m residential_percent_change_from_baseline              \u001b[4m3\u001b[24m\u001b[4m4\u001b[24m106\n",
      "\u001b[90m9\u001b[39m transit_stations_percent_change_from_baseline         \u001b[4m3\u001b[24m\u001b[4m4\u001b[24m109\n"
     ]
    }
   ],
   "source": [
    "# Checking Missing Values in Filtered Texas Dataset\n",
    "na_summary <- tibble(\n",
    "  Column = names(texas_mobility_data),\n",
    "  NA_Count = colSums(is.na(texas_mobility_data))\n",
    ")\n",
    "\n",
    "print(na_summary)"
   ]
  },
  {
   "cell_type": "code",
   "execution_count": 13,
   "metadata": {
    "vscode": {
     "languageId": "r"
    }
   },
   "outputs": [],
   "source": [
    "# Remove NA values\n",
    "texas_mobility_data <- texas_mobility_data %>% drop_na()"
   ]
  },
  {
   "cell_type": "code",
   "execution_count": 14,
   "metadata": {
    "vscode": {
     "languageId": "r"
    }
   },
   "outputs": [
    {
     "data": {
      "text/html": [
       "18194"
      ],
      "text/latex": [
       "18194"
      ],
      "text/markdown": [
       "18194"
      ],
      "text/plain": [
       "[1] 18194"
      ]
     },
     "metadata": {},
     "output_type": "display_data"
    }
   ],
   "source": [
    "# Checking how much data remains after dropping NA\n",
    "nrow(texas_mobility_data)"
   ]
  },
  {
   "cell_type": "code",
   "execution_count": 15,
   "metadata": {
    "vscode": {
     "languageId": "r"
    }
   },
   "outputs": [
    {
     "name": "stdout",
     "output_type": "stream",
     "text": [
      "Rows: 18,194\n",
      "Columns: 9\n",
      "$ date                                               \u001b[3m\u001b[90m<date>\u001b[39m\u001b[23m 2020-02-21, 2020-0…\n",
      "$ country_region                                     \u001b[3m\u001b[90m<chr>\u001b[39m\u001b[23m \"United States\", \"U…\n",
      "$ sub_region_1                                       \u001b[3m\u001b[90m<chr>\u001b[39m\u001b[23m \"Texas\", \"Texas\", \"…\n",
      "$ sub_region_2                                       \u001b[3m\u001b[90m<chr>\u001b[39m\u001b[23m \"Anderson County\", …\n",
      "$ retail_and_recreation_percent_change_from_baseline \u001b[3m\u001b[90m<dbl>\u001b[39m\u001b[23m 4, -25, -16, -6, -1…\n",
      "$ grocery_and_pharmacy_percent_change_from_baseline  \u001b[3m\u001b[90m<dbl>\u001b[39m\u001b[23m 5, -5, -4, -6, -7, …\n",
      "$ workplaces_percent_change_from_baseline            \u001b[3m\u001b[90m<dbl>\u001b[39m\u001b[23m 2, -28, -31, -18, -…\n",
      "$ residential_percent_change_from_baseline           \u001b[3m\u001b[90m<dbl>\u001b[39m\u001b[23m 1, 14, 9, 0, 3, 4, …\n",
      "$ transit_stations_percent_change_from_baseline      \u001b[3m\u001b[90m<dbl>\u001b[39m\u001b[23m -17, -25, -20, -30,…\n"
     ]
    }
   ],
   "source": [
    "# Confirming filtering success\n",
    "glimpse(texas_mobility_data)"
   ]
  },
  {
   "cell_type": "markdown",
   "metadata": {},
   "source": [
    "Upon assessing missing values in the dataset, we initially identified substantial gaps across multiple mobility-related columns. The dataset originally contained 64,162 rows and 9 columns, but several mobility metrics had significant amounts of missing data. Specifically, 23,368 values were missing in the retail and recreation column (36.4%), 26,865 in grocery and pharmacy (41.9%), 4,789 in workplaces (7.5%), and over 34,000 missing values in both the residential and transit station columns (53.1%). Additionally, 343 rows lacked county information in the sub_region_2 column, meaning they were likely reported at the state or regional level rather than at the county level.\n",
    "\n",
    "These missing values were not random mistakes but rather a result of data collection limitations. Possible reasons include gaps in location tracking in certain areas, variations in reporting practices, and data sparsity during early pandemic phases or lockdown periods when mobility tracking was inconsistent. Given that our analysis focuses on county-level mobility trends in Texas, retaining incomplete records could lead to biased insights and misrepresent actual movement patterns. To maintain data integrity and ensure consistency, we removed all rows containing missing values.\n",
    "\n",
    "After removing all rows with missing data, the dataset was reduced from 64,162 rows to 18,194 rows, reflecting a 71.6% reduction in data size. While this is a considerable drop, the cleaned dataset now consists solely of complete and reliable records, allowing for a more accurate comparison of mobility trends across Texas counties without the influence of missing or incomplete information."
   ]
  },
  {
   "cell_type": "markdown",
   "metadata": {},
   "source": [
    "### Checking Duplicates"
   ]
  },
  {
   "cell_type": "code",
   "execution_count": 16,
   "metadata": {
    "vscode": {
     "languageId": "r"
    }
   },
   "outputs": [
    {
     "name": "stdout",
     "output_type": "stream",
     "text": [
      "\u001b[90m# A tibble: 9 × 2\u001b[39m\n",
      "  Column                                             Duplicate_Count\n",
      "  \u001b[3m\u001b[90m<chr>\u001b[39m\u001b[23m                                                        \u001b[3m\u001b[90m<dbl>\u001b[39m\u001b[23m\n",
      "\u001b[90m1\u001b[39m date                                                             0\n",
      "\u001b[90m2\u001b[39m country_region                                                   0\n",
      "\u001b[90m3\u001b[39m sub_region_1                                                     0\n",
      "\u001b[90m4\u001b[39m sub_region_2                                                     0\n",
      "\u001b[90m5\u001b[39m retail_and_recreation_percent_change_from_baseline               0\n",
      "\u001b[90m6\u001b[39m grocery_and_pharmacy_percent_change_from_baseline                0\n",
      "\u001b[90m7\u001b[39m workplaces_percent_change_from_baseline                          0\n",
      "\u001b[90m8\u001b[39m residential_percent_change_from_baseline                         0\n",
      "\u001b[90m9\u001b[39m transit_stations_percent_change_from_baseline                    0\n"
     ]
    }
   ],
   "source": [
    "# Identify duplicate rows\n",
    "duplicates <- texas_mobility_data %>%\n",
    "  filter(duplicated(.))\n",
    "\n",
    "# Create a tibble summarizing duplicate entries\n",
    "duplicate_summary <- tibble(\n",
    "  Column = names(duplicates),\n",
    "  Duplicate_Count = colSums(!is.na(duplicates))\n",
    ")\n",
    "\n",
    "print(duplicate_summary)"
   ]
  },
  {
   "cell_type": "code",
   "execution_count": 17,
   "metadata": {
    "vscode": {
     "languageId": "r"
    }
   },
   "outputs": [],
   "source": [
    "# Remove duplicate rows if needed\n",
    "texas_mobility_data <- texas_mobility_data %>%\n",
    "  distinct()"
   ]
  },
  {
   "cell_type": "markdown",
   "metadata": {},
   "source": [
    "To ensure data quality, we examined the dataset for duplicate rows, as they could distort mobility trend analyses by overrepresenting specific data points. Duplicate rows can arise due to data entry errors, redundant reporting, or inconsistencies in data aggregation processes. However, after running a duplication check, no duplicate rows were detected in the dataset. This indicates that each row represents a unique combination of date, location, and mobility metrics. Consequently, no data was removed in this step, and the dataset remains at 18,194 rows. This confirms that the dataset is free from redundancy, ensuring that our analysis reflects distinct and meaningful mobility trends across Texas counties."
   ]
  },
  {
   "cell_type": "markdown",
   "metadata": {},
   "source": [
    "### Checking Outliers"
   ]
  },
  {
   "cell_type": "code",
   "execution_count": 18,
   "metadata": {
    "vscode": {
     "languageId": "r"
    }
   },
   "outputs": [
    {
     "name": "stdout",
     "output_type": "stream",
     "text": [
      "\u001b[90m# A tibble: 5 × 2\u001b[39m\n",
      "  Column                                             Outlier_Count\n",
      "  \u001b[3m\u001b[90m<chr>\u001b[39m\u001b[23m                                                      \u001b[3m\u001b[90m<int>\u001b[39m\u001b[23m\n",
      "\u001b[90m1\u001b[39m retail_and_recreation_percent_change_from_baseline           521\n",
      "\u001b[90m2\u001b[39m grocery_and_pharmacy_percent_change_from_baseline            531\n",
      "\u001b[90m3\u001b[39m workplaces_percent_change_from_baseline                      269\n",
      "\u001b[90m4\u001b[39m residential_percent_change_from_baseline                     187\n",
      "\u001b[90m5\u001b[39m transit_stations_percent_change_from_baseline                157\n"
     ]
    }
   ],
   "source": [
    "# Outlier detection using IQR for each column\n",
    "outlier_summary <- tibble(\n",
    "  Column = c(\n",
    "    \"retail_and_recreation_percent_change_from_baseline\",\n",
    "    \"grocery_and_pharmacy_percent_change_from_baseline\",\n",
    "    \"workplaces_percent_change_from_baseline\",\n",
    "    \"residential_percent_change_from_baseline\",\n",
    "    \"transit_stations_percent_change_from_baseline\"\n",
    "  ),\n",
    "  Outlier_Count = c(\n",
    "    sum(\n",
    "      texas_mobility_data$retail_and_recreation_percent_change_from_baseline <\n",
    "        (quantile(\n",
    "          texas_mobility_data$retail_and_recreation_percent_change_from_baseline, \n",
    "          0.25, na.rm = TRUE\n",
    "        ) - 1.5 * IQR(\n",
    "          texas_mobility_data$retail_and_recreation_percent_change_from_baseline, \n",
    "          na.rm = TRUE\n",
    "        )) |\n",
    "      texas_mobility_data$retail_and_recreation_percent_change_from_baseline >\n",
    "        (quantile(\n",
    "          texas_mobility_data$retail_and_recreation_percent_change_from_baseline, \n",
    "          0.75, na.rm = TRUE\n",
    "        ) + 1.5 * IQR(\n",
    "          texas_mobility_data$retail_and_recreation_percent_change_from_baseline, \n",
    "          na.rm = TRUE\n",
    "        ))\n",
    "    ),\n",
    "    sum(\n",
    "      texas_mobility_data$grocery_and_pharmacy_percent_change_from_baseline <\n",
    "        (quantile(\n",
    "          texas_mobility_data$grocery_and_pharmacy_percent_change_from_baseline, \n",
    "          0.25, na.rm = TRUE\n",
    "        ) - 1.5 * IQR(\n",
    "          texas_mobility_data$grocery_and_pharmacy_percent_change_from_baseline, \n",
    "          na.rm = TRUE\n",
    "        )) |\n",
    "      texas_mobility_data$grocery_and_pharmacy_percent_change_from_baseline >\n",
    "        (quantile(\n",
    "          texas_mobility_data$grocery_and_pharmacy_percent_change_from_baseline, \n",
    "          0.75, na.rm = TRUE\n",
    "        ) + 1.5 * IQR(\n",
    "          texas_mobility_data$grocery_and_pharmacy_percent_change_from_baseline, \n",
    "          na.rm = TRUE\n",
    "        ))\n",
    "    ),\n",
    "    sum(\n",
    "      texas_mobility_data$workplaces_percent_change_from_baseline <\n",
    "        (quantile(\n",
    "          texas_mobility_data$workplaces_percent_change_from_baseline, \n",
    "          0.25, na.rm = TRUE\n",
    "        ) - 1.5 * IQR(\n",
    "          texas_mobility_data$workplaces_percent_change_from_baseline, \n",
    "          na.rm = TRUE\n",
    "        )) |\n",
    "      texas_mobility_data$workplaces_percent_change_from_baseline >\n",
    "        (quantile(\n",
    "          texas_mobility_data$workplaces_percent_change_from_baseline, \n",
    "          0.75, na.rm = TRUE\n",
    "        ) + 1.5 * IQR(\n",
    "          texas_mobility_data$workplaces_percent_change_from_baseline, \n",
    "          na.rm = TRUE\n",
    "        ))\n",
    "    ),\n",
    "    sum(\n",
    "      texas_mobility_data$residential_percent_change_from_baseline <\n",
    "        (quantile(\n",
    "          texas_mobility_data$residential_percent_change_from_baseline, \n",
    "          0.25, na.rm = TRUE\n",
    "        ) - 1.5 * IQR(\n",
    "          texas_mobility_data$residential_percent_change_from_baseline, \n",
    "          na.rm = TRUE\n",
    "        )) |\n",
    "      texas_mobility_data$residential_percent_change_from_baseline >\n",
    "        (quantile(\n",
    "          texas_mobility_data$residential_percent_change_from_baseline, \n",
    "          0.75, na.rm = TRUE\n",
    "        ) + 1.5 * IQR(\n",
    "          texas_mobility_data$residential_percent_change_from_baseline, \n",
    "          na.rm = TRUE\n",
    "        ))\n",
    "    ),\n",
    "    sum(\n",
    "      texas_mobility_data$transit_stations_percent_change_from_baseline <\n",
    "        (quantile(\n",
    "          texas_mobility_data$transit_stations_percent_change_from_baseline, \n",
    "          0.25, na.rm = TRUE\n",
    "        ) - 1.5 * IQR(\n",
    "          texas_mobility_data$transit_stations_percent_change_from_baseline, \n",
    "          na.rm = TRUE\n",
    "        )) |\n",
    "      texas_mobility_data$transit_stations_percent_change_from_baseline >\n",
    "        (quantile(\n",
    "          texas_mobility_data$transit_stations_percent_change_from_baseline, \n",
    "          0.75, na.rm = TRUE\n",
    "        ) + 1.5 * IQR(\n",
    "          texas_mobility_data$transit_stations_percent_change_from_baseline, \n",
    "          na.rm = TRUE\n",
    "        ))\n",
    "    )\n",
    "  )\n",
    ")\n",
    "\n",
    "# Print the table\n",
    "print(outlier_summary)\n"
   ]
  },
  {
   "cell_type": "code",
   "execution_count": 19,
   "metadata": {
    "vscode": {
     "languageId": "r"
    }
   },
   "outputs": [
    {
     "name": "stdout",
     "output_type": "stream",
     "text": [
      "Rows: 16,914\n",
      "Columns: 9\n",
      "$ date                                               \u001b[3m\u001b[90m<date>\u001b[39m\u001b[23m 2020-02-21, 2020-0…\n",
      "$ country_region                                     \u001b[3m\u001b[90m<chr>\u001b[39m\u001b[23m \"United States\", \"U…\n",
      "$ sub_region_1                                       \u001b[3m\u001b[90m<chr>\u001b[39m\u001b[23m \"Texas\", \"Texas\", \"…\n",
      "$ sub_region_2                                       \u001b[3m\u001b[90m<chr>\u001b[39m\u001b[23m \"Anderson County\", …\n",
      "$ retail_and_recreation_percent_change_from_baseline \u001b[3m\u001b[90m<dbl>\u001b[39m\u001b[23m 4, -25, -16, -6, -1…\n",
      "$ grocery_and_pharmacy_percent_change_from_baseline  \u001b[3m\u001b[90m<dbl>\u001b[39m\u001b[23m 5, -5, -4, -6, -7, …\n",
      "$ workplaces_percent_change_from_baseline            \u001b[3m\u001b[90m<dbl>\u001b[39m\u001b[23m 2, -28, -31, -18, -…\n",
      "$ residential_percent_change_from_baseline           \u001b[3m\u001b[90m<dbl>\u001b[39m\u001b[23m 1, 14, 9, 0, 3, 4, …\n",
      "$ transit_stations_percent_change_from_baseline      \u001b[3m\u001b[90m<dbl>\u001b[39m\u001b[23m -17, -25, -20, -30,…\n"
     ]
    }
   ],
   "source": [
    "# Define a function to filter outliers based on IQR\n",
    "remove_outliers <- function(data, column) {\n",
    "  lower_bound <- quantile(data[[column]], 0.25) - 1.5 * IQR(data[[column]])\n",
    "  upper_bound <- quantile(data[[column]], 0.75) + 1.5 * IQR(data[[column]])\n",
    "  data %>% filter(data[[column]] >= lower_bound & data[[column]] <= upper_bound)\n",
    "}\n",
    "\n",
    "# Apply the function to each column with mobility data\n",
    "columns_to_filter <- c(\n",
    "  \"retail_and_recreation_percent_change_from_baseline\",\n",
    "  \"grocery_and_pharmacy_percent_change_from_baseline\",\n",
    "  \"workplaces_percent_change_from_baseline\",\n",
    "  \"residential_percent_change_from_baseline\",\n",
    "  \"transit_stations_percent_change_from_baseline\"\n",
    ")\n",
    "\n",
    "# Iteratively remove outliers for each column\n",
    "texas_mobility_data_cleaned <- texas_mobility_data\n",
    "for (col in columns_to_filter) {\n",
    "  texas_mobility_data_cleaned <- remove_outliers(texas_mobility_data_cleaned, col)\n",
    "}\n",
    "\n",
    "# Confirm changes\n",
    "glimpse(texas_mobility_data_cleaned)"
   ]
  },
  {
   "cell_type": "code",
   "execution_count": 20,
   "metadata": {
    "vscode": {
     "languageId": "r"
    }
   },
   "outputs": [
    {
     "data": {
      "text/html": [
       "1280"
      ],
      "text/latex": [
       "1280"
      ],
      "text/markdown": [
       "1280"
      ],
      "text/plain": [
       "[1] 1280"
      ]
     },
     "metadata": {},
     "output_type": "display_data"
    }
   ],
   "source": [
    "# Checking # of rows removed from outliers cleaning\n",
    "nrow(texas_mobility_data) - nrow(texas_mobility_data_cleaned)"
   ]
  },
  {
   "cell_type": "markdown",
   "metadata": {},
   "source": [
    "To further refine the dataset and ensure that extreme values do not skew the analysis, we conducted an outlier detection process using the Interquartile Range (IQR) method. Outliers were identified for each mobility category by determining values that fell below Q1 - 1.5 × IQR or above Q3 + 1.5 × IQR, where Q1 and Q3 are the first and third quartiles, respectively.\n",
    "\n",
    "The analysis revealed 521 outliers in the retail and recreation category, 531 outliers in grocery and pharmacy, 269 outliers in workplaces, 187 outliers in residential, and 157 outliers in transit stations. These extreme values likely represent anomalies in mobility patterns due to sudden changes in human movement, such as local lockdowns, holidays, or data inconsistencies. If left unaddressed, these outliers could distort trends and misrepresent the overall mobility behavior across Texas counties.\n",
    "\n",
    "To maintain the integrity of the dataset, we removed these outlier values. After filtering them out, the dataset was reduced further, ensuring that only representative and consistent mobility data remained. This step improves the reliability of subsequent analyses and helps draw more accurate conclusions about mobility trends in Texas."
   ]
  },
  {
   "cell_type": "code",
   "execution_count": 22,
   "metadata": {
    "vscode": {
     "languageId": "r"
    }
   },
   "outputs": [],
   "source": [
    "# Apply data type changes to cleaned dataset\n",
    "texas_mobility_data_cleaned <- texas_mobility_data_cleaned %>%\n",
    "  mutate(\n",
    "    # Convert categorical variables to factors\n",
    "    country_region = as.factor(country_region),\n",
    "    sub_region_1 = as.factor(sub_region_1),\n",
    "    sub_region_2 = as.factor(sub_region_2),\n",
    "    # Ensure date is in correct format\n",
    "    date = as.Date(date)\n",
    "  )\n"
   ]
  },
  {
   "cell_type": "code",
   "execution_count": 25,
   "metadata": {
    "vscode": {
     "languageId": "r"
    }
   },
   "outputs": [
    {
     "name": "stdout",
     "output_type": "stream",
     "text": [
      "tibble [16,914 × 9] (S3: tbl_df/tbl/data.frame)\n",
      " $ date                                              : Date[1:16914], format: \"2020-02-21\" \"2020-04-17\" ...\n",
      " $ country_region                                    : Factor w/ 1 level \"United States\": 1 1 1 1 1 1 1 1 1 1 ...\n",
      " $ sub_region_1                                      : Factor w/ 1 level \"Texas\": 1 1 1 1 1 1 1 1 1 1 ...\n",
      " $ sub_region_2                                      : Factor w/ 67 levels \"Anderson County\",..: 1 1 1 1 1 1 1 1 1 1 ...\n",
      " $ retail_and_recreation_percent_change_from_baseline: num [1:16914] 4 -25 -16 -6 -10 -11 3 -2 -4 -5 ...\n",
      " $ grocery_and_pharmacy_percent_change_from_baseline : num [1:16914] 5 -5 -4 -6 -7 -6 3 0 -5 -3 ...\n",
      " $ workplaces_percent_change_from_baseline           : num [1:16914] 2 -28 -31 -18 -18 -17 -15 -16 -15 -16 ...\n",
      " $ residential_percent_change_from_baseline          : num [1:16914] 1 14 9 0 3 4 -1 1 3 3 ...\n",
      " $ transit_stations_percent_change_from_baseline     : num [1:16914] -17 -25 -20 -30 -34 -27 -42 -25 -30 -51 ...\n"
     ]
    }
   ],
   "source": [
    "# Confirming data type change\n",
    "str(texas_mobility_data_cleaned)"
   ]
  },
  {
   "cell_type": "markdown",
   "metadata": {},
   "source": [
    "After processing the dataset by removing missing values and outliers, the final dataset was reduced from 3,991,405 rows to 16,914 rows. This means that a significant portion of the data was filtered out due to inconsistencies, missing values, and extreme outliers. The reduction in dataset size ensures that our analysis is based on cleaner and more reliable data, minimizing potential biases caused by errors or anomalies. By retaining only high-quality data points, we can draw more accurate insights into mobility trends across Texas counties while maintaining the integrity of the analysis."
   ]
  },
  {
   "cell_type": "code",
   "execution_count": 28,
   "metadata": {
    "vscode": {
     "languageId": "r"
    }
   },
   "outputs": [
    {
     "name": "stdout",
     "output_type": "stream",
     "text": [
      "                    sub_region_2_summary\n",
      "Anderson County                       35\n",
      "Angelina County                      298\n",
      "Atascosa County                      243\n",
      "Bell County                          308\n",
      "Bexar County                         329\n",
      "Bowie County                         302\n",
      "Brazoria County                      303\n",
      "Brazos County                        259\n",
      "Caldwell County                      243\n",
      "Cameron County                       263\n",
      "Cass County                           36\n",
      "Chambers County                      246\n",
      "Collin County                        283\n",
      "Comal County                         293\n",
      "Cooke County                          15\n",
      "Dallas County                        328\n",
      "Denton County                        293\n",
      "Ector County                         328\n",
      "El Paso County                       319\n",
      "Ellis County                         303\n",
      "Fort Bend County                     244\n",
      "Galveston County                     178\n",
      "Guadalupe County                     306\n",
      "Harris County                        324\n",
      "Hays County                          272\n",
      "Hidalgo County                       309\n",
      "Hill County                          189\n",
      "Hopkins County                       211\n",
      "Howard County                        231\n",
      "Hunt County                          309\n",
      "Jefferson County                     307\n",
      "Kaufman County                       295\n",
      "Kendall County                       134\n",
      "Kleberg County                       161\n",
      "Lamar County                         215\n",
      "Liberty County                       291\n",
      "Lubbock County                       314\n",
      "Maverick County                      244\n",
      "McLennan County                      304\n",
      "Medina County                        242\n",
      "Midland County                       321\n",
      "Montgomery County                    277\n",
      "Moore County                          47\n",
      "Nacogdoches County                   239\n",
      "Navarro County                       236\n",
      "Nueces County                        327\n",
      "Orange County                        298\n",
      "Parker County                        306\n",
      "Polk County                          236\n",
      "Potter County                        320\n",
      "Randall County                         4\n",
      "Rockwall County                      265\n",
      "San Patricio County                  298\n",
      "Smith County                         306\n",
      "Tarrant County                       319\n",
      "Taylor County                        301\n",
      "Travis County                        287\n",
      "Val Verde County                      34\n",
      "Van Zandt County                     219\n",
      "Victoria County                      296\n",
      "Walker County                        258\n",
      "Waller County                        245\n",
      "Webb County                          312\n",
      "Wharton County                       219\n",
      "Wichita County                       304\n",
      "Williamson County                    272\n",
      "Wise County                          261\n"
     ]
    }
   ],
   "source": [
    "# Generate the summary for sub_region_2\n",
    "sub_region_2_summary <- summary(texas_mobility_data_cleaned$sub_region_2)\n",
    "\n",
    "# Convert it to a data frame for a cleaner view\n",
    "sub_region_2_summary_df <- as.data.frame(sub_region_2_summary)\n",
    "\n",
    "# Print the summary table\n",
    "print(sub_region_2_summary_df)"
   ]
  },
  {
   "cell_type": "markdown",
   "metadata": {},
   "source": [
    "### 2.1.3 Verifying Data Quality"
   ]
  },
  {
   "cell_type": "markdown",
   "metadata": {},
   "source": [
    "\n",
    "[9 Points]\n",
    "- Verify data quality: \n",
    "    - Are there missing values? \n",
    "    - Duplicate Data? \n",
    "    - Outliers? \n",
    "    - Are those mistakes? \n",
    "    - How can these be fixed? \n",
    "- Ensure your report states how much data is removed and how much you have left. \n",
    "\n"
   ]
  },
  {
   "cell_type": "markdown",
   "metadata": {},
   "source": [
    "[9 points]\n",
    "- Give appropriate statistics (range, mode, mean, median, variance, etc.) for the most important variables in these files and describe what they mean or if you find something interesting. "
   ]
  },
  {
   "cell_type": "code",
   "execution_count": 32,
   "metadata": {
    "vscode": {
     "languageId": "r"
    }
   },
   "outputs": [
    {
     "name": "stdout",
     "output_type": "stream",
     "text": [
      "\u001b[90m# A tibble: 5 × 7\u001b[39m\n",
      "  Variable                              Range  Mode   Mean Median Variance    SD\n",
      "  \u001b[3m\u001b[90m<chr>\u001b[39m\u001b[23m                                 \u001b[3m\u001b[90m<dbl>\u001b[39m\u001b[23m \u001b[3m\u001b[90m<dbl>\u001b[39m\u001b[23m  \u001b[3m\u001b[90m<dbl>\u001b[39m\u001b[23m  \u001b[3m\u001b[90m<dbl>\u001b[39m\u001b[23m    \u001b[3m\u001b[90m<dbl>\u001b[39m\u001b[23m \u001b[3m\u001b[90m<dbl>\u001b[39m\u001b[23m\n",
      "\u001b[90m1\u001b[39m retail_and_recreation_percent_change…    67   -\u001b[31m10\u001b[39m -\u001b[31m12\u001b[39m\u001b[31m.\u001b[39m\u001b[31m1\u001b[39m     -\u001b[31m12\u001b[39m    153.  12.4 \n",
      "\u001b[90m2\u001b[39m grocery_and_pharmacy_percent_change_…    56    -\u001b[31m5\u001b[39m  -\u001b[31m3\u001b[39m\u001b[31m.\u001b[39m\u001b[31m89\u001b[39m     -\u001b[31m4\u001b[39m     96.7  9.83\n",
      "\u001b[90m3\u001b[39m workplaces_percent_change_from_basel…    75   -\u001b[31m33\u001b[39m -\u001b[31m25\u001b[39m\u001b[31m.\u001b[39m\u001b[31m5\u001b[39m     -\u001b[31m26\u001b[39m    178.  13.3 \n",
      "\u001b[90m4\u001b[39m residential_percent_change_from_base…    26     7   8.69      9     28.1  5.30\n",
      "\u001b[90m5\u001b[39m transit_stations_percent_change_from…   115    -\u001b[31m3\u001b[39m -\u001b[31m10\u001b[39m\u001b[31m.\u001b[39m\u001b[31m8\u001b[39m      -\u001b[31m9\u001b[39m    390.  19.8 \n"
     ]
    }
   ],
   "source": [
    "# Compute key statistics for important variables and store them in a tibble\n",
    "mobility_stats_table <- tibble(\n",
    "  Variable = c(\n",
    "    \"retail_and_recreation_percent_change_from_baseline\",\n",
    "    \"grocery_and_pharmacy_percent_change_from_baseline\",\n",
    "    \"workplaces_percent_change_from_baseline\",\n",
    "    \"residential_percent_change_from_baseline\",\n",
    "    \"transit_stations_percent_change_from_baseline\"\n",
    "  ),\n",
    "  Range = c(\n",
    "    max(texas_mobility_data_cleaned$retail_and_recreation_percent_change_from_baseline) - \n",
    "      min(texas_mobility_data_cleaned$retail_and_recreation_percent_change_from_baseline),\n",
    "    max(texas_mobility_data_cleaned$grocery_and_pharmacy_percent_change_from_baseline) - \n",
    "      min(texas_mobility_data_cleaned$grocery_and_pharmacy_percent_change_from_baseline),\n",
    "    max(texas_mobility_data_cleaned$workplaces_percent_change_from_baseline) - \n",
    "      min(texas_mobility_data_cleaned$workplaces_percent_change_from_baseline),\n",
    "    max(texas_mobility_data_cleaned$residential_percent_change_from_baseline) - \n",
    "      min(texas_mobility_data_cleaned$residential_percent_change_from_baseline),\n",
    "    max(texas_mobility_data_cleaned$transit_stations_percent_change_from_baseline) - \n",
    "      min(texas_mobility_data_cleaned$transit_stations_percent_change_from_baseline)\n",
    "  ),\n",
    "  Mode = c(\n",
    "    mfv(texas_mobility_data_cleaned$retail_and_recreation_percent_change_from_baseline),\n",
    "    mfv(texas_mobility_data_cleaned$grocery_and_pharmacy_percent_change_from_baseline),\n",
    "    mfv(texas_mobility_data_cleaned$workplaces_percent_change_from_baseline),\n",
    "    mfv(texas_mobility_data_cleaned$residential_percent_change_from_baseline),\n",
    "    mfv(texas_mobility_data_cleaned$transit_stations_percent_change_from_baseline)\n",
    "  ),\n",
    "  Mean = c(\n",
    "    mean(texas_mobility_data_cleaned$retail_and_recreation_percent_change_from_baseline),\n",
    "    mean(texas_mobility_data_cleaned$grocery_and_pharmacy_percent_change_from_baseline),\n",
    "    mean(texas_mobility_data_cleaned$workplaces_percent_change_from_baseline),\n",
    "    mean(texas_mobility_data_cleaned$residential_percent_change_from_baseline),\n",
    "    mean(texas_mobility_data_cleaned$transit_stations_percent_change_from_baseline)\n",
    "  ),\n",
    "  Median = c(\n",
    "    median(texas_mobility_data_cleaned$retail_and_recreation_percent_change_from_baseline),\n",
    "    median(texas_mobility_data_cleaned$grocery_and_pharmacy_percent_change_from_baseline),\n",
    "    median(texas_mobility_data_cleaned$workplaces_percent_change_from_baseline),\n",
    "    median(texas_mobility_data_cleaned$residential_percent_change_from_baseline),\n",
    "    median(texas_mobility_data_cleaned$transit_stations_percent_change_from_baseline)\n",
    "  ),\n",
    "  Variance = c(\n",
    "    var(texas_mobility_data_cleaned$retail_and_recreation_percent_change_from_baseline),\n",
    "    var(texas_mobility_data_cleaned$grocery_and_pharmacy_percent_change_from_baseline),\n",
    "    var(texas_mobility_data_cleaned$workplaces_percent_change_from_baseline),\n",
    "    var(texas_mobility_data_cleaned$residential_percent_change_from_baseline),\n",
    "    var(texas_mobility_data_cleaned$transit_stations_percent_change_from_baseline)\n",
    "  ),\n",
    "  SD = c(\n",
    "    sd(texas_mobility_data_cleaned$retail_and_recreation_percent_change_from_baseline),\n",
    "    sd(texas_mobility_data_cleaned$grocery_and_pharmacy_percent_change_from_baseline),\n",
    "    sd(texas_mobility_data_cleaned$workplaces_percent_change_from_baseline),\n",
    "    sd(texas_mobility_data_cleaned$residential_percent_change_from_baseline),\n",
    "    sd(texas_mobility_data_cleaned$transit_stations_percent_change_from_baseline)\n",
    "  )\n",
    ")\n",
    "\n",
    "# Print the table\n",
    "print(mobility_stats_table)\n"
   ]
  },
  {
   "cell_type": "code",
   "execution_count": 37,
   "metadata": {
    "vscode": {
     "languageId": "r"
    }
   },
   "outputs": [
    {
     "data": {
      "text/plain": [
       "\n",
       "\n",
       "Table: Summary Statistics for Mobility Data\n",
       "\n",
       "|Variable                                           |Statistic |      Value|\n",
       "|:--------------------------------------------------|:---------|----------:|\n",
       "|retail_and_recreation_percent_change_from_baseline |Range     |  67.000000|\n",
       "|retail_and_recreation_percent_change_from_baseline |Mode      | -10.000000|\n",
       "|retail_and_recreation_percent_change_from_baseline |Mean      | -12.135509|\n",
       "|retail_and_recreation_percent_change_from_baseline |Median    | -12.000000|\n",
       "|retail_and_recreation_percent_change_from_baseline |Variance  | 152.744008|\n",
       "|retail_and_recreation_percent_change_from_baseline |SD        |  12.358965|\n",
       "|grocery_and_pharmacy_percent_change_from_baseline  |Range     |  56.000000|\n",
       "|grocery_and_pharmacy_percent_change_from_baseline  |Mode      |  -5.000000|\n",
       "|grocery_and_pharmacy_percent_change_from_baseline  |Mean      |  -3.886012|\n",
       "|grocery_and_pharmacy_percent_change_from_baseline  |Median    |  -4.000000|\n",
       "|grocery_and_pharmacy_percent_change_from_baseline  |Variance  |  96.697347|\n",
       "|grocery_and_pharmacy_percent_change_from_baseline  |SD        |   9.833481|\n",
       "|workplaces_percent_change_from_baseline            |Range     |  75.000000|\n",
       "|workplaces_percent_change_from_baseline            |Mode      | -33.000000|\n",
       "|workplaces_percent_change_from_baseline            |Mean      | -25.533877|\n",
       "|workplaces_percent_change_from_baseline            |Median    | -26.000000|\n",
       "|workplaces_percent_change_from_baseline            |Variance  | 178.138419|\n",
       "|workplaces_percent_change_from_baseline            |SD        |  13.346851|\n",
       "|residential_percent_change_from_baseline           |Range     |  26.000000|\n",
       "|residential_percent_change_from_baseline           |Mode      |   7.000000|\n",
       "|residential_percent_change_from_baseline           |Mean      |   8.691676|\n",
       "|residential_percent_change_from_baseline           |Median    |   9.000000|\n",
       "|residential_percent_change_from_baseline           |Variance  |  28.107792|\n",
       "|residential_percent_change_from_baseline           |SD        |   5.301678|\n",
       "|transit_stations_percent_change_from_baseline      |Range     | 115.000000|\n",
       "|transit_stations_percent_change_from_baseline      |Mode      |  -3.000000|\n",
       "|transit_stations_percent_change_from_baseline      |Mean      | -10.788459|\n",
       "|transit_stations_percent_change_from_baseline      |Median    |  -9.000000|\n",
       "|transit_stations_percent_change_from_baseline      |Variance  | 390.193408|\n",
       "|transit_stations_percent_change_from_baseline      |SD        |  19.753314|"
      ]
     },
     "metadata": {},
     "output_type": "display_data"
    }
   ],
   "source": [
    "# Convert to long format\n",
    "mobility_stats_long <- mobility_stats_table %>%\n",
    "  pivot_longer(cols = Range:SD,\n",
    "               names_to = \"Statistic\",\n",
    "               values_to = \"Value\") %>%\n",
    "  select(Variable, Statistic, Value)\n",
    "\n",
    "# Display a static, nicely formatted table\n",
    "kable(mobility_stats_long, caption = \"Summary Statistics for Mobility Data\")"
   ]
  },
  {
   "cell_type": "markdown",
   "metadata": {},
   "source": [
    "### **Retail and Recreation Data:**\n",
    "- **Range (67):** The range of 67 indicates a significant fluctuation in retail and recreation activities across counties in Texas. Some counties saw drastic reductions in these activities, while others experienced only minor changes. This variability can likely be attributed to the differing responses of counties to the pandemic. For example, urban areas may have seen larger declines due to stricter lockdowns and higher case counts, while rural counties may have experienced less disruption due to less severe restrictions and lower population density. The COVID-19 pandemic disproportionately impacted certain areas, especially those with high population density, leading to larger decreases in retail and recreation activities in those places.\n",
    "  \n",
    "- **Mode (-10):** The mode of -10 indicates that the most common change in retail and recreation activity was a 10% decrease. This likely reflects the general impact of the pandemic on businesses like restaurants, entertainment venues, and shopping centers. With public health concerns and lockdown orders in effect, many businesses in these sectors saw a decline in customer foot traffic. The mode value suggests that, while some counties saw larger drops, a consistent trend of moderate declines was observed across the state.\n",
    "  \n",
    "- **Mean (-12.37):** The mean of -12.37 further supports the idea that, on average, the retail and recreation sector in Texas experienced a 12% decrease. The overall drop in activity could be attributed to closures, social distancing measures, and reduced consumer confidence during the early months of the pandemic. While businesses like retail stores and restaurants were allowed to reopen at varying times across different counties, the damage to the retail sector was still significant. The negative mean value reflects the collective impact of these disruptions.\n",
    "  \n",
    "- **Median (-12):** The median of -12 aligns closely with the mean, suggesting that the distribution of changes was fairly symmetric around a 12% decline. This suggests that half of the counties experienced a decrease of at least 12%, which is consistent with the widespread closure of non-essential businesses and reduced consumer spending during the pandemic.\n",
    "\n",
    "- **Variance (157.15):** The variance of 157.15 is quite high, reflecting the significant variability in the impact on retail and recreation activities. Some counties experienced a minimal decrease in retail activity, possibly because businesses were able to adapt by offering online services, whereas others were hit hard by lockdowns and restrictions. Urban centers with high tourism, such as Austin or Dallas, may have seen more extreme declines in retail and recreation activities due to lockdowns and travel restrictions, contributing to the large variance.\n",
    "\n",
    "- **Standard Deviation (12.54):** The high standard deviation further emphasizes the wide variability in how retail and recreation activities were affected. The disparity between rural and urban areas likely contributed to the significant differences in the data. Urban centers experienced more severe reductions, while smaller counties experienced less disruption, driving up the overall variation in the data.\n",
    "\n",
    "### **Grocery and Pharmacy Data:**\n",
    "- **Range (56):** The range of 56 for grocery and pharmacy activities is moderate, suggesting a more consistent trend across counties compared to the retail and recreation sector. While there were fluctuations, they were less extreme. The pandemic led to increased demand for groceries and pharmaceuticals as people stocked up on essentials in preparation for lockdowns. However, certain counties with lower demand or fewer supply chain disruptions saw less variation. The relatively stable demand for essential items like food and medication may explain why the range is smaller compared to other sectors.\n",
    "\n",
    "- **Mode (-5):** The mode of -5 indicates that the most common change observed was a 5% decrease in grocery and pharmacy activity. This likely reflects the reduction in in-person shopping as people switched to online grocery shopping and took fewer trips to physical stores. Some counties may have experienced a slight decrease in in-person shopping, but overall, grocery stores were still considered essential businesses and remained open, mitigating the impact.\n",
    "\n",
    "- **Mean (-3.99):** The mean of -3.99 suggests a slight, overall reduction in grocery and pharmacy activities. While these sectors were less impacted than retail and recreation, they were still affected by reduced customer visits, supply chain disruptions, and shifts to online shopping. The decrease in activity could also be due to fewer consumers spending money on non-essential items or reducing the frequency of grocery trips as people adapted to new shopping behaviors during the pandemic.\n",
    "\n",
    "- **Median (-5):** The median of -5 is very close to the mode, reinforcing the notion that many counties saw small declines in grocery and pharmacy activity. This result suggests that while there was some disruption to these sectors, it was generally moderate, with many counties experiencing only a slight decrease in activity.\n",
    "\n",
    "- **Variance (97.42):** The variance of 97.42 is moderate compared to retail and recreation, indicating that while there were fluctuations in grocery and pharmacy activities, they were less pronounced. This is likely due to the fact that grocery stores and pharmacies were essential and continued operating throughout the pandemic. Some counties may have experienced higher demand, while others faced less disruption, but overall, the impact was less severe.\n",
    "\n",
    "- **Standard Deviation (9.87):** The standard deviation of 9.87 supports the idea that while grocery and pharmacy activities were generally stable, there was some variation across counties. Areas with higher populations and greater demand for essential items likely saw more significant changes, while rural counties saw smaller shifts.\n",
    "\n",
    "### **Workplace Data:**\n",
    "- **Range (75):** The range of 75 for workplace activity indicates a wide variation in how different counties were affected. Some counties may have experienced a complete shutdown of workplaces, especially in industries that couldn't transition to remote work, while others saw less disruption. Urban centers with large office-based workforces likely saw significant declines in workplace activity due to remote work policies and business closures, while rural areas with less reliance on office spaces may have seen more stability.\n",
    "\n",
    "- **Mode (-33):** The mode of -33 suggests that the most frequent change observed was a 33% decrease in workplace activity. This reflects the widespread shift to remote work and the closure of non-essential businesses during the pandemic. Many companies moved to work-from-home policies, and certain sectors, such as hospitality and travel, were particularly hard hit.\n",
    "\n",
    "- **Mean (-25.80):** The mean of -25.80 shows an average decrease of about 26% in workplace activity. This aligns with the widespread closures and remote work policies that affected many sectors during the pandemic. The decrease could also reflect the decline in the number of people commuting to work due to health concerns and government restrictions.\n",
    "\n",
    "- **Median (-27):** The median of -27 indicates that half of the counties saw a decrease of 27% or more in workplace activity. This reflects the severity of workplace disruptions, particularly in urban areas where lockdowns and business closures were most prevalent.\n",
    "\n",
    "- **Variance (184.18):** The variance of 184.18 is high, indicating a large disparity in how different counties were affected. Some counties with a high concentration of remote-friendly industries saw smaller declines, while others, particularly those reliant on in-person services, experienced more drastic reductions in workplace activity.\n",
    "\n",
    "- **Standard Deviation (13.57):** The high standard deviation indicates that there were significant differences in how counties experienced workplace disruptions. While many urban areas saw dramatic decreases, rural areas with fewer office-based jobs may have experienced less disruption, contributing to the larger spread in the data.\n",
    "\n",
    "### **Residential Data:**\n",
    "- **Range (29):** The range of 29 in residential activity suggests a more consistent trend than in other sectors. The pandemic led to increased time spent at home, as people avoided public spaces and adhered to social distancing measures. However, the range suggests that some counties experienced a more pronounced shift in residential activity than others, possibly due to local restrictions or varying levels of lockdown enforcement.\n",
    "\n",
    "- **Mode (7):** The mode of 7 indicates that the most common change was a 7% increase in residential activity. This reflects the broader trend of people staying at home more frequently during the pandemic. With businesses and schools closed, more people worked from home and spent more time indoors, contributing to this increase.\n",
    "\n",
    "- **Mean (8.83):** The mean of 8.83 suggests that, on average, residential activity increased by about 9%. This is consistent with the widespread shift to remote work and social distancing measures, which kept people at home for longer periods. The positive mean reflects how the pandemic forced many people to remain indoors, either for work or safety reasons.\n",
    "\n",
    "- **Median (9):** The median of 9 reinforces the idea that most counties saw a relatively consistent increase in residential activity. This suggests that, in general, people in Texas stayed at home more frequently during the pandemic, though there was some variability in the degree of increase across different counties.\n",
    "\n",
    "- **Variance (29.97):** The variance of 29.97 is relatively low, indicating that the increase in residential activity was fairly consistent across counties. However, some areas with less stringent restrictions or lower COVID-19 case rates may have seen less of an increase in residential activity compared to highly affected areas.\n",
    "\n",
    "- **Standard Deviation (5.47):** The low standard deviation supports the idea that residential activity increased consistently across most counties, with fewer outliers compared to sectors like retail and workplaces. The pandemic generally led to more people staying at home, especially as the virus spread and lockdown measures were put in place.\n",
    "\n",
    "### **Transit Stations Data:**\n",
    "- **Range (120):** The range of 120 for transit activity indicates significant variability in how different counties were affected. In urban areas with extensive public transit systems, the decrease in activity was likely more extreme, as people avoided public transportation to reduce their risk of exposure. Rural areas, with less reliance on public transit, may have seen smaller decreases, contributing to the large range.\n",
    "\n",
    "- **Mode (-3):** The mode of -3 suggests that the most frequent change in transit activity was a 3% decrease. This indicates that while public transit usage was generally reduced, it wasn't as extreme as other sectors like retail or workplaces. People likely avoided using public transportation for health and safety reasons, but essential workers still relied on transit to get to their jobs.\n",
    "\n",
    "- **Mean (-11.01):** The mean of -11.01 suggests an 11% decrease in transit activity on average. This aligns with the reduction in public transit usage during the pandemic, as people avoided crowded spaces like buses and trains. The decline in activity can also be attributed to the decreased need for commuting due to remote work and lockdown measures.\n",
    "\n",
    "- **Median (-9):** The median of -9 reflects the fact that most counties experienced a reduction in transit activity, but the extent varied. Urban areas likely saw more significant declines, while rural areas saw more moderate reductions in transit usage.\n",
    "\n",
    "- **Variance (396.21):** The high variance of 396.21 indicates that the impact on transit stations was highly variable across counties. Counties with major transit systems in cities like Houston and Dallas likely saw significant drops in transit activity, while areas with less reliance on public transit experienced only minor changes.\n",
    "\n",
    "- **Standard Deviation (19.90):** The high standard deviation reinforces the idea of significant variability in how counties were affected by changes in transit activity. Public transportation was significantly impacted in urban areas, but less so in rural regions, leading to a large spread in the data.\n",
    "\n",
    "### **Conclusion:**\n",
    "These statistics reflect the varying impacts of COVID-19 on different sectors in Texas. Retail, workplace, and transit activities were heavily disrupted due to lockdown measures, social distancing, and remote work policies. Residential activity, in contrast, saw a consistent increase, as people stayed at home more during the pandemic. The grocery and pharmacy sectors, while impacted, were less affected than retail and transit, as they remained essential businesses. These findings align with the broader trends observed during the pandemic, where urban areas experienced more severe disruptions due to stricter measures, while rural areas faced less drastic changes."
   ]
  },
  {
   "cell_type": "markdown",
   "metadata": {},
   "source": [
    "[9 points]\n",
    "- Visually explore the chosen attributes appropriately. \n",
    "- Provide an interpretation for each graph. \n",
    "- Explain why you chose the visualization for each attribute type. \n",
    "\n"
   ]
  },
  {
   "cell_type": "code",
   "execution_count": 40,
   "metadata": {
    "vscode": {
     "languageId": "r"
    }
   },
   "outputs": [
    {
     "data": {
      "image/png": "[encoded data removed]",
      "text/plain": [
       "plot without title"
      ]
     },
     "metadata": {
      "image/png": {
       "height": 420,
       "width": 420
      }
     },
     "output_type": "display_data"
    }
   ],
   "source": [
    "# 1. Retail and Recreation Percent Change\n",
    "ggplot(texas_mobility_data_cleaned,\n",
    "       aes(x = retail_and_recreation_percent_change_from_baseline)) +\n",
    "  geom_histogram(binwidth = 5, fill = \"steelblue\", color = \"black\") +\n",
    "  theme_minimal() +\n",
    "  labs(title = \"Retail & Recreation Mobility\",\n",
    "       x = \"Percent Change\",\n",
    "       y = \"Frequency\")"
   ]
  },
  {
   "cell_type": "markdown",
   "metadata": {},
   "source": [
    "#### **1. Retail & Recreation Mobility**\n",
    "- **Visualization:** The histogram illustrates the percentage change in mobility for places such as malls, restaurants, and entertainment venues.\n",
    "- **Interpretation:** The distribution exhibits a **strong left-skew**, indicating a significant decline in visits to these non-essential locations. This is expected, as the COVID-19 pandemic led to the closure of non-essential businesses and the enforcement of lockdowns to curb the virus spread.\n",
    "- **Explanation for Choosing Visualization:** A **histogram** is an effective choice here because it allows us to clearly observe how the pandemic affected visits to non-essential businesses by visualizing the frequency and magnitude of changes in mobility. This gives a comprehensive view of how public movement was restricted in these spaces."
   ]
  },
  {
   "cell_type": "code",
   "execution_count": 41,
   "metadata": {
    "vscode": {
     "languageId": "r"
    }
   },
   "outputs": [
    {
     "data": {
      "image/png": "[encoded data removed]",
      "text/plain": [
       "plot without title"
      ]
     },
     "metadata": {
      "image/png": {
       "height": 420,
       "width": 420
      }
     },
     "output_type": "display_data"
    }
   ],
   "source": [
    "# 2. Grocery and Pharmacy Percent Change\n",
    "ggplot(texas_mobility_data_cleaned,\n",
    "       aes(x = grocery_and_pharmacy_percent_change_from_baseline)) +\n",
    "  geom_histogram(binwidth = 5, fill = \"green\", color = \"black\") +\n",
    "  theme_minimal() +\n",
    "  labs(title = \"Grocery & Pharmacy Mobility\",\n",
    "       x = \"Percent Change\",\n",
    "       y = \"Frequency\")"
   ]
  },
  {
   "cell_type": "markdown",
   "metadata": {},
   "source": [
    "#### **2. Grocery & Pharmacy Mobility**\n",
    "- **Visualization:** The histogram shows the percentage change in visits to grocery stores and pharmacies.\n",
    "- **Interpretation:** The distribution is relatively **balanced**, with no extreme values. This indicates that visits to essential businesses like grocery stores and pharmacies did not experience the drastic drops seen in non-essential sectors. This is logical, as these businesses remained crucial for people's daily needs during the pandemic and thus saw a more consistent level of visits.\n",
    "- **Explanation for Choosing Visualization:** The **histogram** is ideal for this analysis as it helps us observe how visits to essential businesses held up in comparison to non-essential ones, shedding light on the shifts in consumer behavior during the pandemic."
   ]
  },
  {
   "cell_type": "code",
   "execution_count": 42,
   "metadata": {
    "vscode": {
     "languageId": "r"
    }
   },
   "outputs": [
    {
     "data": {
      "image/png": "[encoded data removed]",
      "text/plain": [
       "plot without title"
      ]
     },
     "metadata": {
      "image/png": {
       "height": 420,
       "width": 420
      }
     },
     "output_type": "display_data"
    }
   ],
   "source": [
    "# Workplace Mobility Histogram\n",
    "ggplot(texas_mobility_data_cleaned, aes(x = workplaces_percent_change_from_baseline)) +\n",
    "  geom_histogram(binwidth = 5, fill = \"red\", color = \"black\") +\n",
    "  theme_minimal() +\n",
    "  labs(title = \"Workplace Mobility\", x = \"Percent Change\", y = \"Frequency\")"
   ]
  },
  {
   "cell_type": "markdown",
   "metadata": {},
   "source": [
    "#### **3. Workplace Mobility**\n",
    "- **Visualization:** This histogram shows the percentage change in workplace mobility, illustrating the decline in visits to workplaces.\n",
    "- **Interpretation:** The distribution displays a **strong left-skew**, indicating that workplace mobility decreased significantly during the pandemic. This makes sense, as many businesses implemented remote work policies, reducing the need for employees to physically go to their offices.\n",
    "- **Explanation for Choosing Visualization:** A **histogram** effectively captures the magnitude of changes in workplace mobility, providing insights into the level of disruption in the workforce and how the pandemic reshaped the work environment. It helps us assess the economic and social impact by showing how many people stayed away from their workplaces."
   ]
  },
  {
   "cell_type": "code",
   "execution_count": 43,
   "metadata": {
    "vscode": {
     "languageId": "r"
    }
   },
   "outputs": [
    {
     "data": {
      "image/png": "[encoded data removed]",
      "text/plain": [
       "plot without title"
      ]
     },
     "metadata": {
      "image/png": {
       "height": 420,
       "width": 420
      }
     },
     "output_type": "display_data"
    }
   ],
   "source": [
    "# Residential Mobility Histogram\n",
    "ggplot(texas_mobility_data_cleaned, aes(x = residential_percent_change_from_baseline)) +\n",
    "  geom_histogram(binwidth = 2, fill = \"purple\", color = \"black\") +\n",
    "  theme_minimal() +\n",
    "  labs(title = \"Residential Mobility\", x = \"Percent Change\", y = \"Frequency\")"
   ]
  },
  {
   "cell_type": "markdown",
   "metadata": {},
   "source": [
    "#### **4. Residential Mobility**\n",
    "- **Visualization:** This histogram represents the percentage change in residential mobility, reflecting how much more or less time people spent at home.\n",
    "- **Interpretation:** The distribution is **right-skewed**, suggesting that people spent more time at home during the pandemic. This is consistent with the lockdown measures and stay-at-home orders, which pushed many people to stay indoors.\n",
    "- **Explanation for Choosing Visualization:** The **histogram** is a suitable choice to visualize changes in residential mobility as it helps show the increase in time spent at home, offering a stark contrast to the decrease in workplace mobility. It also emphasizes the shift in how people spent their daily routines during the pandemic.\n"
   ]
  },
  {
   "cell_type": "code",
   "execution_count": 44,
   "metadata": {
    "vscode": {
     "languageId": "r"
    }
   },
   "outputs": [
    {
     "data": {
      "image/png": "[encoded data removed]",
      "text/plain": [
       "plot without title"
      ]
     },
     "metadata": {
      "image/png": {
       "height": 420,
       "width": 420
      }
     },
     "output_type": "display_data"
    }
   ],
   "source": [
    "# Transit Station Mobility Histogram\n",
    "ggplot(texas_mobility_data_cleaned, \n",
    "       aes(x = transit_stations_percent_change_from_baseline)) +\n",
    "  geom_histogram(binwidth = 5, fill = \"orange\", color = \"black\") +\n",
    "  theme_minimal() +\n",
    "  labs(title = \"Transit Station Mobility\",\n",
    "       x = \"Percent Change\",\n",
    "       y = \"Frequency\")"
   ]
  },
  {
   "cell_type": "markdown",
   "metadata": {},
   "source": [
    "#### **5. Transit Station Mobility**\n",
    "- **Visualization:** This histogram depicts the percentage change in mobility for transit stations, such as buses, trains, and subways.\n",
    "- **Interpretation:** The distribution shows a **moderate left-skew**, indicating a decline in the use of public transportation during the pandemic. As people stayed home and businesses shut down, public transit ridership naturally dropped, especially in urban centers where public transport is a primary mode of travel.\n",
    "- **Explanation for Choosing Visualization:** A **histogram** is chosen here to help us understand changes in urban mobility patterns, particularly in major metropolitan areas like Dallas and Houston. It provides clarity on how transit usage was impacted by lockdowns, offering insights into the broader impact on urban mobility."
   ]
  },
  {
   "cell_type": "code",
   "execution_count": 45,
   "metadata": {
    "vscode": {
     "languageId": "r"
    }
   },
   "outputs": [
    {
     "data": {
      "image/png": "[encoded data removed]",
      "text/plain": [
       "plot without title"
      ]
     },
     "metadata": {
      "image/png": {
       "height": 420,
       "width": 420
      }
     },
     "output_type": "display_data"
    }
   ],
   "source": [
    "# Selecting relevant columns\n",
    "mobility_vars <- texas_mobility_data_cleaned %>%\n",
    "  select(retail_and_recreation_percent_change_from_baseline,\n",
    "         grocery_and_pharmacy_percent_change_from_baseline,\n",
    "         workplaces_percent_change_from_baseline,\n",
    "         residential_percent_change_from_baseline,\n",
    "         transit_stations_percent_change_from_baseline)\n",
    "\n",
    "# Compute correlation matrix\n",
    "cor_matrix <- cor(mobility_vars, use = \"complete.obs\")\n",
    "\n",
    "# Plot heatmap\n",
    "ggcorrplot(cor_matrix, method = \"circle\", type = \"lower\", lab = TRUE,\n",
    "           colors = c(\"blue\", \"white\", \"red\"),\n",
    "           title = \"Correlation Matrix of Mobility Changes\")\n"
   ]
  },
  {
   "cell_type": "markdown",
   "metadata": {},
   "source": [
    "# **Correlation Analysis of Mobility Trends in Texas During COVID-19**\n",
    "\n",
    "## **Overview**\n",
    "The correlation analysis provides insights into the relationship between different mobility categories during the COVID-19 pandemic. By examining these relationships, patterns emerge that reveal how different aspects of human movement responded to pandemic-related restrictions and behavioral shifts. The correlation values range from **-1 to 1**, where:\n",
    "- **Positive correlations (red values)** indicate that both mobility types increased or decreased together.\n",
    "- **Negative correlations (blue values)** indicate an inverse relationship, where an increase in one type of mobility corresponds with a decrease in another.\n",
    "- The closer the correlation value is to **1 or -1**, the stronger the relationship.\n",
    "\n",
    "\n",
    "## **1. Transit Station Mobility and Its Correlations**\n",
    "Transit stations represent a key indicator of urban mobility, especially in metropolitan areas like **Houston, Dallas, and Austin** where public transportation is widely used. The correlation findings suggest:\n",
    "\n",
    "- **Residential Mobility vs. Transit Stations (-0.49, Blue)**  \n",
    "  - A **moderate negative correlation** suggests that as more individuals stayed home, the use of public transit declined significantly.  \n",
    "  - This aligns with pandemic-related restrictions, where reduced commuting and remote work led to decreased reliance on public transportation.\n",
    "\n",
    "- **Workplace Mobility vs. Transit Stations (0.44, Red)**  \n",
    "  - A **moderate positive correlation** indicates that as workplace mobility increased, transit station visits also rose.  \n",
    "  - This suggests that many individuals relied on public transportation to return to their workplaces, reinforcing the importance of transit systems for economic recovery.\n",
    "\n",
    "- **Grocery & Pharmacy Mobility vs. Transit Stations (0.48, Red)**  \n",
    "  - A **moderate positive correlation** between transit usage and grocery/pharmacy visits implies that individuals who used public transport also made essential trips for necessities.  \n",
    "  - This could indicate that lower-income populations or those without personal vehicles relied on public transit for grocery shopping during the pandemic.\n",
    "\n",
    "- **Retail & Recreation Mobility vs. Transit Stations (0.61, Red)**  \n",
    "  - A **strong positive correlation** highlights that when restrictions eased and individuals resumed shopping and dining out, transit station usage increased accordingly.  \n",
    "  - This underscores the interconnected nature of urban travel, where social and economic activities are closely tied to public transit availability.\n",
    "\n",
    "\n",
    "## **2. Residential Mobility and Its Correlations**\n",
    "Residential mobility is a direct indicator of how much time people spent at home, and its relationship with other variables helps explain shifts in daily life:\n",
    "\n",
    "- **Workplace Mobility vs. Residential Mobility (-0.9, Blue)**  \n",
    "  - A **very strong negative correlation** suggests an almost **perfect inverse relationship** between these two variables.  \n",
    "  - As workplace mobility declined, residential mobility increased, confirming that the shift to remote work and lockdowns kept individuals at home.\n",
    "\n",
    "- **Grocery & Pharmacy Mobility vs. Residential Mobility (-0.33, Blue)**  \n",
    "  - A **weak negative correlation** suggests that even though people stayed home more, there was only a slight decrease in grocery and pharmacy visits.  \n",
    "  - This supports the notion that essential trips remained necessary, though possibly at reduced frequency as individuals stockpiled supplies.\n",
    "\n",
    "- **Retail & Recreation Mobility vs. Residential Mobility (-0.63, Blue)**  \n",
    "  - A **strong negative correlation** indicates that when people spent more time at home, visits to retail and recreation locations dropped significantly.  \n",
    "  - This aligns with pandemic restrictions that limited shopping and entertainment activities, further reinforcing the impact of lockdowns on non-essential businesses.\n",
    "\n",
    "\n",
    "## **3. Interactions Between Other Mobility Types**\n",
    "Examining the relationships between workplace, retail, and grocery mobility provides insight into how different mobility behaviors were interconnected:\n",
    "\n",
    "- **Grocery & Pharmacy vs. Workplace Mobility (0.26, Red)**  \n",
    "  - A **weak positive correlation** suggests that individuals who commuted to work were also more likely to make stops at grocery stores or pharmacies.  \n",
    "  - This could indicate a behavioral pattern where trips for work and essential shopping were consolidated to minimize exposure.\n",
    "\n",
    "- **Retail & Recreation vs. Workplace Mobility (0.5, Red)**  \n",
    "  - A **moderate positive correlation** suggests that as people returned to work, they also resumed visiting retail and entertainment venues.  \n",
    "  - This could signify an economic recovery trend, where increased workforce participation led to higher discretionary spending.\n",
    "\n",
    "- **Retail & Recreation vs. Grocery & Pharmacy Mobility (0.65, Red)**  \n",
    "  - A **strong positive correlation** suggests that when individuals were comfortable engaging in non-essential activities like shopping or dining, they were also likely to visit grocery stores and pharmacies.  \n",
    "  - This highlights a return to normal shopping behavior, where essential and non-essential trips often occurred together.\n",
    "\n",
    "\n",
    "## **Key Takeaways from the Correlation Analysis**\n",
    "1. **Work-From-Home Impact**  \n",
    "   - The strong **negative correlation (-0.9) between workplace and residential mobility** confirms the dramatic shift toward remote work.\n",
    "   - Residential mobility increased significantly when workplace mobility dropped, reinforcing the effectiveness of stay-at-home measures.\n",
    "\n",
    "2. **Public Transportation Dependence**  \n",
    "   - Transit station mobility was closely linked to workplace (0.44), grocery (0.48), and retail (0.61) mobility, suggesting that as restrictions lifted, public transit played a crucial role in the recovery process.\n",
    "   - The **negative correlation (-0.49) with residential mobility** shows that when people stayed home, public transit usage was severely impacted.\n",
    "\n",
    "3. **Essential vs. Non-Essential Travel**  \n",
    "   - Grocery/pharmacy visits were relatively stable during the pandemic (-0.33 correlation with residential mobility), indicating that essential trips continued even as people stayed home.\n",
    "   - In contrast, **retail and recreation mobility dropped sharply (-0.63 correlation with residential mobility),** confirming that non-essential outings were significantly affected.\n",
    "\n",
    "4. **Signs of Economic Recovery**  \n",
    "   - As workplace mobility increased, retail and recreation mobility also saw a rise (0.5 correlation), suggesting a gradual return to pre-pandemic levels of economic activity.\n",
    "   - The **strong correlation (0.65) between grocery and retail mobility** further reinforces the idea that when individuals resumed non-essential activities, essential shopping behavior also normalized.\n",
    "\n",
    "### **Conclusion**\n",
    "This correlation analysis provides valuable insights into mobility patterns during the COVID-19 pandemic. The data highlights the dramatic impact of lockdowns and remote work on public transit, workplace attendance, and non-essential outings. Moreover, it underscores the resilience of essential travel, such as grocery and pharmacy visits, which remained relatively stable despite mobility restrictions. Understanding these trends is crucial for urban planning, public health policies, and economic recovery strategies as communities navigate post-pandemic life."
   ]
  },
  {
   "cell_type": "markdown",
   "metadata": {},
   "source": [
    "[9 points]\n",
    "- Explore relationships between attributes: \n",
    "    - Look at the attributes and then use cross-tabulation, correlation, group-wise averages, box plots, etc., as appropriate. "
   ]
  },
  {
   "cell_type": "markdown",
   "metadata": {},
   "source": [
    "- Which Texas counties experienced the sharpest economic disruptions based on retail and workplace mobility changes?\n",
    "    - Why it matters: Mobility changes can be used as a proxy for economic activity. Counties with the steepest declines may have suffered greater economic damage\n",
    "    - Key variables: `sub_region_2`, `retail_and_recreation_percent_change_from_baseline`, `workplaces_percent_change_from_baseline`, `transit_stations_percent_change_from_baseline`\n"
   ]
  },
  {
   "cell_type": "code",
   "execution_count": 46,
   "metadata": {
    "vscode": {
     "languageId": "r"
    }
   },
   "outputs": [],
   "source": [
    "# Compute county-level averages for retail and workplace mobility\n",
    "county_mobility <- texas_mobility_data_cleaned %>%\n",
    "  group_by(sub_region_2) %>%\n",
    "  summarise(\n",
    "    avg_retail = mean(retail_and_recreation_percent_change_from_baseline, na.rm = TRUE),\n",
    "    avg_workplace = mean(workplaces_percent_change_from_baseline, na.rm = TRUE)\n",
    "  ) %>%\n",
    "  arrange(avg_retail)"
   ]
  },
  {
   "cell_type": "code",
   "execution_count": 47,
   "metadata": {
    "vscode": {
     "languageId": "r"
    }
   },
   "outputs": [
    {
     "data": {
      "image/png": "[encoded data removed]",
      "text/plain": [
       "plot without title"
      ]
     },
     "metadata": {
      "image/png": {
       "height": 420,
       "width": 420
      }
     },
     "output_type": "display_data"
    },
    {
     "data": {
      "image/png": "[encoded data removed]",
      "text/plain": [
       "plot without title"
      ]
     },
     "metadata": {
      "image/png": {
       "height": 420,
       "width": 420
      }
     },
     "output_type": "display_data"
    }
   ],
   "source": [
    "# Bar plot for Retail Mobility Change by County\n",
    "ggplot(county_mobility,\n",
    "       aes(x = reorder(sub_region_2, avg_retail), y = avg_retail)) +\n",
    "  geom_col(fill = \"blue\", alpha = 0.7) +\n",
    "  coord_flip() +  # Flip for better readability\n",
    "  theme_minimal() +\n",
    "  labs(title = \"Average Retail Mobility Change by County\",\n",
    "       x = \"County\", y = \"Average Percent Change\")\n",
    "\n",
    "# Bar plot for Workplace Mobility Change by County\n",
    "ggplot(county_mobility,\n",
    "       aes(x = reorder(sub_region_2, avg_workplace), y = avg_workplace)) +\n",
    "  geom_col(fill = \"red\", alpha = 0.7) +\n",
    "  coord_flip() +\n",
    "  theme_minimal() +\n",
    "  labs(title = \"Average Workplace Mobility Change by County\",\n",
    "       x = \"County\", y = \"Average Percent Change\")\n"
   ]
  },
  {
   "cell_type": "markdown",
   "metadata": {},
   "source": [
    "# **Retail and Workplace Mobility Impact Analysis Across Texas Counties**\n",
    "\n",
    "Understanding the impact of COVID-19 on mobility patterns provides valuable insights into economic and social disruptions at the county level. By analyzing the average changes in **retail** and **workplace** mobility across Texas counties, key trends emerge that highlight the disparity in how different regions experienced the pandemic’s effects.\n",
    "\n",
    "## **Retail Mobility Impact**\n",
    "Retail and recreation mobility reflects consumer activity in locations such as malls, restaurants, and entertainment venues. The change in retail mobility serves as a proxy for economic activity in non-essential businesses. \n",
    "\n",
    "### **Top 5 Counties with the Most Significant Decline in Retail Mobility:**\n",
    "1. **Maverick County**  \n",
    "2. **Travis County**  \n",
    "3. **Val Verde County**  \n",
    "4. **Webb County**  \n",
    "5. **El Paso County**  \n",
    "\n",
    "#### **Analysis of Trends:**\n",
    "- These counties tend to have a relatively **higher population density**, making them more vulnerable to retail sector disruptions.  \n",
    "- Urban centers such as **Travis County (Austin) and El Paso County** are economic hubs with significant retail and entertainment industries. Restrictions on social gatherings and stay-at-home orders would have had a **stronger impact on consumer behavior** in these areas.  \n",
    "- Border counties like **Webb (Laredo) and Maverick (Eagle Pass)** were further affected by international travel restrictions, which reduced retail activity that typically benefits from cross-border shoppers.  \n",
    "- **Tourism-dependent counties**, such as Travis County (Austin) and Val Verde County (home to popular recreational destinations like Lake Amistad), likely saw steeper declines in retail foot traffic due to reduced visitor numbers.  \n",
    "\n",
    "### **Counties with the Least Change in Retail Mobility:**\n",
    "1. **Cass County**  \n",
    "2. **Polk County**  \n",
    "3. **Wise County**  \n",
    "4. **Van Zandt County**  \n",
    "5. **Hopkins County**  \n",
    "\n",
    "#### **Analysis of Trends:**\n",
    "- These counties are predominantly **rural**, with lower population density and a smaller proportion of businesses reliant on foot traffic.  \n",
    "- Retail activity in these areas is more **essential-driven**, meaning that fewer businesses classified as \"non-essential\" led to a **smaller reduction** in overall mobility.  \n",
    "- Rural communities may have relied more on local businesses with **less stringent closures** compared to urban retail centers that faced stricter lockdown regulations.  \n",
    "\n",
    "---\n",
    "\n",
    "## **Workplace Mobility Impact**\n",
    "Workplace mobility changes provide a measure of how employment patterns were affected by remote work policies, business closures, and economic slowdowns.\n",
    "\n",
    "### **Top 5 Counties with the Most Significant Decline in Workplace Mobility:**\n",
    "1. **Travis County**  \n",
    "2. **Collin County**  \n",
    "3. **Cooke County**  \n",
    "4. **Williamson County**  \n",
    "5. **Denton County**  \n",
    "\n",
    "#### **Analysis of Trends:**\n",
    "- **Travis, Collin, Williamson, and Denton Counties** are part of major metropolitan areas (Austin and Dallas-Fort Worth), where large corporate offices, technology firms, and business districts are concentrated.  \n",
    "- These counties saw a more pronounced shift toward **remote work policies**, leading to a sharper decline in workplace mobility compared to rural counties, where essential industries such as agriculture and manufacturing required on-site work.  \n",
    "- **Cooke County**, despite being less urbanized, may have experienced a steep decline due to local economic dependencies on industries that were heavily impacted by COVID-19 restrictions.  \n",
    "- **High commuter populations** in counties like **Collin and Williamson** (which serve as suburbs for Dallas and Austin, respectively) led to sharper declines as more workers stayed home.  \n",
    "\n",
    "### **Counties with the Least Change in Workplace Mobility:**\n",
    "- Rural counties, particularly those with **agriculture-driven economies**, saw smaller reductions in workplace mobility. This is likely due to **a higher proportion of essential workers** who continued working on-site despite the pandemic.  \n",
    "\n",
    "---\n",
    "\n",
    "## **Key Insights and Implications**\n",
    "- **Urban counties** experienced the most significant declines in both **retail and workplace mobility**, reinforcing the impact of pandemic-related shutdowns on densely populated areas.  \n",
    "- **Rural counties** were less affected in terms of mobility reductions, likely due to **lower reliance on non-essential businesses** and a **higher percentage of essential jobs** that could not transition to remote work.  \n",
    "- The disparity between retail and workplace mobility changes suggests that **consumer behavior shifted more dramatically than workforce behavior**, indicating that even as employees worked remotely, essential shopping activities persisted at a more stable rate.  \n",
    "- **Counties with strong commuter populations** (e.g., Collin and Williamson) saw steep workplace mobility declines due to their reliance on large business hubs in Dallas and Austin.  \n",
    "\n",
    "### **Conclusion**\n",
    "This analysis highlights how different Texas counties experienced the COVID-19 pandemic differently based on population density, economic structure, and urbanization. Retail and workplace mobility changes serve as crucial indicators of economic impact, helping policymakers understand which regions may have faced **greater economic challenges and require targeted recovery efforts**.  \n"
   ]
  },
  {
   "cell_type": "markdown",
   "metadata": {},
   "source": [
    "\n",
    "- How did grocery and pharmacy (essential) mobility compare to retail and recreation (non-essential) mobility in response to COVID-19 waves in Texas?\n",
    "    - Why it matters: This helps determine if consumer behavior showed a clear distinction between essential vs. non-essential trips.\n",
    "    - Key variables: `grocery_and_pharmacy_percent_change_from_baseline`, `retail_and_recreation_percent_change_from_baseline`, `date`, `sub_region_2`"
   ]
  },
  {
   "cell_type": "code",
   "execution_count": 48,
   "metadata": {
    "vscode": {
     "languageId": "r"
    }
   },
   "outputs": [
    {
     "data": {
      "image/png": "[encoded data removed]",
      "text/plain": [
       "plot without title"
      ]
     },
     "metadata": {
      "image/png": {
       "height": 420,
       "width": 420
      }
     },
     "output_type": "display_data"
    }
   ],
   "source": [
    "ggplot(texas_mobility_data_cleaned, aes(x = date)) +\n",
    "  geom_line(aes(y = grocery_and_pharmacy_percent_change_from_baseline,\n",
    "                color = \"Grocery & Pharmacy\"), linewidth = 1) +\n",
    "  geom_line(aes(y = retail_and_recreation_percent_change_from_baseline,\n",
    "                color = \"Retail & Recreation\"), linewidth = 1) +\n",
    "  theme_minimal() + \n",
    "  scale_color_manual(values = c(\"Grocery & Pharmacy\" = \"green\", \n",
    "                                \"Retail & Recreation\" = \"blue\")) + \n",
    "  labs(title = \"Comparison of Grocery & Pharmacy vs. Retail & Recreation Mobility\", \n",
    "       x = \"Date\", y = \"Percent Change from Baseline\", color = \"Mobility Type\") + \n",
    "  theme(legend.position = \"bottom\") +\n",
    "  scale_x_date(date_breaks = \"1 month\",\n",
    "               date_labels = \"%b %Y\") +\n",
    "  theme(plot.margin = margin(5, 15, 5, 15),\n",
    "        aspect.ratio = 0.5,\n",
    "        axis.text.x = element_text(angle = 45, hjust = 1))\n"
   ]
  },
  {
   "cell_type": "markdown",
   "metadata": {},
   "source": [
    "# Mobility Trends for Grocery & Pharmacy vs. Retail & Recreation During COVID-19 in Texas\n",
    "\n",
    "The plot visualizes the changes in mobility patterns for two key sectors — **grocery and pharmacy** and **retail and recreation** — throughout the course of the COVID-19 pandemic in Texas. These two mobility types serve as essential proxies for consumer behavior and public responses to government-imposed restrictions.\n",
    "\n",
    "## Pre-Pandemic Trends:\n",
    "In the months leading up to the onset of COVID-19, we observe that both **grocery and pharmacy** as well as **retail and recreation** mobility data exhibit a relatively stable, low level of change from baseline. This suggests that, prior to the pandemic, mobility in these sectors was generally unaffected by external disruptions, reflecting a more consistent consumer behavior and standard operating conditions.\n",
    "\n",
    "## Initial Impact of the Pandemic (March 2020 - April 2020):\n",
    "As COVID-19 began to spread globally and the United States entered a state of heightened awareness, we see a slight increase in **grocery and pharmacy mobility**. This uptick can be attributed to panic buying and hoarding as consumers anticipated shortages and lockdowns. Shelves in grocery stores were rapidly emptied, and shoppers surged to secure essential supplies in anticipation of prolonged social distancing measures.\n",
    "\n",
    "However, **retail and recreation mobility** immediately experienced a sharp decline starting in March 2020. This drop reflects the abrupt closure of non-essential businesses, such as entertainment venues, gyms, and shopping centers, as states and cities enacted lockdowns and shelter-in-place orders. The restrictions meant that many consumers reduced or completely halted visits to places associated with discretionary spending, which led to a significant negative change in this sector.\n",
    "\n",
    "## Lockdown and Stabilization (April 2020 - June 2020):\n",
    "During the full implementation of lockdown measures between **April 2020 and June 2020**, **grocery and pharmacy** mobility showed a slight dip but remained relatively stable. This stability reflects the essential nature of these services. Even though demand for food and healthcare products was strong, the mobility in this sector did not see drastic fluctuations, possibly due to supply chain adaptations and the consistent demand for essentials.\n",
    "\n",
    "Meanwhile, **retail and recreation mobility** continued to experience a steep decline during this period. As restrictions on gatherings, shopping, and recreation were in full effect, businesses in this sector were either closed or severely restricted. This negatively affected consumer movement in places like malls, restaurants, parks, and gyms.\n",
    "\n",
    "## Recovery and Resurgence (June 2020 - September 2020):\n",
    "Starting in **June 2020**, as lockdown measures were eased and restrictions began to relax, there was a noticeable **bounce back in retail and recreation mobility**. This rebound likely coincided with the phased reopening of businesses and a gradual return to some pre-pandemic activities. People returned to malls, restaurants, and recreational areas as businesses adapted to new COVID-19 guidelines, such as social distancing and mask mandates.\n",
    "\n",
    "For **grocery and pharmacy**, the mobility trend remained largely unchanged throughout this period, continuing to show stable, albeit slightly elevated, levels as essential shopping behavior persisted.\n",
    "\n",
    "## September 2020 - December 2020:\n",
    "In **September 2020**, we see a minor dip in **retail and recreation mobility**, likely corresponding to a **resurgence in COVID-19 cases** and the implementation of new restrictions. As Texas and other parts of the U.S. faced rising case numbers, governments were forced to reintroduce social distancing guidelines, and consumer confidence in visiting public spaces was once again reduced.\n",
    "\n",
    "For **grocery and pharmacy mobility**, the trend remained stable and largely unaffected, continuing to reflect the sector's essential status during this period.\n",
    "\n",
    "## Key Observations and Implications:\n",
    "1. **Consumer Behavior Shifts:** The data highlights a clear shift in consumer behavior due to COVID-19. Essential services, such as grocery and pharmacy, saw relatively stable mobility, while non-essential sectors like retail and recreation experienced significant volatility. This demonstrates the rapid adaptation of the public to essential needs while limiting discretionary spending and activities.\n",
    "\n",
    "2. **Effectiveness of Government Policies:** The sharp declines in **retail and recreation mobility** during periods of strict lockdowns underscore the effectiveness of government policies aimed at limiting public gatherings and movement. However, these policies had a severe economic impact on non-essential businesses, with recovery only occurring when restrictions were relaxed.\n",
    "\n",
    "3. **Recovery Trends:** The recovery observed in **retail and recreation mobility** in mid-2020 demonstrates that as the economy reopened, consumer confidence in spending began to return, but the dip seen in September 2020 suggests that consumer behavior remained cautious due to ongoing uncertainty about the pandemic.\n",
    "\n",
    "4. **Essential vs. Non-Essential Services:** The stability of **grocery and pharmacy mobility** throughout the pandemic period emphasizes the distinction between essential and non-essential sectors. While many businesses faced severe downturns, essential services like grocery stores adapted quickly and were less affected by mobility restrictions.\n",
    "\n",
    "## Conclusion:\n",
    "This plot not only provides a visual representation of the evolving mobility trends in Texas during the pandemic but also serves as a useful tool for understanding the broader impacts of COVID-19 on consumer behavior, business sectors, and government policies. It can be used to assess the effectiveness of public health measures, identify patterns in consumer adaptation to restrictions, and forecast future trends in both essential and non-essential sectors as the economy continues to recover.\n",
    "\n",
    "Additionally, policymakers and business leaders can use insights from this data to better plan for future public health crises, ensuring that essential services remain operational while supporting the recovery of sectors severely impacted by restrictions."
   ]
  },
  {
   "cell_type": "markdown",
   "metadata": {},
   "source": [
    "- Did major Texas metropolitan areas (Houston, Dallas, Austin, San Antonio) experience different mobility trends compared to rural areas?\n",
    "    - Why it matters: Large cities likely had different mobility patterns compared to rural counties, influenced by population density, economic activity, and public transit usage\n",
    "    - Key variables: `sub_region_2`, `transit_stations_percent_change_from_baseline`, `workplaces_percent_change_from_baseline`, `residential_percent_change_from_baseline`"
   ]
  },
  {
   "cell_type": "markdown",
   "metadata": {},
   "source": [
    "# Population Density greater than 1000/mi^2:\n",
    "- https://www.texascounties.net/statistics/popdensity2020.htm"
   ]
  },
  {
   "cell_type": "code",
   "execution_count": 49,
   "metadata": {
    "vscode": {
     "languageId": "r"
    }
   },
   "outputs": [],
   "source": [
    "# Filtering data for major metropolitan areas and rural areas\n",
    "metro_areas <- c(\"Harris County\", \"Dallas County\", \"Travis County\", \"Bexar County\", \"Tarrant County\", \"Collin County\", \"Denton County\") \n",
    "texas_mobility_data_cleaned$metro_area <- ifelse(texas_mobility_data_cleaned$sub_region_2 %in% metro_areas, \n",
    "                                                 \"Metro\", \"Rural\")\n"
   ]
  },
  {
   "cell_type": "code",
   "execution_count": 50,
   "metadata": {
    "vscode": {
     "languageId": "r"
    }
   },
   "outputs": [
    {
     "data": {
      "image/png": "[encoded data removed]",
      "text/plain": [
       "plot without title"
      ]
     },
     "metadata": {
      "image/png": {
       "height": 420,
       "width": 420
      }
     },
     "output_type": "display_data"
    }
   ],
   "source": [
    "# Scatter plot for transit stations\n",
    "ggplot(texas_mobility_data_cleaned, aes(x = date, y = transit_stations_percent_change_from_baseline, \n",
    "                                       color = metro_area)) +\n",
    "  geom_point() +\n",
    "  labs(title = \"Transit Stations Mobility Trend\", x = \"Date\", \n",
    "       y = \"Percent Change from Baseline\") +\n",
    "  theme_minimal() +\n",
    "  scale_color_manual(values = c(\"Metro\" = \"blue\", \"Rural\" = \"red\")) +\n",
    "  theme(legend.position = \"bottom\")"
   ]
  },
  {
   "cell_type": "markdown",
   "metadata": {},
   "source": [
    "### **Transit Stations Mobility Trend**  \n",
    "The scatterplot indicates that metropolitan areas with a population density greater than \n",
    "1,000/mi² experienced significantly greater fluctuations in transit station mobility \n",
    "compared to rural counties. This is likely due to the higher reliance on public \n",
    "transportation in urban centers like Houston, Dallas, Austin, and San Antonio. \n",
    "\n",
    "During the early phases of the COVID-19 pandemic, transit mobility saw a steep decline \n",
    "in metro areas, coinciding with lockdowns, work-from-home policies, and public transit \n",
    "restrictions. In contrast, rural areas, which are less dependent on public transportation, \n",
    "exhibited smaller and more stable changes. The gradual recovery in metro transit usage, \n",
    "visible in the latter part of the scatterplot, aligns with the easing of restrictions \n",
    "and the reopening of businesses, but full recovery appears slow, possibly due to continued \n",
    "remote work trends.  \n"
   ]
  },
  {
   "cell_type": "code",
   "execution_count": 51,
   "metadata": {
    "vscode": {
     "languageId": "r"
    }
   },
   "outputs": [
    {
     "data": {
      "image/png": "[encoded data removed]",
      "text/plain": [
       "plot without title"
      ]
     },
     "metadata": {
      "image/png": {
       "height": 420,
       "width": 420
      }
     },
     "output_type": "display_data"
    }
   ],
   "source": [
    "# Scatter plot for workplaces\n",
    "ggplot(texas_mobility_data_cleaned, aes(x = date, y = workplaces_percent_change_from_baseline, \n",
    "                                       color = metro_area)) +\n",
    "  geom_point() +\n",
    "  labs(title = \"Workplaces Mobility Trend\", x = \"Date\", \n",
    "       y = \"Percent Change from Baseline\") +\n",
    "  theme_minimal() +\n",
    "  scale_color_manual(values = c(\"Metro\" = \"darkgreen\", \"Rural\" = \"darkgoldenrod2\")) +\n",
    "  theme(legend.position = \"bottom\")\n"
   ]
  },
  {
   "cell_type": "markdown",
   "metadata": {},
   "source": [
    "### **Workplace Mobility Trend**  \n",
    "The scatterplot shows that both rural and metropolitan areas experienced fluctuations in \n",
    "workplace mobility, but the impact was significantly more pronounced in metro areas. \n",
    "This discrepancy can be attributed to the higher concentration of corporate offices, \n",
    "service industries, and non-essential businesses in urban areas, many of which either shut \n",
    "down or transitioned to remote work during the pandemic. \n",
    "\n",
    "Rural areas, on the other hand, are more likely to have essential industries such as \n",
    "agriculture, manufacturing, and small businesses that continued operations with fewer \n",
    "interruptions. The data suggests that workplace mobility in metro areas saw a sharp \n",
    "decline during the lockdown period, followed by a gradual but incomplete recovery, \n",
    "while rural areas displayed smaller deviations from baseline levels.  "
   ]
  },
  {
   "cell_type": "code",
   "execution_count": 52,
   "metadata": {
    "vscode": {
     "languageId": "r"
    }
   },
   "outputs": [
    {
     "data": {
      "image/png": "[encoded data removed]",
      "text/plain": [
       "plot without title"
      ]
     },
     "metadata": {
      "image/png": {
       "height": 420,
       "width": 420
      }
     },
     "output_type": "display_data"
    }
   ],
   "source": [
    "# Scatter plot for residential\n",
    "ggplot(texas_mobility_data_cleaned, aes(x = date, y = residential_percent_change_from_baseline, \n",
    "                                       color = metro_area)) +\n",
    "  geom_point() +\n",
    "  labs(title = \"Residential Mobility Trend\", x = \"Date\", \n",
    "       y = \"Percent Change from Baseline\") +\n",
    "  theme_minimal() +\n",
    "  scale_color_manual(values = c(\"Metro\" = \"blue1\", \"Rural\" = \"#ec1010\")) +\n",
    "  theme(legend.position = \"bottom\")\n"
   ]
  },
  {
   "cell_type": "markdown",
   "metadata": {},
   "source": [
    "### **Residential Mobility Trend**  \n",
    "The scatterplot highlights significant changes in residential mobility for both metro \n",
    "and rural counties, though the impact was more pronounced in metropolitan areas. \n",
    "The sharp increase in residential mobility at the start of the pandemic suggests \n",
    "that people were spending more time at home due to lockdown measures, remote work, \n",
    "and online schooling. \n",
    "\n",
    "Metro areas exhibited even greater deviations, likely because urban populations were \n",
    "more affected by stay-at-home orders and had fewer outdoor or non-residential spaces \n",
    "available for activity. Rural areas, while also affected, had a comparatively moderate \n",
    "shift, possibly due to lower population density and greater opportunities for outdoor \n",
    "movement. As restrictions eased, residential mobility began to decline, though it \n",
    "remained above baseline levels, suggesting a lasting impact of remote work and \n",
    "hybrid work arrangements. "
   ]
  },
  {
   "cell_type": "markdown",
   "metadata": {},
   "source": [
    "### *Extra Analysis*"
   ]
  },
  {
   "cell_type": "code",
   "execution_count": 53,
   "metadata": {
    "vscode": {
     "languageId": "r"
    }
   },
   "outputs": [
    {
     "data": {
      "text/plain": [
       "Importance of components:\n",
       "                          PC1    PC2     PC3     PC4     PC5\n",
       "Standard deviation     1.7711 1.0007 0.70550 0.53180 0.28497\n",
       "Proportion of Variance 0.6274 0.2003 0.09955 0.05656 0.01624\n",
       "Cumulative Proportion  0.6274 0.8276 0.92720 0.98376 1.00000"
      ]
     },
     "metadata": {},
     "output_type": "display_data"
    }
   ],
   "source": [
    "# Prepare and standardize the data for PCA\n",
    "mobility_data_scaled <- scale(texas_mobility_data_cleaned %>%\n",
    "  select(\n",
    "    retail_and_recreation_percent_change_from_baseline,\n",
    "    grocery_and_pharmacy_percent_change_from_baseline,\n",
    "    workplaces_percent_change_from_baseline,\n",
    "    residential_percent_change_from_baseline,\n",
    "    transit_stations_percent_change_from_baseline\n",
    "  ))\n",
    "\n",
    "# Perform PCA\n",
    "pca <- prcomp(mobility_data_scaled)\n",
    "\n",
    "# PCA Summary (Explained Variance)\n",
    "summary(pca)"
   ]
  },
  {
   "cell_type": "code",
   "execution_count": 54,
   "metadata": {
    "vscode": {
     "languageId": "r"
    }
   },
   "outputs": [],
   "source": [
    "# Extract PCA loadings (contributions of original variables)\n",
    "pca_loadings <- as.data.frame(pca$rotation)\n",
    "\n",
    "# Renamed variables for clarity\n",
    "pca_loadings$Variable <- c(\"rr\", \"gp\", \"w\", \"r\", \"t\")\n",
    "# Extract PCA scores and attach county information\n",
    "biplot_data <- as.data.frame(pca$x) %>%\n",
    "  cbind(County = texas_mobility_data_cleaned$sub_region_2)\n",
    "\n",
    "# Scree Plot (Variance Explained by Each Principal Component)\n",
    "scree_data <- data.frame(PC = 1:length(pca$sdev), Variance = pca$sdev^2 / sum(pca$sdev^2))"
   ]
  },
  {
   "cell_type": "code",
   "execution_count": 55,
   "metadata": {
    "vscode": {
     "languageId": "r"
    }
   },
   "outputs": [
    {
     "data": {
      "image/png": "[encoded data removed]",
      "text/plain": [
       "plot without title"
      ]
     },
     "metadata": {
      "image/png": {
       "height": 420,
       "width": 420
      }
     },
     "output_type": "display_data"
    }
   ],
   "source": [
    "ggplot(scree_data, aes(x = PC, y = Variance)) +\n",
    "  geom_bar(stat = \"identity\", fill = \"skyblue\") +\n",
    "  labs(title = \"Scree Plot\", x = \"Principal Component\", y = \"Variance Explained\") +\n",
    "  theme_minimal()"
   ]
  },
  {
   "cell_type": "markdown",
   "metadata": {},
   "source": [
    "## Principal Component Analysis (PCA) Summary and Interpretation\n",
    "\n",
    "### Understanding PCA  \n",
    "Principal Component Analysis (PCA) is a dimensionality reduction technique that transforms a dataset with multiple correlated variables into a smaller set of uncorrelated components, called principal components (PCs), while preserving as much variance as possible. The first principal component (PC1) captures the highest amount of variance in the data, with each subsequent component capturing progressively less. In this analysis, the PCA summary provides insight into how much variability each principal component explains in relation to the measured mobility features.  \n",
    "\n",
    "### PCA Summary Interpretation  \n",
    "The results indicate that **PC1 has the highest standard deviation (1.7822) and accounts for 63.52% of the total variance**, making it the most significant component in describing mobility trends across Texas counties. This suggests that PC1 represents a broad trend affecting all mobility features, such as changes in workplace activity, transit usage, and visits to retail, grocery, and residential areas. **PC2 explains an additional 19.53% of the variance**, bringing the cumulative variance explained by the first two components to **83.05%**. This suggests that most of the variation in mobility patterns can be effectively summarized using just these two components. **PC3 contributes 9.87%**, while **PC4 and PC5 explain 5.52% and 1.57%**, respectively, indicating that their contributions are minimal.  \n"
   ]
  },
  {
   "cell_type": "code",
   "execution_count": 56,
   "metadata": {
    "vscode": {
     "languageId": "r"
    }
   },
   "outputs": [],
   "source": [
    "# PCA Plot (First Two Principal Components)\n",
    "pca_plot <- ggplot(biplot_data, aes(x = PC1, y = PC2, color = County)) +\n",
    "  geom_point() +\n",
    "  labs(title = \"PCA: Mobility Data Dimensionality Reduction\", \n",
    "       x = \"Principal Component 1\", y = \"Principal Component 2\") +\n",
    "  theme_minimal()\n",
    "\n",
    "# Save the plot\n",
    "ggsave(\"pca_plot.png\", plot = pca_plot, width = 10, height = 6)"
   ]
  },
  {
   "cell_type": "code",
   "execution_count": 57,
   "metadata": {
    "vscode": {
     "languageId": "r"
    }
   },
   "outputs": [
    {
     "data": {
      "image/png": "[encoded data removed]",
      "text/plain": [
       "plot without title"
      ]
     },
     "metadata": {
      "image/png": {
       "height": 420,
       "width": 420
      }
     },
     "output_type": "display_data"
    }
   ],
   "source": [
    "# PCA Loadings Plot (Contribution of Each Variable)\n",
    "loading_df_long <- gather(pca_loadings, PC, loading_value, -Variable)\n",
    "\n",
    "ggplot(loading_df_long, aes(x = Variable, y = loading_value, fill = PC)) +\n",
    "  geom_bar(stat = \"identity\", position = \"dodge\") +\n",
    "  coord_flip() +\n",
    "  theme_minimal() +\n",
    "  labs(title = \"PCA Loadings: Contribution of Each Variable to Principal Components\",\n",
    "       x = \"Variables\", y = \"Loading Value\")"
   ]
  },
  {
   "cell_type": "code",
   "execution_count": 58,
   "metadata": {
    "vscode": {
     "languageId": "r"
    }
   },
   "outputs": [
    {
     "name": "stdout",
     "output_type": "stream",
     "text": [
      "                                                          PC1        PC2\n",
      "retail_and_recreation_percent_change_from_baseline -0.4844147 -0.2663230\n",
      "grocery_and_pharmacy_percent_change_from_baseline  -0.3747104 -0.6154603\n",
      "workplaces_percent_change_from_baseline            -0.4513204  0.5462807\n",
      "residential_percent_change_from_baseline            0.4897686 -0.4402976\n",
      "transit_stations_percent_change_from_baseline      -0.4258770 -0.2408239\n",
      "                                                          PC3        PC4\n",
      "retail_and_recreation_percent_change_from_baseline -0.1640979 -0.7882513\n",
      "grocery_and_pharmacy_percent_change_from_baseline  -0.4566749  0.5192112\n",
      "workplaces_percent_change_from_baseline            -0.1096368  0.2885322\n",
      "residential_percent_change_from_baseline            0.1327006  0.0219247\n",
      "transit_stations_percent_change_from_baseline       0.8572574  0.1592108\n",
      "                                                           PC5\n",
      "retail_and_recreation_percent_change_from_baseline -0.21481674\n",
      "grocery_and_pharmacy_percent_change_from_baseline   0.05165776\n",
      "workplaces_percent_change_from_baseline            -0.63452051\n",
      "residential_percent_change_from_baseline           -0.74038818\n",
      "transit_stations_percent_change_from_baseline       0.01985748\n"
     ]
    }
   ],
   "source": [
    "# Prints the PCA loadings\n",
    "print(pca$rotation)"
   ]
  },
  {
   "cell_type": "markdown",
   "metadata": {},
   "source": [
    "### **Interpretation of PCA Loadings in the Context of COVID-19 Mobility Data**\n",
    "\n",
    "#### **Understanding Principal Component Analysis (PCA) in Simple Terms**  \n",
    "Principal Component Analysis (PCA) is a technique used to simplify complex data by identifying patterns and grouping related variables. It transforms the data into new variables, called **principal components (PCs)**, which explain the most important patterns in the data. Each principal component is a combination of the original variables, and the goal is to reduce the number of variables while retaining as much information as possible.  \n",
    "\n",
    "In this case, the data we are analyzing includes mobility trends across different locations, such as how much people were visiting retail stores, working in offices, or staying home. The PCA allows us to combine these behaviors into simpler patterns (the principal components), making it easier to understand the broader trends across counties in Texas.\n",
    "\n",
    "### **PCA Loadings and Their Interpretation**  \n",
    "The PCA loadings represent how each of the original features (in this case, mobility behaviors) contributes to the new components. The values show whether a particular mobility behavior has a strong positive or negative relationship with a principal component. The higher the absolute value, the more influence that behavior has on the component.\n",
    "\n",
    "Let's go through each principal component (PC) and explain what they represent, especially in the context of COVID-19.\n",
    "\n",
    "---\n",
    "\n",
    "### **PC1 (63.52% Variance Explained): \"Work from Home vs. Public Movement\"**\n",
    "\n",
    "- **Highest Positive Contribution: Residential Mobility (+0.4891)**  \n",
    "  - **Interpretation:** People who stayed at home more often (higher residential mobility) contribute positively to PC1. During COVID-19, many individuals were confined to their homes due to lockdowns and social distancing measures. This reflects the shift in daily life where more people worked from home and limited their outdoor activities. A higher PC1 score means areas where people stayed home more often.\n",
    "  \n",
    "- **Highest Negative Contributions: Retail & Recreation (-0.4847), Workplaces (-0.4518), Transit Stations (-0.4246), Grocery & Pharmacy (-0.3762)**  \n",
    "  - **Interpretation:** The more people visited retail stores, went to work, used public transportation, or went to grocery stores, the lower their PC1 value. During the peak of the pandemic, mobility to non-essential places like stores or offices decreased significantly, as people stayed home to avoid infection. A lower PC1 score suggests that people were engaging in more outdoor or work-related activities, indicating less social distancing.  \n",
    "  - **COVID-19 Context:** PC1 may represent a contrast between residential stability (more people staying home) and more public-based activities (visiting stores, commuting to work). Areas with higher PC1 scores were likely more affected by stay-at-home measures, while areas with lower PC1 scores had higher mobility and less strict restrictions.\n",
    "\n",
    "---\n",
    "\n",
    "### **PC2 (19.53% Variance Explained): \"Work Mobility vs. Household-Related Movement\"**\n",
    "\n",
    "- **Highest Positive Contribution: Workplaces (+0.5457)**  \n",
    "  - **Interpretation:** The more people were going to work (higher workplace mobility), the higher their score on PC2. During COVID-19, many employees transitioned to remote work, and fewer people were commuting to their offices. A higher PC2 value likely represents regions where work-related travel was more common, indicating a less strict shutdown or more essential workers.\n",
    "  \n",
    "- **Highest Negative Contributions: Grocery & Pharmacy (-0.6193), Residential (-0.4392)**  \n",
    "  - **Interpretation:** When people spent more time shopping for groceries and pharmacy goods or stayed at home more (higher residential mobility), their PC2 values decreased. During the pandemic, especially in early stages, people were making essential trips for groceries and other necessities, but overall mobility for non-essential activities was limited. A lower PC2 score could indicate areas where people primarily engaged in essential activities and fewer people went to work.\n",
    "  - **COVID-19 Context:** PC2 appears to represent a divide between regions where people were primarily engaging in work-related mobility versus those focusing more on household or essential needs. Areas with higher workplace mobility (higher PC2 scores) may have been less affected by remote work trends and more dependent on essential sectors.\n",
    "\n",
    "---\n",
    "\n",
    "### **PC3 (9.87% Variance Explained): \"Transit Usage and Essential Shopping\"**\n",
    "\n",
    "- **Highest Positive Contribution: Transit Stations (+0.8572)**  \n",
    "  - **Interpretation:** Areas where people relied more on public transportation during the pandemic contributed more positively to PC3. Public transit usage significantly dropped during COVID-19, with people avoiding crowded spaces to limit exposure. Therefore, a higher PC3 value suggests areas where transit use was still relatively common.\n",
    "  \n",
    "- **Highest Negative Contribution: Grocery & Pharmacy (-0.4583)**  \n",
    "  - **Interpretation:** Areas with high grocery and pharmacy-related movement had a negative contribution to PC3, meaning they were more likely associated with reduced transit usage. Essential trips to stores and pharmacies were likely made by car rather than public transport during the pandemic, especially as people avoided crowded spaces.\n",
    "  - **COVID-19 Context:** PC3 seems to capture the reliance on transit during the pandemic. High values indicate areas where transit use was more consistent, while low values suggest that people preferred personal vehicles for essential errands, reflecting a shift in transportation behavior due to health concerns.\n",
    "\n",
    "---\n",
    "\n",
    "### **PC4 (5.52% Variance Explained): \"Recreational vs. Essential Movement\"**\n",
    "\n",
    "- **Highest Positive Contribution: Grocery & Pharmacy (+0.5123)**  \n",
    "  - **Interpretation:** PC4 seems to capture the distinction between essential (grocery/pharmacy) and recreational (retail/recreation) mobility. Areas with higher scores on PC4 likely had more movement for essential activities, such as grocery shopping, rather than for recreational purposes.\n",
    "\n",
    "- **Highest Negative Contribution: Retail & Recreation (-0.7908)**  \n",
    "  - **Interpretation:** Higher retail and recreational mobility negatively contributed to PC4. During the pandemic, recreational activities like dining out, visiting entertainment venues, or shopping for non-essential goods were limited. Thus, lower values on PC4 indicate higher non-essential activity and less focus on essential needs.\n",
    "  - **COVID-19 Context:** PC4 likely differentiates between essential (grocery) and non-essential (recreation/retail) mobility. During the pandemic, many non-essential businesses shut down or faced reduced customer traffic, which is captured by the negative loadings for retail/recreation.\n",
    "\n",
    "---\n",
    "\n",
    "### **PC5 (1.57% Variance Explained): \"Minor Variations in Mobility Patterns\"**\n",
    "\n",
    "- **Highest Positive Contribution: Grocery & Pharmacy (+0.0504)**  \n",
    "  - **Interpretation:** This component shows minor variations that are not as significant in explaining the overall mobility patterns. Grocery and pharmacy trips were slightly more prominent in this component but not as strongly as in PC4.\n",
    "\n",
    "- **Highest Negative Contributions: Workplaces (-0.6324), Residential (-0.7415)**  \n",
    "  - **Interpretation:** PC5 shows a relationship between workplace and residential mobility but only explains a very small portion of the overall variance. This suggests that changes in work-related and residential movement were less significant or consistent compared to the other principal components.\n",
    "  - **COVID-19 Context:** PC5 is not as critical for understanding the broader mobility shifts during COVID-19. It likely represents residual or less impactful patterns in workplace and residential mobility, which were somewhat stable in comparison to the larger trends captured in other components.\n",
    "\n",
    "---\n",
    "\n",
    "### **Conclusion**\n",
    "\n",
    "The PCA analysis of mobility data during COVID-19 offers valuable insights into how movement patterns were shaped by the pandemic. **PC1** highlights the balance between staying home and engaging in public activities. **PC2** contrasts work-related mobility with household-related activities, indicating where remote work was more common. **PC3** reveals transit usage, showing a shift from public transport to personal vehicles. **PC4** differentiates essential grocery trips from recreational activities, while **PC5** captures minor variations in workplace and residential mobility.  \n",
    "\n",
    "These findings help us understand how the pandemic reshaped mobility behaviors across Texas, with significant implications for both public health strategies and the economic impact of restrictions.\n"
   ]
  },
  {
   "cell_type": "code",
   "execution_count": 59,
   "metadata": {
    "vscode": {
     "languageId": "r"
    }
   },
   "outputs": [
    {
     "data": {
      "image/png": "[encoded data removed]",
      "text/plain": [
       "plot without title"
      ]
     },
     "metadata": {
      "image/png": {
       "height": 840,
       "width": 960
      }
     },
     "output_type": "display_data"
    }
   ],
   "source": [
    "# Biplot (PCA Variable Arrows)\n",
    "options(repr.plot.width = 16, repr.plot.height = 14)\n",
    "\n",
    "ggplot(biplot_data, aes(x = PC1, y = PC2, color = County)) +\n",
    "  geom_point() +\n",
    "  geom_segment(data = pca_loadings, \n",
    "               aes(x = 0, y = 0, xend = PC1, yend = PC2), \n",
    "               arrow = arrow(type = \"closed\", length = unit(0.1, \"inches\")), \n",
    "               color = \"blue\", linewidth = 1) +\n",
    "  geom_text(data = pca_loadings, \n",
    "            aes(x = PC1 * 1.3, y = PC2 * 1.3, label = Variable), \n",
    "            color = \"blue\", size = 5) +\n",
    "  labs(title = \"PCA Biplot (PC1 vs PC2)\", x = \"Principal Component 1\", y = \"Principal Component 2\") +\n",
    "  theme_minimal() +\n",
    "  coord_fixed(ratio = 1)"
   ]
  },
  {
   "cell_type": "markdown",
   "metadata": {},
   "source": [
    "### **Interpretation of the PCA Biplot**\n",
    "\n",
    "The PCA biplot provides a visual representation of the relationship between the principal components (PC1 and PC2) and the original variables. In this plot, each arrow represents a feature (such as mobility behaviors), and the direction and length of the arrow indicate how strongly that feature is related to the principal components. Here is a breakdown of the plot:\n",
    "\n",
    "#### **Key Features and Interpretations**\n",
    "\n",
    "- **PC1 (Horizontal Axis)**: This component captures the greatest amount of variance in the data. It contrasts residential mobility (time spent at home) with public mobility (commuting to work, visiting retail locations, and using transit).\n",
    "- **PC2 (Vertical Axis)**: This component captures a secondary dimension of variance, distinguishing between work-related mobility and essential versus recreational mobility.\n",
    "\n",
    "#### **Variable Contributions in the Biplot**:\n",
    "\n",
    "1. **Workplaces (`w`)**:  \n",
    "   - The arrow for workplace mobility points upwards and to the left, meaning that workplace mobility is positively associated with **PC2** and negatively associated with **PC1**.  \n",
    "   - **Interpretation**: Areas with high workplace mobility tend to have higher **PC2** values (indicating more work-related activity) and lower **PC1** values (suggesting less residential stability and fewer stay-at-home behaviors).\n",
    "\n",
    "2. **Retail and Recreation (`rr`)** and **Transit (`t`)**:\n",
    "   - Both the retail and recreation and transit arrows point diagonally downward toward the intersection of PC1 and PC2. This indicates that these features are negatively correlated with both principal components.\n",
    "   - **Interpretation**: Regions with higher retail and recreational mobility, as well as more transit use, typically show lower scores on **PC1** (more public engagement and less stay-at-home behavior) and **PC2** (indicating a focus on essential mobility rather than recreational activities). This suggests a relationship between less restrictive mobility and higher public engagement.\n",
    "\n",
    "3. **Grocery and Pharmacy (`gp`)**:\n",
    "   - The grocery and pharmacy arrow points slightly downward, toward **PC1**, indicating that this feature is most strongly associated with **PC1**.\n",
    "   - **Interpretation**: Higher mobility to grocery stores and pharmacies, which represents essential trips, correlates with higher **PC1** values. This could suggest that in regions with more essential trips, people are likely to stay at home more frequently, which was a common behavior during COVID-19 lockdowns and restrictions.\n",
    "\n",
    "4. **Residential (`r`)**:\n",
    "   - The residential mobility arrow points in the opposite direction of the workplace arrow and towards **PC1**.\n",
    "   - **Interpretation**: Residential mobility is strongly related to **PC1**. As residential mobility increases (meaning more people are staying at home), **PC1** scores increase as well. This suggests that increased time spent at home, often due to lockdown measures, is associated with higher scores on **PC1**. This contrasts with workplace and recreational mobility, which generally decreased during the pandemic.\n",
    "\n",
    "#### **Visualizing the Relationships**:\n",
    "- **Clustered Counties**: Counties that cluster together in the plot likely share similar mobility trends, such as areas with high work-related mobility versus those with more residential stability.\n",
    "- **Arrow Directions and Lengths**: Longer arrows indicate that the feature has a stronger influence on the principal components. For example, **transit stations** are particularly influential on **PC3**, while **workplaces** and **residential** mobility are major factors in **PC1** and **PC2**.\n",
    "\n",
    "#### **How These Results Reflect COVID-19 Trends**\n",
    "\n",
    "The results from the PCA biplot align well with observed trends during the COVID-19 pandemic:\n",
    "\n",
    "- **Workplaces**: During the pandemic, there was a significant reduction in workplace mobility due to lockdowns and remote work policies. The **workplaces** arrow pointing to **PC2** suggests that regions with higher work mobility had lower **PC1** values, indicating a correlation between reduced stay-at-home behaviors and more essential work activity.\n",
    "  \n",
    "- **Retail and Recreation**: These types of mobility, such as visits to shopping centers and recreational areas, were heavily restricted during the pandemic. The arrows for **retail and recreation** and **transit** pointing diagonally downwards suggest a negative correlation with both **PC1** and **PC2**, reflecting the reduction in non-essential mobility and public interactions during COVID-19 lockdowns.\n",
    "\n",
    "- **Grocery and Pharmacy**: Trips to grocery stores and pharmacies were among the few types of mobility allowed during lockdowns. The **grocery and pharmacy** arrow pointing toward **PC1** reflects that higher **PC1** values are associated with more essential trips, showing that areas with more essential mobility also had higher stay-at-home behaviors, as expected during the pandemic.\n",
    "\n",
    "- **Residential**: **Residential mobility** increased during the pandemic, as people were encouraged to stay at home. The arrow for **residential mobility** pointing in the opposite direction of **workplaces** indicates that areas with more people staying at home (higher **PC1** values) had less work-related and public mobility, aligning with the COVID-19 trend of sheltering in place.\n",
    "\n",
    "#### **Conclusion**\n",
    "The biplot accurately represents the mobility changes during the COVID-19 pandemic, highlighting the complex relationship between work, essential, and recreational mobility. It shows that **residential mobility** was associated with higher **PC1** values (more time at home), while **workplaces**, **retail**, and **transit** mobility had more variable influences on **PC2** and **PC1**, reflecting the varying restrictions and behaviors during the pandemic. This analysis provides valuable insights into how different aspects of mobility were affected by the pandemic and how they relate to the overall trend of reduced social and public engagement."
   ]
  },
  {
   "cell_type": "markdown",
   "metadata": {},
   "source": [
    "## 2.2 Covid Cases Census Data"
   ]
  },
  {
   "cell_type": "markdown",
   "metadata": {},
   "source": [
    "### **Key Questions for COVID-19 Cases Census Data**  \n",
    "\n",
    "- **Which Texas counties exhibit the highest COVID-19 infection and mortality rates per capita, and how do demographic factors (e.g., population size, income levels) correlate with these trends?**  \n",
    "    - *Why it matters:* Identifies high-risk counties to prioritize public health interventions and resource allocation.  \n",
    "    - *Key variables:* `county_name`, `state`, `confirmed_cases`, `deaths`, `total_pop`, `median_income`, `commuters_by_public_transportation`\n",
    "\n",
    "- **How do COVID-19 case rates differ between urban and rural counties, and how do socioeconomic factors (e.g., income levels, public assistance rates) influence these trends?**  \n",
    "    - *Why it matters:* Understanding these differences helps tailor health policies and support for both urban and rural areas.  \n",
    "    - *Key variables:* `county_name`, `total_pop`, `confirmed_cases`, `median_income`, `households_public_asst_or_food_stamps`  \n",
    "\n",
    "- **Which counties have the lowest per capita access to workers staying at home, and how does this relate to COVID-19 case rates?**  \n",
    "    - *Why it matters:* Helps assess the impact of workplace exposure on infection rates and informs policy on remote work feasibility.  \n",
    "    - *Key variables:* `county_name`, `confirmed_cases`, `worked_at_home`, `total_pop`  \n",
    "\n",
    "- **How do poverty and public assistance rates correlate with COVID-19 case and mortality rates across Texas counties?**  \n",
    "    - *Why it matters:* Evaluates the role of economic vulnerability in COVID-19 outcomes to inform targeted aid programs.  \n",
    "    - *Key variables:* `county_name`, `confirmed_cases`, `deaths`, `poverty_rate`, `households_public_asst_or_food_stamps`, `income_less_10000`, `income_10000_14999`, `income_15000_19999`\n"
   ]
  },
  {
   "cell_type": "markdown",
   "metadata": {},
   "source": [
    "[9 point]\n",
    "- Describe what data is available. \n",
    "- Choose 5-10 important variables for the questions you have identified in the section above. \n",
    "- Describe the type of data (scale, values, etc.) of the most critical variables in the data. \n",
    "\n"
   ]
  },
  {
   "cell_type": "code",
   "execution_count": 60,
   "metadata": {
    "vscode": {
     "languageId": "r"
    }
   },
   "outputs": [
    {
     "data": {
      "text/html": [
       "<table class=\"dataframe\">\n",
       "<caption>A spec_tbl_df: 10 × 259</caption>\n",
       "<thead>\n",
       "\t<tr><th scope=col>county_fips_code</th><th scope=col>county_name</th><th scope=col>state</th><th scope=col>state_fips_code</th><th scope=col>date</th><th scope=col>confirmed_cases</th><th scope=col>deaths</th><th scope=col>geo_id</th><th scope=col>nonfamily_households</th><th scope=col>family_households</th><th scope=col>⋯</th><th scope=col>speak_only_english_at_home</th><th scope=col>speak_spanish_at_home</th><th scope=col>speak_spanish_at_home_low_english</th><th scope=col>pop_15_and_over</th><th scope=col>pop_never_married</th><th scope=col>pop_now_married</th><th scope=col>pop_separated</th><th scope=col>pop_widowed</th><th scope=col>pop_divorced</th><th scope=col>do_date</th></tr>\n",
       "\t<tr><th scope=col>&lt;chr&gt;</th><th scope=col>&lt;chr&gt;</th><th scope=col>&lt;chr&gt;</th><th scope=col>&lt;chr&gt;</th><th scope=col>&lt;date&gt;</th><th scope=col>&lt;dbl&gt;</th><th scope=col>&lt;dbl&gt;</th><th scope=col>&lt;chr&gt;</th><th scope=col>&lt;dbl&gt;</th><th scope=col>&lt;dbl&gt;</th><th scope=col>⋯</th><th scope=col>&lt;lgl&gt;</th><th scope=col>&lt;lgl&gt;</th><th scope=col>&lt;lgl&gt;</th><th scope=col>&lt;lgl&gt;</th><th scope=col>&lt;lgl&gt;</th><th scope=col>&lt;lgl&gt;</th><th scope=col>&lt;lgl&gt;</th><th scope=col>&lt;lgl&gt;</th><th scope=col>&lt;lgl&gt;</th><th scope=col>&lt;dbl&gt;</th></tr>\n",
       "</thead>\n",
       "<tbody>\n",
       "\t<tr><td>51045</td><td>Craig County     </td><td>VA</td><td>51</td><td>2021-01-19</td><td>  189</td><td>  2</td><td>51045</td><td>  960</td><td>  1384</td><td>⋯</td><td>NA</td><td>NA</td><td>NA</td><td>NA</td><td>NA</td><td>NA</td><td>NA</td><td>NA</td><td>NA</td><td>20132017</td></tr>\n",
       "\t<tr><td>48327</td><td>Menard County    </td><td>TX</td><td>48</td><td>2021-01-19</td><td>  180</td><td>  5</td><td>48327</td><td>  382</td><td>   582</td><td>⋯</td><td>NA</td><td>NA</td><td>NA</td><td>NA</td><td>NA</td><td>NA</td><td>NA</td><td>NA</td><td>NA</td><td>20132017</td></tr>\n",
       "\t<tr><td>01061</td><td>Geneva County    </td><td>AL</td><td>01</td><td>2021-01-19</td><td> 2033</td><td> 35</td><td>01061</td><td> 3153</td><td>  7540</td><td>⋯</td><td>NA</td><td>NA</td><td>NA</td><td>NA</td><td>NA</td><td>NA</td><td>NA</td><td>NA</td><td>NA</td><td>20132017</td></tr>\n",
       "\t<tr><td>45045</td><td>Greenville County</td><td>SC</td><td>45</td><td>2021-01-19</td><td>49626</td><td>625</td><td>45045</td><td>61970</td><td>123867</td><td>⋯</td><td>NA</td><td>NA</td><td>NA</td><td>NA</td><td>NA</td><td>NA</td><td>NA</td><td>NA</td><td>NA</td><td>20132017</td></tr>\n",
       "\t<tr><td>17185</td><td>Wabash County    </td><td>IL</td><td>17</td><td>2021-01-19</td><td> 1179</td><td> 11</td><td>17185</td><td> 1701</td><td>  3214</td><td>⋯</td><td>NA</td><td>NA</td><td>NA</td><td>NA</td><td>NA</td><td>NA</td><td>NA</td><td>NA</td><td>NA</td><td>20132017</td></tr>\n",
       "\t<tr><td>20209</td><td>Wyandotte County </td><td>KS</td><td>20</td><td>2021-01-19</td><td>17419</td><td>210</td><td>20209</td><td>21455</td><td> 37900</td><td>⋯</td><td>NA</td><td>NA</td><td>NA</td><td>NA</td><td>NA</td><td>NA</td><td>NA</td><td>NA</td><td>NA</td><td>20132017</td></tr>\n",
       "\t<tr><td>48019</td><td>Bandera County   </td><td>TX</td><td>48</td><td>2021-01-19</td><td>  820</td><td> 20</td><td>48019</td><td> 2584</td><td>  5694</td><td>⋯</td><td>NA</td><td>NA</td><td>NA</td><td>NA</td><td>NA</td><td>NA</td><td>NA</td><td>NA</td><td>NA</td><td>20132017</td></tr>\n",
       "\t<tr><td>02180</td><td>Nome Census Area </td><td>AK</td><td>02</td><td>2021-01-19</td><td>  293</td><td>  0</td><td>02180</td><td>  699</td><td>  2198</td><td>⋯</td><td>NA</td><td>NA</td><td>NA</td><td>NA</td><td>NA</td><td>NA</td><td>NA</td><td>NA</td><td>NA</td><td>20132017</td></tr>\n",
       "\t<tr><td>51590</td><td>Danville City    </td><td>VA</td><td>51</td><td>2021-01-19</td><td> 3167</td><td> 63</td><td>51590</td><td> 7756</td><td> 10761</td><td>⋯</td><td>NA</td><td>NA</td><td>NA</td><td>NA</td><td>NA</td><td>NA</td><td>NA</td><td>NA</td><td>NA</td><td>20132017</td></tr>\n",
       "\t<tr><td>40035</td><td>Craig County     </td><td>OK</td><td>40</td><td>2021-01-19</td><td> 1725</td><td>  8</td><td>40035</td><td> 1744</td><td>  3669</td><td>⋯</td><td>NA</td><td>NA</td><td>NA</td><td>NA</td><td>NA</td><td>NA</td><td>NA</td><td>NA</td><td>NA</td><td>20132017</td></tr>\n",
       "</tbody>\n",
       "</table>\n"
      ],
      "text/latex": [
       "A spec\\_tbl\\_df: 10 × 259\n",
       "\\begin{tabular}{lllllllllllllllllllll}\n",
       " county\\_fips\\_code & county\\_name & state & state\\_fips\\_code & date & confirmed\\_cases & deaths & geo\\_id & nonfamily\\_households & family\\_households & ⋯ & speak\\_only\\_english\\_at\\_home & speak\\_spanish\\_at\\_home & speak\\_spanish\\_at\\_home\\_low\\_english & pop\\_15\\_and\\_over & pop\\_never\\_married & pop\\_now\\_married & pop\\_separated & pop\\_widowed & pop\\_divorced & do\\_date\\\\\n",
       " <chr> & <chr> & <chr> & <chr> & <date> & <dbl> & <dbl> & <chr> & <dbl> & <dbl> & ⋯ & <lgl> & <lgl> & <lgl> & <lgl> & <lgl> & <lgl> & <lgl> & <lgl> & <lgl> & <dbl>\\\\\n",
       "\\hline\n",
       "\t 51045 & Craig County      & VA & 51 & 2021-01-19 &   189 &   2 & 51045 &   960 &   1384 & ⋯ & NA & NA & NA & NA & NA & NA & NA & NA & NA & 20132017\\\\\n",
       "\t 48327 & Menard County     & TX & 48 & 2021-01-19 &   180 &   5 & 48327 &   382 &    582 & ⋯ & NA & NA & NA & NA & NA & NA & NA & NA & NA & 20132017\\\\\n",
       "\t 01061 & Geneva County     & AL & 01 & 2021-01-19 &  2033 &  35 & 01061 &  3153 &   7540 & ⋯ & NA & NA & NA & NA & NA & NA & NA & NA & NA & 20132017\\\\\n",
       "\t 45045 & Greenville County & SC & 45 & 2021-01-19 & 49626 & 625 & 45045 & 61970 & 123867 & ⋯ & NA & NA & NA & NA & NA & NA & NA & NA & NA & 20132017\\\\\n",
       "\t 17185 & Wabash County     & IL & 17 & 2021-01-19 &  1179 &  11 & 17185 &  1701 &   3214 & ⋯ & NA & NA & NA & NA & NA & NA & NA & NA & NA & 20132017\\\\\n",
       "\t 20209 & Wyandotte County  & KS & 20 & 2021-01-19 & 17419 & 210 & 20209 & 21455 &  37900 & ⋯ & NA & NA & NA & NA & NA & NA & NA & NA & NA & 20132017\\\\\n",
       "\t 48019 & Bandera County    & TX & 48 & 2021-01-19 &   820 &  20 & 48019 &  2584 &   5694 & ⋯ & NA & NA & NA & NA & NA & NA & NA & NA & NA & 20132017\\\\\n",
       "\t 02180 & Nome Census Area  & AK & 02 & 2021-01-19 &   293 &   0 & 02180 &   699 &   2198 & ⋯ & NA & NA & NA & NA & NA & NA & NA & NA & NA & 20132017\\\\\n",
       "\t 51590 & Danville City     & VA & 51 & 2021-01-19 &  3167 &  63 & 51590 &  7756 &  10761 & ⋯ & NA & NA & NA & NA & NA & NA & NA & NA & NA & 20132017\\\\\n",
       "\t 40035 & Craig County      & OK & 40 & 2021-01-19 &  1725 &   8 & 40035 &  1744 &   3669 & ⋯ & NA & NA & NA & NA & NA & NA & NA & NA & NA & 20132017\\\\\n",
       "\\end{tabular}\n"
      ],
      "text/markdown": [
       "\n",
       "A spec_tbl_df: 10 × 259\n",
       "\n",
       "| county_fips_code &lt;chr&gt; | county_name &lt;chr&gt; | state &lt;chr&gt; | state_fips_code &lt;chr&gt; | date &lt;date&gt; | confirmed_cases &lt;dbl&gt; | deaths &lt;dbl&gt; | geo_id &lt;chr&gt; | nonfamily_households &lt;dbl&gt; | family_households &lt;dbl&gt; | ⋯ ⋯ | speak_only_english_at_home &lt;lgl&gt; | speak_spanish_at_home &lt;lgl&gt; | speak_spanish_at_home_low_english &lt;lgl&gt; | pop_15_and_over &lt;lgl&gt; | pop_never_married &lt;lgl&gt; | pop_now_married &lt;lgl&gt; | pop_separated &lt;lgl&gt; | pop_widowed &lt;lgl&gt; | pop_divorced &lt;lgl&gt; | do_date &lt;dbl&gt; |\n",
       "|---|---|---|---|---|---|---|---|---|---|---|---|---|---|---|---|---|---|---|---|---|\n",
       "| 51045 | Craig County      | VA | 51 | 2021-01-19 |   189 |   2 | 51045 |   960 |   1384 | ⋯ | NA | NA | NA | NA | NA | NA | NA | NA | NA | 20132017 |\n",
       "| 48327 | Menard County     | TX | 48 | 2021-01-19 |   180 |   5 | 48327 |   382 |    582 | ⋯ | NA | NA | NA | NA | NA | NA | NA | NA | NA | 20132017 |\n",
       "| 01061 | Geneva County     | AL | 01 | 2021-01-19 |  2033 |  35 | 01061 |  3153 |   7540 | ⋯ | NA | NA | NA | NA | NA | NA | NA | NA | NA | 20132017 |\n",
       "| 45045 | Greenville County | SC | 45 | 2021-01-19 | 49626 | 625 | 45045 | 61970 | 123867 | ⋯ | NA | NA | NA | NA | NA | NA | NA | NA | NA | 20132017 |\n",
       "| 17185 | Wabash County     | IL | 17 | 2021-01-19 |  1179 |  11 | 17185 |  1701 |   3214 | ⋯ | NA | NA | NA | NA | NA | NA | NA | NA | NA | 20132017 |\n",
       "| 20209 | Wyandotte County  | KS | 20 | 2021-01-19 | 17419 | 210 | 20209 | 21455 |  37900 | ⋯ | NA | NA | NA | NA | NA | NA | NA | NA | NA | 20132017 |\n",
       "| 48019 | Bandera County    | TX | 48 | 2021-01-19 |   820 |  20 | 48019 |  2584 |   5694 | ⋯ | NA | NA | NA | NA | NA | NA | NA | NA | NA | 20132017 |\n",
       "| 02180 | Nome Census Area  | AK | 02 | 2021-01-19 |   293 |   0 | 02180 |   699 |   2198 | ⋯ | NA | NA | NA | NA | NA | NA | NA | NA | NA | 20132017 |\n",
       "| 51590 | Danville City     | VA | 51 | 2021-01-19 |  3167 |  63 | 51590 |  7756 |  10761 | ⋯ | NA | NA | NA | NA | NA | NA | NA | NA | NA | 20132017 |\n",
       "| 40035 | Craig County      | OK | 40 | 2021-01-19 |  1725 |   8 | 40035 |  1744 |   3669 | ⋯ | NA | NA | NA | NA | NA | NA | NA | NA | NA | 20132017 |\n",
       "\n"
      ],
      "text/plain": [
       "   county_fips_code county_name       state state_fips_code date      \n",
       "1  51045            Craig County      VA    51              2021-01-19\n",
       "2  48327            Menard County     TX    48              2021-01-19\n",
       "3  01061            Geneva County     AL    01              2021-01-19\n",
       "4  45045            Greenville County SC    45              2021-01-19\n",
       "5  17185            Wabash County     IL    17              2021-01-19\n",
       "6  20209            Wyandotte County  KS    20              2021-01-19\n",
       "7  48019            Bandera County    TX    48              2021-01-19\n",
       "8  02180            Nome Census Area  AK    02              2021-01-19\n",
       "9  51590            Danville City     VA    51              2021-01-19\n",
       "10 40035            Craig County      OK    40              2021-01-19\n",
       "   confirmed_cases deaths geo_id nonfamily_households family_households ⋯\n",
       "1    189             2    51045    960                  1384            ⋯\n",
       "2    180             5    48327    382                   582            ⋯\n",
       "3   2033            35    01061   3153                  7540            ⋯\n",
       "4  49626           625    45045  61970                123867            ⋯\n",
       "5   1179            11    17185   1701                  3214            ⋯\n",
       "6  17419           210    20209  21455                 37900            ⋯\n",
       "7    820            20    48019   2584                  5694            ⋯\n",
       "8    293             0    02180    699                  2198            ⋯\n",
       "9   3167            63    51590   7756                 10761            ⋯\n",
       "10  1725             8    40035   1744                  3669            ⋯\n",
       "   speak_only_english_at_home speak_spanish_at_home\n",
       "1  NA                         NA                   \n",
       "2  NA                         NA                   \n",
       "3  NA                         NA                   \n",
       "4  NA                         NA                   \n",
       "5  NA                         NA                   \n",
       "6  NA                         NA                   \n",
       "7  NA                         NA                   \n",
       "8  NA                         NA                   \n",
       "9  NA                         NA                   \n",
       "10 NA                         NA                   \n",
       "   speak_spanish_at_home_low_english pop_15_and_over pop_never_married\n",
       "1  NA                                NA              NA               \n",
       "2  NA                                NA              NA               \n",
       "3  NA                                NA              NA               \n",
       "4  NA                                NA              NA               \n",
       "5  NA                                NA              NA               \n",
       "6  NA                                NA              NA               \n",
       "7  NA                                NA              NA               \n",
       "8  NA                                NA              NA               \n",
       "9  NA                                NA              NA               \n",
       "10 NA                                NA              NA               \n",
       "   pop_now_married pop_separated pop_widowed pop_divorced do_date \n",
       "1  NA              NA            NA          NA           20132017\n",
       "2  NA              NA            NA          NA           20132017\n",
       "3  NA              NA            NA          NA           20132017\n",
       "4  NA              NA            NA          NA           20132017\n",
       "5  NA              NA            NA          NA           20132017\n",
       "6  NA              NA            NA          NA           20132017\n",
       "7  NA              NA            NA          NA           20132017\n",
       "8  NA              NA            NA          NA           20132017\n",
       "9  NA              NA            NA          NA           20132017\n",
       "10 NA              NA            NA          NA           20132017"
      ]
     },
     "metadata": {},
     "output_type": "display_data"
    }
   ],
   "source": [
    "# Randomly display 10 rows\n",
    "covid_cases_census %>%\n",
    "  sample_n(10)"
   ]
  },
  {
   "cell_type": "code",
   "execution_count": 61,
   "metadata": {
    "vscode": {
     "languageId": "r"
    }
   },
   "outputs": [
    {
     "name": "stdout",
     "output_type": "stream",
     "text": [
      "spc_tbl_ [3,142 × 259] (S3: spec_tbl_df/tbl_df/tbl/data.frame)\n",
      " $ county_fips_code                                              : chr [1:3142] \"50009\" \"50007\" \"10001\" \"44009\" ...\n",
      " $ county_name                                                   : chr [1:3142] \"Essex County\" \"Chittenden County\" \"Kent County\" \"Washington County\" ...\n",
      " $ state                                                         : chr [1:3142] \"VT\" \"VT\" \"DE\" \"RI\" ...\n",
      " $ state_fips_code                                               : chr [1:3142] \"50\" \"50\" \"10\" \"44\" ...\n",
      " $ date                                                          : Date[1:3142], format: \"2021-01-19\" \"2021-01-19\" ...\n",
      " $ confirmed_cases                                               : num [1:3142] 111 3636 11548 5521 2496 ...\n",
      " $ deaths                                                        : num [1:3142] 0 78 187 122 79 6 1 125 5 4 ...\n",
      " $ geo_id                                                        : chr [1:3142] \"50009\" \"50007\" \"10001\" \"44009\" ...\n",
      " $ nonfamily_households                                          : num [1:3142] 994 27549 19148 16912 8260 ...\n",
      " $ family_households                                             : num [1:3142] 1726 37357 44233 32696 16319 ...\n",
      " $ median_year_structure_built                                   : num [1:3142] 1973 1978 1991 1974 1977 ...\n",
      " $ rent_burden_not_computed                                      : num [1:3142] 64 1158 1358 1312 398 ...\n",
      " $ rent_over_50_percent                                          : num [1:3142] 97 6620 4408 3429 1351 ...\n",
      " $ rent_40_to_50_percent                                         : num [1:3142] 67 2083 1904 960 441 ...\n",
      " $ rent_35_to_40_percent                                         : num [1:3142] 16 1616 1397 723 375 ...\n",
      " $ rent_30_to_35_percent                                         : num [1:3142] 54 2362 1719 911 444 ...\n",
      " $ rent_25_to_30_percent                                         : num [1:3142] 49 2750 2238 1705 773 ...\n",
      " $ rent_20_to_25_percent                                         : num [1:3142] 96 3422 2186 1443 762 ...\n",
      " $ rent_15_to_20_percent                                         : num [1:3142] 75 2258 2266 1262 832 ...\n",
      " $ rent_10_to_15_percent                                         : num [1:3142] 30 1331 1206 1253 399 ...\n",
      " $ rent_under_10_percent                                         : num [1:3142] 24 326 567 253 185 649 60 341 159 159 ...\n",
      " $ total_pop                                                     : num [1:3142] 6203 160985 173145 126190 60383 ...\n",
      " $ male_pop                                                      : num [1:3142] 3135 78928 83544 61154 29705 ...\n",
      " $ female_pop                                                    : num [1:3142] 3068 82057 89601 65036 30678 ...\n",
      " $ median_age                                                    : num [1:3142] 50 36.6 37.3 44.1 46.7 44.6 40.5 37.9 43.4 43.7 ...\n",
      " $ white_pop                                                     : num [1:3142] 5929 143657 108627 115206 57523 ...\n",
      " $ black_pop                                                     : num [1:3142] 64 4091 41729 1621 285 ...\n",
      " $ asian_pop                                                     : num [1:3142] 32 6144 3459 2436 579 ...\n",
      " $ hispanic_pop                                                  : num [1:3142] 83 3542 11820 3769 951 ...\n",
      " $ amerindian_pop                                                : num [1:3142] 20 374 967 1047 130 ...\n",
      " $ other_race_pop                                                : num [1:3142] 6 240 377 260 65 159 0 336 57 9 ...\n",
      " $ two_or_more_races_pop                                         : num [1:3142] 69 2892 6121 1760 834 ...\n",
      " $ not_hispanic_pop                                              : num [1:3142] 6120 157443 161325 122421 59432 ...\n",
      " $ commuters_by_public_transportation                            : num [1:3142] 4 2336 903 702 11 ...\n",
      " $ households                                                    : num [1:3142] 2720 64906 63381 49608 24579 ...\n",
      " $ median_income                                                 : num [1:3142] 38767 66906 57647 77862 65834 ...\n",
      " $ income_per_capita                                             : num [1:3142] 23022 36384 27420 39568 33849 ...\n",
      " $ housing_units                                                 : num [1:3142] 5125 68453 69506 63450 38148 ...\n",
      " $ vacant_housing_units                                          : num [1:3142] 2405 3547 6125 13842 13569 ...\n",
      " $ vacant_housing_units_for_rent                                 : num [1:3142] 34 470 1005 412 290 ...\n",
      " $ vacant_housing_units_for_sale                                 : num [1:3142] 31 253 1113 597 512 ...\n",
      " $ median_rent                                                   : num [1:3142] 595 1068 833 938 824 ...\n",
      " $ percent_income_spent_on_rent                                  : num [1:3142] 28 32.7 31.4 30.3 28.9 28.8 29.1 30.5 28 30.4 ...\n",
      " $ owner_occupied_housing_units                                  : num [1:3142] 2148 40980 44132 36357 18619 ...\n",
      " $ million_dollar_housing_units                                  : num [1:3142] 0 275 76 594 323 756 135 149 81 38 ...\n",
      " $ mortgaged_housing_units                                       : num [1:3142] 1084 28210 29247 24856 11806 ...\n",
      " $ families_with_young_children                                  : num [1:3142] 327 9127 12768 5534 3127 ...\n",
      " $ two_parent_families_with_young_children                       : num [1:3142] 159 6866 7373 4306 1769 ...\n",
      " $ two_parents_in_labor_force_families_with_young_children       : num [1:3142] 99 4588 4557 2841 1291 ...\n",
      " $ two_parents_father_in_labor_force_families_with_young_children: num [1:3142] 58 2077 2495 1258 429 ...\n",
      " $ two_parents_mother_in_labor_force_families_with_young_children: num [1:3142] 2 139 226 97 41 217 46 54 4 23 ...\n",
      " $ two_parents_not_in_labor_force_families_with_young_children   : num [1:3142] 0 62 95 110 8 30 2 49 17 22 ...\n",
      " $ one_parent_families_with_young_children                       : num [1:3142] 168 2261 5395 1228 1358 ...\n",
      " $ father_one_parent_families_with_young_children                : num [1:3142] 62 561 890 290 332 126 141 404 84 242 ...\n",
      " $ father_in_labor_force_one_parent_families_with_young_children : num [1:3142] 58 546 813 237 319 105 135 326 74 72 ...\n",
      " $ commute_10_14_mins                                            : num [1:3142] 347 13876 12595 7626 4264 ...\n",
      " $ commute_15_19_mins                                            : num [1:3142] 265 16251 12523 7676 3913 ...\n",
      " $ commute_20_24_mins                                            : num [1:3142] 375 14270 10373 8756 3409 ...\n",
      " $ commute_25_29_mins                                            : num [1:3142] 180 6578 3900 3692 1435 ...\n",
      " $ commute_30_34_mins                                            : num [1:3142] 281 10318 7839 8437 3536 ...\n",
      " $ commute_45_59_mins                                            : num [1:3142] 256 3539 5923 5080 2705 ...\n",
      " $ aggregate_travel_time_to_work                                 : num [1:3142] 65350 1763730 1975260 1551355 756695 ...\n",
      " $ income_less_10000                                             : num [1:3142] 208 3080 3732 2337 1121 ...\n",
      " $ income_10000_14999                                            : num [1:3142] 224 2755 2763 2057 796 ...\n",
      " $ income_15000_19999                                            : num [1:3142] 241 2825 2838 1642 1342 ...\n",
      " $ income_20000_24999                                            : num [1:3142] 199 2736 3037 2025 947 ...\n",
      " $ income_25000_29999                                            : num [1:3142] 161 2371 2900 1515 990 ...\n",
      " $ income_30000_34999                                            : num [1:3142] 195 2716 3967 1565 1144 ...\n",
      " $ income_35000_39999                                            : num [1:3142] 169 2554 2933 2116 1071 ...\n",
      " $ income_40000_44999                                            : num [1:3142] 139 2923 3054 1563 1006 ...\n",
      " $ income_45000_49999                                            : num [1:3142] 114 2224 2435 1514 948 ...\n",
      " $ income_50000_59999                                            : num [1:3142] 199 4915 5514 3103 2017 ...\n",
      " $ income_60000_74999                                            : num [1:3142] 301 6479 7464 4581 2510 ...\n",
      " $ income_75000_99999                                            : num [1:3142] 302 8924 8768 6520 3945 ...\n",
      " $ income_100000_124999                                          : num [1:3142] 144 6929 5489 5778 2654 ...\n",
      " $ income_125000_149999                                          : num [1:3142] 49 4686 3215 4175 1232 ...\n",
      " $ income_150000_199999                                          : num [1:3142] 52 4191 3169 4558 1615 ...\n",
      " $ income_200000_or_more                                         : num [1:3142] 23 4598 2103 4559 1241 ...\n",
      " $ renter_occupied_housing_units_paying_cash_median_gross_rent   : num [1:3142] 688 1186 1030 1086 933 ...\n",
      " $ owner_occupied_housing_units_lower_value_quartile             : num [1:3142] 83300 209500 145400 239500 151600 ...\n",
      " $ owner_occupied_housing_units_median_value                     : num [1:3142] 128900 280000 205800 320600 220400 ...\n",
      " $ owner_occupied_housing_units_upper_value_quartile             : num [1:3142] 197900 384000 277300 431600 319000 ...\n",
      " $ married_households                                            : num [1:3142] 1362 30000 31088 26684 13162 ...\n",
      " $ occupied_housing_units                                        : num [1:3142] 2720 64906 63381 49608 24579 ...\n",
      " $ housing_units_renter_occupied                                 : num [1:3142] 572 23926 19249 13251 5960 ...\n",
      " $ dwellings_1_units_detached                                    : num [1:3142] 4283 35228 46344 48406 27460 ...\n",
      " $ dwellings_1_units_attached                                    : num [1:3142] 9 5904 5944 2231 1331 ...\n",
      " $ dwellings_2_units                                             : num [1:3142] 134 4949 852 3368 1614 ...\n",
      " $ dwellings_3_to_4_units                                        : num [1:3142] 95 6624 1056 2950 1675 ...\n",
      " $ dwellings_5_to_9_units                                        : num [1:3142] 117 4758 1729 1481 1400 ...\n",
      " $ dwellings_10_to_19_units                                      : num [1:3142] 6 1876 3119 1314 614 ...\n",
      " $ dwellings_20_to_49_units                                      : num [1:3142] 28 3467 1075 985 637 ...\n",
      " $ dwellings_50_or_more_units                                    : num [1:3142] 0 2694 745 1137 360 ...\n",
      " $ mobile_homes                                                  : num [1:3142] 453 2945 8572 1544 3057 ...\n",
      " $ housing_built_2005_or_later                                   : num [1:3142] 25 688 1033 323 275 ...\n",
      " $ housing_built_2000_to_2004                                    : num [1:3142] 67 2021 3708 849 449 ...\n",
      " $ housing_built_1939_or_earlier                                 : num [1:3142] 208 2046 1776 3099 1641 ...\n",
      " $ male_under_5                                                  : num [1:3142] 143 4049 5613 2424 1357 ...\n",
      " $ male_5_to_9                                                   : num [1:3142] 168 4214 5369 2919 1788 ...\n",
      "  [list output truncated]\n",
      " - attr(*, \"spec\")=\n",
      "  .. cols(\n",
      "  ..   county_fips_code = \u001b[31mcol_character()\u001b[39m,\n",
      "  ..   county_name = \u001b[31mcol_character()\u001b[39m,\n",
      "  ..   state = \u001b[31mcol_character()\u001b[39m,\n",
      "  ..   state_fips_code = \u001b[31mcol_character()\u001b[39m,\n",
      "  ..   date = \u001b[34mcol_date(format = \"\")\u001b[39m,\n",
      "  ..   confirmed_cases = \u001b[32mcol_double()\u001b[39m,\n",
      "  ..   deaths = \u001b[32mcol_double()\u001b[39m,\n",
      "  ..   geo_id = \u001b[31mcol_character()\u001b[39m,\n",
      "  ..   nonfamily_households = \u001b[32mcol_double()\u001b[39m,\n",
      "  ..   family_households = \u001b[32mcol_double()\u001b[39m,\n",
      "  ..   median_year_structure_built = \u001b[32mcol_double()\u001b[39m,\n",
      "  ..   rent_burden_not_computed = \u001b[32mcol_double()\u001b[39m,\n",
      "  ..   rent_over_50_percent = \u001b[32mcol_double()\u001b[39m,\n",
      "  ..   rent_40_to_50_percent = \u001b[32mcol_double()\u001b[39m,\n",
      "  ..   rent_35_to_40_percent = \u001b[32mcol_double()\u001b[39m,\n",
      "  ..   rent_30_to_35_percent = \u001b[32mcol_double()\u001b[39m,\n",
      "  ..   rent_25_to_30_percent = \u001b[32mcol_double()\u001b[39m,\n",
      "  ..   rent_20_to_25_percent = \u001b[32mcol_double()\u001b[39m,\n",
      "  ..   rent_15_to_20_percent = \u001b[32mcol_double()\u001b[39m,\n",
      "  ..   rent_10_to_15_percent = \u001b[32mcol_double()\u001b[39m,\n",
      "  ..   rent_under_10_percent = \u001b[32mcol_double()\u001b[39m,\n",
      "  ..   total_pop = \u001b[32mcol_double()\u001b[39m,\n",
      "  ..   male_pop = \u001b[32mcol_double()\u001b[39m,\n",
      "  ..   female_pop = \u001b[32mcol_double()\u001b[39m,\n",
      "  ..   median_age = \u001b[32mcol_double()\u001b[39m,\n",
      "  ..   white_pop = \u001b[32mcol_double()\u001b[39m,\n",
      "  ..   black_pop = \u001b[32mcol_double()\u001b[39m,\n",
      "  ..   asian_pop = \u001b[32mcol_double()\u001b[39m,\n",
      "  ..   hispanic_pop = \u001b[32mcol_double()\u001b[39m,\n",
      "  ..   amerindian_pop = \u001b[32mcol_double()\u001b[39m,\n",
      "  ..   other_race_pop = \u001b[32mcol_double()\u001b[39m,\n",
      "  ..   two_or_more_races_pop = \u001b[32mcol_double()\u001b[39m,\n",
      "  ..   not_hispanic_pop = \u001b[32mcol_double()\u001b[39m,\n",
      "  ..   commuters_by_public_transportation = \u001b[32mcol_double()\u001b[39m,\n",
      "  ..   households = \u001b[32mcol_double()\u001b[39m,\n",
      "  ..   median_income = \u001b[32mcol_double()\u001b[39m,\n",
      "  ..   income_per_capita = \u001b[32mcol_double()\u001b[39m,\n",
      "  ..   housing_units = \u001b[32mcol_double()\u001b[39m,\n",
      "  ..   vacant_housing_units = \u001b[32mcol_double()\u001b[39m,\n",
      "  ..   vacant_housing_units_for_rent = \u001b[32mcol_double()\u001b[39m,\n",
      "  ..   vacant_housing_units_for_sale = \u001b[32mcol_double()\u001b[39m,\n",
      "  ..   median_rent = \u001b[32mcol_double()\u001b[39m,\n",
      "  ..   percent_income_spent_on_rent = \u001b[32mcol_double()\u001b[39m,\n",
      "  ..   owner_occupied_housing_units = \u001b[32mcol_double()\u001b[39m,\n",
      "  ..   million_dollar_housing_units = \u001b[32mcol_double()\u001b[39m,\n",
      "  ..   mortgaged_housing_units = \u001b[32mcol_double()\u001b[39m,\n",
      "  ..   families_with_young_children = \u001b[32mcol_double()\u001b[39m,\n",
      "  ..   two_parent_families_with_young_children = \u001b[32mcol_double()\u001b[39m,\n",
      "  ..   two_parents_in_labor_force_families_with_young_children = \u001b[32mcol_double()\u001b[39m,\n",
      "  ..   two_parents_father_in_labor_force_families_with_young_children = \u001b[32mcol_double()\u001b[39m,\n",
      "  ..   two_parents_mother_in_labor_force_families_with_young_children = \u001b[32mcol_double()\u001b[39m,\n",
      "  ..   two_parents_not_in_labor_force_families_with_young_children = \u001b[32mcol_double()\u001b[39m,\n",
      "  ..   one_parent_families_with_young_children = \u001b[32mcol_double()\u001b[39m,\n",
      "  ..   father_one_parent_families_with_young_children = \u001b[32mcol_double()\u001b[39m,\n",
      "  ..   father_in_labor_force_one_parent_families_with_young_children = \u001b[32mcol_double()\u001b[39m,\n",
      "  ..   commute_10_14_mins = \u001b[32mcol_double()\u001b[39m,\n",
      "  ..   commute_15_19_mins = \u001b[32mcol_double()\u001b[39m,\n",
      "  ..   commute_20_24_mins = \u001b[32mcol_double()\u001b[39m,\n",
      "  ..   commute_25_29_mins = \u001b[32mcol_double()\u001b[39m,\n",
      "  ..   commute_30_34_mins = \u001b[32mcol_double()\u001b[39m,\n",
      "  ..   commute_45_59_mins = \u001b[32mcol_double()\u001b[39m,\n",
      "  ..   aggregate_travel_time_to_work = \u001b[32mcol_double()\u001b[39m,\n",
      "  ..   income_less_10000 = \u001b[32mcol_double()\u001b[39m,\n",
      "  ..   income_10000_14999 = \u001b[32mcol_double()\u001b[39m,\n",
      "  ..   income_15000_19999 = \u001b[32mcol_double()\u001b[39m,\n",
      "  ..   income_20000_24999 = \u001b[32mcol_double()\u001b[39m,\n",
      "  ..   income_25000_29999 = \u001b[32mcol_double()\u001b[39m,\n",
      "  ..   income_30000_34999 = \u001b[32mcol_double()\u001b[39m,\n",
      "  ..   income_35000_39999 = \u001b[32mcol_double()\u001b[39m,\n",
      "  ..   income_40000_44999 = \u001b[32mcol_double()\u001b[39m,\n",
      "  ..   income_45000_49999 = \u001b[32mcol_double()\u001b[39m,\n",
      "  ..   income_50000_59999 = \u001b[32mcol_double()\u001b[39m,\n",
      "  ..   income_60000_74999 = \u001b[32mcol_double()\u001b[39m,\n",
      "  ..   income_75000_99999 = \u001b[32mcol_double()\u001b[39m,\n",
      "  ..   income_100000_124999 = \u001b[32mcol_double()\u001b[39m,\n",
      "  ..   income_125000_149999 = \u001b[32mcol_double()\u001b[39m,\n",
      "  ..   income_150000_199999 = \u001b[32mcol_double()\u001b[39m,\n",
      "  ..   income_200000_or_more = \u001b[32mcol_double()\u001b[39m,\n",
      "  ..   renter_occupied_housing_units_paying_cash_median_gross_rent = \u001b[32mcol_double()\u001b[39m,\n",
      "  ..   owner_occupied_housing_units_lower_value_quartile = \u001b[32mcol_double()\u001b[39m,\n",
      "  ..   owner_occupied_housing_units_median_value = \u001b[32mcol_double()\u001b[39m,\n",
      "  ..   owner_occupied_housing_units_upper_value_quartile = \u001b[32mcol_double()\u001b[39m,\n",
      "  ..   married_households = \u001b[32mcol_double()\u001b[39m,\n",
      "  ..   occupied_housing_units = \u001b[32mcol_double()\u001b[39m,\n",
      "  ..   housing_units_renter_occupied = \u001b[32mcol_double()\u001b[39m,\n",
      "  ..   dwellings_1_units_detached = \u001b[32mcol_double()\u001b[39m,\n",
      "  ..   dwellings_1_units_attached = \u001b[32mcol_double()\u001b[39m,\n",
      "  ..   dwellings_2_units = \u001b[32mcol_double()\u001b[39m,\n",
      "  ..   dwellings_3_to_4_units = \u001b[32mcol_double()\u001b[39m,\n",
      "  ..   dwellings_5_to_9_units = \u001b[32mcol_double()\u001b[39m,\n",
      "  ..   dwellings_10_to_19_units = \u001b[32mcol_double()\u001b[39m,\n",
      "  ..   dwellings_20_to_49_units = \u001b[32mcol_double()\u001b[39m,\n",
      "  ..   dwellings_50_or_more_units = \u001b[32mcol_double()\u001b[39m,\n",
      "  ..   mobile_homes = \u001b[32mcol_double()\u001b[39m,\n",
      "  ..   housing_built_2005_or_later = \u001b[32mcol_double()\u001b[39m,\n",
      "  ..   housing_built_2000_to_2004 = \u001b[32mcol_double()\u001b[39m,\n",
      "  ..   housing_built_1939_or_earlier = \u001b[32mcol_double()\u001b[39m,\n",
      "  ..   male_under_5 = \u001b[32mcol_double()\u001b[39m,\n",
      "  ..   male_5_to_9 = \u001b[32mcol_double()\u001b[39m,\n",
      "  ..   male_10_to_14 = \u001b[32mcol_double()\u001b[39m,\n",
      "  ..   male_15_to_17 = \u001b[32mcol_double()\u001b[39m,\n",
      "  ..   male_18_to_19 = \u001b[32mcol_double()\u001b[39m,\n",
      "  ..   male_20 = \u001b[32mcol_double()\u001b[39m,\n",
      "  ..   male_21 = \u001b[32mcol_double()\u001b[39m,\n",
      "  ..   male_22_to_24 = \u001b[32mcol_double()\u001b[39m,\n",
      "  ..   male_25_to_29 = \u001b[32mcol_double()\u001b[39m,\n",
      "  ..   male_30_to_34 = \u001b[32mcol_double()\u001b[39m,\n",
      "  ..   male_35_to_39 = \u001b[32mcol_double()\u001b[39m,\n",
      "  ..   male_40_to_44 = \u001b[32mcol_double()\u001b[39m,\n",
      "  ..   male_45_to_49 = \u001b[32mcol_double()\u001b[39m,\n",
      "  ..   male_50_to_54 = \u001b[32mcol_double()\u001b[39m,\n",
      "  ..   male_55_to_59 = \u001b[32mcol_double()\u001b[39m,\n",
      "  ..   male_60_61 = \u001b[32mcol_double()\u001b[39m,\n",
      "  ..   male_62_64 = \u001b[32mcol_double()\u001b[39m,\n",
      "  ..   male_65_to_66 = \u001b[32mcol_double()\u001b[39m,\n",
      "  ..   male_67_to_69 = \u001b[32mcol_double()\u001b[39m,\n",
      "  ..   male_70_to_74 = \u001b[32mcol_double()\u001b[39m,\n",
      "  ..   male_75_to_79 = \u001b[32mcol_double()\u001b[39m,\n",
      "  ..   male_80_to_84 = \u001b[32mcol_double()\u001b[39m,\n",
      "  ..   male_85_and_over = \u001b[32mcol_double()\u001b[39m,\n",
      "  ..   female_under_5 = \u001b[32mcol_double()\u001b[39m,\n",
      "  ..   female_5_to_9 = \u001b[32mcol_double()\u001b[39m,\n",
      "  ..   female_10_to_14 = \u001b[32mcol_double()\u001b[39m,\n",
      "  ..   female_15_to_17 = \u001b[32mcol_double()\u001b[39m,\n",
      "  ..   female_18_to_19 = \u001b[32mcol_double()\u001b[39m,\n",
      "  ..   female_20 = \u001b[32mcol_double()\u001b[39m,\n",
      "  ..   female_21 = \u001b[32mcol_double()\u001b[39m,\n",
      "  ..   female_22_to_24 = \u001b[32mcol_double()\u001b[39m,\n",
      "  ..   female_25_to_29 = \u001b[32mcol_double()\u001b[39m,\n",
      "  ..   female_30_to_34 = \u001b[32mcol_double()\u001b[39m,\n",
      "  ..   female_35_to_39 = \u001b[32mcol_double()\u001b[39m,\n",
      "  ..   female_40_to_44 = \u001b[32mcol_double()\u001b[39m,\n",
      "  ..   female_45_to_49 = \u001b[32mcol_double()\u001b[39m,\n",
      "  ..   female_50_to_54 = \u001b[32mcol_double()\u001b[39m,\n",
      "  ..   female_55_to_59 = \u001b[32mcol_double()\u001b[39m,\n",
      "  ..   female_60_to_61 = \u001b[32mcol_double()\u001b[39m,\n",
      "  ..   female_62_to_64 = \u001b[32mcol_double()\u001b[39m,\n",
      "  ..   female_65_to_66 = \u001b[32mcol_double()\u001b[39m,\n",
      "  ..   female_67_to_69 = \u001b[32mcol_double()\u001b[39m,\n",
      "  ..   female_70_to_74 = \u001b[32mcol_double()\u001b[39m,\n",
      "  ..   female_75_to_79 = \u001b[32mcol_double()\u001b[39m,\n",
      "  ..   female_80_to_84 = \u001b[32mcol_double()\u001b[39m,\n",
      "  ..   female_85_and_over = \u001b[32mcol_double()\u001b[39m,\n",
      "  ..   white_including_hispanic = \u001b[32mcol_double()\u001b[39m,\n",
      "  ..   black_including_hispanic = \u001b[32mcol_double()\u001b[39m,\n",
      "  ..   amerindian_including_hispanic = \u001b[32mcol_double()\u001b[39m,\n",
      "  ..   asian_including_hispanic = \u001b[32mcol_double()\u001b[39m,\n",
      "  ..   commute_5_9_mins = \u001b[32mcol_double()\u001b[39m,\n",
      "  ..   commute_35_39_mins = \u001b[32mcol_double()\u001b[39m,\n",
      "  ..   commute_40_44_mins = \u001b[32mcol_double()\u001b[39m,\n",
      "  ..   commute_60_89_mins = \u001b[32mcol_double()\u001b[39m,\n",
      "  ..   commute_90_more_mins = \u001b[32mcol_double()\u001b[39m,\n",
      "  ..   households_retirement_income = \u001b[32mcol_double()\u001b[39m,\n",
      "  ..   armed_forces = \u001b[32mcol_double()\u001b[39m,\n",
      "  ..   civilian_labor_force = \u001b[32mcol_double()\u001b[39m,\n",
      "  ..   employed_pop = \u001b[32mcol_double()\u001b[39m,\n",
      "  ..   unemployed_pop = \u001b[32mcol_double()\u001b[39m,\n",
      "  ..   not_in_labor_force = \u001b[32mcol_double()\u001b[39m,\n",
      "  ..   pop_16_over = \u001b[32mcol_double()\u001b[39m,\n",
      "  ..   pop_in_labor_force = \u001b[32mcol_double()\u001b[39m,\n",
      "  ..   asian_male_45_54 = \u001b[32mcol_double()\u001b[39m,\n",
      "  ..   asian_male_55_64 = \u001b[32mcol_double()\u001b[39m,\n",
      "  ..   black_male_45_54 = \u001b[32mcol_double()\u001b[39m,\n",
      "  ..   black_male_55_64 = \u001b[32mcol_double()\u001b[39m,\n",
      "  ..   hispanic_male_45_54 = \u001b[32mcol_double()\u001b[39m,\n",
      "  ..   hispanic_male_55_64 = \u001b[32mcol_double()\u001b[39m,\n",
      "  ..   white_male_45_54 = \u001b[32mcol_double()\u001b[39m,\n",
      "  ..   white_male_55_64 = \u001b[32mcol_double()\u001b[39m,\n",
      "  ..   bachelors_degree_2 = \u001b[32mcol_double()\u001b[39m,\n",
      "  ..   bachelors_degree_or_higher_25_64 = \u001b[32mcol_double()\u001b[39m,\n",
      "  ..   children = \u001b[32mcol_double()\u001b[39m,\n",
      "  ..   children_in_single_female_hh = \u001b[32mcol_double()\u001b[39m,\n",
      "  ..   commuters_by_bus = \u001b[32mcol_double()\u001b[39m,\n",
      "  ..   commuters_by_car_truck_van = \u001b[32mcol_double()\u001b[39m,\n",
      "  ..   commuters_by_carpool = \u001b[32mcol_double()\u001b[39m,\n",
      "  ..   commuters_by_subway_or_elevated = \u001b[32mcol_double()\u001b[39m,\n",
      "  ..   commuters_drove_alone = \u001b[32mcol_double()\u001b[39m,\n",
      "  ..   different_house_year_ago_different_city = \u001b[32mcol_double()\u001b[39m,\n",
      "  ..   different_house_year_ago_same_city = \u001b[32mcol_double()\u001b[39m,\n",
      "  ..   employed_agriculture_forestry_fishing_hunting_mining = \u001b[32mcol_double()\u001b[39m,\n",
      "  ..   employed_arts_entertainment_recreation_accommodation_food = \u001b[32mcol_double()\u001b[39m,\n",
      "  ..   employed_construction = \u001b[32mcol_double()\u001b[39m,\n",
      "  ..   employed_education_health_social = \u001b[32mcol_double()\u001b[39m,\n",
      "  ..   employed_finance_insurance_real_estate = \u001b[32mcol_double()\u001b[39m,\n",
      "  ..   employed_information = \u001b[32mcol_double()\u001b[39m,\n",
      "  ..   employed_manufacturing = \u001b[32mcol_double()\u001b[39m,\n",
      "  ..   employed_other_services_not_public_admin = \u001b[32mcol_double()\u001b[39m,\n",
      "  ..   employed_public_administration = \u001b[32mcol_double()\u001b[39m,\n",
      "  ..   employed_retail_trade = \u001b[32mcol_double()\u001b[39m,\n",
      "  ..   employed_science_management_admin_waste = \u001b[32mcol_double()\u001b[39m,\n",
      "  ..   employed_transportation_warehousing_utilities = \u001b[32mcol_double()\u001b[39m,\n",
      "  ..   employed_wholesale_trade = \u001b[32mcol_double()\u001b[39m,\n",
      "  ..   female_female_households = \u001b[32mcol_double()\u001b[39m,\n",
      "  ..   four_more_cars = \u001b[32mcol_double()\u001b[39m,\n",
      "  ..   gini_index = \u001b[32mcol_double()\u001b[39m,\n",
      "  ..   graduate_professional_degree = \u001b[32mcol_double()\u001b[39m,\n",
      "  ..   group_quarters = \u001b[32mcol_double()\u001b[39m,\n",
      "  ..   high_school_including_ged = \u001b[32mcol_double()\u001b[39m,\n",
      "  ..   households_public_asst_or_food_stamps = \u001b[32mcol_double()\u001b[39m,\n",
      "  ..   in_grades_1_to_4 = \u001b[32mcol_double()\u001b[39m,\n",
      "  ..   in_grades_5_to_8 = \u001b[32mcol_double()\u001b[39m,\n",
      "  ..   in_grades_9_to_12 = \u001b[32mcol_double()\u001b[39m,\n",
      "  ..   in_school = \u001b[32mcol_double()\u001b[39m,\n",
      "  ..   in_undergrad_college = \u001b[32mcol_double()\u001b[39m,\n",
      "  ..   less_than_high_school_graduate = \u001b[32mcol_double()\u001b[39m,\n",
      "  ..   male_45_64_associates_degree = \u001b[32mcol_double()\u001b[39m,\n",
      "  ..   male_45_64_bachelors_degree = \u001b[32mcol_double()\u001b[39m,\n",
      "  ..   male_45_64_graduate_degree = \u001b[32mcol_double()\u001b[39m,\n",
      "  ..   male_45_64_less_than_9_grade = \u001b[32mcol_double()\u001b[39m,\n",
      "  ..   male_45_64_grade_9_12 = \u001b[32mcol_double()\u001b[39m,\n",
      "  ..   male_45_64_high_school = \u001b[32mcol_double()\u001b[39m,\n",
      "  ..   male_45_64_some_college = \u001b[32mcol_double()\u001b[39m,\n",
      "  ..   male_45_to_64 = \u001b[32mcol_double()\u001b[39m,\n",
      "  ..   male_male_households = \u001b[32mcol_double()\u001b[39m,\n",
      "  ..   management_business_sci_arts_employed = \u001b[32mcol_double()\u001b[39m,\n",
      "  ..   no_car = \u001b[32mcol_double()\u001b[39m,\n",
      "  ..   no_cars = \u001b[32mcol_double()\u001b[39m,\n",
      "  ..   not_us_citizen_pop = \u001b[32mcol_double()\u001b[39m,\n",
      "  ..   occupation_management_arts = \u001b[32mcol_double()\u001b[39m,\n",
      "  ..   occupation_natural_resources_construction_maintenance = \u001b[32mcol_double()\u001b[39m,\n",
      "  ..   occupation_production_transportation_material = \u001b[32mcol_double()\u001b[39m,\n",
      "  ..   occupation_sales_office = \u001b[32mcol_double()\u001b[39m,\n",
      "  ..   occupation_services = \u001b[32mcol_double()\u001b[39m,\n",
      "  ..   one_car = \u001b[32mcol_double()\u001b[39m,\n",
      "  ..   two_cars = \u001b[32mcol_double()\u001b[39m,\n",
      "  ..   three_cars = \u001b[32mcol_double()\u001b[39m,\n",
      "  ..   pop_25_64 = \u001b[32mcol_double()\u001b[39m,\n",
      "  ..   pop_determined_poverty_status = \u001b[32mcol_double()\u001b[39m,\n",
      "  ..   population_1_year_and_over = \u001b[32mcol_double()\u001b[39m,\n",
      "  ..   population_3_years_over = \u001b[32mcol_double()\u001b[39m,\n",
      "  ..   poverty = \u001b[32mcol_double()\u001b[39m,\n",
      "  ..   sales_office_employed = \u001b[32mcol_double()\u001b[39m,\n",
      "  ..   some_college_and_associates_degree = \u001b[32mcol_double()\u001b[39m,\n",
      "  ..   walked_to_work = \u001b[32mcol_double()\u001b[39m,\n",
      "  ..   worked_at_home = \u001b[32mcol_double()\u001b[39m,\n",
      "  ..   workers_16_and_over = \u001b[32mcol_double()\u001b[39m,\n",
      "  ..   associates_degree = \u001b[32mcol_double()\u001b[39m,\n",
      "  ..   bachelors_degree = \u001b[32mcol_double()\u001b[39m,\n",
      "  ..   high_school_diploma = \u001b[32mcol_double()\u001b[39m,\n",
      "  ..   less_one_year_college = \u001b[32mcol_double()\u001b[39m,\n",
      "  ..   masters_degree = \u001b[32mcol_double()\u001b[39m,\n",
      "  ..   one_year_more_college = \u001b[32mcol_double()\u001b[39m,\n",
      "  ..   pop_25_years_over = \u001b[32mcol_double()\u001b[39m,\n",
      "  ..   commute_35_44_mins = \u001b[32mcol_double()\u001b[39m,\n",
      "  ..   commute_60_more_mins = \u001b[32mcol_double()\u001b[39m,\n",
      "  ..   commute_less_10_mins = \u001b[32mcol_double()\u001b[39m,\n",
      "  ..   commuters_16_over = \u001b[32mcol_double()\u001b[39m,\n",
      "  ..   hispanic_any_race = \u001b[32mcol_double()\u001b[39m,\n",
      "  ..   pop_5_years_over = \u001b[33mcol_logical()\u001b[39m,\n",
      "  ..   speak_only_english_at_home = \u001b[33mcol_logical()\u001b[39m,\n",
      "  ..   speak_spanish_at_home = \u001b[33mcol_logical()\u001b[39m,\n",
      "  ..   speak_spanish_at_home_low_english = \u001b[33mcol_logical()\u001b[39m,\n",
      "  ..   pop_15_and_over = \u001b[33mcol_logical()\u001b[39m,\n",
      "  ..   pop_never_married = \u001b[33mcol_logical()\u001b[39m,\n",
      "  ..   pop_now_married = \u001b[33mcol_logical()\u001b[39m,\n",
      "  ..   pop_separated = \u001b[33mcol_logical()\u001b[39m,\n",
      "  ..   pop_widowed = \u001b[33mcol_logical()\u001b[39m,\n",
      "  ..   pop_divorced = \u001b[33mcol_logical()\u001b[39m,\n",
      "  ..   do_date = \u001b[32mcol_double()\u001b[39m\n",
      "  .. )\n",
      " - attr(*, \"problems\")=<externalptr> \n"
     ]
    }
   ],
   "source": [
    "str(covid_cases_census)"
   ]
  },
  {
   "cell_type": "code",
   "execution_count": 62,
   "metadata": {
    "vscode": {
     "languageId": "r"
    }
   },
   "outputs": [
    {
     "name": "stdout",
     "output_type": "stream",
     "text": [
      "Rows: 3,142\n",
      "Columns: 259\n",
      "$ county_fips_code                                               \u001b[3m\u001b[90m<chr>\u001b[39m\u001b[23m \"50009\"…\n",
      "$ county_name                                                    \u001b[3m\u001b[90m<chr>\u001b[39m\u001b[23m \"Essex …\n",
      "$ state                                                          \u001b[3m\u001b[90m<chr>\u001b[39m\u001b[23m \"VT\", \"…\n",
      "$ state_fips_code                                                \u001b[3m\u001b[90m<chr>\u001b[39m\u001b[23m \"50\", \"…\n",
      "$ date                                                           \u001b[3m\u001b[90m<date>\u001b[39m\u001b[23m 2021-0…\n",
      "$ confirmed_cases                                                \u001b[3m\u001b[90m<dbl>\u001b[39m\u001b[23m 111, 36…\n",
      "$ deaths                                                         \u001b[3m\u001b[90m<dbl>\u001b[39m\u001b[23m 0, 78, …\n",
      "$ geo_id                                                         \u001b[3m\u001b[90m<chr>\u001b[39m\u001b[23m \"50009\"…\n",
      "$ nonfamily_households                                           \u001b[3m\u001b[90m<dbl>\u001b[39m\u001b[23m 994, 27…\n",
      "$ family_households                                              \u001b[3m\u001b[90m<dbl>\u001b[39m\u001b[23m 1726, 3…\n",
      "$ median_year_structure_built                                    \u001b[3m\u001b[90m<dbl>\u001b[39m\u001b[23m 1973, 1…\n",
      "$ rent_burden_not_computed                                       \u001b[3m\u001b[90m<dbl>\u001b[39m\u001b[23m 64, 115…\n",
      "$ rent_over_50_percent                                           \u001b[3m\u001b[90m<dbl>\u001b[39m\u001b[23m 97, 662…\n",
      "$ rent_40_to_50_percent                                          \u001b[3m\u001b[90m<dbl>\u001b[39m\u001b[23m 67, 208…\n",
      "$ rent_35_to_40_percent                                          \u001b[3m\u001b[90m<dbl>\u001b[39m\u001b[23m 16, 161…\n",
      "$ rent_30_to_35_percent                                          \u001b[3m\u001b[90m<dbl>\u001b[39m\u001b[23m 54, 236…\n",
      "$ rent_25_to_30_percent                                          \u001b[3m\u001b[90m<dbl>\u001b[39m\u001b[23m 49, 275…\n",
      "$ rent_20_to_25_percent                                          \u001b[3m\u001b[90m<dbl>\u001b[39m\u001b[23m 96, 342…\n",
      "$ rent_15_to_20_percent                                          \u001b[3m\u001b[90m<dbl>\u001b[39m\u001b[23m 75, 225…\n",
      "$ rent_10_to_15_percent                                          \u001b[3m\u001b[90m<dbl>\u001b[39m\u001b[23m 30, 133…\n",
      "$ rent_under_10_percent                                          \u001b[3m\u001b[90m<dbl>\u001b[39m\u001b[23m 24, 326…\n",
      "$ total_pop                                                      \u001b[3m\u001b[90m<dbl>\u001b[39m\u001b[23m 6203, 1…\n",
      "$ male_pop                                                       \u001b[3m\u001b[90m<dbl>\u001b[39m\u001b[23m 3135, 7…\n",
      "$ female_pop                                                     \u001b[3m\u001b[90m<dbl>\u001b[39m\u001b[23m 3068, 8…\n",
      "$ median_age                                                     \u001b[3m\u001b[90m<dbl>\u001b[39m\u001b[23m 50.0, 3…\n",
      "$ white_pop                                                      \u001b[3m\u001b[90m<dbl>\u001b[39m\u001b[23m 5929, 1…\n",
      "$ black_pop                                                      \u001b[3m\u001b[90m<dbl>\u001b[39m\u001b[23m 64, 409…\n",
      "$ asian_pop                                                      \u001b[3m\u001b[90m<dbl>\u001b[39m\u001b[23m 32, 614…\n",
      "$ hispanic_pop                                                   \u001b[3m\u001b[90m<dbl>\u001b[39m\u001b[23m 83, 354…\n",
      "$ amerindian_pop                                                 \u001b[3m\u001b[90m<dbl>\u001b[39m\u001b[23m 20, 374…\n",
      "$ other_race_pop                                                 \u001b[3m\u001b[90m<dbl>\u001b[39m\u001b[23m 6, 240,…\n",
      "$ two_or_more_races_pop                                          \u001b[3m\u001b[90m<dbl>\u001b[39m\u001b[23m 69, 289…\n",
      "$ not_hispanic_pop                                               \u001b[3m\u001b[90m<dbl>\u001b[39m\u001b[23m 6120, 1…\n",
      "$ commuters_by_public_transportation                             \u001b[3m\u001b[90m<dbl>\u001b[39m\u001b[23m 4, 2336…\n",
      "$ households                                                     \u001b[3m\u001b[90m<dbl>\u001b[39m\u001b[23m 2720, 6…\n",
      "$ median_income                                                  \u001b[3m\u001b[90m<dbl>\u001b[39m\u001b[23m 38767, …\n",
      "$ income_per_capita                                              \u001b[3m\u001b[90m<dbl>\u001b[39m\u001b[23m 23022, …\n",
      "$ housing_units                                                  \u001b[3m\u001b[90m<dbl>\u001b[39m\u001b[23m 5125, 6…\n",
      "$ vacant_housing_units                                           \u001b[3m\u001b[90m<dbl>\u001b[39m\u001b[23m 2405, 3…\n",
      "$ vacant_housing_units_for_rent                                  \u001b[3m\u001b[90m<dbl>\u001b[39m\u001b[23m 34, 470…\n",
      "$ vacant_housing_units_for_sale                                  \u001b[3m\u001b[90m<dbl>\u001b[39m\u001b[23m 31, 253…\n",
      "$ median_rent                                                    \u001b[3m\u001b[90m<dbl>\u001b[39m\u001b[23m 595, 10…\n",
      "$ percent_income_spent_on_rent                                   \u001b[3m\u001b[90m<dbl>\u001b[39m\u001b[23m 28.0, 3…\n",
      "$ owner_occupied_housing_units                                   \u001b[3m\u001b[90m<dbl>\u001b[39m\u001b[23m 2148, 4…\n",
      "$ million_dollar_housing_units                                   \u001b[3m\u001b[90m<dbl>\u001b[39m\u001b[23m 0, 275,…\n",
      "$ mortgaged_housing_units                                        \u001b[3m\u001b[90m<dbl>\u001b[39m\u001b[23m 1084, 2…\n",
      "$ families_with_young_children                                   \u001b[3m\u001b[90m<dbl>\u001b[39m\u001b[23m 327, 91…\n",
      "$ two_parent_families_with_young_children                        \u001b[3m\u001b[90m<dbl>\u001b[39m\u001b[23m 159, 68…\n",
      "$ two_parents_in_labor_force_families_with_young_children        \u001b[3m\u001b[90m<dbl>\u001b[39m\u001b[23m 99, 458…\n",
      "$ two_parents_father_in_labor_force_families_with_young_children \u001b[3m\u001b[90m<dbl>\u001b[39m\u001b[23m 58, 207…\n",
      "$ two_parents_mother_in_labor_force_families_with_young_children \u001b[3m\u001b[90m<dbl>\u001b[39m\u001b[23m 2, 139,…\n",
      "$ two_parents_not_in_labor_force_families_with_young_children    \u001b[3m\u001b[90m<dbl>\u001b[39m\u001b[23m 0, 62, …\n",
      "$ one_parent_families_with_young_children                        \u001b[3m\u001b[90m<dbl>\u001b[39m\u001b[23m 168, 22…\n",
      "$ father_one_parent_families_with_young_children                 \u001b[3m\u001b[90m<dbl>\u001b[39m\u001b[23m 62, 561…\n",
      "$ father_in_labor_force_one_parent_families_with_young_children  \u001b[3m\u001b[90m<dbl>\u001b[39m\u001b[23m 58, 546…\n",
      "$ commute_10_14_mins                                             \u001b[3m\u001b[90m<dbl>\u001b[39m\u001b[23m 347, 13…\n",
      "$ commute_15_19_mins                                             \u001b[3m\u001b[90m<dbl>\u001b[39m\u001b[23m 265, 16…\n",
      "$ commute_20_24_mins                                             \u001b[3m\u001b[90m<dbl>\u001b[39m\u001b[23m 375, 14…\n",
      "$ commute_25_29_mins                                             \u001b[3m\u001b[90m<dbl>\u001b[39m\u001b[23m 180, 65…\n",
      "$ commute_30_34_mins                                             \u001b[3m\u001b[90m<dbl>\u001b[39m\u001b[23m 281, 10…\n",
      "$ commute_45_59_mins                                             \u001b[3m\u001b[90m<dbl>\u001b[39m\u001b[23m 256, 35…\n",
      "$ aggregate_travel_time_to_work                                  \u001b[3m\u001b[90m<dbl>\u001b[39m\u001b[23m 65350, …\n",
      "$ income_less_10000                                              \u001b[3m\u001b[90m<dbl>\u001b[39m\u001b[23m 208, 30…\n",
      "$ income_10000_14999                                             \u001b[3m\u001b[90m<dbl>\u001b[39m\u001b[23m 224, 27…\n",
      "$ income_15000_19999                                             \u001b[3m\u001b[90m<dbl>\u001b[39m\u001b[23m 241, 28…\n",
      "$ income_20000_24999                                             \u001b[3m\u001b[90m<dbl>\u001b[39m\u001b[23m 199, 27…\n",
      "$ income_25000_29999                                             \u001b[3m\u001b[90m<dbl>\u001b[39m\u001b[23m 161, 23…\n",
      "$ income_30000_34999                                             \u001b[3m\u001b[90m<dbl>\u001b[39m\u001b[23m 195, 27…\n",
      "$ income_35000_39999                                             \u001b[3m\u001b[90m<dbl>\u001b[39m\u001b[23m 169, 25…\n",
      "$ income_40000_44999                                             \u001b[3m\u001b[90m<dbl>\u001b[39m\u001b[23m 139, 29…\n",
      "$ income_45000_49999                                             \u001b[3m\u001b[90m<dbl>\u001b[39m\u001b[23m 114, 22…\n",
      "$ income_50000_59999                                             \u001b[3m\u001b[90m<dbl>\u001b[39m\u001b[23m 199, 49…\n",
      "$ income_60000_74999                                             \u001b[3m\u001b[90m<dbl>\u001b[39m\u001b[23m 301, 64…\n",
      "$ income_75000_99999                                             \u001b[3m\u001b[90m<dbl>\u001b[39m\u001b[23m 302, 89…\n",
      "$ income_100000_124999                                           \u001b[3m\u001b[90m<dbl>\u001b[39m\u001b[23m 144, 69…\n",
      "$ income_125000_149999                                           \u001b[3m\u001b[90m<dbl>\u001b[39m\u001b[23m 49, 468…\n",
      "$ income_150000_199999                                           \u001b[3m\u001b[90m<dbl>\u001b[39m\u001b[23m 52, 419…\n",
      "$ income_200000_or_more                                          \u001b[3m\u001b[90m<dbl>\u001b[39m\u001b[23m 23, 459…\n",
      "$ renter_occupied_housing_units_paying_cash_median_gross_rent    \u001b[3m\u001b[90m<dbl>\u001b[39m\u001b[23m 688, 11…\n",
      "$ owner_occupied_housing_units_lower_value_quartile              \u001b[3m\u001b[90m<dbl>\u001b[39m\u001b[23m 83300, …\n",
      "$ owner_occupied_housing_units_median_value                      \u001b[3m\u001b[90m<dbl>\u001b[39m\u001b[23m 128900,…\n",
      "$ owner_occupied_housing_units_upper_value_quartile              \u001b[3m\u001b[90m<dbl>\u001b[39m\u001b[23m 197900,…\n",
      "$ married_households                                             \u001b[3m\u001b[90m<dbl>\u001b[39m\u001b[23m 1362, 3…\n",
      "$ occupied_housing_units                                         \u001b[3m\u001b[90m<dbl>\u001b[39m\u001b[23m 2720, 6…\n",
      "$ housing_units_renter_occupied                                  \u001b[3m\u001b[90m<dbl>\u001b[39m\u001b[23m 572, 23…\n",
      "$ dwellings_1_units_detached                                     \u001b[3m\u001b[90m<dbl>\u001b[39m\u001b[23m 4283, 3…\n",
      "$ dwellings_1_units_attached                                     \u001b[3m\u001b[90m<dbl>\u001b[39m\u001b[23m 9, 5904…\n",
      "$ dwellings_2_units                                              \u001b[3m\u001b[90m<dbl>\u001b[39m\u001b[23m 134, 49…\n",
      "$ dwellings_3_to_4_units                                         \u001b[3m\u001b[90m<dbl>\u001b[39m\u001b[23m 95, 662…\n",
      "$ dwellings_5_to_9_units                                         \u001b[3m\u001b[90m<dbl>\u001b[39m\u001b[23m 117, 47…\n",
      "$ dwellings_10_to_19_units                                       \u001b[3m\u001b[90m<dbl>\u001b[39m\u001b[23m 6, 1876…\n",
      "$ dwellings_20_to_49_units                                       \u001b[3m\u001b[90m<dbl>\u001b[39m\u001b[23m 28, 346…\n",
      "$ dwellings_50_or_more_units                                     \u001b[3m\u001b[90m<dbl>\u001b[39m\u001b[23m 0, 2694…\n",
      "$ mobile_homes                                                   \u001b[3m\u001b[90m<dbl>\u001b[39m\u001b[23m 453, 29…\n",
      "$ housing_built_2005_or_later                                    \u001b[3m\u001b[90m<dbl>\u001b[39m\u001b[23m 25, 688…\n",
      "$ housing_built_2000_to_2004                                     \u001b[3m\u001b[90m<dbl>\u001b[39m\u001b[23m 67, 202…\n",
      "$ housing_built_1939_or_earlier                                  \u001b[3m\u001b[90m<dbl>\u001b[39m\u001b[23m 208, 20…\n",
      "$ male_under_5                                                   \u001b[3m\u001b[90m<dbl>\u001b[39m\u001b[23m 143, 40…\n",
      "$ male_5_to_9                                                    \u001b[3m\u001b[90m<dbl>\u001b[39m\u001b[23m 168, 42…\n",
      "$ male_10_to_14                                                  \u001b[3m\u001b[90m<dbl>\u001b[39m\u001b[23m 153, 42…\n",
      "$ male_15_to_17                                                  \u001b[3m\u001b[90m<dbl>\u001b[39m\u001b[23m 120, 28…\n",
      "$ male_18_to_19                                                  \u001b[3m\u001b[90m<dbl>\u001b[39m\u001b[23m 63, 377…\n",
      "$ male_20                                                        \u001b[3m\u001b[90m<dbl>\u001b[39m\u001b[23m 30, 159…\n",
      "$ male_21                                                        \u001b[3m\u001b[90m<dbl>\u001b[39m\u001b[23m 19, 241…\n",
      "$ male_22_to_24                                                  \u001b[3m\u001b[90m<dbl>\u001b[39m\u001b[23m 91, 506…\n",
      "$ male_25_to_29                                                  \u001b[3m\u001b[90m<dbl>\u001b[39m\u001b[23m 125, 59…\n",
      "$ male_30_to_34                                                  \u001b[3m\u001b[90m<dbl>\u001b[39m\u001b[23m 128, 53…\n",
      "$ male_35_to_39                                                  \u001b[3m\u001b[90m<dbl>\u001b[39m\u001b[23m 127, 41…\n",
      "$ male_40_to_44                                                  \u001b[3m\u001b[90m<dbl>\u001b[39m\u001b[23m 200, 50…\n",
      "$ male_45_to_49                                                  \u001b[3m\u001b[90m<dbl>\u001b[39m\u001b[23m 210, 50…\n",
      "$ male_50_to_54                                                  \u001b[3m\u001b[90m<dbl>\u001b[39m\u001b[23m 250, 55…\n",
      "$ male_55_to_59                                                  \u001b[3m\u001b[90m<dbl>\u001b[39m\u001b[23m 265, 54…\n",
      "$ male_60_61                                                     \u001b[3m\u001b[90m<dbl>\u001b[39m\u001b[23m 110, 22…\n",
      "$ male_62_64                                                     \u001b[3m\u001b[90m<dbl>\u001b[39m\u001b[23m 181, 26…\n",
      "$ male_65_to_66                                                  \u001b[3m\u001b[90m<dbl>\u001b[39m\u001b[23m 94, 182…\n",
      "$ male_67_to_69                                                  \u001b[3m\u001b[90m<dbl>\u001b[39m\u001b[23m 143, 19…\n",
      "$ male_70_to_74                                                  \u001b[3m\u001b[90m<dbl>\u001b[39m\u001b[23m 232, 21…\n",
      "$ male_75_to_79                                                  \u001b[3m\u001b[90m<dbl>\u001b[39m\u001b[23m 150, 13…\n",
      "$ male_80_to_84                                                  \u001b[3m\u001b[90m<dbl>\u001b[39m\u001b[23m 44, 119…\n",
      "$ male_85_and_over                                               \u001b[3m\u001b[90m<dbl>\u001b[39m\u001b[23m 89, 964…\n",
      "$ female_under_5                                                 \u001b[3m\u001b[90m<dbl>\u001b[39m\u001b[23m 121, 37…\n",
      "$ female_5_to_9                                                  \u001b[3m\u001b[90m<dbl>\u001b[39m\u001b[23m 135, 37…\n",
      "$ female_10_to_14                                                \u001b[3m\u001b[90m<dbl>\u001b[39m\u001b[23m 169, 42…\n",
      "$ female_15_to_17                                                \u001b[3m\u001b[90m<dbl>\u001b[39m\u001b[23m 103, 25…\n",
      "$ female_18_to_19                                                \u001b[3m\u001b[90m<dbl>\u001b[39m\u001b[23m 50, 436…\n",
      "$ female_20                                                      \u001b[3m\u001b[90m<dbl>\u001b[39m\u001b[23m 25, 203…\n",
      "$ female_21                                                      \u001b[3m\u001b[90m<dbl>\u001b[39m\u001b[23m 36, 181…\n",
      "$ female_22_to_24                                                \u001b[3m\u001b[90m<dbl>\u001b[39m\u001b[23m 70, 497…\n",
      "$ female_25_to_29                                                \u001b[3m\u001b[90m<dbl>\u001b[39m\u001b[23m 140, 55…\n",
      "$ female_30_to_34                                                \u001b[3m\u001b[90m<dbl>\u001b[39m\u001b[23m 128, 53…\n",
      "$ female_35_to_39                                                \u001b[3m\u001b[90m<dbl>\u001b[39m\u001b[23m 174, 45…\n",
      "$ female_40_to_44                                                \u001b[3m\u001b[90m<dbl>\u001b[39m\u001b[23m 139, 47…\n",
      "$ female_45_to_49                                                \u001b[3m\u001b[90m<dbl>\u001b[39m\u001b[23m 237, 52…\n",
      "$ female_50_to_54                                                \u001b[3m\u001b[90m<dbl>\u001b[39m\u001b[23m 254, 58…\n",
      "$ female_55_to_59                                                \u001b[3m\u001b[90m<dbl>\u001b[39m\u001b[23m 313, 58…\n",
      "$ female_60_to_61                                                \u001b[3m\u001b[90m<dbl>\u001b[39m\u001b[23m 107, 21…\n",
      "$ female_62_to_64                                                \u001b[3m\u001b[90m<dbl>\u001b[39m\u001b[23m 134, 28…\n",
      "$ female_65_to_66                                                \u001b[3m\u001b[90m<dbl>\u001b[39m\u001b[23m 87, 170…\n",
      "$ female_67_to_69                                                \u001b[3m\u001b[90m<dbl>\u001b[39m\u001b[23m 175, 22…\n",
      "$ female_70_to_74                                                \u001b[3m\u001b[90m<dbl>\u001b[39m\u001b[23m 157, 28…\n",
      "$ female_75_to_79                                                \u001b[3m\u001b[90m<dbl>\u001b[39m\u001b[23m 116, 17…\n",
      "$ female_80_to_84                                                \u001b[3m\u001b[90m<dbl>\u001b[39m\u001b[23m 106, 17…\n",
      "$ female_85_and_over                                             \u001b[3m\u001b[90m<dbl>\u001b[39m\u001b[23m 92, 217…\n",
      "$ white_including_hispanic                                       \u001b[3m\u001b[90m<dbl>\u001b[39m\u001b[23m 5992, 1…\n",
      "$ black_including_hispanic                                       \u001b[3m\u001b[90m<dbl>\u001b[39m\u001b[23m 64, 420…\n",
      "$ amerindian_including_hispanic                                  \u001b[3m\u001b[90m<dbl>\u001b[39m\u001b[23m 20, 465…\n",
      "$ asian_including_hispanic                                       \u001b[3m\u001b[90m<dbl>\u001b[39m\u001b[23m 32, 614…\n",
      "$ commute_5_9_mins                                               \u001b[3m\u001b[90m<dbl>\u001b[39m\u001b[23m 314, 93…\n",
      "$ commute_35_39_mins                                             \u001b[3m\u001b[90m<dbl>\u001b[39m\u001b[23m 79, 229…\n",
      "$ commute_40_44_mins                                             \u001b[3m\u001b[90m<dbl>\u001b[39m\u001b[23m 108, 22…\n",
      "$ commute_60_89_mins                                             \u001b[3m\u001b[90m<dbl>\u001b[39m\u001b[23m 55, 162…\n",
      "$ commute_90_more_mins                                           \u001b[3m\u001b[90m<dbl>\u001b[39m\u001b[23m 109, 84…\n",
      "$ households_retirement_income                                   \u001b[3m\u001b[90m<dbl>\u001b[39m\u001b[23m 535, 11…\n",
      "$ armed_forces                                                   \u001b[3m\u001b[90m<dbl>\u001b[39m\u001b[23m 0, 207,…\n",
      "$ civilian_labor_force                                           \u001b[3m\u001b[90m<dbl>\u001b[39m\u001b[23m 2933, 9…\n",
      "$ employed_pop                                                   \u001b[3m\u001b[90m<dbl>\u001b[39m\u001b[23m 2784, 9…\n",
      "$ unemployed_pop                                                 \u001b[3m\u001b[90m<dbl>\u001b[39m\u001b[23m 149, 38…\n",
      "$ not_in_labor_force                                             \u001b[3m\u001b[90m<dbl>\u001b[39m\u001b[23m 2294, 4…\n",
      "$ pop_16_over                                                    \u001b[3m\u001b[90m<dbl>\u001b[39m\u001b[23m 5227, 1…\n",
      "$ pop_in_labor_force                                             \u001b[3m\u001b[90m<dbl>\u001b[39m\u001b[23m 2933, 9…\n",
      "$ asian_male_45_54                                               \u001b[3m\u001b[90m<dbl>\u001b[39m\u001b[23m 0, 356,…\n",
      "$ asian_male_55_64                                               \u001b[3m\u001b[90m<dbl>\u001b[39m\u001b[23m 0, 164,…\n",
      "$ black_male_45_54                                               \u001b[3m\u001b[90m<dbl>\u001b[39m\u001b[23m 0, 295,…\n",
      "$ black_male_55_64                                               \u001b[3m\u001b[90m<dbl>\u001b[39m\u001b[23m 0, 135,…\n",
      "$ hispanic_male_45_54                                            \u001b[3m\u001b[90m<dbl>\u001b[39m\u001b[23m 0, 152,…\n",
      "$ hispanic_male_55_64                                            \u001b[3m\u001b[90m<dbl>\u001b[39m\u001b[23m 6, 148,…\n",
      "$ white_male_45_54                                               \u001b[3m\u001b[90m<dbl>\u001b[39m\u001b[23m 456, 96…\n",
      "$ white_male_55_64                                               \u001b[3m\u001b[90m<dbl>\u001b[39m\u001b[23m 546, 97…\n",
      "$ bachelors_degree_2                                             \u001b[3m\u001b[90m<dbl>\u001b[39m\u001b[23m 427, 30…\n",
      "$ bachelors_degree_or_higher_25_64                               \u001b[3m\u001b[90m<dbl>\u001b[39m\u001b[23m 505, 43…\n",
      "$ children                                                       \u001b[3m\u001b[90m<dbl>\u001b[39m\u001b[23m 1112, 2…\n",
      "$ children_in_single_female_hh                                   \u001b[3m\u001b[90m<dbl>\u001b[39m\u001b[23m 278, 56…\n",
      "$ commuters_by_bus                                               \u001b[3m\u001b[90m<dbl>\u001b[39m\u001b[23m 4, 2279…\n",
      "$ commuters_by_car_truck_van                                     \u001b[3m\u001b[90m<dbl>\u001b[39m\u001b[23m 2406, 7…\n",
      "$ commuters_by_carpool                                           \u001b[3m\u001b[90m<dbl>\u001b[39m\u001b[23m 277, 70…\n",
      "$ commuters_by_subway_or_elevated                                \u001b[3m\u001b[90m<dbl>\u001b[39m\u001b[23m 0, 30, …\n",
      "$ commuters_drove_alone                                          \u001b[3m\u001b[90m<dbl>\u001b[39m\u001b[23m 2129, 6…\n",
      "$ different_house_year_ago_different_city                        \u001b[3m\u001b[90m<dbl>\u001b[39m\u001b[23m 493, 22…\n",
      "$ different_house_year_ago_same_city                             \u001b[3m\u001b[90m<dbl>\u001b[39m\u001b[23m 34, 766…\n",
      "$ employed_agriculture_forestry_fishing_hunting_mining           \u001b[3m\u001b[90m<dbl>\u001b[39m\u001b[23m 119, 88…\n",
      "$ employed_arts_entertainment_recreation_accommodation_food      \u001b[3m\u001b[90m<dbl>\u001b[39m\u001b[23m 258, 85…\n",
      "$ employed_construction                                          \u001b[3m\u001b[90m<dbl>\u001b[39m\u001b[23m 277, 47…\n",
      "$ employed_education_health_social                               \u001b[3m\u001b[90m<dbl>\u001b[39m\u001b[23m 752, 27…\n",
      "$ employed_finance_insurance_real_estate                         \u001b[3m\u001b[90m<dbl>\u001b[39m\u001b[23m 78, 470…\n",
      "$ employed_information                                           \u001b[3m\u001b[90m<dbl>\u001b[39m\u001b[23m 30, 204…\n",
      "$ employed_manufacturing                                         \u001b[3m\u001b[90m<dbl>\u001b[39m\u001b[23m 392, 89…\n",
      "$ employed_other_services_not_public_admin                       \u001b[3m\u001b[90m<dbl>\u001b[39m\u001b[23m 133, 38…\n",
      "$ employed_public_administration                                 \u001b[3m\u001b[90m<dbl>\u001b[39m\u001b[23m 207, 41…\n",
      "$ employed_retail_trade                                          \u001b[3m\u001b[90m<dbl>\u001b[39m\u001b[23m 288, 10…\n",
      "$ employed_science_management_admin_waste                        \u001b[3m\u001b[90m<dbl>\u001b[39m\u001b[23m 133, 95…\n",
      "$ employed_transportation_warehousing_utilities                  \u001b[3m\u001b[90m<dbl>\u001b[39m\u001b[23m 105, 31…\n",
      "$ employed_wholesale_trade                                       \u001b[3m\u001b[90m<dbl>\u001b[39m\u001b[23m 12, 188…\n",
      "$ female_female_households                                       \u001b[3m\u001b[90m<dbl>\u001b[39m\u001b[23m 1, 349,…\n",
      "$ four_more_cars                                                 \u001b[3m\u001b[90m<dbl>\u001b[39m\u001b[23m 174, 29…\n",
      "$ gini_index                                                     \u001b[3m\u001b[90m<dbl>\u001b[39m\u001b[23m 0.4288,…\n",
      "$ graduate_professional_degree                                   \u001b[3m\u001b[90m<dbl>\u001b[39m\u001b[23m 263, 21…\n",
      "$ group_quarters                                                 \u001b[3m\u001b[90m<dbl>\u001b[39m\u001b[23m 29, 984…\n",
      "$ high_school_including_ged                                      \u001b[3m\u001b[90m<dbl>\u001b[39m\u001b[23m 2159, 2…\n",
      "$ households_public_asst_or_food_stamps                          \u001b[3m\u001b[90m<dbl>\u001b[39m\u001b[23m 575, 67…\n",
      "$ in_grades_1_to_4                                               \u001b[3m\u001b[90m<dbl>\u001b[39m\u001b[23m 253, 60…\n",
      "$ in_grades_5_to_8                                               \u001b[3m\u001b[90m<dbl>\u001b[39m\u001b[23m 241, 66…\n",
      "$ in_grades_9_to_12                                              \u001b[3m\u001b[90m<dbl>\u001b[39m\u001b[23m 301, 80…\n",
      "$ in_school                                                      \u001b[3m\u001b[90m<dbl>\u001b[39m\u001b[23m 1106, 4…\n",
      "$ in_undergrad_college                                           \u001b[3m\u001b[90m<dbl>\u001b[39m\u001b[23m 149, 17…\n",
      "$ less_than_high_school_graduate                                 \u001b[3m\u001b[90m<dbl>\u001b[39m\u001b[23m 716, 63…\n",
      "$ male_45_64_associates_degree                                   \u001b[3m\u001b[90m<dbl>\u001b[39m\u001b[23m 73, 196…\n",
      "$ male_45_64_bachelors_degree                                    \u001b[3m\u001b[90m<dbl>\u001b[39m\u001b[23m 68, 470…\n",
      "$ male_45_64_graduate_degree                                     \u001b[3m\u001b[90m<dbl>\u001b[39m\u001b[23m 47, 452…\n",
      "$ male_45_64_less_than_9_grade                                   \u001b[3m\u001b[90m<dbl>\u001b[39m\u001b[23m 23, 412…\n",
      "$ male_45_64_grade_9_12                                          \u001b[3m\u001b[90m<dbl>\u001b[39m\u001b[23m 81, 978…\n",
      "$ male_45_64_high_school                                         \u001b[3m\u001b[90m<dbl>\u001b[39m\u001b[23m 608, 48…\n",
      "$ male_45_64_some_college                                        \u001b[3m\u001b[90m<dbl>\u001b[39m\u001b[23m 116, 34…\n",
      "$ male_45_to_64                                                  \u001b[3m\u001b[90m<dbl>\u001b[39m\u001b[23m 1016, 2…\n",
      "$ male_male_households                                           \u001b[3m\u001b[90m<dbl>\u001b[39m\u001b[23m 0, 109,…\n",
      "$ management_business_sci_arts_employed                          \u001b[3m\u001b[90m<dbl>\u001b[39m\u001b[23m 775, 42…\n",
      "$ no_car                                                         \u001b[3m\u001b[90m<dbl>\u001b[39m\u001b[23m 35, 256…\n",
      "$ no_cars                                                        \u001b[3m\u001b[90m<dbl>\u001b[39m\u001b[23m 161, 47…\n",
      "$ not_us_citizen_pop                                             \u001b[3m\u001b[90m<dbl>\u001b[39m\u001b[23m 81, 677…\n",
      "$ occupation_management_arts                                     \u001b[3m\u001b[90m<dbl>\u001b[39m\u001b[23m 775, 42…\n",
      "$ occupation_natural_resources_construction_maintenance          \u001b[3m\u001b[90m<dbl>\u001b[39m\u001b[23m 377, 58…\n",
      "$ occupation_production_transportation_material                  \u001b[3m\u001b[90m<dbl>\u001b[39m\u001b[23m 458, 77…\n",
      "$ occupation_sales_office                                        \u001b[3m\u001b[90m<dbl>\u001b[39m\u001b[23m 488, 19…\n",
      "$ occupation_services                                            \u001b[3m\u001b[90m<dbl>\u001b[39m\u001b[23m 686, 14…\n",
      "$ one_car                                                        \u001b[3m\u001b[90m<dbl>\u001b[39m\u001b[23m 897, 22…\n",
      "$ two_cars                                                       \u001b[3m\u001b[90m<dbl>\u001b[39m\u001b[23m 1155, 2…\n",
      "$ three_cars                                                     \u001b[3m\u001b[90m<dbl>\u001b[39m\u001b[23m 333, 78…\n",
      "$ pop_25_64                                                      \u001b[3m\u001b[90m<dbl>\u001b[39m\u001b[23m 3222, 8…\n",
      "$ pop_determined_poverty_status                                  \u001b[3m\u001b[90m<dbl>\u001b[39m\u001b[23m 6189, 1…\n",
      "$ population_1_year_and_over                                     \u001b[3m\u001b[90m<dbl>\u001b[39m\u001b[23m 6156, 1…\n",
      "$ population_3_years_over                                        \u001b[3m\u001b[90m<dbl>\u001b[39m\u001b[23m 6014, 1…\n",
      "$ poverty                                                        \u001b[3m\u001b[90m<dbl>\u001b[39m\u001b[23m 960, 17…\n",
      "$ sales_office_employed                                          \u001b[3m\u001b[90m<dbl>\u001b[39m\u001b[23m 488, 19…\n",
      "$ some_college_and_associates_degree                             \u001b[3m\u001b[90m<dbl>\u001b[39m\u001b[23m 1142, 2…\n",
      "$ walked_to_work                                                 \u001b[3m\u001b[90m<dbl>\u001b[39m\u001b[23m 81, 685…\n",
      "$ worked_at_home                                                 \u001b[3m\u001b[90m<dbl>\u001b[39m\u001b[23m 167, 47…\n",
      "$ workers_16_and_over                                            \u001b[3m\u001b[90m<dbl>\u001b[39m\u001b[23m 2681, 8…\n",
      "$ associates_degree                                              \u001b[3m\u001b[90m<dbl>\u001b[39m\u001b[23m 489, 88…\n",
      "$ bachelors_degree                                               \u001b[3m\u001b[90m<dbl>\u001b[39m\u001b[23m 427, 30…\n",
      "$ high_school_diploma                                            \u001b[3m\u001b[90m<dbl>\u001b[39m\u001b[23m 1914, 1…\n",
      "$ less_one_year_college                                          \u001b[3m\u001b[90m<dbl>\u001b[39m\u001b[23m 156, 48…\n",
      "$ masters_degree                                                 \u001b[3m\u001b[90m<dbl>\u001b[39m\u001b[23m 205, 14…\n",
      "$ one_year_more_college                                          \u001b[3m\u001b[90m<dbl>\u001b[39m\u001b[23m 497, 11…\n",
      "$ pop_25_years_over                                              \u001b[3m\u001b[90m<dbl>\u001b[39m\u001b[23m 4707, 1…\n",
      "$ commute_35_44_mins                                             \u001b[3m\u001b[90m<dbl>\u001b[39m\u001b[23m 187, 45…\n",
      "$ commute_60_more_mins                                           \u001b[3m\u001b[90m<dbl>\u001b[39m\u001b[23m 164, 24…\n",
      "$ commute_less_10_mins                                           \u001b[3m\u001b[90m<dbl>\u001b[39m\u001b[23m 459, 11…\n",
      "$ commuters_16_over                                              \u001b[3m\u001b[90m<dbl>\u001b[39m\u001b[23m 2514, 8…\n",
      "$ hispanic_any_race                                              \u001b[3m\u001b[90m<dbl>\u001b[39m\u001b[23m 83, 354…\n",
      "$ pop_5_years_over                                               \u001b[3m\u001b[90m<lgl>\u001b[39m\u001b[23m \u001b[31mNA\u001b[39m, \u001b[31mNA\u001b[39m,…\n",
      "$ speak_only_english_at_home                                     \u001b[3m\u001b[90m<lgl>\u001b[39m\u001b[23m \u001b[31mNA\u001b[39m, \u001b[31mNA\u001b[39m,…\n",
      "$ speak_spanish_at_home                                          \u001b[3m\u001b[90m<lgl>\u001b[39m\u001b[23m \u001b[31mNA\u001b[39m, \u001b[31mNA\u001b[39m,…\n",
      "$ speak_spanish_at_home_low_english                              \u001b[3m\u001b[90m<lgl>\u001b[39m\u001b[23m \u001b[31mNA\u001b[39m, \u001b[31mNA\u001b[39m,…\n",
      "$ pop_15_and_over                                                \u001b[3m\u001b[90m<lgl>\u001b[39m\u001b[23m \u001b[31mNA\u001b[39m, \u001b[31mNA\u001b[39m,…\n",
      "$ pop_never_married                                              \u001b[3m\u001b[90m<lgl>\u001b[39m\u001b[23m \u001b[31mNA\u001b[39m, \u001b[31mNA\u001b[39m,…\n",
      "$ pop_now_married                                                \u001b[3m\u001b[90m<lgl>\u001b[39m\u001b[23m \u001b[31mNA\u001b[39m, \u001b[31mNA\u001b[39m,…\n",
      "$ pop_separated                                                  \u001b[3m\u001b[90m<lgl>\u001b[39m\u001b[23m \u001b[31mNA\u001b[39m, \u001b[31mNA\u001b[39m,…\n",
      "$ pop_widowed                                                    \u001b[3m\u001b[90m<lgl>\u001b[39m\u001b[23m \u001b[31mNA\u001b[39m, \u001b[31mNA\u001b[39m,…\n",
      "$ pop_divorced                                                   \u001b[3m\u001b[90m<lgl>\u001b[39m\u001b[23m \u001b[31mNA\u001b[39m, \u001b[31mNA\u001b[39m,…\n",
      "$ do_date                                                        \u001b[3m\u001b[90m<dbl>\u001b[39m\u001b[23m 2013201…\n"
     ]
    }
   ],
   "source": [
    "glimpse(covid_cases_census)"
   ]
  },
  {
   "cell_type": "code",
   "execution_count": 63,
   "metadata": {
    "vscode": {
     "languageId": "r"
    }
   },
   "outputs": [
    {
     "data": {
      "text/html": [
       "<style>\n",
       ".list-inline {list-style: none; margin:0; padding: 0}\n",
       ".list-inline>li {display: inline-block}\n",
       ".list-inline>li:not(:last-child)::after {content: \"\\00b7\"; padding: 0 .5ex}\n",
       "</style>\n",
       "<ol class=list-inline><li>'county_fips_code'</li><li>'county_name'</li><li>'state'</li><li>'state_fips_code'</li><li>'date'</li><li>'confirmed_cases'</li><li>'deaths'</li><li>'geo_id'</li><li>'nonfamily_households'</li><li>'family_households'</li><li>'median_year_structure_built'</li><li>'rent_burden_not_computed'</li><li>'rent_over_50_percent'</li><li>'rent_40_to_50_percent'</li><li>'rent_35_to_40_percent'</li><li>'rent_30_to_35_percent'</li><li>'rent_25_to_30_percent'</li><li>'rent_20_to_25_percent'</li><li>'rent_15_to_20_percent'</li><li>'rent_10_to_15_percent'</li><li>'rent_under_10_percent'</li><li>'total_pop'</li><li>'male_pop'</li><li>'female_pop'</li><li>'median_age'</li><li>'white_pop'</li><li>'black_pop'</li><li>'asian_pop'</li><li>'hispanic_pop'</li><li>'amerindian_pop'</li><li>'other_race_pop'</li><li>'two_or_more_races_pop'</li><li>'not_hispanic_pop'</li><li>'commuters_by_public_transportation'</li><li>'households'</li><li>'median_income'</li><li>'income_per_capita'</li><li>'housing_units'</li><li>'vacant_housing_units'</li><li>'vacant_housing_units_for_rent'</li><li>'vacant_housing_units_for_sale'</li><li>'median_rent'</li><li>'percent_income_spent_on_rent'</li><li>'owner_occupied_housing_units'</li><li>'million_dollar_housing_units'</li><li>'mortgaged_housing_units'</li><li>'families_with_young_children'</li><li>'two_parent_families_with_young_children'</li><li>'two_parents_in_labor_force_families_with_young_children'</li><li>'two_parents_father_in_labor_force_families_with_young_children'</li><li>'two_parents_mother_in_labor_force_families_with_young_children'</li><li>'two_parents_not_in_labor_force_families_with_young_children'</li><li>'one_parent_families_with_young_children'</li><li>'father_one_parent_families_with_young_children'</li><li>'father_in_labor_force_one_parent_families_with_young_children'</li><li>'commute_10_14_mins'</li><li>'commute_15_19_mins'</li><li>'commute_20_24_mins'</li><li>'commute_25_29_mins'</li><li>'commute_30_34_mins'</li><li>'commute_45_59_mins'</li><li>'aggregate_travel_time_to_work'</li><li>'income_less_10000'</li><li>'income_10000_14999'</li><li>'income_15000_19999'</li><li>'income_20000_24999'</li><li>'income_25000_29999'</li><li>'income_30000_34999'</li><li>'income_35000_39999'</li><li>'income_40000_44999'</li><li>'income_45000_49999'</li><li>'income_50000_59999'</li><li>'income_60000_74999'</li><li>'income_75000_99999'</li><li>'income_100000_124999'</li><li>'income_125000_149999'</li><li>'income_150000_199999'</li><li>'income_200000_or_more'</li><li>'renter_occupied_housing_units_paying_cash_median_gross_rent'</li><li>'owner_occupied_housing_units_lower_value_quartile'</li><li>'owner_occupied_housing_units_median_value'</li><li>'owner_occupied_housing_units_upper_value_quartile'</li><li>'married_households'</li><li>'occupied_housing_units'</li><li>'housing_units_renter_occupied'</li><li>'dwellings_1_units_detached'</li><li>'dwellings_1_units_attached'</li><li>'dwellings_2_units'</li><li>'dwellings_3_to_4_units'</li><li>'dwellings_5_to_9_units'</li><li>'dwellings_10_to_19_units'</li><li>'dwellings_20_to_49_units'</li><li>'dwellings_50_or_more_units'</li><li>'mobile_homes'</li><li>'housing_built_2005_or_later'</li><li>'housing_built_2000_to_2004'</li><li>'housing_built_1939_or_earlier'</li><li>'male_under_5'</li><li>'male_5_to_9'</li><li>'male_10_to_14'</li><li>'male_15_to_17'</li><li>'male_18_to_19'</li><li>'male_20'</li><li>'male_21'</li><li>'male_22_to_24'</li><li>'male_25_to_29'</li><li>'male_30_to_34'</li><li>'male_35_to_39'</li><li>'male_40_to_44'</li><li>'male_45_to_49'</li><li>'male_50_to_54'</li><li>'male_55_to_59'</li><li>'male_60_61'</li><li>'male_62_64'</li><li>'male_65_to_66'</li><li>'male_67_to_69'</li><li>'male_70_to_74'</li><li>'male_75_to_79'</li><li>'male_80_to_84'</li><li>'male_85_and_over'</li><li>'female_under_5'</li><li>'female_5_to_9'</li><li>'female_10_to_14'</li><li>'female_15_to_17'</li><li>'female_18_to_19'</li><li>'female_20'</li><li>'female_21'</li><li>'female_22_to_24'</li><li>'female_25_to_29'</li><li>'female_30_to_34'</li><li>'female_35_to_39'</li><li>'female_40_to_44'</li><li>'female_45_to_49'</li><li>'female_50_to_54'</li><li>'female_55_to_59'</li><li>'female_60_to_61'</li><li>'female_62_to_64'</li><li>'female_65_to_66'</li><li>'female_67_to_69'</li><li>'female_70_to_74'</li><li>'female_75_to_79'</li><li>'female_80_to_84'</li><li>'female_85_and_over'</li><li>'white_including_hispanic'</li><li>'black_including_hispanic'</li><li>'amerindian_including_hispanic'</li><li>'asian_including_hispanic'</li><li>'commute_5_9_mins'</li><li>'commute_35_39_mins'</li><li>'commute_40_44_mins'</li><li>'commute_60_89_mins'</li><li>'commute_90_more_mins'</li><li>'households_retirement_income'</li><li>'armed_forces'</li><li>'civilian_labor_force'</li><li>'employed_pop'</li><li>'unemployed_pop'</li><li>'not_in_labor_force'</li><li>'pop_16_over'</li><li>'pop_in_labor_force'</li><li>'asian_male_45_54'</li><li>'asian_male_55_64'</li><li>'black_male_45_54'</li><li>'black_male_55_64'</li><li>'hispanic_male_45_54'</li><li>'hispanic_male_55_64'</li><li>'white_male_45_54'</li><li>'white_male_55_64'</li><li>'bachelors_degree_2'</li><li>'bachelors_degree_or_higher_25_64'</li><li>'children'</li><li>'children_in_single_female_hh'</li><li>'commuters_by_bus'</li><li>'commuters_by_car_truck_van'</li><li>'commuters_by_carpool'</li><li>'commuters_by_subway_or_elevated'</li><li>'commuters_drove_alone'</li><li>'different_house_year_ago_different_city'</li><li>'different_house_year_ago_same_city'</li><li>'employed_agriculture_forestry_fishing_hunting_mining'</li><li>'employed_arts_entertainment_recreation_accommodation_food'</li><li>'employed_construction'</li><li>'employed_education_health_social'</li><li>'employed_finance_insurance_real_estate'</li><li>'employed_information'</li><li>'employed_manufacturing'</li><li>'employed_other_services_not_public_admin'</li><li>'employed_public_administration'</li><li>'employed_retail_trade'</li><li>'employed_science_management_admin_waste'</li><li>'employed_transportation_warehousing_utilities'</li><li>'employed_wholesale_trade'</li><li>'female_female_households'</li><li>'four_more_cars'</li><li>'gini_index'</li><li>'graduate_professional_degree'</li><li>'group_quarters'</li><li>'high_school_including_ged'</li><li>'households_public_asst_or_food_stamps'</li><li>'in_grades_1_to_4'</li><li>'in_grades_5_to_8'</li><li>'in_grades_9_to_12'</li><li>'in_school'</li><li>'in_undergrad_college'</li><li>'less_than_high_school_graduate'</li><li>'male_45_64_associates_degree'</li><li>'male_45_64_bachelors_degree'</li><li>'male_45_64_graduate_degree'</li><li>'male_45_64_less_than_9_grade'</li><li>'male_45_64_grade_9_12'</li><li>'male_45_64_high_school'</li><li>'male_45_64_some_college'</li><li>'male_45_to_64'</li><li>'male_male_households'</li><li>'management_business_sci_arts_employed'</li><li>'no_car'</li><li>'no_cars'</li><li>'not_us_citizen_pop'</li><li>'occupation_management_arts'</li><li>'occupation_natural_resources_construction_maintenance'</li><li>'occupation_production_transportation_material'</li><li>'occupation_sales_office'</li><li>'occupation_services'</li><li>'one_car'</li><li>'two_cars'</li><li>'three_cars'</li><li>'pop_25_64'</li><li>'pop_determined_poverty_status'</li><li>'population_1_year_and_over'</li><li>'population_3_years_over'</li><li>'poverty'</li><li>'sales_office_employed'</li><li>'some_college_and_associates_degree'</li><li>'walked_to_work'</li><li>'worked_at_home'</li><li>'workers_16_and_over'</li><li>'associates_degree'</li><li>'bachelors_degree'</li><li>'high_school_diploma'</li><li>'less_one_year_college'</li><li>'masters_degree'</li><li>'one_year_more_college'</li><li>'pop_25_years_over'</li><li>'commute_35_44_mins'</li><li>'commute_60_more_mins'</li><li>'commute_less_10_mins'</li><li>'commuters_16_over'</li><li>'hispanic_any_race'</li><li>'pop_5_years_over'</li><li>'speak_only_english_at_home'</li><li>'speak_spanish_at_home'</li><li>'speak_spanish_at_home_low_english'</li><li>'pop_15_and_over'</li><li>'pop_never_married'</li><li>'pop_now_married'</li><li>'pop_separated'</li><li>'pop_widowed'</li><li>'pop_divorced'</li><li>'do_date'</li></ol>\n"
      ],
      "text/latex": [
       "\\begin{enumerate*}\n",
       "\\item 'county\\_fips\\_code'\n",
       "\\item 'county\\_name'\n",
       "\\item 'state'\n",
       "\\item 'state\\_fips\\_code'\n",
       "\\item 'date'\n",
       "\\item 'confirmed\\_cases'\n",
       "\\item 'deaths'\n",
       "\\item 'geo\\_id'\n",
       "\\item 'nonfamily\\_households'\n",
       "\\item 'family\\_households'\n",
       "\\item 'median\\_year\\_structure\\_built'\n",
       "\\item 'rent\\_burden\\_not\\_computed'\n",
       "\\item 'rent\\_over\\_50\\_percent'\n",
       "\\item 'rent\\_40\\_to\\_50\\_percent'\n",
       "\\item 'rent\\_35\\_to\\_40\\_percent'\n",
       "\\item 'rent\\_30\\_to\\_35\\_percent'\n",
       "\\item 'rent\\_25\\_to\\_30\\_percent'\n",
       "\\item 'rent\\_20\\_to\\_25\\_percent'\n",
       "\\item 'rent\\_15\\_to\\_20\\_percent'\n",
       "\\item 'rent\\_10\\_to\\_15\\_percent'\n",
       "\\item 'rent\\_under\\_10\\_percent'\n",
       "\\item 'total\\_pop'\n",
       "\\item 'male\\_pop'\n",
       "\\item 'female\\_pop'\n",
       "\\item 'median\\_age'\n",
       "\\item 'white\\_pop'\n",
       "\\item 'black\\_pop'\n",
       "\\item 'asian\\_pop'\n",
       "\\item 'hispanic\\_pop'\n",
       "\\item 'amerindian\\_pop'\n",
       "\\item 'other\\_race\\_pop'\n",
       "\\item 'two\\_or\\_more\\_races\\_pop'\n",
       "\\item 'not\\_hispanic\\_pop'\n",
       "\\item 'commuters\\_by\\_public\\_transportation'\n",
       "\\item 'households'\n",
       "\\item 'median\\_income'\n",
       "\\item 'income\\_per\\_capita'\n",
       "\\item 'housing\\_units'\n",
       "\\item 'vacant\\_housing\\_units'\n",
       "\\item 'vacant\\_housing\\_units\\_for\\_rent'\n",
       "\\item 'vacant\\_housing\\_units\\_for\\_sale'\n",
       "\\item 'median\\_rent'\n",
       "\\item 'percent\\_income\\_spent\\_on\\_rent'\n",
       "\\item 'owner\\_occupied\\_housing\\_units'\n",
       "\\item 'million\\_dollar\\_housing\\_units'\n",
       "\\item 'mortgaged\\_housing\\_units'\n",
       "\\item 'families\\_with\\_young\\_children'\n",
       "\\item 'two\\_parent\\_families\\_with\\_young\\_children'\n",
       "\\item 'two\\_parents\\_in\\_labor\\_force\\_families\\_with\\_young\\_children'\n",
       "\\item 'two\\_parents\\_father\\_in\\_labor\\_force\\_families\\_with\\_young\\_children'\n",
       "\\item 'two\\_parents\\_mother\\_in\\_labor\\_force\\_families\\_with\\_young\\_children'\n",
       "\\item 'two\\_parents\\_not\\_in\\_labor\\_force\\_families\\_with\\_young\\_children'\n",
       "\\item 'one\\_parent\\_families\\_with\\_young\\_children'\n",
       "\\item 'father\\_one\\_parent\\_families\\_with\\_young\\_children'\n",
       "\\item 'father\\_in\\_labor\\_force\\_one\\_parent\\_families\\_with\\_young\\_children'\n",
       "\\item 'commute\\_10\\_14\\_mins'\n",
       "\\item 'commute\\_15\\_19\\_mins'\n",
       "\\item 'commute\\_20\\_24\\_mins'\n",
       "\\item 'commute\\_25\\_29\\_mins'\n",
       "\\item 'commute\\_30\\_34\\_mins'\n",
       "\\item 'commute\\_45\\_59\\_mins'\n",
       "\\item 'aggregate\\_travel\\_time\\_to\\_work'\n",
       "\\item 'income\\_less\\_10000'\n",
       "\\item 'income\\_10000\\_14999'\n",
       "\\item 'income\\_15000\\_19999'\n",
       "\\item 'income\\_20000\\_24999'\n",
       "\\item 'income\\_25000\\_29999'\n",
       "\\item 'income\\_30000\\_34999'\n",
       "\\item 'income\\_35000\\_39999'\n",
       "\\item 'income\\_40000\\_44999'\n",
       "\\item 'income\\_45000\\_49999'\n",
       "\\item 'income\\_50000\\_59999'\n",
       "\\item 'income\\_60000\\_74999'\n",
       "\\item 'income\\_75000\\_99999'\n",
       "\\item 'income\\_100000\\_124999'\n",
       "\\item 'income\\_125000\\_149999'\n",
       "\\item 'income\\_150000\\_199999'\n",
       "\\item 'income\\_200000\\_or\\_more'\n",
       "\\item 'renter\\_occupied\\_housing\\_units\\_paying\\_cash\\_median\\_gross\\_rent'\n",
       "\\item 'owner\\_occupied\\_housing\\_units\\_lower\\_value\\_quartile'\n",
       "\\item 'owner\\_occupied\\_housing\\_units\\_median\\_value'\n",
       "\\item 'owner\\_occupied\\_housing\\_units\\_upper\\_value\\_quartile'\n",
       "\\item 'married\\_households'\n",
       "\\item 'occupied\\_housing\\_units'\n",
       "\\item 'housing\\_units\\_renter\\_occupied'\n",
       "\\item 'dwellings\\_1\\_units\\_detached'\n",
       "\\item 'dwellings\\_1\\_units\\_attached'\n",
       "\\item 'dwellings\\_2\\_units'\n",
       "\\item 'dwellings\\_3\\_to\\_4\\_units'\n",
       "\\item 'dwellings\\_5\\_to\\_9\\_units'\n",
       "\\item 'dwellings\\_10\\_to\\_19\\_units'\n",
       "\\item 'dwellings\\_20\\_to\\_49\\_units'\n",
       "\\item 'dwellings\\_50\\_or\\_more\\_units'\n",
       "\\item 'mobile\\_homes'\n",
       "\\item 'housing\\_built\\_2005\\_or\\_later'\n",
       "\\item 'housing\\_built\\_2000\\_to\\_2004'\n",
       "\\item 'housing\\_built\\_1939\\_or\\_earlier'\n",
       "\\item 'male\\_under\\_5'\n",
       "\\item 'male\\_5\\_to\\_9'\n",
       "\\item 'male\\_10\\_to\\_14'\n",
       "\\item 'male\\_15\\_to\\_17'\n",
       "\\item 'male\\_18\\_to\\_19'\n",
       "\\item 'male\\_20'\n",
       "\\item 'male\\_21'\n",
       "\\item 'male\\_22\\_to\\_24'\n",
       "\\item 'male\\_25\\_to\\_29'\n",
       "\\item 'male\\_30\\_to\\_34'\n",
       "\\item 'male\\_35\\_to\\_39'\n",
       "\\item 'male\\_40\\_to\\_44'\n",
       "\\item 'male\\_45\\_to\\_49'\n",
       "\\item 'male\\_50\\_to\\_54'\n",
       "\\item 'male\\_55\\_to\\_59'\n",
       "\\item 'male\\_60\\_61'\n",
       "\\item 'male\\_62\\_64'\n",
       "\\item 'male\\_65\\_to\\_66'\n",
       "\\item 'male\\_67\\_to\\_69'\n",
       "\\item 'male\\_70\\_to\\_74'\n",
       "\\item 'male\\_75\\_to\\_79'\n",
       "\\item 'male\\_80\\_to\\_84'\n",
       "\\item 'male\\_85\\_and\\_over'\n",
       "\\item 'female\\_under\\_5'\n",
       "\\item 'female\\_5\\_to\\_9'\n",
       "\\item 'female\\_10\\_to\\_14'\n",
       "\\item 'female\\_15\\_to\\_17'\n",
       "\\item 'female\\_18\\_to\\_19'\n",
       "\\item 'female\\_20'\n",
       "\\item 'female\\_21'\n",
       "\\item 'female\\_22\\_to\\_24'\n",
       "\\item 'female\\_25\\_to\\_29'\n",
       "\\item 'female\\_30\\_to\\_34'\n",
       "\\item 'female\\_35\\_to\\_39'\n",
       "\\item 'female\\_40\\_to\\_44'\n",
       "\\item 'female\\_45\\_to\\_49'\n",
       "\\item 'female\\_50\\_to\\_54'\n",
       "\\item 'female\\_55\\_to\\_59'\n",
       "\\item 'female\\_60\\_to\\_61'\n",
       "\\item 'female\\_62\\_to\\_64'\n",
       "\\item 'female\\_65\\_to\\_66'\n",
       "\\item 'female\\_67\\_to\\_69'\n",
       "\\item 'female\\_70\\_to\\_74'\n",
       "\\item 'female\\_75\\_to\\_79'\n",
       "\\item 'female\\_80\\_to\\_84'\n",
       "\\item 'female\\_85\\_and\\_over'\n",
       "\\item 'white\\_including\\_hispanic'\n",
       "\\item 'black\\_including\\_hispanic'\n",
       "\\item 'amerindian\\_including\\_hispanic'\n",
       "\\item 'asian\\_including\\_hispanic'\n",
       "\\item 'commute\\_5\\_9\\_mins'\n",
       "\\item 'commute\\_35\\_39\\_mins'\n",
       "\\item 'commute\\_40\\_44\\_mins'\n",
       "\\item 'commute\\_60\\_89\\_mins'\n",
       "\\item 'commute\\_90\\_more\\_mins'\n",
       "\\item 'households\\_retirement\\_income'\n",
       "\\item 'armed\\_forces'\n",
       "\\item 'civilian\\_labor\\_force'\n",
       "\\item 'employed\\_pop'\n",
       "\\item 'unemployed\\_pop'\n",
       "\\item 'not\\_in\\_labor\\_force'\n",
       "\\item 'pop\\_16\\_over'\n",
       "\\item 'pop\\_in\\_labor\\_force'\n",
       "\\item 'asian\\_male\\_45\\_54'\n",
       "\\item 'asian\\_male\\_55\\_64'\n",
       "\\item 'black\\_male\\_45\\_54'\n",
       "\\item 'black\\_male\\_55\\_64'\n",
       "\\item 'hispanic\\_male\\_45\\_54'\n",
       "\\item 'hispanic\\_male\\_55\\_64'\n",
       "\\item 'white\\_male\\_45\\_54'\n",
       "\\item 'white\\_male\\_55\\_64'\n",
       "\\item 'bachelors\\_degree\\_2'\n",
       "\\item 'bachelors\\_degree\\_or\\_higher\\_25\\_64'\n",
       "\\item 'children'\n",
       "\\item 'children\\_in\\_single\\_female\\_hh'\n",
       "\\item 'commuters\\_by\\_bus'\n",
       "\\item 'commuters\\_by\\_car\\_truck\\_van'\n",
       "\\item 'commuters\\_by\\_carpool'\n",
       "\\item 'commuters\\_by\\_subway\\_or\\_elevated'\n",
       "\\item 'commuters\\_drove\\_alone'\n",
       "\\item 'different\\_house\\_year\\_ago\\_different\\_city'\n",
       "\\item 'different\\_house\\_year\\_ago\\_same\\_city'\n",
       "\\item 'employed\\_agriculture\\_forestry\\_fishing\\_hunting\\_mining'\n",
       "\\item 'employed\\_arts\\_entertainment\\_recreation\\_accommodation\\_food'\n",
       "\\item 'employed\\_construction'\n",
       "\\item 'employed\\_education\\_health\\_social'\n",
       "\\item 'employed\\_finance\\_insurance\\_real\\_estate'\n",
       "\\item 'employed\\_information'\n",
       "\\item 'employed\\_manufacturing'\n",
       "\\item 'employed\\_other\\_services\\_not\\_public\\_admin'\n",
       "\\item 'employed\\_public\\_administration'\n",
       "\\item 'employed\\_retail\\_trade'\n",
       "\\item 'employed\\_science\\_management\\_admin\\_waste'\n",
       "\\item 'employed\\_transportation\\_warehousing\\_utilities'\n",
       "\\item 'employed\\_wholesale\\_trade'\n",
       "\\item 'female\\_female\\_households'\n",
       "\\item 'four\\_more\\_cars'\n",
       "\\item 'gini\\_index'\n",
       "\\item 'graduate\\_professional\\_degree'\n",
       "\\item 'group\\_quarters'\n",
       "\\item 'high\\_school\\_including\\_ged'\n",
       "\\item 'households\\_public\\_asst\\_or\\_food\\_stamps'\n",
       "\\item 'in\\_grades\\_1\\_to\\_4'\n",
       "\\item 'in\\_grades\\_5\\_to\\_8'\n",
       "\\item 'in\\_grades\\_9\\_to\\_12'\n",
       "\\item 'in\\_school'\n",
       "\\item 'in\\_undergrad\\_college'\n",
       "\\item 'less\\_than\\_high\\_school\\_graduate'\n",
       "\\item 'male\\_45\\_64\\_associates\\_degree'\n",
       "\\item 'male\\_45\\_64\\_bachelors\\_degree'\n",
       "\\item 'male\\_45\\_64\\_graduate\\_degree'\n",
       "\\item 'male\\_45\\_64\\_less\\_than\\_9\\_grade'\n",
       "\\item 'male\\_45\\_64\\_grade\\_9\\_12'\n",
       "\\item 'male\\_45\\_64\\_high\\_school'\n",
       "\\item 'male\\_45\\_64\\_some\\_college'\n",
       "\\item 'male\\_45\\_to\\_64'\n",
       "\\item 'male\\_male\\_households'\n",
       "\\item 'management\\_business\\_sci\\_arts\\_employed'\n",
       "\\item 'no\\_car'\n",
       "\\item 'no\\_cars'\n",
       "\\item 'not\\_us\\_citizen\\_pop'\n",
       "\\item 'occupation\\_management\\_arts'\n",
       "\\item 'occupation\\_natural\\_resources\\_construction\\_maintenance'\n",
       "\\item 'occupation\\_production\\_transportation\\_material'\n",
       "\\item 'occupation\\_sales\\_office'\n",
       "\\item 'occupation\\_services'\n",
       "\\item 'one\\_car'\n",
       "\\item 'two\\_cars'\n",
       "\\item 'three\\_cars'\n",
       "\\item 'pop\\_25\\_64'\n",
       "\\item 'pop\\_determined\\_poverty\\_status'\n",
       "\\item 'population\\_1\\_year\\_and\\_over'\n",
       "\\item 'population\\_3\\_years\\_over'\n",
       "\\item 'poverty'\n",
       "\\item 'sales\\_office\\_employed'\n",
       "\\item 'some\\_college\\_and\\_associates\\_degree'\n",
       "\\item 'walked\\_to\\_work'\n",
       "\\item 'worked\\_at\\_home'\n",
       "\\item 'workers\\_16\\_and\\_over'\n",
       "\\item 'associates\\_degree'\n",
       "\\item 'bachelors\\_degree'\n",
       "\\item 'high\\_school\\_diploma'\n",
       "\\item 'less\\_one\\_year\\_college'\n",
       "\\item 'masters\\_degree'\n",
       "\\item 'one\\_year\\_more\\_college'\n",
       "\\item 'pop\\_25\\_years\\_over'\n",
       "\\item 'commute\\_35\\_44\\_mins'\n",
       "\\item 'commute\\_60\\_more\\_mins'\n",
       "\\item 'commute\\_less\\_10\\_mins'\n",
       "\\item 'commuters\\_16\\_over'\n",
       "\\item 'hispanic\\_any\\_race'\n",
       "\\item 'pop\\_5\\_years\\_over'\n",
       "\\item 'speak\\_only\\_english\\_at\\_home'\n",
       "\\item 'speak\\_spanish\\_at\\_home'\n",
       "\\item 'speak\\_spanish\\_at\\_home\\_low\\_english'\n",
       "\\item 'pop\\_15\\_and\\_over'\n",
       "\\item 'pop\\_never\\_married'\n",
       "\\item 'pop\\_now\\_married'\n",
       "\\item 'pop\\_separated'\n",
       "\\item 'pop\\_widowed'\n",
       "\\item 'pop\\_divorced'\n",
       "\\item 'do\\_date'\n",
       "\\end{enumerate*}\n"
      ],
      "text/markdown": [
       "1. 'county_fips_code'\n",
       "2. 'county_name'\n",
       "3. 'state'\n",
       "4. 'state_fips_code'\n",
       "5. 'date'\n",
       "6. 'confirmed_cases'\n",
       "7. 'deaths'\n",
       "8. 'geo_id'\n",
       "9. 'nonfamily_households'\n",
       "10. 'family_households'\n",
       "11. 'median_year_structure_built'\n",
       "12. 'rent_burden_not_computed'\n",
       "13. 'rent_over_50_percent'\n",
       "14. 'rent_40_to_50_percent'\n",
       "15. 'rent_35_to_40_percent'\n",
       "16. 'rent_30_to_35_percent'\n",
       "17. 'rent_25_to_30_percent'\n",
       "18. 'rent_20_to_25_percent'\n",
       "19. 'rent_15_to_20_percent'\n",
       "20. 'rent_10_to_15_percent'\n",
       "21. 'rent_under_10_percent'\n",
       "22. 'total_pop'\n",
       "23. 'male_pop'\n",
       "24. 'female_pop'\n",
       "25. 'median_age'\n",
       "26. 'white_pop'\n",
       "27. 'black_pop'\n",
       "28. 'asian_pop'\n",
       "29. 'hispanic_pop'\n",
       "30. 'amerindian_pop'\n",
       "31. 'other_race_pop'\n",
       "32. 'two_or_more_races_pop'\n",
       "33. 'not_hispanic_pop'\n",
       "34. 'commuters_by_public_transportation'\n",
       "35. 'households'\n",
       "36. 'median_income'\n",
       "37. 'income_per_capita'\n",
       "38. 'housing_units'\n",
       "39. 'vacant_housing_units'\n",
       "40. 'vacant_housing_units_for_rent'\n",
       "41. 'vacant_housing_units_for_sale'\n",
       "42. 'median_rent'\n",
       "43. 'percent_income_spent_on_rent'\n",
       "44. 'owner_occupied_housing_units'\n",
       "45. 'million_dollar_housing_units'\n",
       "46. 'mortgaged_housing_units'\n",
       "47. 'families_with_young_children'\n",
       "48. 'two_parent_families_with_young_children'\n",
       "49. 'two_parents_in_labor_force_families_with_young_children'\n",
       "50. 'two_parents_father_in_labor_force_families_with_young_children'\n",
       "51. 'two_parents_mother_in_labor_force_families_with_young_children'\n",
       "52. 'two_parents_not_in_labor_force_families_with_young_children'\n",
       "53. 'one_parent_families_with_young_children'\n",
       "54. 'father_one_parent_families_with_young_children'\n",
       "55. 'father_in_labor_force_one_parent_families_with_young_children'\n",
       "56. 'commute_10_14_mins'\n",
       "57. 'commute_15_19_mins'\n",
       "58. 'commute_20_24_mins'\n",
       "59. 'commute_25_29_mins'\n",
       "60. 'commute_30_34_mins'\n",
       "61. 'commute_45_59_mins'\n",
       "62. 'aggregate_travel_time_to_work'\n",
       "63. 'income_less_10000'\n",
       "64. 'income_10000_14999'\n",
       "65. 'income_15000_19999'\n",
       "66. 'income_20000_24999'\n",
       "67. 'income_25000_29999'\n",
       "68. 'income_30000_34999'\n",
       "69. 'income_35000_39999'\n",
       "70. 'income_40000_44999'\n",
       "71. 'income_45000_49999'\n",
       "72. 'income_50000_59999'\n",
       "73. 'income_60000_74999'\n",
       "74. 'income_75000_99999'\n",
       "75. 'income_100000_124999'\n",
       "76. 'income_125000_149999'\n",
       "77. 'income_150000_199999'\n",
       "78. 'income_200000_or_more'\n",
       "79. 'renter_occupied_housing_units_paying_cash_median_gross_rent'\n",
       "80. 'owner_occupied_housing_units_lower_value_quartile'\n",
       "81. 'owner_occupied_housing_units_median_value'\n",
       "82. 'owner_occupied_housing_units_upper_value_quartile'\n",
       "83. 'married_households'\n",
       "84. 'occupied_housing_units'\n",
       "85. 'housing_units_renter_occupied'\n",
       "86. 'dwellings_1_units_detached'\n",
       "87. 'dwellings_1_units_attached'\n",
       "88. 'dwellings_2_units'\n",
       "89. 'dwellings_3_to_4_units'\n",
       "90. 'dwellings_5_to_9_units'\n",
       "91. 'dwellings_10_to_19_units'\n",
       "92. 'dwellings_20_to_49_units'\n",
       "93. 'dwellings_50_or_more_units'\n",
       "94. 'mobile_homes'\n",
       "95. 'housing_built_2005_or_later'\n",
       "96. 'housing_built_2000_to_2004'\n",
       "97. 'housing_built_1939_or_earlier'\n",
       "98. 'male_under_5'\n",
       "99. 'male_5_to_9'\n",
       "100. 'male_10_to_14'\n",
       "101. 'male_15_to_17'\n",
       "102. 'male_18_to_19'\n",
       "103. 'male_20'\n",
       "104. 'male_21'\n",
       "105. 'male_22_to_24'\n",
       "106. 'male_25_to_29'\n",
       "107. 'male_30_to_34'\n",
       "108. 'male_35_to_39'\n",
       "109. 'male_40_to_44'\n",
       "110. 'male_45_to_49'\n",
       "111. 'male_50_to_54'\n",
       "112. 'male_55_to_59'\n",
       "113. 'male_60_61'\n",
       "114. 'male_62_64'\n",
       "115. 'male_65_to_66'\n",
       "116. 'male_67_to_69'\n",
       "117. 'male_70_to_74'\n",
       "118. 'male_75_to_79'\n",
       "119. 'male_80_to_84'\n",
       "120. 'male_85_and_over'\n",
       "121. 'female_under_5'\n",
       "122. 'female_5_to_9'\n",
       "123. 'female_10_to_14'\n",
       "124. 'female_15_to_17'\n",
       "125. 'female_18_to_19'\n",
       "126. 'female_20'\n",
       "127. 'female_21'\n",
       "128. 'female_22_to_24'\n",
       "129. 'female_25_to_29'\n",
       "130. 'female_30_to_34'\n",
       "131. 'female_35_to_39'\n",
       "132. 'female_40_to_44'\n",
       "133. 'female_45_to_49'\n",
       "134. 'female_50_to_54'\n",
       "135. 'female_55_to_59'\n",
       "136. 'female_60_to_61'\n",
       "137. 'female_62_to_64'\n",
       "138. 'female_65_to_66'\n",
       "139. 'female_67_to_69'\n",
       "140. 'female_70_to_74'\n",
       "141. 'female_75_to_79'\n",
       "142. 'female_80_to_84'\n",
       "143. 'female_85_and_over'\n",
       "144. 'white_including_hispanic'\n",
       "145. 'black_including_hispanic'\n",
       "146. 'amerindian_including_hispanic'\n",
       "147. 'asian_including_hispanic'\n",
       "148. 'commute_5_9_mins'\n",
       "149. 'commute_35_39_mins'\n",
       "150. 'commute_40_44_mins'\n",
       "151. 'commute_60_89_mins'\n",
       "152. 'commute_90_more_mins'\n",
       "153. 'households_retirement_income'\n",
       "154. 'armed_forces'\n",
       "155. 'civilian_labor_force'\n",
       "156. 'employed_pop'\n",
       "157. 'unemployed_pop'\n",
       "158. 'not_in_labor_force'\n",
       "159. 'pop_16_over'\n",
       "160. 'pop_in_labor_force'\n",
       "161. 'asian_male_45_54'\n",
       "162. 'asian_male_55_64'\n",
       "163. 'black_male_45_54'\n",
       "164. 'black_male_55_64'\n",
       "165. 'hispanic_male_45_54'\n",
       "166. 'hispanic_male_55_64'\n",
       "167. 'white_male_45_54'\n",
       "168. 'white_male_55_64'\n",
       "169. 'bachelors_degree_2'\n",
       "170. 'bachelors_degree_or_higher_25_64'\n",
       "171. 'children'\n",
       "172. 'children_in_single_female_hh'\n",
       "173. 'commuters_by_bus'\n",
       "174. 'commuters_by_car_truck_van'\n",
       "175. 'commuters_by_carpool'\n",
       "176. 'commuters_by_subway_or_elevated'\n",
       "177. 'commuters_drove_alone'\n",
       "178. 'different_house_year_ago_different_city'\n",
       "179. 'different_house_year_ago_same_city'\n",
       "180. 'employed_agriculture_forestry_fishing_hunting_mining'\n",
       "181. 'employed_arts_entertainment_recreation_accommodation_food'\n",
       "182. 'employed_construction'\n",
       "183. 'employed_education_health_social'\n",
       "184. 'employed_finance_insurance_real_estate'\n",
       "185. 'employed_information'\n",
       "186. 'employed_manufacturing'\n",
       "187. 'employed_other_services_not_public_admin'\n",
       "188. 'employed_public_administration'\n",
       "189. 'employed_retail_trade'\n",
       "190. 'employed_science_management_admin_waste'\n",
       "191. 'employed_transportation_warehousing_utilities'\n",
       "192. 'employed_wholesale_trade'\n",
       "193. 'female_female_households'\n",
       "194. 'four_more_cars'\n",
       "195. 'gini_index'\n",
       "196. 'graduate_professional_degree'\n",
       "197. 'group_quarters'\n",
       "198. 'high_school_including_ged'\n",
       "199. 'households_public_asst_or_food_stamps'\n",
       "200. 'in_grades_1_to_4'\n",
       "201. 'in_grades_5_to_8'\n",
       "202. 'in_grades_9_to_12'\n",
       "203. 'in_school'\n",
       "204. 'in_undergrad_college'\n",
       "205. 'less_than_high_school_graduate'\n",
       "206. 'male_45_64_associates_degree'\n",
       "207. 'male_45_64_bachelors_degree'\n",
       "208. 'male_45_64_graduate_degree'\n",
       "209. 'male_45_64_less_than_9_grade'\n",
       "210. 'male_45_64_grade_9_12'\n",
       "211. 'male_45_64_high_school'\n",
       "212. 'male_45_64_some_college'\n",
       "213. 'male_45_to_64'\n",
       "214. 'male_male_households'\n",
       "215. 'management_business_sci_arts_employed'\n",
       "216. 'no_car'\n",
       "217. 'no_cars'\n",
       "218. 'not_us_citizen_pop'\n",
       "219. 'occupation_management_arts'\n",
       "220. 'occupation_natural_resources_construction_maintenance'\n",
       "221. 'occupation_production_transportation_material'\n",
       "222. 'occupation_sales_office'\n",
       "223. 'occupation_services'\n",
       "224. 'one_car'\n",
       "225. 'two_cars'\n",
       "226. 'three_cars'\n",
       "227. 'pop_25_64'\n",
       "228. 'pop_determined_poverty_status'\n",
       "229. 'population_1_year_and_over'\n",
       "230. 'population_3_years_over'\n",
       "231. 'poverty'\n",
       "232. 'sales_office_employed'\n",
       "233. 'some_college_and_associates_degree'\n",
       "234. 'walked_to_work'\n",
       "235. 'worked_at_home'\n",
       "236. 'workers_16_and_over'\n",
       "237. 'associates_degree'\n",
       "238. 'bachelors_degree'\n",
       "239. 'high_school_diploma'\n",
       "240. 'less_one_year_college'\n",
       "241. 'masters_degree'\n",
       "242. 'one_year_more_college'\n",
       "243. 'pop_25_years_over'\n",
       "244. 'commute_35_44_mins'\n",
       "245. 'commute_60_more_mins'\n",
       "246. 'commute_less_10_mins'\n",
       "247. 'commuters_16_over'\n",
       "248. 'hispanic_any_race'\n",
       "249. 'pop_5_years_over'\n",
       "250. 'speak_only_english_at_home'\n",
       "251. 'speak_spanish_at_home'\n",
       "252. 'speak_spanish_at_home_low_english'\n",
       "253. 'pop_15_and_over'\n",
       "254. 'pop_never_married'\n",
       "255. 'pop_now_married'\n",
       "256. 'pop_separated'\n",
       "257. 'pop_widowed'\n",
       "258. 'pop_divorced'\n",
       "259. 'do_date'\n",
       "\n",
       "\n"
      ],
      "text/plain": [
       "  [1] \"county_fips_code\"                                              \n",
       "  [2] \"county_name\"                                                   \n",
       "  [3] \"state\"                                                         \n",
       "  [4] \"state_fips_code\"                                               \n",
       "  [5] \"date\"                                                          \n",
       "  [6] \"confirmed_cases\"                                               \n",
       "  [7] \"deaths\"                                                        \n",
       "  [8] \"geo_id\"                                                        \n",
       "  [9] \"nonfamily_households\"                                          \n",
       " [10] \"family_households\"                                             \n",
       " [11] \"median_year_structure_built\"                                   \n",
       " [12] \"rent_burden_not_computed\"                                      \n",
       " [13] \"rent_over_50_percent\"                                          \n",
       " [14] \"rent_40_to_50_percent\"                                         \n",
       " [15] \"rent_35_to_40_percent\"                                         \n",
       " [16] \"rent_30_to_35_percent\"                                         \n",
       " [17] \"rent_25_to_30_percent\"                                         \n",
       " [18] \"rent_20_to_25_percent\"                                         \n",
       " [19] \"rent_15_to_20_percent\"                                         \n",
       " [20] \"rent_10_to_15_percent\"                                         \n",
       " [21] \"rent_under_10_percent\"                                         \n",
       " [22] \"total_pop\"                                                     \n",
       " [23] \"male_pop\"                                                      \n",
       " [24] \"female_pop\"                                                    \n",
       " [25] \"median_age\"                                                    \n",
       " [26] \"white_pop\"                                                     \n",
       " [27] \"black_pop\"                                                     \n",
       " [28] \"asian_pop\"                                                     \n",
       " [29] \"hispanic_pop\"                                                  \n",
       " [30] \"amerindian_pop\"                                                \n",
       " [31] \"other_race_pop\"                                                \n",
       " [32] \"two_or_more_races_pop\"                                         \n",
       " [33] \"not_hispanic_pop\"                                              \n",
       " [34] \"commuters_by_public_transportation\"                            \n",
       " [35] \"households\"                                                    \n",
       " [36] \"median_income\"                                                 \n",
       " [37] \"income_per_capita\"                                             \n",
       " [38] \"housing_units\"                                                 \n",
       " [39] \"vacant_housing_units\"                                          \n",
       " [40] \"vacant_housing_units_for_rent\"                                 \n",
       " [41] \"vacant_housing_units_for_sale\"                                 \n",
       " [42] \"median_rent\"                                                   \n",
       " [43] \"percent_income_spent_on_rent\"                                  \n",
       " [44] \"owner_occupied_housing_units\"                                  \n",
       " [45] \"million_dollar_housing_units\"                                  \n",
       " [46] \"mortgaged_housing_units\"                                       \n",
       " [47] \"families_with_young_children\"                                  \n",
       " [48] \"two_parent_families_with_young_children\"                       \n",
       " [49] \"two_parents_in_labor_force_families_with_young_children\"       \n",
       " [50] \"two_parents_father_in_labor_force_families_with_young_children\"\n",
       " [51] \"two_parents_mother_in_labor_force_families_with_young_children\"\n",
       " [52] \"two_parents_not_in_labor_force_families_with_young_children\"   \n",
       " [53] \"one_parent_families_with_young_children\"                       \n",
       " [54] \"father_one_parent_families_with_young_children\"                \n",
       " [55] \"father_in_labor_force_one_parent_families_with_young_children\" \n",
       " [56] \"commute_10_14_mins\"                                            \n",
       " [57] \"commute_15_19_mins\"                                            \n",
       " [58] \"commute_20_24_mins\"                                            \n",
       " [59] \"commute_25_29_mins\"                                            \n",
       " [60] \"commute_30_34_mins\"                                            \n",
       " [61] \"commute_45_59_mins\"                                            \n",
       " [62] \"aggregate_travel_time_to_work\"                                 \n",
       " [63] \"income_less_10000\"                                             \n",
       " [64] \"income_10000_14999\"                                            \n",
       " [65] \"income_15000_19999\"                                            \n",
       " [66] \"income_20000_24999\"                                            \n",
       " [67] \"income_25000_29999\"                                            \n",
       " [68] \"income_30000_34999\"                                            \n",
       " [69] \"income_35000_39999\"                                            \n",
       " [70] \"income_40000_44999\"                                            \n",
       " [71] \"income_45000_49999\"                                            \n",
       " [72] \"income_50000_59999\"                                            \n",
       " [73] \"income_60000_74999\"                                            \n",
       " [74] \"income_75000_99999\"                                            \n",
       " [75] \"income_100000_124999\"                                          \n",
       " [76] \"income_125000_149999\"                                          \n",
       " [77] \"income_150000_199999\"                                          \n",
       " [78] \"income_200000_or_more\"                                         \n",
       " [79] \"renter_occupied_housing_units_paying_cash_median_gross_rent\"   \n",
       " [80] \"owner_occupied_housing_units_lower_value_quartile\"             \n",
       " [81] \"owner_occupied_housing_units_median_value\"                     \n",
       " [82] \"owner_occupied_housing_units_upper_value_quartile\"             \n",
       " [83] \"married_households\"                                            \n",
       " [84] \"occupied_housing_units\"                                        \n",
       " [85] \"housing_units_renter_occupied\"                                 \n",
       " [86] \"dwellings_1_units_detached\"                                    \n",
       " [87] \"dwellings_1_units_attached\"                                    \n",
       " [88] \"dwellings_2_units\"                                             \n",
       " [89] \"dwellings_3_to_4_units\"                                        \n",
       " [90] \"dwellings_5_to_9_units\"                                        \n",
       " [91] \"dwellings_10_to_19_units\"                                      \n",
       " [92] \"dwellings_20_to_49_units\"                                      \n",
       " [93] \"dwellings_50_or_more_units\"                                    \n",
       " [94] \"mobile_homes\"                                                  \n",
       " [95] \"housing_built_2005_or_later\"                                   \n",
       " [96] \"housing_built_2000_to_2004\"                                    \n",
       " [97] \"housing_built_1939_or_earlier\"                                 \n",
       " [98] \"male_under_5\"                                                  \n",
       " [99] \"male_5_to_9\"                                                   \n",
       "[100] \"male_10_to_14\"                                                 \n",
       "[101] \"male_15_to_17\"                                                 \n",
       "[102] \"male_18_to_19\"                                                 \n",
       "[103] \"male_20\"                                                       \n",
       "[104] \"male_21\"                                                       \n",
       "[105] \"male_22_to_24\"                                                 \n",
       "[106] \"male_25_to_29\"                                                 \n",
       "[107] \"male_30_to_34\"                                                 \n",
       "[108] \"male_35_to_39\"                                                 \n",
       "[109] \"male_40_to_44\"                                                 \n",
       "[110] \"male_45_to_49\"                                                 \n",
       "[111] \"male_50_to_54\"                                                 \n",
       "[112] \"male_55_to_59\"                                                 \n",
       "[113] \"male_60_61\"                                                    \n",
       "[114] \"male_62_64\"                                                    \n",
       "[115] \"male_65_to_66\"                                                 \n",
       "[116] \"male_67_to_69\"                                                 \n",
       "[117] \"male_70_to_74\"                                                 \n",
       "[118] \"male_75_to_79\"                                                 \n",
       "[119] \"male_80_to_84\"                                                 \n",
       "[120] \"male_85_and_over\"                                              \n",
       "[121] \"female_under_5\"                                                \n",
       "[122] \"female_5_to_9\"                                                 \n",
       "[123] \"female_10_to_14\"                                               \n",
       "[124] \"female_15_to_17\"                                               \n",
       "[125] \"female_18_to_19\"                                               \n",
       "[126] \"female_20\"                                                     \n",
       "[127] \"female_21\"                                                     \n",
       "[128] \"female_22_to_24\"                                               \n",
       "[129] \"female_25_to_29\"                                               \n",
       "[130] \"female_30_to_34\"                                               \n",
       "[131] \"female_35_to_39\"                                               \n",
       "[132] \"female_40_to_44\"                                               \n",
       "[133] \"female_45_to_49\"                                               \n",
       "[134] \"female_50_to_54\"                                               \n",
       "[135] \"female_55_to_59\"                                               \n",
       "[136] \"female_60_to_61\"                                               \n",
       "[137] \"female_62_to_64\"                                               \n",
       "[138] \"female_65_to_66\"                                               \n",
       "[139] \"female_67_to_69\"                                               \n",
       "[140] \"female_70_to_74\"                                               \n",
       "[141] \"female_75_to_79\"                                               \n",
       "[142] \"female_80_to_84\"                                               \n",
       "[143] \"female_85_and_over\"                                            \n",
       "[144] \"white_including_hispanic\"                                      \n",
       "[145] \"black_including_hispanic\"                                      \n",
       "[146] \"amerindian_including_hispanic\"                                 \n",
       "[147] \"asian_including_hispanic\"                                      \n",
       "[148] \"commute_5_9_mins\"                                              \n",
       "[149] \"commute_35_39_mins\"                                            \n",
       "[150] \"commute_40_44_mins\"                                            \n",
       "[151] \"commute_60_89_mins\"                                            \n",
       "[152] \"commute_90_more_mins\"                                          \n",
       "[153] \"households_retirement_income\"                                  \n",
       "[154] \"armed_forces\"                                                  \n",
       "[155] \"civilian_labor_force\"                                          \n",
       "[156] \"employed_pop\"                                                  \n",
       "[157] \"unemployed_pop\"                                                \n",
       "[158] \"not_in_labor_force\"                                            \n",
       "[159] \"pop_16_over\"                                                   \n",
       "[160] \"pop_in_labor_force\"                                            \n",
       "[161] \"asian_male_45_54\"                                              \n",
       "[162] \"asian_male_55_64\"                                              \n",
       "[163] \"black_male_45_54\"                                              \n",
       "[164] \"black_male_55_64\"                                              \n",
       "[165] \"hispanic_male_45_54\"                                           \n",
       "[166] \"hispanic_male_55_64\"                                           \n",
       "[167] \"white_male_45_54\"                                              \n",
       "[168] \"white_male_55_64\"                                              \n",
       "[169] \"bachelors_degree_2\"                                            \n",
       "[170] \"bachelors_degree_or_higher_25_64\"                              \n",
       "[171] \"children\"                                                      \n",
       "[172] \"children_in_single_female_hh\"                                  \n",
       "[173] \"commuters_by_bus\"                                              \n",
       "[174] \"commuters_by_car_truck_van\"                                    \n",
       "[175] \"commuters_by_carpool\"                                          \n",
       "[176] \"commuters_by_subway_or_elevated\"                               \n",
       "[177] \"commuters_drove_alone\"                                         \n",
       "[178] \"different_house_year_ago_different_city\"                       \n",
       "[179] \"different_house_year_ago_same_city\"                            \n",
       "[180] \"employed_agriculture_forestry_fishing_hunting_mining\"          \n",
       "[181] \"employed_arts_entertainment_recreation_accommodation_food\"     \n",
       "[182] \"employed_construction\"                                         \n",
       "[183] \"employed_education_health_social\"                              \n",
       "[184] \"employed_finance_insurance_real_estate\"                        \n",
       "[185] \"employed_information\"                                          \n",
       "[186] \"employed_manufacturing\"                                        \n",
       "[187] \"employed_other_services_not_public_admin\"                      \n",
       "[188] \"employed_public_administration\"                                \n",
       "[189] \"employed_retail_trade\"                                         \n",
       "[190] \"employed_science_management_admin_waste\"                       \n",
       "[191] \"employed_transportation_warehousing_utilities\"                 \n",
       "[192] \"employed_wholesale_trade\"                                      \n",
       "[193] \"female_female_households\"                                      \n",
       "[194] \"four_more_cars\"                                                \n",
       "[195] \"gini_index\"                                                    \n",
       "[196] \"graduate_professional_degree\"                                  \n",
       "[197] \"group_quarters\"                                                \n",
       "[198] \"high_school_including_ged\"                                     \n",
       "[199] \"households_public_asst_or_food_stamps\"                         \n",
       "[200] \"in_grades_1_to_4\"                                              \n",
       "[201] \"in_grades_5_to_8\"                                              \n",
       "[202] \"in_grades_9_to_12\"                                             \n",
       "[203] \"in_school\"                                                     \n",
       "[204] \"in_undergrad_college\"                                          \n",
       "[205] \"less_than_high_school_graduate\"                                \n",
       "[206] \"male_45_64_associates_degree\"                                  \n",
       "[207] \"male_45_64_bachelors_degree\"                                   \n",
       "[208] \"male_45_64_graduate_degree\"                                    \n",
       "[209] \"male_45_64_less_than_9_grade\"                                  \n",
       "[210] \"male_45_64_grade_9_12\"                                         \n",
       "[211] \"male_45_64_high_school\"                                        \n",
       "[212] \"male_45_64_some_college\"                                       \n",
       "[213] \"male_45_to_64\"                                                 \n",
       "[214] \"male_male_households\"                                          \n",
       "[215] \"management_business_sci_arts_employed\"                         \n",
       "[216] \"no_car\"                                                        \n",
       "[217] \"no_cars\"                                                       \n",
       "[218] \"not_us_citizen_pop\"                                            \n",
       "[219] \"occupation_management_arts\"                                    \n",
       "[220] \"occupation_natural_resources_construction_maintenance\"         \n",
       "[221] \"occupation_production_transportation_material\"                 \n",
       "[222] \"occupation_sales_office\"                                       \n",
       "[223] \"occupation_services\"                                           \n",
       "[224] \"one_car\"                                                       \n",
       "[225] \"two_cars\"                                                      \n",
       "[226] \"three_cars\"                                                    \n",
       "[227] \"pop_25_64\"                                                     \n",
       "[228] \"pop_determined_poverty_status\"                                 \n",
       "[229] \"population_1_year_and_over\"                                    \n",
       "[230] \"population_3_years_over\"                                       \n",
       "[231] \"poverty\"                                                       \n",
       "[232] \"sales_office_employed\"                                         \n",
       "[233] \"some_college_and_associates_degree\"                            \n",
       "[234] \"walked_to_work\"                                                \n",
       "[235] \"worked_at_home\"                                                \n",
       "[236] \"workers_16_and_over\"                                           \n",
       "[237] \"associates_degree\"                                             \n",
       "[238] \"bachelors_degree\"                                              \n",
       "[239] \"high_school_diploma\"                                           \n",
       "[240] \"less_one_year_college\"                                         \n",
       "[241] \"masters_degree\"                                                \n",
       "[242] \"one_year_more_college\"                                         \n",
       "[243] \"pop_25_years_over\"                                             \n",
       "[244] \"commute_35_44_mins\"                                            \n",
       "[245] \"commute_60_more_mins\"                                          \n",
       "[246] \"commute_less_10_mins\"                                          \n",
       "[247] \"commuters_16_over\"                                             \n",
       "[248] \"hispanic_any_race\"                                             \n",
       "[249] \"pop_5_years_over\"                                              \n",
       "[250] \"speak_only_english_at_home\"                                    \n",
       "[251] \"speak_spanish_at_home\"                                         \n",
       "[252] \"speak_spanish_at_home_low_english\"                             \n",
       "[253] \"pop_15_and_over\"                                               \n",
       "[254] \"pop_never_married\"                                             \n",
       "[255] \"pop_now_married\"                                               \n",
       "[256] \"pop_separated\"                                                 \n",
       "[257] \"pop_widowed\"                                                   \n",
       "[258] \"pop_divorced\"                                                  \n",
       "[259] \"do_date\"                                                       "
      ]
     },
     "metadata": {},
     "output_type": "display_data"
    }
   ],
   "source": [
    "covid_cases_census %>%\n",
    "  colnames()"
   ]
  },
  {
   "cell_type": "markdown",
   "metadata": {},
   "source": [
    "[9 Points]\n",
    "- Verify data quality: \n",
    "    - Are there missing values? \n",
    "    - Duplicate Data? \n",
    "    - Outliers? \n",
    "    - Are those mistakes? \n",
    "    - How can these be fixed? \n",
    "- Ensure your report states how much data is removed and how much you have left. \n",
    "\n"
   ]
  },
  {
   "cell_type": "markdown",
   "metadata": {},
   "source": [
    "[9 points]\n",
    "- Give appropriate statistics (range, mode, mean, median, variance, etc.) for the most important variables in these files and describe what they mean or if you find something interesting. \n",
    "\n"
   ]
  },
  {
   "cell_type": "markdown",
   "metadata": {},
   "source": [
    "\n",
    "[9 points]\n",
    "- Visually explore the chosen attributes appropriately. \n",
    "- Provide an interpretation for each graph. \n",
    "- Explain why you chose the visualization for each attribute type. \n"
   ]
  },
  {
   "cell_type": "markdown",
   "metadata": {},
   "source": [
    "[9 points]\n",
    "- Explore relationships between attributes: \n",
    "    - Look at the attributes and then use cross-tabulation, correlation, group-wise averages, box plots, etc., as appropriate. "
   ]
  },
  {
   "cell_type": "markdown",
   "metadata": {},
   "source": [
    "## 2.3 Covid Cases Texas"
   ]
  },
  {
   "cell_type": "markdown",
   "metadata": {},
   "source": [
    "[9 point]\n",
    "- Describe what data is available. \n",
    "- Choose 5-10 important variables for the questions you have identified in the section above. \n",
    "- Describe the type of data (scale, values, etc.) of the most critical variables in the data. \n",
    "\n"
   ]
  },
  {
   "cell_type": "markdown",
   "metadata": {},
   "source": [
    "[9 Points]\n",
    "- Verify data quality: \n",
    "    - Are there missing values? \n",
    "    - Duplicate Data? \n",
    "    - Outliers? \n",
    "    - Are those mistakes? \n",
    "    - How can these be fixed? \n",
    "- Ensure your report states how much data is removed and how much you have left. \n",
    "\n"
   ]
  },
  {
   "cell_type": "markdown",
   "metadata": {},
   "source": [
    "[9 points]\n",
    "- Give appropriate statistics (range, mode, mean, median, variance, etc.) for the most important variables in these files and describe what they mean or if you find something interesting. \n",
    "\n"
   ]
  },
  {
   "cell_type": "markdown",
   "metadata": {},
   "source": [
    "[9 points]\n",
    "- Visually explore the chosen attributes appropriately. \n",
    "- Provide an interpretation for each graph. \n",
    "- Explain why you chose the visualization for each attribute type. \n",
    "\n"
   ]
  },
  {
   "cell_type": "markdown",
   "metadata": {},
   "source": [
    "[9 points]\n",
    "- Explore relationships between attributes: \n",
    "    - Look at the attributes and then use cross-tabulation, correlation, group-wise averages, box plots, etc., as appropriate. "
   ]
  },
  {
   "cell_type": "markdown",
   "metadata": {},
   "source": [
    "# 3. Data Preparation [30 points]\n",
    "[30 points]\n",
    "- Create a data set with objects as rows and features as columns. \n",
    "- Use as objects counties in the US. \n",
    "- The data set must be included in your report. \n",
    "- Provide a table in your Word document that shows the data (values) for the first 10 rows for all the features you have selected and/or created. \n",
    "- Interesting additional features may be, for example: \n",
    "    - When was the first case reported?\n",
    "    - How (densely) populated is the county?\n",
    "    - What resources does a county have (money, hospital)?\n",
    "    - What is the social distancing response, and how long did it take after the first case?\n",
    "- You can come up with more critical questions for your chosen stakeholder."
   ]
  },
  {
   "cell_type": "markdown",
   "metadata": {},
   "source": [
    "# 4. Data Preparation [15 points]\n",
    "[15 points]\n",
    "- Formulate some recommendations for the questions developed in section 1. based on the results in 2. and 3. \n",
    "- Make sure your recommendations are based on data and are actionable for the stakeholder (i.e., the stakeholder has the power to execute the recommendations). "
   ]
  },
  {
   "cell_type": "markdown",
   "metadata": {},
   "source": [
    "# Required Appendix\n",
    "A list that specifies the part of the project they have worked on as the lead or a supporter."
   ]
  },
  {
   "cell_type": "markdown",
   "metadata": {},
   "source": []
  }
 ],
 "metadata": {
  "kernelspec": {
   "display_name": "R",
   "language": "R",
   "name": "ir"
  },
  "language_info": {
   "codemirror_mode": "r",
   "file_extension": ".r",
   "mimetype": "text/x-r-source",
   "name": "R",
   "pygments_lexer": "r",
   "version": "4.4.2"
  }
 },
 "nbformat": 4,
 "nbformat_minor": 2
}
