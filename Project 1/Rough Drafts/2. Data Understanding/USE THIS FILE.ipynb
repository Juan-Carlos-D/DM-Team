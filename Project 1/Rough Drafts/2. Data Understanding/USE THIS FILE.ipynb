{
 "cells": [
  {
   "cell_type": "markdown",
   "metadata": {},
   "source": [
    "# <div style=\"text-align: center;\">Project 1: Data & Visualization</div>"
   ]
  },
  {
   "cell_type": "markdown",
   "metadata": {},
   "source": [
    "I have extracted data about the number of cases, demographics, and social distancing and put the data sets on Canvas (see above). You can always get more data directly from the link above.\n",
    "\n",
    "Some general example questions we are interested in answering throughout the semester are:\n",
    "\n",
    "- What is the trend in different areas (states, counties) of the US?\n",
    "- Is social distancing done, and is it working?\n",
    "- Can we identify regions that do particularly well? Why did they do well?\n",
    "- Can we predict the development in a region given the data from other areas?\n",
    "- What actions can we recommend to provide an effective emergency response?\n",
    "- During the projects, you will come up with your own questions.\n",
    "\n",
    "In this project, we will focus on cleaning and understanding the data. You need to work on the following steps of the CRISP-DM framework:"
   ]
  },
  {
   "cell_type": "markdown",
   "metadata": {},
   "source": [
    "# 1. Problem Description (Business Understanding) [10 points]\n",
    "[3 points]\n",
    "Describe the Problem: \n",
    "- What is COVID-19, and what is social distancing and flattening the curve? \n",
    "- Why is it important to look at data about the virus spread, hospitalizations, and available resources? \n",
    "\n",
    "[7 point]\n",
    "- Choose a stakeholder for whom you analyze and, later on, model the data. \n",
    "- Define some questions that are important for this stakeholder. \n",
    "- What decisions can your stakeholders make, and how would they affect COVID-19 outcomes? \n",
    "- Brainstorm this a lot since this choice will guide your exploration of this and all the following projects. \n",
    "- Make sure you can produce actionable recommendations for these questions using your data later in your report. "
   ]
  },
  {
   "cell_type": "markdown",
   "metadata": {},
   "source": [
    "## 1 Problem Description\n",
    "##### 1.1 *What is COVID-19, and what are social distancing and flattening the curve?*\n",
    "- **COVID-19**, caused by the SARS-CoV-2 virus, is a respiratory illness that emerged in late 2019 and led to a global pandemic. It spreads primarily through respiratory droplets and airborne transmission, causing symptoms ranging from mild respiratory issues to severe complications such as pneumonia, organ failure, and death, particularly in high-risk populations ([cdc.gov](https://www.cdc.gov/covid/about/index.html?CDC_AA_refVal=https%3A%2F%2Fwww.cdc.gov%2Fcoronavirus%2F2019-ncov%2Fprevent-getting-sick%2Fhow-covid-spreads.html)). \n",
    "\n",
    "- **Social distancing** refers to reducing close physical interactions between individuals to prevent viral spread. This includes staying at least six feet apart, avoiding large gatherings, and minimizing non-essential travel ([who.int](https://www.who.int/emergencies/diseases/novel-coronavirus-2019/advice-for-public)).\n",
    "\n",
    "- **Flattening the curve** refers to implementing measures, such as social distancing, mask mandates, lockdowns, and remote work policies, to slow the virus's spread. The goal is to reduce the peak number of cases, preventing healthcare systems from becoming overwhelmed and ensuring medical resources remain available for critical patients and preventing healthcare systems from being overwhelmed (source: [michiganmedicine.org](https://www.michiganmedicine.org/health-lab/flattening-curve-covid-19-what-does-it-mean-and-how-can-you-help?)).\n",
    "\n",
    "##### 1.2 *Why is it important to look at data about the virus spread, hospitalizations, and available resources?*\n",
    "Analyzing COVID-19 data is essential for evidence-based decision-making in public health. Monitoring infection rates, hospital capacity, and medical resource availability helps in:\n",
    "- Identifying outbreak hotspots – Tracking new cases allows health agencies to implement targeted restrictions before widespread community transmission occurs ([jhu.edu](https://coronavirus.jhu.edu/data)).\n",
    "- Resource allocation – Data on hospitalizations guide the distribution of ICU beds, ventilators, and medical personnel where they are needed most ([nih.gov](https://www.nhlbi.nih.gov/covid)).\n",
    "- Assessing policy effectiveness – Evaluating trends before and after interventions (e.g., lockdowns, mask mandates, and vaccine rollouts) determines which strategies work best ([researchunc.edu](https://research.unc.edu/2020/10/01/the-importance-of-covid-19-data-collection-and-transmission)).\n",
    "- Protecting vulnerable populations – Disaggregated data by age, race, socioeconomic status, and pre-existing conditions ensure at-risk groups receive priority care and vaccinations ([cdc.gov](https://covid.cdc.gov/covid-data-tracker/#datatracker-home)).\n",
    "\n",
    "##### 1.3 *Choose a stakeholder for whom you analyze and, later on, model the data*\n",
    "- The chosen stakeholder for this analysis is the **Texas Department of State Health Services (DSHS)** ([DSHS](https://www.dshs.texas.gov/)). DSHS is responsible for monitoring and managing public health policies, coordinating COVID-19 responses, and allocating medical resources across all Texas counties. The agency works closely with local public health departments, such as Dallas County Health and Human Services (DCHHS), to implement interventions at both the state and county levels ([DCHSS](https://www.dallascounty.org/departments/dchhs)).\n",
    "- This stakeholder is ideal for this analysis because:\n",
    "    - DSHS oversees statewide pandemic response efforts, making it responsible for policy decisions that impact all Texas residents.\n",
    "    - The agency allocates resources (e.g., vaccines, ventilators, funding) across urban and rural counties with varying healthcare capacities.\n",
    "    - DSHS collaborates with local agencies like DCHHS to manage regional outbreaks, making Dallas County a relevant case study for assessing local policy effectiveness within the state.\n",
    "\n",
    "##### 1.4 *Define some questions that are important for this stakeholder.*\n",
    "To effectively support DSHS in decision-making, this analysis focuses on the following key questions:  \n",
    "1. **Which Texas counties exhibit the highest COVID-19 infection and mortality rates per capita, and how do demographic factors (e.g., population size, income levels) correlate with these trends?**  \n",
    "   - *Rationale*: Enables prioritization of state and/or federal resources to high-risk regions.  \n",
    "2. **How does social distancing compliance (measured via mobility data, such as percent change from baseline in retail and recreation, grocery and pharmacy, transit stations, workplaces, and residential areas) differ between urban and rural counties, and how does this correlate with case growth rates?**  \n",
    "   - *Rationale*: Informs targeted federal guidelines for mobility restrictions based on specific mobility patterns in different regions.  \n",
    "3. **Which counties have the lowest per capita access to workers staying at home, and how does this relate to COVID-19 case rates?**  \n",
    "   - *Rationale*: Evaluates the impact of workplace exposure risks and social distancing compliance..  \n",
    "4. **How do poverty and public assistance rates correlate with COVID-19 case and mortality rates across Texas counties?**  \n",
    "   - *Rationale*: Helps assess whether economically disadvantaged counties experienced higher COVID-19 burdens and informs targeted interventions.\n",
    "5. **How do vaccination rates vary across urban and rural counties with differing socioeconomic profiles, and what disparities exist in vaccine accessibility?**  \n",
    "   - *Rationale*: Identifies gaps in vaccine equity to direct federal outreach efforts.\n",
    "\n",
    "- **Why Are These Questions Important?**\n",
    "    - These questions are critical because they allow DSHS to:\n",
    "        - Identify and address COVID-19 hotspots to implement targeted interventions before widespread transmission occurs.\n",
    "        - Allocate medical resources more efficiently based on the current needs and capacity of local hospitals.\n",
    "        - Evaluate the effectiveness of public health measures to decide whether they should be intensified, relaxed, or restructured.\n",
    "        - Protect vulnerable populations by ensuring that healthcare services, such as vaccination and treatment, are prioritized based on demographic risk factors.\n",
    "    - Answering these questions will enable the **CDC** to make informed, data-driven decisions that can directly improve public health outcomes across different counties in the US.\n",
    "\n",
    "##### 1.5 *What decisions can your stakeholders make, and how would they affect COVID-19 outcomes?*\n",
    "DSHS plays a critical role in pandemic response by making data-driven decisions that directly impact COVID-19 transmission, healthcare system strain, and mortality rates. Their key decision areas include:\n",
    "- **Implementing or Adjusting Social Distancing Measures**\n",
    "    - By analyzing infection trends, **DSHS** can tighten or relax mask mandates, capacity limits, and stay-at-home orders.\n",
    "    - **Example**: During the Delta variant surge (2021), **DSHS** reinstated indoor mask mandates based on rising case counts, reducing the growth rate of hospitalizations ([dallasnews.com](https://www.dallasnews.com/news/2021/08/11/dallas-county-judge-clay-jenkins-issues-new-mandate-requiring-masks-in-schools-businesses/)).\n",
    "\n",
    "- **Allocating Medical Resources Efficiently**\n",
    "    - Hospitalization and ICU data guide staffing and resource distribution across **Dallas County** hospitals.\n",
    "    - **Example**: In July 2020, **DSHS** used hospitalization data to redistribute ventilators to overwhelmed hospitals in South Texas ([texastribune.org](https://www.texastribune.org/2020/07/14/texas-hospitals-coronavirus/)).\n",
    "\n",
    "- **Target Vaccination and Outreach Programs**\n",
    "    - Demographic analysis ensures that high-risk and underserved communities receive vaccines early.\n",
    "    - **Example**: **DSHS** launched community-based vaccination clinics in South Dallas to combat low vaccination rates and high case counts ([parklandhealth.org](https://www.parklandhealth.org/community-calendar/dchhs-popup-clinics-2176?utm_source=chatgpt.com)).\n",
    "\n",
    "- **Public Health Communication Strategies**\n",
    "    - Data helps shape effective health campaigns to encourage compliance with safety measures.\n",
    "    - **Example**: In December 2020, **DSHS** used Google Mobility Data to warn against holiday travel surges, reducing post-holiday infection spikes ([nbcdfw.com](https://www.nbcdfw.com/news/local/holiday-travel-surge-amid-rising-covid-19-cases/2843212/)).\n",
    "\n",
    "Each of these decisions directly affects COVID-19 outcomes by controlling transmission, reducing hospital burden, and saving lives.\n",
    "\n",
    "##### 1.6 *What data is needed?*\n",
    "For this analysis, several types of data will be necessary:\n",
    "- **COVID-19 case data**: Information on the number of infections, recoveries, and deaths, segmented by location, age, and other demographics.\n",
    "- **Hospitalization data**: Data on ICU capacity, ventilator use, and hospital admissions related to COVID-19.\n",
    "- **Social distancing and mobility data**: Information on people's movement patterns to understand compliance with public health mandates and detect emerging risks (e.g., increased mobility during holidays).\n",
    "- **Vaccination rates**: Data on vaccination coverage, particularly broken down by demographic groups, to assess disparities in vaccine access and uptake.\n",
    "- **Public health intervention data**: Insights on mask mandates, social distancing measures, and other interventions, along with their timeline and geographic implementation.\n",
    "\n",
    "By collecting and analyzing these data points, **DSHS** can develop a clearer picture of the pandemic’s impact, forecast future trends, and make decisions that mitigate harm to the community.\n"
   ]
  },
  {
   "cell_type": "markdown",
   "metadata": {},
   "source": [
    "# 2. Data Understanding [45 points]\n",
    "You must include all three provided datasets in your analysis!\n",
    "\n",
    "[9 point]\n",
    "- Describe what data is available. \n",
    "- Choose 5-10 important variables for the questions you have identified in the section above. \n",
    "- Describe the type of data (scale, values, etc.) of the most critical variables in the data. \n",
    "\n",
    "[9 Points]\n",
    "- Verify data quality: \n",
    "    - Are there missing values? \n",
    "    - Duplicate Data? \n",
    "    - Outliers? \n",
    "    - Are those mistakes? \n",
    "    - How can these be fixed? \n",
    "- Ensure your report states how much data is removed and how much you have left. \n",
    "\n",
    "[9 points]\n",
    "- Give appropriate statistics (range, mode, mean, median, variance, etc.) for the most important variables in these files and describe what they mean or if you find something interesting. \n",
    "\n",
    "[9 points]\n",
    "- Visually explore the chosen attributes appropriately. \n",
    "- Provide an interpretation for each graph. \n",
    "- Explain why you chose the visualization for each attribute type. \n",
    "\n",
    "[9 points]\n",
    "- Explore relationships between attributes: \n",
    "    - Look at the attributes and then use cross-tabulation, correlation, group-wise averages, box plots, etc., as appropriate. "
   ]
  },
  {
   "cell_type": "code",
   "execution_count": 4,
   "metadata": {
    "vscode": {
     "languageId": "r"
    }
   },
   "outputs": [
    {
     "name": "stderr",
     "output_type": "stream",
     "text": [
      "Warning message:\n",
      "\"package 'tidyverse' is in use and will not be installed\"\n",
      "Warning message:\n",
      "\"package 'ggrepel' is in use and will not be installed\"\n",
      "Warning message:\n",
      "\"package 'ggcorrplot' is in use and will not be installed\"\n",
      "Warning message:\n",
      "\"package 'DT' is in use and will not be installed\"\n",
      "Warning message:\n",
      "\"package 'gridExtra' is in use and will not be installed\"\n",
      "Warning message:\n",
      "\"package 'sf' is in use and will not be installed\"\n",
      "Warning message:\n",
      "\"package 'modeest' is in use and will not be installed\"\n"
     ]
    }
   ],
   "source": [
    "# Packages\n",
    "install.packages(\"tidyverse\")\n",
    "install.packages(\"ggrepel\")\n",
    "install.packages(\"ggcorrplot\")\n",
    "install.packages(\"DT\")\n",
    "install.packages(\"gridExtra\")\n",
    "install.packages(\"sf\")\n",
    "install.packages(\"modeest\")\n",
    "\n",
    "# Libraries\n",
    "library(\"tidyverse\")\n",
    "library(\"ggrepel\")\n",
    "library(\"ggcorrplot\")\n",
    "library(\"DT\")\n",
    "library(\"gridExtra\")\n",
    "library(\"ggcorrplot\")\n",
    "library(\"sf\")\n",
    "library(\"modeest\")\n",
    "library(\"knitr\")"
   ]
  },
  {
   "cell_type": "code",
   "execution_count": 5,
   "metadata": {
    "vscode": {
     "languageId": "r"
    }
   },
   "outputs": [],
   "source": [
    "# Define base directory\n",
    "base_dir <- \"../../../../../../../Desktop/COVID-19/\"\n",
    "\n",
    "# Use file.path() for better compatibility\n",
    "global_mobility_path <- file.path(base_dir, \"Global_Mobility_Report.csv\")\n",
    "covid_cases_census_path <- file.path(base_dir, \"c19_census.csv\")\n",
    "covid_cases_tx_path <- file.path(base_dir, \"c19_tx.csv\")"
   ]
  },
  {
   "cell_type": "code",
   "execution_count": 6,
   "metadata": {
    "vscode": {
     "languageId": "r"
    }
   },
   "outputs": [
    {
     "name": "stdout",
     "output_type": "stream",
     "text": [
      "\n",
      "--- Loading Global Mobility Data ---\n",
      "\n",
      "--- Loading COVID-19 Cases and Census Data ---\n",
      "\n",
      "--- Loading COVID-19 Cases for Texas ---\n",
      "\n",
      "--- All datasets successfully loaded! ---\n"
     ]
    }
   ],
   "source": [
    "# Custom function to read CSV files\n",
    "read_data <- function(file_path, dataset_name) {\n",
    "  if (file.exists(file_path)) {\n",
    "    cat(paste0(\"\\n--- Loading \", dataset_name, \" ---\\n\"))\n",
    "    # Suppress col_type messages\n",
    "    return(read_csv(file_path, show_col_types = FALSE))\n",
    "  } else {\n",
    "    stop(paste0(\"Error: File not found -> \", file_path))\n",
    "  }\n",
    "}\n",
    "\n",
    "# Load datasets\n",
    "global_mobility <- read_data(global_mobility_path, \"Global Mobility Data\")\n",
    "covid_cases_census <- read_data(covid_cases_census_path, \"COVID-19 Cases and Census Data\")\n",
    "covid_cases_tx <- read_data(covid_cases_tx_path, \"COVID-19 Cases for Texas\")\n",
    "\n",
    "cat(\"\\n--- All datasets successfully loaded! ---\\n\")"
   ]
  },
  {
   "cell_type": "markdown",
   "metadata": {},
   "source": [
    "## 2.1 Global Mobility Data"
   ]
  },
  {
   "cell_type": "markdown",
   "metadata": {},
   "source": [
    "## Key Questions for Global Mobility Data\n",
    "\n",
    "#### 1. Which Texas counties experienced the sharpest economic disruptions based on retail and workplace mobility changes?\n",
    "**Why it matters:**  \n",
    "Mobility changes can be used as a proxy for economic activity. Counties with the steepest declines may have suffered greater economic damage.  \n",
    "\n",
    "**Key variables:**  \n",
    "- `region_2` (County name)  \n",
    "- `retail_change` (Retail & recreation mobility change)  \n",
    "- `workplace_change` (Workplace mobility change)  \n",
    "- `transit_change` (Transit stations mobility change)  \n",
    "\n",
    "#### 2. How did grocery and pharmacy mobility compare to retail and recreation mobility in response to COVID-19 waves in Texas?\n",
    "**Why it matters:**  \n",
    "This helps determine if consumer behavior showed a clear distinction between essential vs. non-essential trips.  \n",
    "\n",
    "**Key variables:**  \n",
    "- `grocery_change` (Grocery & pharmacy mobility change)  \n",
    "- `retail_change` (Retail & recreation mobility change)  \n",
    "- `date` (Observation date)  \n",
    "- `region_2` (County name)  \n",
    "\n",
    "#### 3. Did major Texas metropolitan areas (Houston, Dallas, Austin, San Antonio) experience different mobility trends compared to rural areas?\n",
    "**Why it matters:**  \n",
    "Large cities likely had different mobility patterns compared to rural counties, influenced by population density, economic activity, and public transit usage.  \n",
    "\n",
    "**Key variables:**\n",
    "- `region_2` (County name)  \n",
    "- `transit_change` (Transit stations mobility change)  \n",
    "- `workplace_change` (Workplace mobility change)  \n",
    "- `residential_change` (Residential mobility change)  "
   ]
  },
  {
   "cell_type": "code",
   "execution_count": 7,
   "metadata": {
    "vscode": {
     "languageId": "r"
    }
   },
   "outputs": [
    {
     "data": {
      "text/html": [
       "<table class=\"dataframe\">\n",
       "<caption>A spec_tbl_df: 10 × 14</caption>\n",
       "<thead>\n",
       "\t<tr><th scope=col>country_region_code</th><th scope=col>country_region</th><th scope=col>sub_region_1</th><th scope=col>sub_region_2</th><th scope=col>metro_area</th><th scope=col>iso_3166_2_code</th><th scope=col>census_fips_code</th><th scope=col>date</th><th scope=col>retail_and_recreation_percent_change_from_baseline</th><th scope=col>grocery_and_pharmacy_percent_change_from_baseline</th><th scope=col>parks_percent_change_from_baseline</th><th scope=col>transit_stations_percent_change_from_baseline</th><th scope=col>workplaces_percent_change_from_baseline</th><th scope=col>residential_percent_change_from_baseline</th></tr>\n",
       "\t<tr><th scope=col>&lt;chr&gt;</th><th scope=col>&lt;chr&gt;</th><th scope=col>&lt;chr&gt;</th><th scope=col>&lt;chr&gt;</th><th scope=col>&lt;chr&gt;</th><th scope=col>&lt;chr&gt;</th><th scope=col>&lt;chr&gt;</th><th scope=col>&lt;date&gt;</th><th scope=col>&lt;dbl&gt;</th><th scope=col>&lt;dbl&gt;</th><th scope=col>&lt;dbl&gt;</th><th scope=col>&lt;dbl&gt;</th><th scope=col>&lt;dbl&gt;</th><th scope=col>&lt;dbl&gt;</th></tr>\n",
       "</thead>\n",
       "<tbody>\n",
       "\t<tr><td>US</td><td>United States     </td><td>Arkansas             </td><td>Sebastian County </td><td>NA</td><td>NA   </td><td>05131</td><td>2020-03-27</td><td>-31</td><td> -7</td><td> 42</td><td>-41</td><td>-35</td><td>13</td></tr>\n",
       "\t<tr><td>DO</td><td>Dominican Republic</td><td>Puerto Plata Province</td><td>NA               </td><td>NA</td><td>DO-18</td><td>NA   </td><td>2020-11-13</td><td>-36</td><td> -7</td><td>-31</td><td>-30</td><td>-29</td><td> 9</td></tr>\n",
       "\t<tr><td>US</td><td>United States     </td><td>New Mexico           </td><td>Valencia County  </td><td>NA</td><td>NA   </td><td>35061</td><td>2020-03-04</td><td> 21</td><td> 23</td><td> 20</td><td>  4</td><td>  2</td><td>-2</td></tr>\n",
       "\t<tr><td>ES</td><td>Spain             </td><td>Valencian Community  </td><td>NA               </td><td>NA</td><td>ES-VC</td><td>NA   </td><td>2020-03-19</td><td>-94</td><td>-92</td><td>-86</td><td>-88</td><td>-88</td><td>37</td></tr>\n",
       "\t<tr><td>US</td><td>United States     </td><td>Texas                </td><td>Freestone County </td><td>NA</td><td>NA   </td><td>48161</td><td>2020-07-20</td><td> NA</td><td> NA</td><td> NA</td><td>  0</td><td>-15</td><td>NA</td></tr>\n",
       "\t<tr><td>US</td><td>United States     </td><td>Ohio                 </td><td>Washington County</td><td>NA</td><td>NA   </td><td>39167</td><td>2020-05-09</td><td>-15</td><td> 12</td><td> NA</td><td> NA</td><td>-25</td><td>NA</td></tr>\n",
       "\t<tr><td>BR</td><td>Brazil            </td><td>State of São Paulo   </td><td>Promissão        </td><td>NA</td><td>NA   </td><td>NA   </td><td>2021-01-05</td><td> NA</td><td>  9</td><td> NA</td><td> NA</td><td> -9</td><td> 6</td></tr>\n",
       "\t<tr><td>VN</td><td>Vietnam           </td><td>Bac Ninh Province    </td><td>NA               </td><td>NA</td><td>VN-56</td><td>NA   </td><td>2020-06-12</td><td> -6</td><td> 32</td><td> 10</td><td> 22</td><td> 13</td><td> 1</td></tr>\n",
       "\t<tr><td>TR</td><td>Turkey            </td><td>Tekirdağ             </td><td>Malkara          </td><td>NA</td><td>NA   </td><td>NA   </td><td>2020-08-13</td><td> NA</td><td> NA</td><td> NA</td><td> NA</td><td> -9</td><td>NA</td></tr>\n",
       "\t<tr><td>BR</td><td>Brazil            </td><td>State of Pernambuco  </td><td>Agrestina        </td><td>NA</td><td>NA   </td><td>NA   </td><td>2020-06-04</td><td> NA</td><td> NA</td><td> NA</td><td> NA</td><td>-18</td><td>NA</td></tr>\n",
       "</tbody>\n",
       "</table>\n"
      ],
      "text/latex": [
       "A spec\\_tbl\\_df: 10 × 14\n",
       "\\begin{tabular}{llllllllllllll}\n",
       " country\\_region\\_code & country\\_region & sub\\_region\\_1 & sub\\_region\\_2 & metro\\_area & iso\\_3166\\_2\\_code & census\\_fips\\_code & date & retail\\_and\\_recreation\\_percent\\_change\\_from\\_baseline & grocery\\_and\\_pharmacy\\_percent\\_change\\_from\\_baseline & parks\\_percent\\_change\\_from\\_baseline & transit\\_stations\\_percent\\_change\\_from\\_baseline & workplaces\\_percent\\_change\\_from\\_baseline & residential\\_percent\\_change\\_from\\_baseline\\\\\n",
       " <chr> & <chr> & <chr> & <chr> & <chr> & <chr> & <chr> & <date> & <dbl> & <dbl> & <dbl> & <dbl> & <dbl> & <dbl>\\\\\n",
       "\\hline\n",
       "\t US & United States      & Arkansas              & Sebastian County  & NA & NA    & 05131 & 2020-03-27 & -31 &  -7 &  42 & -41 & -35 & 13\\\\\n",
       "\t DO & Dominican Republic & Puerto Plata Province & NA                & NA & DO-18 & NA    & 2020-11-13 & -36 &  -7 & -31 & -30 & -29 &  9\\\\\n",
       "\t US & United States      & New Mexico            & Valencia County   & NA & NA    & 35061 & 2020-03-04 &  21 &  23 &  20 &   4 &   2 & -2\\\\\n",
       "\t ES & Spain              & Valencian Community   & NA                & NA & ES-VC & NA    & 2020-03-19 & -94 & -92 & -86 & -88 & -88 & 37\\\\\n",
       "\t US & United States      & Texas                 & Freestone County  & NA & NA    & 48161 & 2020-07-20 &  NA &  NA &  NA &   0 & -15 & NA\\\\\n",
       "\t US & United States      & Ohio                  & Washington County & NA & NA    & 39167 & 2020-05-09 & -15 &  12 &  NA &  NA & -25 & NA\\\\\n",
       "\t BR & Brazil             & State of São Paulo    & Promissão         & NA & NA    & NA    & 2021-01-05 &  NA &   9 &  NA &  NA &  -9 &  6\\\\\n",
       "\t VN & Vietnam            & Bac Ninh Province     & NA                & NA & VN-56 & NA    & 2020-06-12 &  -6 &  32 &  10 &  22 &  13 &  1\\\\\n",
       "\t TR & Turkey             & Tekirdağ              & Malkara           & NA & NA    & NA    & 2020-08-13 &  NA &  NA &  NA &  NA &  -9 & NA\\\\\n",
       "\t BR & Brazil             & State of Pernambuco   & Agrestina         & NA & NA    & NA    & 2020-06-04 &  NA &  NA &  NA &  NA & -18 & NA\\\\\n",
       "\\end{tabular}\n"
      ],
      "text/markdown": [
       "\n",
       "A spec_tbl_df: 10 × 14\n",
       "\n",
       "| country_region_code &lt;chr&gt; | country_region &lt;chr&gt; | sub_region_1 &lt;chr&gt; | sub_region_2 &lt;chr&gt; | metro_area &lt;chr&gt; | iso_3166_2_code &lt;chr&gt; | census_fips_code &lt;chr&gt; | date &lt;date&gt; | retail_and_recreation_percent_change_from_baseline &lt;dbl&gt; | grocery_and_pharmacy_percent_change_from_baseline &lt;dbl&gt; | parks_percent_change_from_baseline &lt;dbl&gt; | transit_stations_percent_change_from_baseline &lt;dbl&gt; | workplaces_percent_change_from_baseline &lt;dbl&gt; | residential_percent_change_from_baseline &lt;dbl&gt; |\n",
       "|---|---|---|---|---|---|---|---|---|---|---|---|---|---|\n",
       "| US | United States      | Arkansas              | Sebastian County  | NA | NA    | 05131 | 2020-03-27 | -31 |  -7 |  42 | -41 | -35 | 13 |\n",
       "| DO | Dominican Republic | Puerto Plata Province | NA                | NA | DO-18 | NA    | 2020-11-13 | -36 |  -7 | -31 | -30 | -29 |  9 |\n",
       "| US | United States      | New Mexico            | Valencia County   | NA | NA    | 35061 | 2020-03-04 |  21 |  23 |  20 |   4 |   2 | -2 |\n",
       "| ES | Spain              | Valencian Community   | NA                | NA | ES-VC | NA    | 2020-03-19 | -94 | -92 | -86 | -88 | -88 | 37 |\n",
       "| US | United States      | Texas                 | Freestone County  | NA | NA    | 48161 | 2020-07-20 |  NA |  NA |  NA |   0 | -15 | NA |\n",
       "| US | United States      | Ohio                  | Washington County | NA | NA    | 39167 | 2020-05-09 | -15 |  12 |  NA |  NA | -25 | NA |\n",
       "| BR | Brazil             | State of São Paulo    | Promissão         | NA | NA    | NA    | 2021-01-05 |  NA |   9 |  NA |  NA |  -9 |  6 |\n",
       "| VN | Vietnam            | Bac Ninh Province     | NA                | NA | VN-56 | NA    | 2020-06-12 |  -6 |  32 |  10 |  22 |  13 |  1 |\n",
       "| TR | Turkey             | Tekirdağ              | Malkara           | NA | NA    | NA    | 2020-08-13 |  NA |  NA |  NA |  NA |  -9 | NA |\n",
       "| BR | Brazil             | State of Pernambuco   | Agrestina         | NA | NA    | NA    | 2020-06-04 |  NA |  NA |  NA |  NA | -18 | NA |\n",
       "\n"
      ],
      "text/plain": [
       "   country_region_code country_region     sub_region_1         \n",
       "1  US                  United States      Arkansas             \n",
       "2  DO                  Dominican Republic Puerto Plata Province\n",
       "3  US                  United States      New Mexico           \n",
       "4  ES                  Spain              Valencian Community  \n",
       "5  US                  United States      Texas                \n",
       "6  US                  United States      Ohio                 \n",
       "7  BR                  Brazil             State of São Paulo   \n",
       "8  VN                  Vietnam            Bac Ninh Province    \n",
       "9  TR                  Turkey             Tekirdağ             \n",
       "10 BR                  Brazil             State of Pernambuco  \n",
       "   sub_region_2      metro_area iso_3166_2_code census_fips_code date      \n",
       "1  Sebastian County  NA         NA              05131            2020-03-27\n",
       "2  NA                NA         DO-18           NA               2020-11-13\n",
       "3  Valencia County   NA         NA              35061            2020-03-04\n",
       "4  NA                NA         ES-VC           NA               2020-03-19\n",
       "5  Freestone County  NA         NA              48161            2020-07-20\n",
       "6  Washington County NA         NA              39167            2020-05-09\n",
       "7  Promissão         NA         NA              NA               2021-01-05\n",
       "8  NA                NA         VN-56           NA               2020-06-12\n",
       "9  Malkara           NA         NA              NA               2020-08-13\n",
       "10 Agrestina         NA         NA              NA               2020-06-04\n",
       "   retail_and_recreation_percent_change_from_baseline\n",
       "1  -31                                               \n",
       "2  -36                                               \n",
       "3   21                                               \n",
       "4  -94                                               \n",
       "5   NA                                               \n",
       "6  -15                                               \n",
       "7   NA                                               \n",
       "8   -6                                               \n",
       "9   NA                                               \n",
       "10  NA                                               \n",
       "   grocery_and_pharmacy_percent_change_from_baseline\n",
       "1   -7                                              \n",
       "2   -7                                              \n",
       "3   23                                              \n",
       "4  -92                                              \n",
       "5   NA                                              \n",
       "6   12                                              \n",
       "7    9                                              \n",
       "8   32                                              \n",
       "9   NA                                              \n",
       "10  NA                                              \n",
       "   parks_percent_change_from_baseline\n",
       "1   42                               \n",
       "2  -31                               \n",
       "3   20                               \n",
       "4  -86                               \n",
       "5   NA                               \n",
       "6   NA                               \n",
       "7   NA                               \n",
       "8   10                               \n",
       "9   NA                               \n",
       "10  NA                               \n",
       "   transit_stations_percent_change_from_baseline\n",
       "1  -41                                          \n",
       "2  -30                                          \n",
       "3    4                                          \n",
       "4  -88                                          \n",
       "5    0                                          \n",
       "6   NA                                          \n",
       "7   NA                                          \n",
       "8   22                                          \n",
       "9   NA                                          \n",
       "10  NA                                          \n",
       "   workplaces_percent_change_from_baseline\n",
       "1  -35                                    \n",
       "2  -29                                    \n",
       "3    2                                    \n",
       "4  -88                                    \n",
       "5  -15                                    \n",
       "6  -25                                    \n",
       "7   -9                                    \n",
       "8   13                                    \n",
       "9   -9                                    \n",
       "10 -18                                    \n",
       "   residential_percent_change_from_baseline\n",
       "1  13                                      \n",
       "2   9                                      \n",
       "3  -2                                      \n",
       "4  37                                      \n",
       "5  NA                                      \n",
       "6  NA                                      \n",
       "7   6                                      \n",
       "8   1                                      \n",
       "9  NA                                      \n",
       "10 NA                                      "
      ]
     },
     "metadata": {},
     "output_type": "display_data"
    }
   ],
   "source": [
    "# Randomly display 10 rows\n",
    "global_mobility %>%\n",
    "  sample_n(10)"
   ]
  },
  {
   "cell_type": "code",
   "execution_count": 8,
   "metadata": {
    "vscode": {
     "languageId": "r"
    }
   },
   "outputs": [
    {
     "name": "stdout",
     "output_type": "stream",
     "text": [
      "Rows: 3,991,405\n",
      "Columns: 14\n",
      "$ country_region_code                                \u001b[3m\u001b[90m<chr>\u001b[39m\u001b[23m \"AE\", \"AE\", \"AE\", \"…\n",
      "$ country_region                                     \u001b[3m\u001b[90m<chr>\u001b[39m\u001b[23m \"United Arab Emirat…\n",
      "$ sub_region_1                                       \u001b[3m\u001b[90m<chr>\u001b[39m\u001b[23m \u001b[31mNA\u001b[39m, \u001b[31mNA\u001b[39m, \u001b[31mNA\u001b[39m, \u001b[31mNA\u001b[39m, \u001b[31mNA\u001b[39m,…\n",
      "$ sub_region_2                                       \u001b[3m\u001b[90m<chr>\u001b[39m\u001b[23m \u001b[31mNA\u001b[39m, \u001b[31mNA\u001b[39m, \u001b[31mNA\u001b[39m, \u001b[31mNA\u001b[39m, \u001b[31mNA\u001b[39m,…\n",
      "$ metro_area                                         \u001b[3m\u001b[90m<chr>\u001b[39m\u001b[23m \u001b[31mNA\u001b[39m, \u001b[31mNA\u001b[39m, \u001b[31mNA\u001b[39m, \u001b[31mNA\u001b[39m, \u001b[31mNA\u001b[39m,…\n",
      "$ iso_3166_2_code                                    \u001b[3m\u001b[90m<chr>\u001b[39m\u001b[23m \u001b[31mNA\u001b[39m, \u001b[31mNA\u001b[39m, \u001b[31mNA\u001b[39m, \u001b[31mNA\u001b[39m, \u001b[31mNA\u001b[39m,…\n",
      "$ census_fips_code                                   \u001b[3m\u001b[90m<chr>\u001b[39m\u001b[23m \u001b[31mNA\u001b[39m, \u001b[31mNA\u001b[39m, \u001b[31mNA\u001b[39m, \u001b[31mNA\u001b[39m, \u001b[31mNA\u001b[39m,…\n",
      "$ date                                               \u001b[3m\u001b[90m<date>\u001b[39m\u001b[23m 2020-02-15, 2020-0…\n",
      "$ retail_and_recreation_percent_change_from_baseline \u001b[3m\u001b[90m<dbl>\u001b[39m\u001b[23m 0, 1, -1, -2, -2, -…\n",
      "$ grocery_and_pharmacy_percent_change_from_baseline  \u001b[3m\u001b[90m<dbl>\u001b[39m\u001b[23m 4, 4, 1, 1, 0, 1, 2…\n",
      "$ parks_percent_change_from_baseline                 \u001b[3m\u001b[90m<dbl>\u001b[39m\u001b[23m 5, 4, 5, 5, 4, 6, 6…\n",
      "$ transit_stations_percent_change_from_baseline      \u001b[3m\u001b[90m<dbl>\u001b[39m\u001b[23m 0, 1, 1, 0, -1, 1, …\n",
      "$ workplaces_percent_change_from_baseline            \u001b[3m\u001b[90m<dbl>\u001b[39m\u001b[23m 2, 2, 2, 2, 2, 1, -…\n",
      "$ residential_percent_change_from_baseline           \u001b[3m\u001b[90m<dbl>\u001b[39m\u001b[23m 1, 1, 1, 1, 1, 1, 1…\n"
     ]
    }
   ],
   "source": [
    "# View of data\n",
    "glimpse(global_mobility)"
   ]
  },
  {
   "cell_type": "markdown",
   "metadata": {},
   "source": [
    "### 2.1.1 Dataset Description & Key Variables"
   ]
  },
  {
   "cell_type": "markdown",
   "metadata": {},
   "source": [
    "[9 point]\n",
    "- Describe what data is available. \n",
    "- Choose 5-10 important variables for the questions you have identified in the section above. \n",
    "- Describe the type of data (scale, values, etc.) of the most critical variables in the data. \n"
   ]
  },
  {
   "cell_type": "markdown",
   "metadata": {},
   "source": [
    "## 2.1.1 Dataset Description & Key Variables\n",
    "\n",
    "### **Global Mobility Dataset Overview**\n",
    "The global mobility dataset contains **3,991,405 rows and 14 columns**, tracking mobility changes across different countries and regions in response to COVID-19.\n",
    "\n",
    "### **Key Variables for Analysis**\n",
    "To track mobility behavior over time and allow for geographic comparisons within Texas, the following variables were selected:\n",
    "\n",
    "- **`date`** – Essential for tracking mobility trends over time (before, during, and after lockdowns).  \n",
    "- **`country`** – Ensures the data is filtered for the U.S. before focusing on Texas.  \n",
    "- **`region_1`** – Used to isolate Texas-specific data for analysis.  \n",
    "- **`region_2`** – Allows for county-level comparisons within Texas, adding another layer of geographic granularity.  \n",
    "- **`retail_change`** – Tracks consumer activity in non-essential locations (shopping, entertainment).  \n",
    "- **`grocery_change`** – Reflects essential shopping behavior during lockdowns.  \n",
    "- **`workplace_change`** – Key metric for work-from-home trends and return-to-office transitions.  \n",
    "- **`residential_change`** – Indicates whether people stayed at home more during lockdowns.  \n",
    "- **`transit_change`** – Measures public transportation usage and its impact from COVID-19.  \n",
    "\n",
    "### **Variables Dropped (Less Relevant to Texas-Specific Analysis)**\n",
    "Certain variables were excluded due to redundancy or lack of relevance to the study’s focus on Texas:\n",
    "\n",
    "- **`country_region_code`** – Redundant since `country` already identifies the country (U.S.).  \n",
    "- **`metro_area`** – More suited for urban/suburban comparisons, whereas this study focuses on state-wide and county-level trends.  \n",
    "- **`iso_3166_2_code`** – A standardized region identifier that does not add value beyond filtering for Texas.  \n",
    "- **`census_fips_code`** – Since `region_2` provides county-level detail, this additional identifier is unnecessary.  \n",
    "- **`parks_change`** – While relevant for analyzing outdoor mobility, it is secondary to essential and non-essential movement trends related to economic activity and public health measures. "
   ]
  },
  {
   "cell_type": "code",
   "execution_count": 9,
   "metadata": {
    "vscode": {
     "languageId": "r"
    }
   },
   "outputs": [],
   "source": [
    "# Rename columns and filter dataset\n",
    "global_mobility_filtered <- global_mobility %>%\n",
    "  select(\n",
    "    date,\n",
    "    country = country_region,\n",
    "    region_1 = sub_region_1,\n",
    "    region_2 = sub_region_2,\n",
    "    retail_change = retail_and_recreation_percent_change_from_baseline,\n",
    "    grocery_change = grocery_and_pharmacy_percent_change_from_baseline,\n",
    "    workplace_change = workplaces_percent_change_from_baseline,\n",
    "    residential_change = residential_percent_change_from_baseline,\n",
    "    transit_change = transit_stations_percent_change_from_baseline\n",
    "  ) %>%\n",
    "  select(date,\n",
    "         country,\n",
    "         region_1,\n",
    "         region_2,\n",
    "         retail_change,\n",
    "         grocery_change,\n",
    "         workplace_change,\n",
    "         residential_change,\n",
    "         transit_change)"
   ]
  },
  {
   "cell_type": "code",
   "execution_count": 10,
   "metadata": {
    "vscode": {
     "languageId": "r"
    }
   },
   "outputs": [
    {
     "data": {
      "text/html": [
       "<table class=\"dataframe\">\n",
       "<caption>A tibble: 6 × 9</caption>\n",
       "<thead>\n",
       "\t<tr><th scope=col>date</th><th scope=col>country</th><th scope=col>region_1</th><th scope=col>region_2</th><th scope=col>retail_change</th><th scope=col>grocery_change</th><th scope=col>workplace_change</th><th scope=col>residential_change</th><th scope=col>transit_change</th></tr>\n",
       "\t<tr><th scope=col>&lt;date&gt;</th><th scope=col>&lt;chr&gt;</th><th scope=col>&lt;chr&gt;</th><th scope=col>&lt;chr&gt;</th><th scope=col>&lt;dbl&gt;</th><th scope=col>&lt;dbl&gt;</th><th scope=col>&lt;dbl&gt;</th><th scope=col>&lt;dbl&gt;</th><th scope=col>&lt;dbl&gt;</th></tr>\n",
       "</thead>\n",
       "<tbody>\n",
       "\t<tr><td>2020-02-15</td><td>United Arab Emirates</td><td>NA</td><td>NA</td><td> 0</td><td>4</td><td>2</td><td>1</td><td> 0</td></tr>\n",
       "\t<tr><td>2020-02-16</td><td>United Arab Emirates</td><td>NA</td><td>NA</td><td> 1</td><td>4</td><td>2</td><td>1</td><td> 1</td></tr>\n",
       "\t<tr><td>2020-02-17</td><td>United Arab Emirates</td><td>NA</td><td>NA</td><td>-1</td><td>1</td><td>2</td><td>1</td><td> 1</td></tr>\n",
       "\t<tr><td>2020-02-18</td><td>United Arab Emirates</td><td>NA</td><td>NA</td><td>-2</td><td>1</td><td>2</td><td>1</td><td> 0</td></tr>\n",
       "\t<tr><td>2020-02-19</td><td>United Arab Emirates</td><td>NA</td><td>NA</td><td>-2</td><td>0</td><td>2</td><td>1</td><td>-1</td></tr>\n",
       "\t<tr><td>2020-02-20</td><td>United Arab Emirates</td><td>NA</td><td>NA</td><td>-2</td><td>1</td><td>1</td><td>1</td><td> 1</td></tr>\n",
       "</tbody>\n",
       "</table>\n"
      ],
      "text/latex": [
       "A tibble: 6 × 9\n",
       "\\begin{tabular}{lllllllll}\n",
       " date & country & region\\_1 & region\\_2 & retail\\_change & grocery\\_change & workplace\\_change & residential\\_change & transit\\_change\\\\\n",
       " <date> & <chr> & <chr> & <chr> & <dbl> & <dbl> & <dbl> & <dbl> & <dbl>\\\\\n",
       "\\hline\n",
       "\t 2020-02-15 & United Arab Emirates & NA & NA &  0 & 4 & 2 & 1 &  0\\\\\n",
       "\t 2020-02-16 & United Arab Emirates & NA & NA &  1 & 4 & 2 & 1 &  1\\\\\n",
       "\t 2020-02-17 & United Arab Emirates & NA & NA & -1 & 1 & 2 & 1 &  1\\\\\n",
       "\t 2020-02-18 & United Arab Emirates & NA & NA & -2 & 1 & 2 & 1 &  0\\\\\n",
       "\t 2020-02-19 & United Arab Emirates & NA & NA & -2 & 0 & 2 & 1 & -1\\\\\n",
       "\t 2020-02-20 & United Arab Emirates & NA & NA & -2 & 1 & 1 & 1 &  1\\\\\n",
       "\\end{tabular}\n"
      ],
      "text/markdown": [
       "\n",
       "A tibble: 6 × 9\n",
       "\n",
       "| date &lt;date&gt; | country &lt;chr&gt; | region_1 &lt;chr&gt; | region_2 &lt;chr&gt; | retail_change &lt;dbl&gt; | grocery_change &lt;dbl&gt; | workplace_change &lt;dbl&gt; | residential_change &lt;dbl&gt; | transit_change &lt;dbl&gt; |\n",
       "|---|---|---|---|---|---|---|---|---|\n",
       "| 2020-02-15 | United Arab Emirates | NA | NA |  0 | 4 | 2 | 1 |  0 |\n",
       "| 2020-02-16 | United Arab Emirates | NA | NA |  1 | 4 | 2 | 1 |  1 |\n",
       "| 2020-02-17 | United Arab Emirates | NA | NA | -1 | 1 | 2 | 1 |  1 |\n",
       "| 2020-02-18 | United Arab Emirates | NA | NA | -2 | 1 | 2 | 1 |  0 |\n",
       "| 2020-02-19 | United Arab Emirates | NA | NA | -2 | 0 | 2 | 1 | -1 |\n",
       "| 2020-02-20 | United Arab Emirates | NA | NA | -2 | 1 | 1 | 1 |  1 |\n",
       "\n"
      ],
      "text/plain": [
       "  date       country              region_1 region_2 retail_change\n",
       "1 2020-02-15 United Arab Emirates NA       NA        0           \n",
       "2 2020-02-16 United Arab Emirates NA       NA        1           \n",
       "3 2020-02-17 United Arab Emirates NA       NA       -1           \n",
       "4 2020-02-18 United Arab Emirates NA       NA       -2           \n",
       "5 2020-02-19 United Arab Emirates NA       NA       -2           \n",
       "6 2020-02-20 United Arab Emirates NA       NA       -2           \n",
       "  grocery_change workplace_change residential_change transit_change\n",
       "1 4              2                1                   0            \n",
       "2 4              2                1                   1            \n",
       "3 1              2                1                   1            \n",
       "4 1              2                1                   0            \n",
       "5 0              2                1                  -1            \n",
       "6 1              1                1                   1            "
      ]
     },
     "metadata": {},
     "output_type": "display_data"
    }
   ],
   "source": [
    "global_mobility_filtered %>%\n",
    "  head()"
   ]
  },
  {
   "cell_type": "code",
   "execution_count": 11,
   "metadata": {
    "vscode": {
     "languageId": "r"
    }
   },
   "outputs": [
    {
     "data": {
      "text/html": [
       "<style>\n",
       ".list-inline {list-style: none; margin:0; padding: 0}\n",
       ".list-inline>li {display: inline-block}\n",
       ".list-inline>li:not(:last-child)::after {content: \"\\00b7\"; padding: 0 .5ex}\n",
       "</style>\n",
       "<ol class=list-inline><li>'date'</li><li>'country'</li><li>'region_1'</li><li>'region_2'</li><li>'retail_change'</li><li>'grocery_change'</li><li>'workplace_change'</li><li>'residential_change'</li><li>'transit_change'</li></ol>\n"
      ],
      "text/latex": [
       "\\begin{enumerate*}\n",
       "\\item 'date'\n",
       "\\item 'country'\n",
       "\\item 'region\\_1'\n",
       "\\item 'region\\_2'\n",
       "\\item 'retail\\_change'\n",
       "\\item 'grocery\\_change'\n",
       "\\item 'workplace\\_change'\n",
       "\\item 'residential\\_change'\n",
       "\\item 'transit\\_change'\n",
       "\\end{enumerate*}\n"
      ],
      "text/markdown": [
       "1. 'date'\n",
       "2. 'country'\n",
       "3. 'region_1'\n",
       "4. 'region_2'\n",
       "5. 'retail_change'\n",
       "6. 'grocery_change'\n",
       "7. 'workplace_change'\n",
       "8. 'residential_change'\n",
       "9. 'transit_change'\n",
       "\n",
       "\n"
      ],
      "text/plain": [
       "[1] \"date\"               \"country\"            \"region_1\"          \n",
       "[4] \"region_2\"           \"retail_change\"      \"grocery_change\"    \n",
       "[7] \"workplace_change\"   \"residential_change\" \"transit_change\"    "
      ]
     },
     "metadata": {},
     "output_type": "display_data"
    }
   ],
   "source": [
    "colnames(global_mobility_filtered)"
   ]
  },
  {
   "cell_type": "code",
   "execution_count": 12,
   "metadata": {
    "vscode": {
     "languageId": "r"
    }
   },
   "outputs": [
    {
     "name": "stdout",
     "output_type": "stream",
     "text": [
      "Rows: 3,991,405\n",
      "Columns: 9\n",
      "$ date               \u001b[3m\u001b[90m<date>\u001b[39m\u001b[23m 2020-02-15, 2020-02-16, 2020-02-17, 2020-02-18, 20…\n",
      "$ country            \u001b[3m\u001b[90m<chr>\u001b[39m\u001b[23m \"United Arab Emirates\", \"United Arab Emirates\", \"Un…\n",
      "$ region_1           \u001b[3m\u001b[90m<chr>\u001b[39m\u001b[23m \u001b[31mNA\u001b[39m, \u001b[31mNA\u001b[39m, \u001b[31mNA\u001b[39m, \u001b[31mNA\u001b[39m, \u001b[31mNA\u001b[39m, \u001b[31mNA\u001b[39m, \u001b[31mNA\u001b[39m, \u001b[31mNA\u001b[39m, \u001b[31mNA\u001b[39m, \u001b[31mNA\u001b[39m, \u001b[31mNA\u001b[39m, \u001b[31mNA\u001b[39m, \u001b[31mNA\u001b[39m,…\n",
      "$ region_2           \u001b[3m\u001b[90m<chr>\u001b[39m\u001b[23m \u001b[31mNA\u001b[39m, \u001b[31mNA\u001b[39m, \u001b[31mNA\u001b[39m, \u001b[31mNA\u001b[39m, \u001b[31mNA\u001b[39m, \u001b[31mNA\u001b[39m, \u001b[31mNA\u001b[39m, \u001b[31mNA\u001b[39m, \u001b[31mNA\u001b[39m, \u001b[31mNA\u001b[39m, \u001b[31mNA\u001b[39m, \u001b[31mNA\u001b[39m, \u001b[31mNA\u001b[39m,…\n",
      "$ retail_change      \u001b[3m\u001b[90m<dbl>\u001b[39m\u001b[23m 0, 1, -1, -2, -2, -2, -3, -2, -1, -3, -3, -2, 1, 1,…\n",
      "$ grocery_change     \u001b[3m\u001b[90m<dbl>\u001b[39m\u001b[23m 4, 4, 1, 1, 0, 1, 2, 2, 3, 0, 2, 1, 5, 5, 7, 10, 7,…\n",
      "$ workplace_change   \u001b[3m\u001b[90m<dbl>\u001b[39m\u001b[23m 2, 2, 2, 2, 2, 1, -1, 3, 4, 3, 3, 3, 3, 1, 5, 4, 4,…\n",
      "$ residential_change \u001b[3m\u001b[90m<dbl>\u001b[39m\u001b[23m 1, 1, 1, 1, 1, 1, 1, 1, 1, 1, 1, 1, 1, 1, 0, 1, 1, …\n",
      "$ transit_change     \u001b[3m\u001b[90m<dbl>\u001b[39m\u001b[23m 0, 1, 1, 0, -1, 1, 0, -2, -1, -1, -2, -2, -1, -1, -…\n"
     ]
    }
   ],
   "source": [
    "glimpse(global_mobility_filtered)"
   ]
  },
  {
   "cell_type": "markdown",
   "metadata": {},
   "source": [
    "### 2.1.2 Data Types & Justification for Changes"
   ]
  },
  {
   "cell_type": "markdown",
   "metadata": {},
   "source": [
    "## 2.1.2 Data Types & Justification for Changes\n",
    "\n",
    "The dataset consists of various variables capturing mobility trends in Texas during COVID-19. To optimize analysis and memory efficiency, appropriate data types were assigned to each variable based on their nature and intended use.\n",
    "\n",
    "### **1. Categorical Variables (Converted from Character to Factor)**\n",
    "Categorical variables represent distinct groups and were originally stored as character (`chr`). Converting them to **factors** improves computational efficiency, especially when performing **grouping, filtering, or statistical modeling**.\n",
    "\n",
    "- **`country` (Factor)** – Identifies the country where mobility data was recorded. Since the analysis focuses on Texas within the U.S., this variable is primarily used for filtering.  \n",
    "- **`region_1` (Factor)** – Represents the first-level administrative division, which, in this case, helps isolate Texas-specific data.  \n",
    "- **`region_2` (Factor)** – Denotes Texas counties, allowing for granular comparisons of mobility trends at the county level.  \n",
    "\n",
    "### **2. Time Variable (Date Format)**\n",
    "Time-related data plays a crucial role in identifying **trends and seasonal patterns**.\n",
    "\n",
    "- **`date` (Date)** – Stored as a proper date format (`Date`), enabling chronological analysis, time-series visualizations, and easier manipulation for aggregations (e.g., weekly or monthly trends).  \n",
    "\n",
    "### **3. Continuous Numerical Variables (Kept as Double)**\n",
    "Percentage change values in mobility serve as key indicators of behavior shifts. These were already stored as **double**, which is suitable for numerical calculations.\n",
    "\n",
    "- **`retail_change` (Double)** – Measures consumer activity in non-essential locations (e.g., malls and entertainment venues).  \n",
    "- **`grocery_change` (Double)** – Captures foot traffic in essential businesses, reflecting consumer demand during lockdowns.  \n",
    "- **`workplace_change` (Double)** – Tracks fluctuations in workplace attendance, indicating work-from-home trends and return-to-office patterns.  \n",
    "- **`residential_change` (Double)** – Reflects changes in time spent at home, which can correlate with lockdown measures and remote work.  \n",
    "- **`transit_change` (Double)** – Shows changes in public transportation usage, which can be influenced by COVID-19 restrictions and economic activity.  "
   ]
  },
  {
   "cell_type": "code",
   "execution_count": 14,
   "metadata": {
    "vscode": {
     "languageId": "r"
    }
   },
   "outputs": [],
   "source": [
    "# Filter for Texas, since we will focus on this region,\n",
    "# before converting to factors\n",
    "texas_mobility_data <- global_mobility_filtered %>%\n",
    "  filter(country == \"United States\" & region_1 == \"Texas\")"
   ]
  },
  {
   "cell_type": "code",
   "execution_count": 15,
   "metadata": {
    "vscode": {
     "languageId": "r"
    }
   },
   "outputs": [
    {
     "name": "stdout",
     "output_type": "stream",
     "text": [
      "Rows: 64,162\n",
      "Columns: 9\n",
      "$ date               \u001b[3m\u001b[90m<date>\u001b[39m\u001b[23m 2020-02-15, 2020-02-16, 2020-02-17, 2020-02-18, 20…\n",
      "$ country            \u001b[3m\u001b[90m<chr>\u001b[39m\u001b[23m \"United States\", \"United States\", \"United States\", …\n",
      "$ region_1           \u001b[3m\u001b[90m<chr>\u001b[39m\u001b[23m \"Texas\", \"Texas\", \"Texas\", \"Texas\", \"Texas\", \"Texas…\n",
      "$ region_2           \u001b[3m\u001b[90m<chr>\u001b[39m\u001b[23m \u001b[31mNA\u001b[39m, \u001b[31mNA\u001b[39m, \u001b[31mNA\u001b[39m, \u001b[31mNA\u001b[39m, \u001b[31mNA\u001b[39m, \u001b[31mNA\u001b[39m, \u001b[31mNA\u001b[39m, \u001b[31mNA\u001b[39m, \u001b[31mNA\u001b[39m, \u001b[31mNA\u001b[39m, \u001b[31mNA\u001b[39m, \u001b[31mNA\u001b[39m, \u001b[31mNA\u001b[39m,…\n",
      "$ retail_change      \u001b[3m\u001b[90m<dbl>\u001b[39m\u001b[23m 3, 8, 6, -1, -2, -1, 2, 3, 4, 2, 6, 10, 11, 10, 10,…\n",
      "$ grocery_change     \u001b[3m\u001b[90m<dbl>\u001b[39m\u001b[23m 3, 3, 2, -1, 0, -2, 0, 1, 1, 1, 2, 6, 6, 8, 8, 9, 7…\n",
      "$ workplace_change   \u001b[3m\u001b[90m<dbl>\u001b[39m\u001b[23m 1, 1, -18, 1, 3, 1, 3, 4, 1, 3, 3, 4, 2, 1, 3, 2, 4…\n",
      "$ residential_change \u001b[3m\u001b[90m<dbl>\u001b[39m\u001b[23m -1, -1, 4, 0, 1, 1, -1, -1, 0, 0, -1, -1, -2, -2, -…\n",
      "$ transit_change     \u001b[3m\u001b[90m<dbl>\u001b[39m\u001b[23m 3, 4, 2, 3, 0, -1, 2, 3, 3, 2, 3, 5, 7, 7, 9, 7, 4,…\n"
     ]
    }
   ],
   "source": [
    "# Confirming filtering success\n",
    "glimpse(texas_mobility_data)"
   ]
  },
  {
   "cell_type": "code",
   "execution_count": 16,
   "metadata": {
    "vscode": {
     "languageId": "r"
    }
   },
   "outputs": [],
   "source": [
    "# Apply data type changes\n",
    "texas_mobility_data <- texas_mobility_data %>%\n",
    "  # Convert categorical variables from character to factor\n",
    "  mutate(\n",
    "    country = as.factor(country),\n",
    "    region_1 = as.factor(region_1),\n",
    "    region_2 = as.factor(region_2),\n",
    "    # Data already in correct format\n",
    "    # The following line is just for clarify\n",
    "    date = as.Date(date),\n",
    "  )"
   ]
  },
  {
   "cell_type": "code",
   "execution_count": 17,
   "metadata": {
    "vscode": {
     "languageId": "r"
    }
   },
   "outputs": [
    {
     "name": "stdout",
     "output_type": "stream",
     "text": [
      "Rows: 64,162\n",
      "Columns: 9\n",
      "$ date               \u001b[3m\u001b[90m<date>\u001b[39m\u001b[23m 2020-02-15, 2020-02-16, 2020-02-17, 2020-02-18, 20…\n",
      "$ country            \u001b[3m\u001b[90m<fct>\u001b[39m\u001b[23m United States, United States, United States, United…\n",
      "$ region_1           \u001b[3m\u001b[90m<fct>\u001b[39m\u001b[23m Texas, Texas, Texas, Texas, Texas, Texas, Texas, Te…\n",
      "$ region_2           \u001b[3m\u001b[90m<fct>\u001b[39m\u001b[23m \u001b[31mNA\u001b[39m, \u001b[31mNA\u001b[39m, \u001b[31mNA\u001b[39m, \u001b[31mNA\u001b[39m, \u001b[31mNA\u001b[39m, \u001b[31mNA\u001b[39m, \u001b[31mNA\u001b[39m, \u001b[31mNA\u001b[39m, \u001b[31mNA\u001b[39m, \u001b[31mNA\u001b[39m, \u001b[31mNA\u001b[39m, \u001b[31mNA\u001b[39m, \u001b[31mNA\u001b[39m,…\n",
      "$ retail_change      \u001b[3m\u001b[90m<dbl>\u001b[39m\u001b[23m 3, 8, 6, -1, -2, -1, 2, 3, 4, 2, 6, 10, 11, 10, 10,…\n",
      "$ grocery_change     \u001b[3m\u001b[90m<dbl>\u001b[39m\u001b[23m 3, 3, 2, -1, 0, -2, 0, 1, 1, 1, 2, 6, 6, 8, 8, 9, 7…\n",
      "$ workplace_change   \u001b[3m\u001b[90m<dbl>\u001b[39m\u001b[23m 1, 1, -18, 1, 3, 1, 3, 4, 1, 3, 3, 4, 2, 1, 3, 2, 4…\n",
      "$ residential_change \u001b[3m\u001b[90m<dbl>\u001b[39m\u001b[23m -1, -1, 4, 0, 1, 1, -1, -1, 0, 0, -1, -1, -2, -2, -…\n",
      "$ transit_change     \u001b[3m\u001b[90m<dbl>\u001b[39m\u001b[23m 3, 4, 2, 3, 0, -1, 2, 3, 3, 2, 3, 5, 7, 7, 9, 7, 4,…\n"
     ]
    }
   ],
   "source": [
    "# Confirming data type change\n",
    "glimpse(texas_mobility_data)"
   ]
  },
  {
   "cell_type": "markdown",
   "metadata": {},
   "source": [
    "### 2.1.3 Verifying Data Quality"
   ]
  },
  {
   "cell_type": "markdown",
   "metadata": {},
   "source": [
    "[9 Points]\n",
    "- Verify data quality: \n",
    "    - Are there missing values? \n",
    "    - Duplicate Data? \n",
    "    - Outliers? \n",
    "    - Are those mistakes? \n",
    "    - How can these be fixed? \n",
    "- Ensure your report states how much data is removed and how much you have left. "
   ]
  },
  {
   "cell_type": "markdown",
   "metadata": {},
   "source": [
    "### Checking Missing Values"
   ]
  },
  {
   "cell_type": "code",
   "execution_count": 19,
   "metadata": {
    "vscode": {
     "languageId": "r"
    }
   },
   "outputs": [
    {
     "name": "stdout",
     "output_type": "stream",
     "text": [
      "\u001b[90m# A tibble: 9 × 3\u001b[39m\n",
      "  column             missing_count missing_pct\n",
      "  \u001b[3m\u001b[90m<chr>\u001b[39m\u001b[23m                      \u001b[3m\u001b[90m<int>\u001b[39m\u001b[23m       \u001b[3m\u001b[90m<dbl>\u001b[39m\u001b[23m\n",
      "\u001b[90m1\u001b[39m date                           0       0    \n",
      "\u001b[90m2\u001b[39m country                        0       0    \n",
      "\u001b[90m3\u001b[39m region_1                       0       0    \n",
      "\u001b[90m4\u001b[39m region_2                     343       0.535\n",
      "\u001b[90m5\u001b[39m retail_change              \u001b[4m2\u001b[24m\u001b[4m3\u001b[24m368      36.4  \n",
      "\u001b[90m6\u001b[39m grocery_change             \u001b[4m2\u001b[24m\u001b[4m6\u001b[24m865      41.9  \n",
      "\u001b[90m7\u001b[39m workplace_change            \u001b[4m4\u001b[24m789       7.46 \n",
      "\u001b[90m8\u001b[39m residential_change         \u001b[4m3\u001b[24m\u001b[4m4\u001b[24m106      53.2  \n",
      "\u001b[90m9\u001b[39m transit_change             \u001b[4m3\u001b[24m\u001b[4m4\u001b[24m109      53.2  \n"
     ]
    }
   ],
   "source": [
    "# Check for missing values in each column\n",
    "missing_values <- texas_mobility_data %>%\n",
    "  summarise(across(everything(), ~ sum(is.na(.)))) %>%\n",
    "  pivot_longer(cols = everything(), names_to = \"column\", values_to = \"missing_count\") %>%\n",
    "  mutate(missing_pct = (missing_count / nrow(texas_mobility_data)) * 100)\n",
    "\n",
    "# View missing values summary\n",
    "print(missing_values)"
   ]
  },
  {
   "cell_type": "code",
   "execution_count": 20,
   "metadata": {
    "vscode": {
     "languageId": "r"
    }
   },
   "outputs": [
    {
     "name": "stdout",
     "output_type": "stream",
     "text": [
      "Remaining rows after missing value removal: 18194 \n"
     ]
    },
    {
     "data": {
      "text/plain": [
       "      date                     country       region_1    \n",
       " Min.   :2020-02-15   United States:18194   Texas:18194  \n",
       " 1st Qu.:2020-05-08                                      \n",
       " Median :2020-07-31                                      \n",
       " Mean   :2020-08-06                                      \n",
       " 3rd Qu.:2020-11-07                                      \n",
       " Max.   :2021-01-22                                      \n",
       "                                                         \n",
       "           region_2     retail_change    grocery_change    workplace_change\n",
       " Bexar County  :  343   Min.   :-91.00   Min.   :-79.000   Min.   :-88.00  \n",
       " Dallas County :  343   1st Qu.:-21.00   1st Qu.:-11.000   1st Qu.:-36.00  \n",
       " El Paso County:  343   Median :-12.00   Median : -5.000   Median :-27.00  \n",
       " Harris County :  343   Mean   :-13.11   Mean   : -4.091   Mean   :-26.87  \n",
       " Hidalgo County:  343   3rd Qu.: -4.00   3rd Qu.:  3.000   3rd Qu.:-17.00  \n",
       " Midland County:  343   Max.   :152.00   Max.   : 69.000   Max.   : 27.00  \n",
       " (Other)       :16136                                                      \n",
       " residential_change transit_change  \n",
       " Min.   :-6.000     Min.   :-80.00  \n",
       " 1st Qu.: 5.000     1st Qu.:-27.00  \n",
       " Median : 9.000     Median : -9.00  \n",
       " Mean   : 9.196     Mean   :-11.19  \n",
       " 3rd Qu.:13.000     3rd Qu.:  3.00  \n",
       " Max.   :38.000     Max.   :141.00  \n",
       "                                    "
      ]
     },
     "metadata": {},
     "output_type": "display_data"
    }
   ],
   "source": [
    "# Remove rows with any missing values in the mobility columns\n",
    "texas_mobility_data <- texas_mobility_data %>%\n",
    "  drop_na(region_2, retail_change, grocery_change, workplace_change, residential_change, transit_change)\n",
    "\n",
    "# Check how much data is left\n",
    "cat(\"Remaining rows after missing value removal:\", nrow(texas_mobility_data), \"\\n\")\n",
    "\n",
    "# Check how much data is left after removal\n",
    "summary(texas_mobility_data)"
   ]
  },
  {
   "cell_type": "markdown",
   "metadata": {},
   "source": [
    "### **Handling Missing Values**\n",
    "Upon assessing missing values in the dataset, we initially identified substantial gaps across multiple mobility-related columns. The dataset originally contained **64,162 rows and 9 columns**, but several mobility metrics had significant missing data:  \n",
    "\n",
    "- **Retail & Recreation Mobility:** 23,368 missing values (**36.4%**)  \n",
    "- **Grocery & Pharmacy Mobility:** 26,865 missing values (**41.9%**)  \n",
    "- **Workplace Mobility:** 4,789 missing values (**7.5%**)  \n",
    "- **Residential Mobility:** 34,000+ missing values (**53.1%**)  \n",
    "- **Transit Station Mobility:** 34,000+ missing values (**53.1%**)  \n",
    "- **County Information (`region_2`)**: 343 missing rows  \n",
    "\n",
    "These missing values resulted from **data collection limitations** such as:  \n",
    "- Gaps in location tracking in certain areas  \n",
    "- Variations in reporting practices  \n",
    "- Data sparsity during early pandemic phases  \n",
    "\n",
    "Since our analysis focuses on **county-level mobility trends in Texas**, retaining incomplete records could lead to **biased insights** and misrepresent movement patterns. To ensure **data integrity and consistency**, we **removed all rows with missing values**.  \n",
    "\n",
    "After removal, the dataset size decreased from **64,162 rows to 18,194 rows**, reflecting a **71.6% reduction**. Despite this drop, the cleaned dataset **ensures more accurate mobility trend comparisons across Texas counties**."
   ]
  },
  {
   "cell_type": "markdown",
   "metadata": {},
   "source": [
    "### Checking Duplicates"
   ]
  },
  {
   "cell_type": "code",
   "execution_count": 23,
   "metadata": {
    "vscode": {
     "languageId": "r"
    }
   },
   "outputs": [
    {
     "name": "stdout",
     "output_type": "stream",
     "text": [
      "Number of duplicate rows: 0 \n"
     ]
    }
   ],
   "source": [
    "# Identify duplicate rows\n",
    "duplicates <- texas_mobility_data %>%\n",
    "  filter(duplicated(.))\n",
    "\n",
    "# Count duplicate rows\n",
    "num_duplicates <- nrow(duplicates)\n",
    "\n",
    "# View duplicates\n",
    "cat(\"Number of duplicate rows:\", num_duplicates, \"\\n\")"
   ]
  },
  {
   "cell_type": "code",
   "execution_count": 24,
   "metadata": {
    "vscode": {
     "languageId": "r"
    }
   },
   "outputs": [
    {
     "name": "stdout",
     "output_type": "stream",
     "text": [
      "No duplicate rows found.\n"
     ]
    }
   ],
   "source": [
    "# Remove duplicates only if they exist\n",
    "if (num_duplicates > 0) {\n",
    "  texas_mobility_data <- texas_mobility_data %>%\n",
    "    distinct()\n",
    "  cat(\"Duplicates removed. New dataset size:\", nrow(texas_mobility_data), \"rows\\n\")\n",
    "} else {\n",
    "  cat(\"No duplicate rows found.\\n\")\n",
    "}"
   ]
  },
  {
   "cell_type": "markdown",
   "metadata": {},
   "source": [
    "### Duplicate Check\n",
    "\n",
    "To ensure data quality, we examined the dataset for **duplicate rows**, as they could distort mobility trend analyses by **overrepresenting specific data points**. Duplicate rows can arise due to:  \n",
    "- **Data entry errors**  \n",
    "- **Redundant reporting**  \n",
    "- **Inconsistencies in data aggregation processes**  \n",
    "\n",
    "After running a duplication check, **no duplicate rows were detected** in the dataset. This indicates that **each row represents a unique combination of date, location, and mobility metrics**.  \n",
    "\n",
    "### Outcome:  \n",
    "- **No data was removed** in this step.  \n",
    "- The dataset remains at **18,194 rows**.  \n",
    "- This confirms that the dataset is **free from redundancy**, ensuring that our analysis reflects **distinct and meaningful mobility trends** across Texas counties.  "
   ]
  },
  {
   "cell_type": "markdown",
   "metadata": {},
   "source": [
    "### Checking Outliers"
   ]
  },
  {
   "cell_type": "code",
   "execution_count": 27,
   "metadata": {
    "vscode": {
     "languageId": "r"
    }
   },
   "outputs": [
    {
     "name": "stdout",
     "output_type": "stream",
     "text": [
      "\u001b[90m# A tibble: 5 × 2\u001b[39m\n",
      "  Column                      Outlier_Count\n",
      "  \u001b[3m\u001b[90m<chr>\u001b[39m\u001b[23m                               \u001b[3m\u001b[90m<int>\u001b[39m\u001b[23m\n",
      "\u001b[90m1\u001b[39m retail_change_outliers                521\n",
      "\u001b[90m2\u001b[39m grocery_change_outliers               531\n",
      "\u001b[90m3\u001b[39m workplace_change_outliers             269\n",
      "\u001b[90m4\u001b[39m residential_change_outliers           187\n",
      "\u001b[90m5\u001b[39m transit_change_outliers               157\n"
     ]
    }
   ],
   "source": [
    "# Define a function to count outliers using IQR\n",
    "count_outliers <- function(x) {\n",
    "  Q1 <- quantile(x, 0.25, na.rm = TRUE)\n",
    "  Q3 <- quantile(x, 0.75, na.rm = TRUE)\n",
    "  IQR_value <- Q3 - Q1\n",
    "  sum(x < (Q1 - 1.5 * IQR_value) | x > (Q3 + 1.5 * IQR_value), na.rm = TRUE)\n",
    "}\n",
    "\n",
    "# Create a summary table of outliers for each mobility change column\n",
    "outlier_summary <- texas_mobility_data %>%\n",
    "  summarise(across(\n",
    "    c(retail_change, grocery_change, workplace_change, residential_change, transit_change),\n",
    "    count_outliers,\n",
    "    .names = \"{.col}_outliers\"\n",
    "  )) %>%\n",
    "  pivot_longer(everything(), names_to = \"Column\", values_to = \"Outlier_Count\")\n",
    "\n",
    "# Print the table\n",
    "print(outlier_summary, width=Inf)"
   ]
  },
  {
   "cell_type": "code",
   "execution_count": 28,
   "metadata": {
    "vscode": {
     "languageId": "r"
    }
   },
   "outputs": [
    {
     "name": "stdout",
     "output_type": "stream",
     "text": [
      "Number of rows removed due to outliers: 1108 \n"
     ]
    }
   ],
   "source": [
    "# Custom function check if value is outlier using IQR\n",
    "is_not_outlier <- function(x) {\n",
    "  Q1 <- quantile(x, 0.25, na.rm = TRUE)\n",
    "  Q3 <- quantile(x, 0.75, na.rm = TRUE)\n",
    "  IQR_value <- Q3 - Q1\n",
    "  x >= (Q1 - 1.5 * IQR_value) & x <= (Q3 + 1.5 * IQR_value)\n",
    "}\n",
    "\n",
    "# Remove rows containing outliers\n",
    "texas_mobility_data_cleaned <- texas_mobility_data %>%\n",
    "  filter(\n",
    "    is_not_outlier(retail_change) &\n",
    "    is_not_outlier(grocery_change) &\n",
    "    is_not_outlier(workplace_change) &\n",
    "    is_not_outlier(residential_change) &\n",
    "    is_not_outlier(transit_change)\n",
    "  )\n",
    "\n",
    "# How many rows were removed\n",
    "rows_removed <- nrow(texas_mobility_data) - nrow(texas_mobility_data_cleaned)\n",
    "cat(\"Number of rows removed due to outliers:\", rows_removed, \"\\n\")"
   ]
  },
  {
   "cell_type": "markdown",
   "metadata": {},
   "source": [
    "### Outlier Detection and Removal\n",
    "\n",
    "To further refine the dataset and ensure that **extreme values do not skew the analysis**, we conducted an **outlier detection process** using the **Interquartile Range (IQR) method**. Outliers were identified for each mobility category based on values that fell:  \n",
    "- **Below** Q1 - 1.5 × IQR  \n",
    "- **Above** Q3 + 1.5 × IQR  \n",
    "\n",
    "where **Q1 and Q3** represent the first and third quartiles, respectively.  \n",
    "\n",
    "### Outliers Identified\n",
    "The analysis revealed the following number of outliers across mobility categories:  \n",
    "- **Retail & Recreation:** 521  \n",
    "- **Grocery & Pharmacy:** 531  \n",
    "- **Workplaces:** 269  \n",
    "- **Residential:** 187  \n",
    "- **Transit Stations:** 157  \n",
    "\n",
    "These extreme values **likely represent anomalies** in mobility patterns due to:  \n",
    "**Local lockdowns or restrictions**  \n",
    "**Holidays affecting movement behavior**  \n",
    "**Potential inconsistencies in data collection**  \n",
    "\n",
    "### Outlier Removal\n",
    "To maintain the **integrity of the dataset**, we removed these extreme values. As a result:  \n",
    "- **1,108 rows were removed** due to outliers  \n",
    "- The dataset is now **free from extreme mobility fluctuations**, ensuring a **more reliable** representation of mobility trends across Texas counties  \n",
    "\n",
    "Removing these outliers improves **data consistency** and ensures that our **subsequent analyses are not distorted by extreme anomalies**."
   ]
  },
  {
   "cell_type": "code",
   "execution_count": 29,
   "metadata": {
    "vscode": {
     "languageId": "r"
    }
   },
   "outputs": [
    {
     "data": {
      "text/plain": [
       "      date                     country       region_1    \n",
       " Min.   :2020-02-15   United States:17086   Texas:17086  \n",
       " 1st Qu.:2020-05-13                                      \n",
       " Median :2020-08-03                                      \n",
       " Mean   :2020-08-07                                      \n",
       " 3rd Qu.:2020-11-05                                      \n",
       " Max.   :2021-01-22                                      \n",
       "                                                         \n",
       "           region_2     retail_change    grocery_change    workplace_change\n",
       " Bexar County  :  331   Min.   :-46.00   Min.   :-32.000   Min.   :-64.0   \n",
       " Harris County :  331   1st Qu.:-21.00   1st Qu.:-11.000   1st Qu.:-35.0   \n",
       " Dallas County :  330   Median :-12.00   Median : -5.000   Median :-27.0   \n",
       " Ector County  :  328   Mean   :-12.37   Mean   : -3.995   Mean   :-25.8   \n",
       " Nueces County :  328   3rd Qu.: -4.00   3rd Qu.:  3.000   3rd Qu.:-17.0   \n",
       " Tarrant County:  327   Max.   : 21.00   Max.   : 24.000   Max.   : 11.0   \n",
       " (Other)       :15111                                                      \n",
       " residential_change transit_change  \n",
       " Min.   :-4.000     Min.   :-72.00  \n",
       " 1st Qu.: 5.000     1st Qu.:-26.00  \n",
       " Median : 9.000     Median : -9.00  \n",
       " Mean   : 8.833     Mean   :-11.01  \n",
       " 3rd Qu.:12.000     3rd Qu.:  3.00  \n",
       " Max.   :25.000     Max.   : 48.00  \n",
       "                                    "
      ]
     },
     "metadata": {},
     "output_type": "display_data"
    }
   ],
   "source": [
    "# Stats after cleaning data\n",
    "summary(texas_mobility_data_cleaned)"
   ]
  },
  {
   "cell_type": "markdown",
   "metadata": {},
   "source": [
    "### Final Dataset Summary\n",
    "\n",
    "After processing the dataset by **removing missing values and outliers**, the final dataset was **reduced from 64,162 rows to 17,086 rows**. This significant reduction resulted from filtering out:  \n",
    "- **Incomplete records** (missing values)  \n",
    "- **Extreme mobility fluctuations** (outliers)  \n",
    "\n",
    "### Why This Matters\n",
    "By refining the dataset, we ensure that our analysis is based on **cleaner and more reliable data**, which:  \n",
    "- **Minimizes potential biases** caused by data inconsistencies  \n",
    "- **Enhances accuracy** in detecting mobility trends across Texas counties  \n",
    "- **Improves overall data integrity**, leading to **more meaningful insights**  \n",
    "\n",
    "Retaining only **high-quality data points** allows us to **better understand** mobility patterns **without distortions from errors or anomalies**."
   ]
  },
  {
   "cell_type": "markdown",
   "metadata": {},
   "source": [
    "[9 points]\n",
    "- Give appropriate statistics (range, mode, mean, median, variance, etc.) for the most important variables in these files and describe what they mean or if you find something interesting. "
   ]
  },
  {
   "cell_type": "code",
   "execution_count": 38,
   "metadata": {
    "vscode": {
     "languageId": "r"
    }
   },
   "outputs": [
    {
     "name": "stdout",
     "output_type": "stream",
     "text": [
      "\u001b[90m# A tibble: 5 × 7\u001b[39m\n",
      "  Variable           Range  Mode   Mean Median Variance    SD\n",
      "  \u001b[3m\u001b[90m<chr>\u001b[39m\u001b[23m              \u001b[3m\u001b[90m<dbl>\u001b[39m\u001b[23m \u001b[3m\u001b[90m<dbl>\u001b[39m\u001b[23m  \u001b[3m\u001b[90m<dbl>\u001b[39m\u001b[23m  \u001b[3m\u001b[90m<dbl>\u001b[39m\u001b[23m    \u001b[3m\u001b[90m<dbl>\u001b[39m\u001b[23m \u001b[3m\u001b[90m<dbl>\u001b[39m\u001b[23m\n",
      "\u001b[90m1\u001b[39m retail_change         67   -\u001b[31m10\u001b[39m -\u001b[31m12\u001b[39m\u001b[31m.\u001b[39m\u001b[31m4\u001b[39m     -\u001b[31m12\u001b[39m    157.  12.5 \n",
      "\u001b[90m2\u001b[39m grocery_change        56    -\u001b[31m5\u001b[39m  -\u001b[31m3\u001b[39m\u001b[31m.\u001b[39m\u001b[31m99\u001b[39m     -\u001b[31m5\u001b[39m     97.4  9.87\n",
      "\u001b[90m3\u001b[39m workplace_change      75   -\u001b[31m33\u001b[39m -\u001b[31m25\u001b[39m\u001b[31m.\u001b[39m\u001b[31m8\u001b[39m     -\u001b[31m27\u001b[39m    184.  13.6 \n",
      "\u001b[90m4\u001b[39m residential_change    29     7   8.83      9     30.0  5.47\n",
      "\u001b[90m5\u001b[39m transit_change       120    -\u001b[31m3\u001b[39m -\u001b[31m11\u001b[39m\u001b[31m.\u001b[39m\u001b[31m0\u001b[39m      -\u001b[31m9\u001b[39m    396.  19.9 \n"
     ]
    }
   ],
   "source": [
    "# Function to compute key statistics\n",
    "compute_mobility_stats <- function(data, variables) {\n",
    "  data %>%\n",
    "    summarise(across(\n",
    "      all_of(variables),\n",
    "      list(\n",
    "        Range = ~ max(.x, na.rm = TRUE) - min(.x, na.rm = TRUE),\n",
    "        Mode = ~ mfv(.x),\n",
    "        Mean = ~ mean(.x, na.rm = TRUE),\n",
    "        Median = ~ median(.x, na.rm = TRUE),\n",
    "        Variance = ~ var(.x, na.rm = TRUE),\n",
    "        SD = ~ sd(.x, na.rm = TRUE)\n",
    "      ),\n",
    "      .names = \"{.col}_{.fn}\"\n",
    "    ))\n",
    "}\n",
    "\n",
    "# Define mobility variables\n",
    "mobility_variables <- c(\"retail_change\", \"grocery_change\", \"workplace_change\", \"residential_change\", \"transit_change\")\n",
    "\n",
    "# Compute statistics\n",
    "mobility_stats_table <- compute_mobility_stats(texas_mobility_data_cleaned, mobility_variables)\n",
    "\n",
    "# Convert to long format for better readability\n",
    "mobility_stats_long <- mobility_stats_table %>%\n",
    "  pivot_longer(cols = everything(),\n",
    "               names_to = c(\"Variable\", \"Statistic\"),\n",
    "               names_pattern = \"(.*)_(Range|Mode|Mean|Median|Variance|SD)\",\n",
    "               values_to = \"Value\") %>%\n",
    "  pivot_wider(names_from = Statistic, values_from = Value)\n",
    "\n",
    "# Print the table\n",
    "print(mobility_stats_long, width=Inf)\n"
   ]
  },
  {
   "cell_type": "code",
   "execution_count": 39,
   "metadata": {
    "vscode": {
     "languageId": "r"
    }
   },
   "outputs": [
    {
     "data": {
      "text/plain": [
       "\n",
       "\n",
       "Table: Summary Statistics for Mobility Data\n",
       "\n",
       "|Variable           | Range| Mode|       Mean| Median|  Variance|        SD|\n",
       "|:------------------|-----:|----:|----------:|------:|---------:|---------:|\n",
       "|retail_change      |    67|  -10| -12.365914|    -12| 157.14722| 12.535838|\n",
       "|grocery_change     |    56|   -5|  -3.994733|     -5|  97.41981|  9.870148|\n",
       "|workplace_change   |    75|  -33| -25.801124|    -27| 184.17947| 13.571274|\n",
       "|residential_change |    29|    7|   8.833489|      9|  29.97116|  5.474592|\n",
       "|transit_change     |   120|   -3| -11.008779|     -9| 396.20665| 19.904940|"
      ]
     },
     "metadata": {},
     "output_type": "display_data"
    }
   ],
   "source": [
    "# Display a static, nicely formatted table\n",
    "kable(mobility_stats_long, caption = \"Summary Statistics for Mobility Data\")"
   ]
  },
  {
   "cell_type": "markdown",
   "metadata": {},
   "source": [
    "### **Retail and Recreation Data:**\n",
    "- **Range (67):** The range of 67 indicates a significant fluctuation in retail and recreation activities across counties in Texas. Some counties saw drastic reductions in these activities, while others experienced only minor changes. This variability can likely be attributed to the differing responses of counties to the pandemic. For example, urban areas may have seen larger declines due to stricter lockdowns and higher case counts, while rural counties may have experienced less disruption due to less severe restrictions and lower population density. The COVID-19 pandemic disproportionately impacted certain areas, especially those with high population density, leading to larger decreases in retail and recreation activities in those places.\n",
    "  \n",
    "- **Mode (-10):** The mode of -10 indicates that the most common change in retail and recreation activity was a 10% decrease. This likely reflects the general impact of the pandemic on businesses like restaurants, entertainment venues, and shopping centers. With public health concerns and lockdown orders in effect, many businesses in these sectors saw a decline in customer foot traffic. The mode value suggests that, while some counties saw larger drops, a consistent trend of moderate declines was observed across the state.\n",
    "  \n",
    "- **Mean (-12.37):** The mean of -12.37 further supports the idea that, on average, the retail and recreation sector in Texas experienced a 12% decrease. The overall drop in activity could be attributed to closures, social distancing measures, and reduced consumer confidence during the early months of the pandemic. While businesses like retail stores and restaurants were allowed to reopen at varying times across different counties, the damage to the retail sector was still significant. The negative mean value reflects the collective impact of these disruptions.\n",
    "  \n",
    "- **Median (-12):** The median of -12 aligns closely with the mean, suggesting that the distribution of changes was fairly symmetric around a 12% decline. This suggests that half of the counties experienced a decrease of at least 12%, which is consistent with the widespread closure of non-essential businesses and reduced consumer spending during the pandemic.\n",
    "\n",
    "- **Variance (157.15):** The variance of 157.15 is quite high, reflecting the significant variability in the impact on retail and recreation activities. Some counties experienced a minimal decrease in retail activity, possibly because businesses were able to adapt by offering online services, whereas others were hit hard by lockdowns and restrictions. Urban centers with high tourism, such as Austin or Dallas, may have seen more extreme declines in retail and recreation activities due to lockdowns and travel restrictions, contributing to the large variance.\n",
    "\n",
    "- **Standard Deviation (12.54):** The high standard deviation further emphasizes the wide variability in how retail and recreation activities were affected. The disparity between rural and urban areas likely contributed to the significant differences in the data. Urban centers experienced more severe reductions, while smaller counties experienced less disruption, driving up the overall variation in the data.\n",
    "\n",
    "### **Grocery and Pharmacy Data:**\n",
    "- **Range (56):** The range of 56 for grocery and pharmacy activities is moderate, suggesting a more consistent trend across counties compared to the retail and recreation sector. While there were fluctuations, they were less extreme. The pandemic led to increased demand for groceries and pharmaceuticals as people stocked up on essentials in preparation for lockdowns. However, certain counties with lower demand or fewer supply chain disruptions saw less variation. The relatively stable demand for essential items like food and medication may explain why the range is smaller compared to other sectors.\n",
    "\n",
    "- **Mode (-5):** The mode of -5 indicates that the most common change observed was a 5% decrease in grocery and pharmacy activity. This likely reflects the reduction in in-person shopping as people switched to online grocery shopping and took fewer trips to physical stores. Some counties may have experienced a slight decrease in in-person shopping, but overall, grocery stores were still considered essential businesses and remained open, mitigating the impact.\n",
    "\n",
    "- **Mean (-3.99):** The mean of -3.99 suggests a slight, overall reduction in grocery and pharmacy activities. While these sectors were less impacted than retail and recreation, they were still affected by reduced customer visits, supply chain disruptions, and shifts to online shopping. The decrease in activity could also be due to fewer consumers spending money on non-essential items or reducing the frequency of grocery trips as people adapted to new shopping behaviors during the pandemic.\n",
    "\n",
    "- **Median (-5):** The median of -5 is very close to the mode, reinforcing the notion that many counties saw small declines in grocery and pharmacy activity. This result suggests that while there was some disruption to these sectors, it was generally moderate, with many counties experiencing only a slight decrease in activity.\n",
    "\n",
    "- **Variance (97.42):** The variance of 97.42 is moderate compared to retail and recreation, indicating that while there were fluctuations in grocery and pharmacy activities, they were less pronounced. This is likely due to the fact that grocery stores and pharmacies were essential and continued operating throughout the pandemic. Some counties may have experienced higher demand, while others faced less disruption, but overall, the impact was less severe.\n",
    "\n",
    "- **Standard Deviation (9.87):** The standard deviation of 9.87 supports the idea that while grocery and pharmacy activities were generally stable, there was some variation across counties. Areas with higher populations and greater demand for essential items likely saw more significant changes, while rural counties saw smaller shifts.\n",
    "\n",
    "### **Workplace Data:**\n",
    "- **Range (75):** The range of 75 for workplace activity indicates a wide variation in how different counties were affected. Some counties may have experienced a complete shutdown of workplaces, especially in industries that couldn't transition to remote work, while others saw less disruption. Urban centers with large office-based workforces likely saw significant declines in workplace activity due to remote work policies and business closures, while rural areas with less reliance on office spaces may have seen more stability.\n",
    "\n",
    "- **Mode (-33):** The mode of -33 suggests that the most frequent change observed was a 33% decrease in workplace activity. This reflects the widespread shift to remote work and the closure of non-essential businesses during the pandemic. Many companies moved to work-from-home policies, and certain sectors, such as hospitality and travel, were particularly hard hit.\n",
    "\n",
    "- **Mean (-25.80):** The mean of -25.80 shows an average decrease of about 26% in workplace activity. This aligns with the widespread closures and remote work policies that affected many sectors during the pandemic. The decrease could also reflect the decline in the number of people commuting to work due to health concerns and government restrictions.\n",
    "\n",
    "- **Median (-27):** The median of -27 indicates that half of the counties saw a decrease of 27% or more in workplace activity. This reflects the severity of workplace disruptions, particularly in urban areas where lockdowns and business closures were most prevalent.\n",
    "\n",
    "- **Variance (184.18):** The variance of 184.18 is high, indicating a large disparity in how different counties were affected. Some counties with a high concentration of remote-friendly industries saw smaller declines, while others, particularly those reliant on in-person services, experienced more drastic reductions in workplace activity.\n",
    "\n",
    "- **Standard Deviation (13.57):** The high standard deviation indicates that there were significant differences in how counties experienced workplace disruptions. While many urban areas saw dramatic decreases, rural areas with fewer office-based jobs may have experienced less disruption, contributing to the larger spread in the data.\n",
    "\n",
    "### **Residential Data:**\n",
    "- **Range (29):** The range of 29 in residential activity suggests a more consistent trend than in other sectors. The pandemic led to increased time spent at home, as people avoided public spaces and adhered to social distancing measures. However, the range suggests that some counties experienced a more pronounced shift in residential activity than others, possibly due to local restrictions or varying levels of lockdown enforcement.\n",
    "\n",
    "- **Mode (7):** The mode of 7 indicates that the most common change was a 7% increase in residential activity. This reflects the broader trend of people staying at home more frequently during the pandemic. With businesses and schools closed, more people worked from home and spent more time indoors, contributing to this increase.\n",
    "\n",
    "- **Mean (8.83):** The mean of 8.83 suggests that, on average, residential activity increased by about 9%. This is consistent with the widespread shift to remote work and social distancing measures, which kept people at home for longer periods. The positive mean reflects how the pandemic forced many people to remain indoors, either for work or safety reasons.\n",
    "\n",
    "- **Median (9):** The median of 9 reinforces the idea that most counties saw a relatively consistent increase in residential activity. This suggests that, in general, people in Texas stayed at home more frequently during the pandemic, though there was some variability in the degree of increase across different counties.\n",
    "\n",
    "- **Variance (29.97):** The variance of 29.97 is relatively low, indicating that the increase in residential activity was fairly consistent across counties. However, some areas with less stringent restrictions or lower COVID-19 case rates may have seen less of an increase in residential activity compared to highly affected areas.\n",
    "\n",
    "- **Standard Deviation (5.47):** The low standard deviation supports the idea that residential activity increased consistently across most counties, with fewer outliers compared to sectors like retail and workplaces. The pandemic generally led to more people staying at home, especially as the virus spread and lockdown measures were put in place.\n",
    "\n",
    "### **Transit Stations Data:**\n",
    "- **Range (120):** The range of 120 for transit activity indicates significant variability in how different counties were affected. In urban areas with extensive public transit systems, the decrease in activity was likely more extreme, as people avoided public transportation to reduce their risk of exposure. Rural areas, with less reliance on public transit, may have seen smaller decreases, contributing to the large range.\n",
    "\n",
    "- **Mode (-3):** The mode of -3 suggests that the most frequent change in transit activity was a 3% decrease. This indicates that while public transit usage was generally reduced, it wasn't as extreme as other sectors like retail or workplaces. People likely avoided using public transportation for health and safety reasons, but essential workers still relied on transit to get to their jobs.\n",
    "\n",
    "- **Mean (-11.01):** The mean of -11.01 suggests an 11% decrease in transit activity on average. This aligns with the reduction in public transit usage during the pandemic, as people avoided crowded spaces like buses and trains. The decline in activity can also be attributed to the decreased need for commuting due to remote work and lockdown measures.\n",
    "\n",
    "- **Median (-9):** The median of -9 reflects the fact that most counties experienced a reduction in transit activity, but the extent varied. Urban areas likely saw more significant declines, while rural areas saw more moderate reductions in transit usage.\n",
    "\n",
    "- **Variance (396.21):** The high variance of 396.21 indicates that the impact on transit stations was highly variable across counties. Counties with major transit systems in cities like Houston and Dallas likely saw significant drops in transit activity, while areas with less reliance on public transit experienced only minor changes.\n",
    "\n",
    "- **Standard Deviation (19.90):** The high standard deviation reinforces the idea of significant variability in how counties were affected by changes in transit activity. Public transportation was significantly impacted in urban areas, but less so in rural regions, leading to a large spread in the data.\n",
    "\n",
    "### **Conclusion:**\n",
    "These statistics reflect the varying impacts of COVID-19 on different sectors in Texas. Retail, workplace, and transit activities were heavily disrupted due to lockdown measures, social distancing, and remote work policies. Residential activity, in contrast, saw a consistent increase, as people stayed at home more during the pandemic. The grocery and pharmacy sectors, while impacted, were less affected than retail and transit, as they remained essential businesses. These findings align with the broader trends observed during the pandemic, where urban areas experienced more severe disruptions due to stricter measures, while rural areas faced less drastic changes."
   ]
  },
  {
   "cell_type": "markdown",
   "metadata": {},
   "source": [
    "[9 points]\n",
    "- Visually explore the chosen attributes appropriately. \n",
    "- Provide an interpretation for each graph. \n",
    "- Explain why you chose the visualization for each attribute type. \n",
    "\n"
   ]
  },
  {
   "cell_type": "code",
   "execution_count": 41,
   "metadata": {
    "vscode": {
     "languageId": "r"
    }
   },
   "outputs": [
    {
     "data": {
      "image/png": "[encoded data removed]",
      "text/plain": [
       "plot without title"
      ]
     },
     "metadata": {
      "image/png": {
       "height": 420,
       "width": 420
      }
     },
     "output_type": "display_data"
    }
   ],
   "source": [
    "# 1. Retail and Recreation Percent Change\n",
    "ggplot(texas_mobility_data_cleaned,\n",
    "       aes(x = retail_change)) +\n",
    "  geom_histogram(binwidth = 5, fill = \"steelblue\", color = \"black\") +\n",
    "  theme_minimal() +\n",
    "  labs(title = \"Retail & Recreation Mobility\",\n",
    "       x = \"Percent Change\",\n",
    "       y = \"Frequency\")"
   ]
  },
  {
   "cell_type": "markdown",
   "metadata": {},
   "source": [
    "#### **1. Retail & Recreation Mobility**\n",
    "- **Visualization:** The histogram illustrates the percentage change in mobility for places such as malls, restaurants, and entertainment venues.\n",
    "- **Interpretation:** The distribution exhibits a **strong left-skew**, indicating a significant decline in visits to these non-essential locations. This is expected, as the COVID-19 pandemic led to the closure of non-essential businesses and the enforcement of lockdowns to curb the virus spread.\n",
    "- **Explanation for Choosing Visualization:** A **histogram** is an effective choice here because it allows us to clearly observe how the pandemic affected visits to non-essential businesses by visualizing the frequency and magnitude of changes in mobility. This gives a comprehensive view of how public movement was restricted in these spaces.\n",
    "- **Overall:** This visualization provides a **comprehensive view** of how mobility patterns shifted due to public health restrictions during the pandemic."
   ]
  },
  {
   "cell_type": "code",
   "execution_count": 42,
   "metadata": {
    "vscode": {
     "languageId": "r"
    }
   },
   "outputs": [
    {
     "data": {
      "image/png": "[encoded data removed]",
      "text/plain": [
       "plot without title"
      ]
     },
     "metadata": {
      "image/png": {
       "height": 420,
       "width": 420
      }
     },
     "output_type": "display_data"
    }
   ],
   "source": [
    "# 2. Grocery and Pharmacy Percent Change\n",
    "ggplot(texas_mobility_data_cleaned,\n",
    "       aes(x = grocery_change)) +\n",
    "  geom_histogram(binwidth = 5, fill = \"green\", color = \"black\") +\n",
    "  theme_minimal() +\n",
    "  labs(title = \"Grocery & Pharmacy Mobility\",\n",
    "       x = \"Percent Change\",\n",
    "       y = \"Frequency\")"
   ]
  },
  {
   "cell_type": "markdown",
   "metadata": {},
   "source": [
    "#### **2. Grocery & Pharmacy Mobility**\n",
    "- **Visualization:** The histogram shows the percentage change in visits to grocery stores and pharmacies.\n",
    "- **Interpretation:** The distribution is relatively **balanced**, with no extreme values. This indicates that visits to essential businesses like grocery stores and pharmacies did not experience the drastic drops seen in non-essential sectors. This is logical, as these businesses remained crucial for people's daily needs during the pandemic and thus saw a more consistent level of visits.\n",
    "- **Explanation for Choosing Visualization:** The **histogram** is ideal for this analysis as it helps us observe how visits to essential businesses held up in comparison to non-essential ones, shedding light on the shifts in consumer behavior during the pandemic.\n",
    "- **Overall:** This visualization **confirms that essential businesses experienced fewer disruptions** compared to other sectors, as they remained open to meet daily needs."
   ]
  },
  {
   "cell_type": "code",
   "execution_count": 45,
   "metadata": {
    "vscode": {
     "languageId": "r"
    }
   },
   "outputs": [
    {
     "data": {
      "image/png": "[encoded data removed]",
      "text/plain": [
       "plot without title"
      ]
     },
     "metadata": {
      "image/png": {
       "height": 420,
       "width": 420
      }
     },
     "output_type": "display_data"
    }
   ],
   "source": [
    "# Workplace Mobility Histogram\n",
    "ggplot(texas_mobility_data, aes(x = workplace_change)) +\n",
    "  geom_histogram(binwidth = 5, fill = \"red\", color = \"black\") +\n",
    "  theme_minimal() +\n",
    "  labs(title = \"Workplace Mobility\", x = \"Percent Change\", y = \"Frequency\")"
   ]
  },
  {
   "cell_type": "markdown",
   "metadata": {},
   "source": [
    "#### **3. Workplace Mobility**\n",
    "- **Visualization:** This histogram shows the percentage change in workplace mobility, illustrating the decline in visits to workplaces.\n",
    "- **Interpretation:** The distribution displays a **strong left-skew**, indicating that workplace mobility decreased significantly during the pandemic. This makes sense, as many businesses implemented remote work policies, reducing the need for employees to physically go to their offices.\n",
    "- **Explanation for Choosing Visualization:** A **histogram** effectively captures the magnitude of changes in workplace mobility, providing insights into the level of disruption in the workforce and how the pandemic reshaped the work environment. It helps us assess the economic and social impact by showing how many people stayed away from their workplaces.\n",
    "- **Overview:** This visualization helps us understand how **the workforce adapted** to the pandemic, revealing which areas saw the most dramatic shifts in in-person work."
   ]
  },
  {
   "cell_type": "code",
   "execution_count": 46,
   "metadata": {
    "vscode": {
     "languageId": "r"
    }
   },
   "outputs": [
    {
     "data": {
      "image/png": "[encoded data removed]",
      "text/plain": [
       "plot without title"
      ]
     },
     "metadata": {
      "image/png": {
       "height": 420,
       "width": 420
      }
     },
     "output_type": "display_data"
    }
   ],
   "source": [
    "# Residential Mobility Histogram\n",
    "ggplot(texas_mobility_data, aes(x = residential_change)) +\n",
    "  geom_histogram(binwidth = 2, fill = \"purple\", color = \"black\") +\n",
    "  theme_minimal() +\n",
    "  labs(title = \"Residential Mobility\", x = \"Percent Change\", y = \"Frequency\")"
   ]
  },
  {
   "cell_type": "markdown",
   "metadata": {},
   "source": [
    "#### **4. Residential Mobility**\n",
    "- **Visualization:** This histogram represents the percentage change in residential mobility, reflecting how much more or less time people spent at home.\n",
    "- **Interpretation:** The distribution is **right-skewed**, suggesting that people spent more time at home during the pandemic. This is consistent with the lockdown measures and stay-at-home orders, which pushed many people to stay indoors.\n",
    "- **Explanation for Choosing Visualization:** The **histogram** is a suitable choice to visualize changes in residential mobility as it helps show the increase in time spent at home, offering a stark contrast to the decrease in workplace mobility. It also emphasizes the shift in how people spent their daily routines during the pandemic.\n",
    "- **Overall:** This visualization reinforces the **major lifestyle shift** during the pandemic, showing that remote work and lockdowns **significantly altered mobility behavior**."
   ]
  },
  {
   "cell_type": "code",
   "execution_count": 47,
   "metadata": {
    "vscode": {
     "languageId": "r"
    }
   },
   "outputs": [
    {
     "data": {
      "image/png": "[encoded data removed]",
      "text/plain": [
       "plot without title"
      ]
     },
     "metadata": {
      "image/png": {
       "height": 420,
       "width": 420
      }
     },
     "output_type": "display_data"
    }
   ],
   "source": [
    "# Transit Station Mobility Histogram\n",
    "ggplot(texas_mobility_data, \n",
    "       aes(x = transit_change)) +\n",
    "  geom_histogram(binwidth = 5, fill = \"orange\", color = \"black\") +\n",
    "  theme_minimal() +\n",
    "  labs(title = \"Transit Station Mobility\",\n",
    "       x = \"Percent Change\",\n",
    "       y = \"Frequency\")"
   ]
  },
  {
   "cell_type": "markdown",
   "metadata": {},
   "source": [
    "#### **5. Transit Station Mobility**\n",
    "- **Visualization:** This histogram depicts the percentage change in mobility for transit stations, such as buses, trains, and subways.\n",
    "- **Interpretation:** The distribution shows a **moderate left-skew**, indicating a decline in the use of public transportation during the pandemic. As people stayed home and businesses shut down, public transit ridership naturally dropped, especially in urban centers where public transport is a primary mode of travel.\n",
    "- **Explanation for Choosing Visualization:** A **histogram** is chosen here to help us understand changes in urban mobility patterns, particularly in major metropolitan areas like Dallas and Houston. It provides clarity on how transit usage was impacted by lockdowns, offering insights into the broader impact on urban mobility.\n",
    "- **Overall:** This visualization helps us understand how **urban mobility patterns changed**, with transit systems experiencing major disruptions as people relied more on private vehicles or remote work options."
   ]
  },
  {
   "cell_type": "code",
   "execution_count": 51,
   "metadata": {
    "vscode": {
     "languageId": "r"
    }
   },
   "outputs": [
    {
     "data": {
      "image/png": "[encoded data removed]",
      "text/plain": [
       "plot without title"
      ]
     },
     "metadata": {
      "image/png": {
       "height": 420,
       "width": 420
      }
     },
     "output_type": "display_data"
    }
   ],
   "source": [
    "# Selecting relevant columns\n",
    "mobility_vars <- texas_mobility_data_cleaned %>%\n",
    "  select(retail_change,\n",
    "         grocery_change,\n",
    "         workplace_change,\n",
    "         residential_change,\n",
    "         transit_change)\n",
    "\n",
    "# Compute correlation matrix\n",
    "cor_matrix <- cor(mobility_vars, use = \"complete.obs\")\n",
    "\n",
    "# Plot heatmap\n",
    "ggcorrplot(cor_matrix, method = \"square\", type = \"lower\", lab = TRUE,\n",
    "           colors = c(\"blue\", \"white\", \"red\"),\n",
    "           title = \"Correlation Matrix of Mobility Changes\")\n"
   ]
  },
  {
   "cell_type": "markdown",
   "metadata": {},
   "source": [
    "# **Correlation Analysis of Mobility Trends in Texas During COVID-19**\n",
    "\n",
    "## **Overview**\n",
    "The correlation analysis provides insights into the relationship between different mobility categories during the COVID-19 pandemic. By examining these relationships, patterns emerge that reveal how different aspects of human movement responded to pandemic-related restrictions and behavioral shifts. The correlation values range from **-1 to 1**, where:\n",
    "- **Positive correlations (red values)** indicate that both mobility types increased or decreased together.\n",
    "- **Negative correlations (blue values)** indicate an inverse relationship, where an increase in one type of mobility corresponds with a decrease in another.\n",
    "- The closer the correlation value is to **1 or -1**, the stronger the relationship.\n",
    "\n",
    "\n",
    "## **1. Transit Station Mobility and Its Correlations**\n",
    "Transit stations represent a key indicator of urban mobility, especially in metropolitan areas like **Houston, Dallas, and Austin** where public transportation is widely used. The correlation findings suggest:\n",
    "\n",
    "- **Residential Mobility vs. Transit Stations (-0.5, Blue)**  \n",
    "  - A **moderate negative correlation** suggests that as more individuals stayed home, the use of public transit declined significantly.  \n",
    "  - This aligns with pandemic-related restrictions, where reduced commuting and remote work led to decreased reliance on public transportation.\n",
    "\n",
    "- **Workplace Mobility vs. Transit Stations (0.45, Red)**  \n",
    "  - A **moderate positive correlation** indicates that as workplace mobility increased, transit station visits also rose.  \n",
    "  - This suggests that many individuals relied on public transportation to return to their workplaces, reinforcing the importance of transit systems for economic recovery.\n",
    "\n",
    "- **Grocery & Pharmacy Mobility vs. Transit Stations (0.48, Red)**  \n",
    "  - A **moderate positive correlation** between transit usage and grocery/pharmacy visits implies that individuals who used public transport also made essential trips for necessities.  \n",
    "  - This could indicate that lower-income populations or those without personal vehicles relied on public transit for grocery shopping during the pandemic.\n",
    "\n",
    "- **Retail & Recreation Mobility vs. Transit Stations (0.61, Red)**  \n",
    "  - A **strong positive correlation** highlights that when restrictions eased and individuals resumed shopping and dining out, transit station usage increased accordingly.  \n",
    "  - This underscores the interconnected nature of urban travel, where social and economic activities are closely tied to public transit availability.\n",
    "\n",
    "\n",
    "## **2. Residential Mobility and Its Correlations**\n",
    "Residential mobility is a direct indicator of how much time people spent at home, and its relationship with other variables helps explain shifts in daily life:\n",
    "\n",
    "- **Workplace Mobility vs. Residential Mobility (-0.9, Blue)**  \n",
    "  - A **very strong negative correlation** suggests an almost **perfect inverse relationship** between these two variables.  \n",
    "  - As workplace mobility declined, residential mobility increased, confirming that the shift to remote work and lockdowns kept individuals at home.\n",
    "\n",
    "- **Grocery & Pharmacy Mobility vs. Residential Mobility (-0.35, Blue)**  \n",
    "  - A **weak negative correlation** suggests that even though people stayed home more, there was only a slight decrease in grocery and pharmacy visits.  \n",
    "  - This supports the notion that essential trips remained necessary, though possibly at reduced frequency as individuals stockpiled supplies.\n",
    "\n",
    "- **Retail & Recreation Mobility vs. Residential Mobility (-0.64, Blue)**  \n",
    "  - A **strong negative correlation** indicates that when people spent more time at home, visits to retail and recreation locations dropped significantly.  \n",
    "  - This aligns with pandemic restrictions that limited shopping and entertainment activities, further reinforcing the impact of lockdowns on non-essential businesses.\n",
    "\n",
    "\n",
    "## **3. Interactions Between Other Mobility Types**\n",
    "Examining the relationships between workplace, retail, and grocery mobility provides insight into how different mobility behaviors were interconnected:\n",
    "\n",
    "- **Grocery & Pharmacy vs. Workplace Mobility (0.27, Red)**  \n",
    "  - A **weak positive correlation** suggests that individuals who commuted to work were also more likely to make stops at grocery stores or pharmacies.  \n",
    "  - This could indicate a behavioral pattern where trips for work and essential shopping were consolidated to minimize exposure.\n",
    "\n",
    "- **Retail & Recreation vs. Workplace Mobility (0.51, Red)**  \n",
    "  - A **moderate positive correlation** suggests that as people returned to work, they also resumed visiting retail and entertainment venues.  \n",
    "  - This could signify an economic recovery trend, where increased workforce participation led to higher discretionary spending.\n",
    "\n",
    "- **Retail & Recreation vs. Grocery & Pharmacy Mobility (0.66, Red)**  \n",
    "  - A **strong positive correlation** suggests that when individuals were comfortable engaging in non-essential activities like shopping or dining, they were also likely to visit grocery stores and pharmacies.  \n",
    "  - This highlights a return to normal shopping behavior, where essential and non-essential trips often occurred together.\n",
    "\n",
    "\n",
    "## **Key Takeaways from the Correlation Analysis**\n",
    "1. **Work-From-Home Impact**  \n",
    "   - The strong **negative correlation (-0.9) between workplace and residential mobility** confirms the dramatic shift toward remote work.\n",
    "   - Residential mobility increased significantly when workplace mobility dropped, reinforcing the effectiveness of stay-at-home measures.\n",
    "\n",
    "2. **Public Transportation Dependence**  \n",
    "   - Transit station mobility was closely linked to workplace (0.45), grocery (0.48), and retail (0.61) mobility, suggesting that as restrictions lifted, public transit played a crucial role in the recovery process.\n",
    "   - The **negative correlation (-0.5) with residential mobility** shows that when people stayed home, public transit usage was severely impacted.\n",
    "\n",
    "3. **Essential vs. Non-Essential Travel**  \n",
    "   - Grocery/pharmacy visits were relatively stable during the pandemic (-0.35 correlation with residential mobility), indicating that essential trips continued even as people stayed home.\n",
    "   - In contrast, **retail and recreation mobility dropped sharply (-0.64 correlation with residential mobility),** confirming that non-essential outings were significantly affected.\n",
    "\n",
    "4. **Signs of Economic Recovery**  \n",
    "   - As workplace mobility increased, retail and recreation mobility also saw a rise (0.51 correlation), suggesting a gradual return to pre-pandemic levels of economic activity.\n",
    "   - The **strong correlation (0.66) between grocery and retail mobility** further reinforces the idea that when individuals resumed non-essential activities, essential shopping behavior also normalized.\n",
    "\n",
    "### **Conclusion**\n",
    "This correlation analysis provides valuable insights into mobility patterns during the COVID-19 pandemic. The data highlights the dramatic impact of lockdowns and remote work on public transit, workplace attendance, and non-essential outings. Moreover, it underscores the resilience of essential travel, such as grocery and pharmacy visits, which remained relatively stable despite mobility restrictions. Understanding these trends is crucial for urban planning, public health policies, and economic recovery strategies as communities navigate post-pandemic life."
   ]
  },
  {
   "cell_type": "markdown",
   "metadata": {},
   "source": [
    "[9 points]\n",
    "- Explore relationships between attributes: \n",
    "    - Look at the attributes and then use cross-tabulation, correlation, group-wise averages, box plots, etc., as appropriate. "
   ]
  },
  {
   "cell_type": "markdown",
   "metadata": {},
   "source": [
    "- Which Texas counties experienced the sharpest economic disruptions based on retail and workplace mobility changes?\n",
    "    - Why it matters: Mobility changes can be used as a proxy for economic activity. Counties with the steepest declines may have suffered greater economic damage\n",
    "    - Key variables: `region_2`, `retail_change`, `workplace_change`, `transit_change`"
   ]
  },
  {
   "cell_type": "code",
   "execution_count": 52,
   "metadata": {
    "vscode": {
     "languageId": "r"
    }
   },
   "outputs": [
    {
     "data": {
      "text/html": [
       "<table class=\"dataframe\">\n",
       "<caption>A tibble: 6 × 3</caption>\n",
       "<thead>\n",
       "\t<tr><th scope=col>region_2</th><th scope=col>avg_retail</th><th scope=col>avg_workplace</th></tr>\n",
       "\t<tr><th scope=col>&lt;fct&gt;</th><th scope=col>&lt;dbl&gt;</th><th scope=col>&lt;dbl&gt;</th></tr>\n",
       "</thead>\n",
       "<tbody>\n",
       "\t<tr><td>Maverick County </td><td>-27.31020</td><td>-31.44898</td></tr>\n",
       "\t<tr><td>Travis County   </td><td>-25.96980</td><td>-36.43289</td></tr>\n",
       "\t<tr><td>Val Verde County</td><td>-23.91176</td><td>-32.29412</td></tr>\n",
       "\t<tr><td>Webb County     </td><td>-23.37778</td><td>-25.69524</td></tr>\n",
       "\t<tr><td>El Paso County  </td><td>-22.26380</td><td>-30.12577</td></tr>\n",
       "\t<tr><td>Brazos County   </td><td>-22.24906</td><td>-32.83774</td></tr>\n",
       "</tbody>\n",
       "</table>\n"
      ],
      "text/latex": [
       "A tibble: 6 × 3\n",
       "\\begin{tabular}{lll}\n",
       " region\\_2 & avg\\_retail & avg\\_workplace\\\\\n",
       " <fct> & <dbl> & <dbl>\\\\\n",
       "\\hline\n",
       "\t Maverick County  & -27.31020 & -31.44898\\\\\n",
       "\t Travis County    & -25.96980 & -36.43289\\\\\n",
       "\t Val Verde County & -23.91176 & -32.29412\\\\\n",
       "\t Webb County      & -23.37778 & -25.69524\\\\\n",
       "\t El Paso County   & -22.26380 & -30.12577\\\\\n",
       "\t Brazos County    & -22.24906 & -32.83774\\\\\n",
       "\\end{tabular}\n"
      ],
      "text/markdown": [
       "\n",
       "A tibble: 6 × 3\n",
       "\n",
       "| region_2 &lt;fct&gt; | avg_retail &lt;dbl&gt; | avg_workplace &lt;dbl&gt; |\n",
       "|---|---|---|\n",
       "| Maverick County  | -27.31020 | -31.44898 |\n",
       "| Travis County    | -25.96980 | -36.43289 |\n",
       "| Val Verde County | -23.91176 | -32.29412 |\n",
       "| Webb County      | -23.37778 | -25.69524 |\n",
       "| El Paso County   | -22.26380 | -30.12577 |\n",
       "| Brazos County    | -22.24906 | -32.83774 |\n",
       "\n"
      ],
      "text/plain": [
       "  region_2         avg_retail avg_workplace\n",
       "1 Maverick County  -27.31020  -31.44898    \n",
       "2 Travis County    -25.96980  -36.43289    \n",
       "3 Val Verde County -23.91176  -32.29412    \n",
       "4 Webb County      -23.37778  -25.69524    \n",
       "5 El Paso County   -22.26380  -30.12577    \n",
       "6 Brazos County    -22.24906  -32.83774    "
      ]
     },
     "metadata": {},
     "output_type": "display_data"
    }
   ],
   "source": [
    "# Compute county-level averages for retail and workplace mobility\n",
    "county_mobility <- texas_mobility_data_cleaned %>%\n",
    "  group_by(region_2) %>%\n",
    "  summarize(\n",
    "    avg_retail = mean(retail_change, na.rm = TRUE),\n",
    "    avg_workplace = mean(workplace_change, na.rm = TRUE)\n",
    "  ) %>%\n",
    "  arrange(avg_retail)\n",
    "\n",
    "# View first few rows\n",
    "head(county_mobility)"
   ]
  },
  {
   "cell_type": "code",
   "execution_count": 53,
   "metadata": {
    "vscode": {
     "languageId": "r"
    }
   },
   "outputs": [
    {
     "data": {
      "image/png": "[encoded data removed]",
      "text/plain": [
       "plot without title"
      ]
     },
     "metadata": {
      "image/png": {
       "height": 420,
       "width": 420
      }
     },
     "output_type": "display_data"
    },
    {
     "data": {
      "image/png": "[encoded data removed]",
      "text/plain": [
       "plot without title"
      ]
     },
     "metadata": {
      "image/png": {
       "height": 420,
       "width": 420
      }
     },
     "output_type": "display_data"
    }
   ],
   "source": [
    "# Top 15 hardest-hit counties \n",
    "top_counties <- county_mobility %>%\n",
    "  slice_min(avg_retail, n = 15)\n",
    "\n",
    "# Bar plot retail mobility\n",
    "ggplot(top_counties, aes(x = reorder(region_2, avg_retail), y = avg_retail)) +\n",
    "  geom_col(fill = \"steelblue\", alpha = 0.8, width = 0.7) +  \n",
    "  coord_flip() +\n",
    "  theme_minimal(base_size = 14) + \n",
    "  labs(title = \"Top 15 Counties w/ Largest Retail Mobility Decline\",\n",
    "       x = \"County\", y = \"Average Percent Change\") +\n",
    "  theme(plot.title = element_text(hjust = 0.5, size = 16),  \n",
    "        axis.text.y = element_text(size = 12),  \n",
    "        axis.text.x = element_text(size = 10)) \n",
    "\n",
    "# Bar plot workplace mobility \n",
    "top_counties <- county_mobility %>%\n",
    "  slice_min(avg_workplace, n = 15)\n",
    "\n",
    "ggplot(top_counties, aes(x = reorder(region_2, avg_workplace), y = avg_workplace)) +\n",
    "  geom_col(fill = \"firebrick\", alpha = 0.8, width = 0.7) +\n",
    "  coord_flip() +\n",
    "  theme_minimal(base_size = 14) +\n",
    "  labs(title = \"Top 15 Counties w/ Largest Workplace Mobility Decline\",\n",
    "       x = \"County\", y = \"Average Percent Change\") +\n",
    "  theme(plot.title = element_text(hjust = 0.5, size = 16),\n",
    "        axis.text.y = element_text(size = 12),\n",
    "        axis.text.x = element_text(size = 10))"
   ]
  },
  {
   "cell_type": "markdown",
   "metadata": {},
   "source": [
    "# **Retail and Workplace Mobility Impact Analysis Across Texas Counties**\n",
    "\n",
    "Understanding the impact of COVID-19 on mobility patterns provides valuable insights into economic and social disruptions at the county level. By analyzing the average changes in **retail** and **workplace** mobility across Texas counties, key trends emerge that highlight the disparity in how different regions experienced the pandemic’s effects.\n",
    "\n",
    "## **Retail Mobility Impact**\n",
    "Retail and recreation mobility reflects consumer activity in locations such as malls, restaurants, and entertainment venues. The change in retail mobility serves as a proxy for economic activity in non-essential businesses. \n",
    "\n",
    "### **Top 5 Counties with the Most Significant Decline in Retail Mobility:**\n",
    "1. **Harris County**  \n",
    "2. **Randall County**  \n",
    "3. **Bexar County**  \n",
    "4. **Dallas County**  \n",
    "5. **Ector County**  \n",
    "\n",
    "#### **Analysis of Trends:**\n",
    "- These counties tend to have a relatively **higher population density**, making them more vulnerable to retail sector disruptions.  \n",
    "- Urban centers such as **Harris County (Houston) and Bexar County (San Antonio)** faced steep declines due to **high urban density and strict lockdowns**. \n",
    "- **Randall County (Amarillo) and Ector County (Odessa)** likely sufferred due to local economic downturns and reliance on in-person shopping. \n",
    "- **Dallas County**, a major commericial hub, experienced reduces consumer activity as businesses shut down.\n",
    "\n",
    "### **Counties with the Least Change in Retail Mobility:**\n",
    "1. **Cass County**  \n",
    "2. **Polk County**  \n",
    "3. **Wise County**  \n",
    "4. **Van Zandt County**  \n",
    "5. **Hopkins County**  \n",
    "\n",
    "#### **Analysis of Trends:**\n",
    "- These counties are predominantly **rural**, with lower population density and a smaller proportion of businesses reliant on foot traffic.  \n",
    "- Retail activity in these areas is more **essential-driven**, meaning that fewer businesses classified as \"non-essential\" led to a **smaller reduction** in overall mobility.  \n",
    "- Rural communities may have relied more on local businesses with **less stringent closures** compared to urban retail centers that faced stricter lockdown regulations.  \n",
    "\n",
    "---\n",
    "\n",
    "## **Workplace Mobility Impact**\n",
    "Workplace mobility changes provide a measure of how employment patterns were affected by remote work policies, business closures, and economic slowdowns.\n",
    "\n",
    "### **Top 5 Counties with the Most Significant Decline in Workplace Mobility:**\n",
    "1. **El Paso County**  \n",
    "2. **Cameron County**  \n",
    "3. **Harris County**  \n",
    "4. **Maverick County**  \n",
    "5. **Dallas County**  \n",
    "\n",
    "#### **Analysis of Trends:**\n",
    "- **El Paso & Cameron Counties** (border regions) likely y faced declines due to **cross-border work restrictions** and **reduced economic activity**.\n",
    "- **Harris & Dallas Counties** saw a more pronounced shift toward **remote work policies**, leading to a sharper decline in workplace mobility compared to rural counties, where essential industries such as agriculture and manufacturing required on-site work.  \n",
    "- **Maverick County**, another border county, may have been impacted by **reduced employment in industries reliant on travel & trade**.  \n",
    "\n",
    "### **Counties with the Least Change in Workplace Mobility:**\n",
    "- Rural counties, particularly those with **agriculture-driven economies**, saw smaller reductions in workplace mobility. This is likely due to **a higher proportion of essential workers** who continued working on-site despite the pandemic.  \n",
    "\n",
    "---\n",
    "\n",
    "## **Key Insights and Implications**\n",
    "- **Urban counties** experienced the most significant declines in both **retail and workplace mobility**, reinforcing the impact of pandemic-related shutdowns on densely populated areas.  \n",
    "- **Rural counties** were less affected in terms of mobility reductions, likely due to **lower reliance on non-essential businesses** and a **higher percentage of essential jobs** that could not transition to remote work.  \n",
    "- The disparity between retail and workplace mobility changes suggests that **consumer behavior shifted more dramatically than workforce behavior**, indicating that even as employees worked remotely, essential shopping activities persisted at a more stable rate.  \n",
    "- **Counties with strong commuter populations (Harris, Dallas, Collin)** saw large workplace mobility declines, suggesting that **remote work policies significantly affected workforce movement.  \n",
    "\n",
    "### **Conclusion**\n",
    "This analysis highlights how different Texas counties experienced the COVID-19 pandemic differently based on population density, economic structure, and urbanization. Retail and workplace mobility changes serve as crucial indicators of economic impact, helping policymakers understand which regions may have faced **greater economic challenges and require targeted recovery efforts**.  "
   ]
  },
  {
   "cell_type": "markdown",
   "metadata": {},
   "source": [
    "- How did grocery and pharmacy mobility (essential) compare to retail and recreation mobility (non-essential) in response to COVID-19 waves in Texas?\n",
    "    - Why it matters: This helps determine if consumer behavior showed a clear distinction between essential vs. non-essential trips.\n",
    "    - Key variables: `grocery_change`, `retail_change`, `date`, `region_2`"
   ]
  },
  {
   "cell_type": "code",
   "execution_count": 54,
   "metadata": {
    "vscode": {
     "languageId": "r"
    }
   },
   "outputs": [
    {
     "data": {
      "image/png": "[encoded data removed]",
      "text/plain": [
       "plot without title"
      ]
     },
     "metadata": {
      "image/png": {
       "height": 420,
       "width": 420
      }
     },
     "output_type": "display_data"
    }
   ],
   "source": [
    "# Aggregate/week for smoother trends\n",
    "mobility_trends <- texas_mobility_data_cleaned %>%\n",
    "  mutate(week = floor_date(date, \"week\")) %>%\n",
    "  group_by(week) %>%\n",
    "  summarise(\n",
    "    avg_grocery = mean(grocery_change, na.rm = TRUE),\n",
    "    avg_retail = mean(retail_change, na.rm = TRUE)\n",
    "  )\n",
    "\n",
    "# Improved line plot with weekly data\n",
    "ggplot(mobility_trends, aes(x = week)) +\n",
    "  geom_line(aes(y = avg_grocery, color = \"Grocery & Pharmacy\"), linewidth = 1) +\n",
    "  geom_line(aes(y = avg_retail, color = \"Retail & Recreation\"), linewidth = 1, linetype = \"dashed\") +\n",
    "  theme_minimal(base_size = 14) +  \n",
    "  scale_color_manual(values = c(\"Grocery & Pharmacy\" = \"green\", \"Retail & Recreation\" = \"blue\")) +  \n",
    "  labs(title = \"Comparison of Grocery & Pharmacy vs. Retail & Recreation Mobility\",  \n",
    "       x = \"Date\", y = \"Percent Change from Baseline\", color = \"Mobility Type\") +  \n",
    "  theme(legend.position = \"bottom\",\n",
    "        legend.margin = margin(10, 10, 10, 10),\n",
    "        axis.text.x = element_text(angle = 45, hjust = 1)) +\n",
    "  scale_x_date(date_breaks = \"1 month\", date_labels = \"%b %Y\")\n"
   ]
  },
  {
   "cell_type": "markdown",
   "metadata": {},
   "source": [
    "# Mobility Trends for Grocery & Pharmacy vs. Retail & Recreation During COVID-19 in Texas\n",
    "\n",
    "The plot visualizes the changes in mobility patterns for two key sectors — **grocery and pharmacy** and **retail and recreation** — throughout the course of the COVID-19 pandemic in Texas. These two mobility types serve as essential proxies for consumer behavior and public responses to government-imposed restrictions.\n",
    "\n",
    "## Pre-Pandemic Trends:\n",
    "In the months leading up to the onset of COVID-19, we observe that both **grocery and pharmacy** as well as **retail and recreation** mobility data exhibit a relatively stable, low level of change from baseline. This suggests that, prior to the pandemic, mobility in these sectors was generally unaffected by external disruptions, reflecting a more consistent consumer behavior and standard operating conditions.\n",
    "\n",
    "## Initial Impact of the Pandemic (March 2020 - April 2020):\n",
    "As COVID-19 began to spread globally and the United States entered a state of heightened awareness, we see a slight increase in **grocery and pharmacy mobility**. This uptick can be attributed to panic buying and hoarding as consumers anticipated shortages and lockdowns. Shelves in grocery stores were rapidly emptied, and shoppers surged to secure essential supplies in anticipation of prolonged social distancing measures.\n",
    "\n",
    "However, **retail and recreation mobility** immediately experienced a sharp decline starting in March 2020. This drop reflects the abrupt closure of non-essential businesses, such as entertainment venues, gyms, and shopping centers, as states and cities enacted lockdowns and shelter-in-place orders. The restrictions meant that many consumers reduced or completely halted visits to places associated with discretionary spending, which led to a significant negative change in this sector.\n",
    "\n",
    "## Lockdown and Stabilization (April 2020 - June 2020):\n",
    "During the full implementation of lockdown measures between **April 2020 and June 2020**, grocery and pharmacy mobility first saw a surge in March 2020 due to panic buying, followed by a decline and eventual stabilization at slightly elevated levels. This stability reflects the essential nature of these services. Even though demand for food and healthcare products was strong, the mobility in this sector did not see drastic fluctuations, possibly due to supply chain adaptations and the consistent demand for essentials.\n",
    "\n",
    "Meanwhile, **retail and recreation mobility** continued to experience a steep decline during this period. As restrictions on gatherings, shopping, and recreation were in full effect, businesses in this sector were either closed or severely restricted. This negatively affected consumer movement in places like malls, restaurants, parks, and gyms.\n",
    "\n",
    "## Recovery and Resurgence (June 2020 - September 2020):\n",
    "Starting in **June 2020**, as lockdown measures eased, retail and recreation mobility began a gradual recovery. The increase was steady but extended through mid-to-late 2020, as consumer confidence and business operations slowly resumed. This rebound likely coincided with the phased reopening of businesses and a gradual return to some pre-pandemic activities. People returned to malls, restaurants, and recreational areas as businesses adapted to new COVID-19 guidelines, such as social distancing and mask mandates.\n",
    "\n",
    "For **grocery and pharmacy**, the mobility trend remained largely unchanged throughout this period, continuing to show stable, albeit slightly elevated, levels as essential shopping behavior persisted.\n",
    "\n",
    "## September 2020 - December 2020:\n",
    "In **September 2020**, we see a minor dip in **retail and recreation mobility**, likely corresponding to a **resurgence in COVID-19 cases** and the implementation of new restrictions. As Texas and other parts of the U.S. faced rising case numbers, governments were forced to reintroduce social distancing guidelines, and consumer confidence in visiting public spaces was once again reduced.\n",
    "\n",
    "For **grocery and pharmacy mobility**, the trend remained stable and largely unaffected, continuing to reflect the sector's essential status during this period.\n",
    "\n",
    "## Key Observations and Implications:\n",
    "1. **Consumer Behavior Shifts:** The data highlights a clear shift in consumer behavior due to COVID-19. Essential services, such as grocery and pharmacy, saw relatively stable mobility, while non-essential sectors like retail and recreation experienced significant volatility. This demonstrates the rapid adaptation of the public to essential needs while limiting discretionary spending and activities.\n",
    "\n",
    "2. **Effectiveness of Government Policies:** The sharp declines in **retail and recreation mobility** during periods of strict lockdowns underscore the effectiveness of government policies aimed at limiting public gatherings and movement. However, these policies had a severe economic impact on non-essential businesses, with recovery only occurring when restrictions were relaxed.\n",
    "\n",
    "3. **Recovery Trends:** The recovery observed in **retail and recreation mobility** in mid-2020 demonstrates that as the economy reopened, consumer confidence in spending began to return, but the dip seen in September 2020 suggests that consumer behavior remained cautious due to ongoing uncertainty about the pandemic.\n",
    "\n",
    "4. **Essential vs. Non-Essential Services:** The stability of **grocery and pharmacy mobility** throughout the pandemic period emphasizes the distinction between essential and non-essential sectors. While many businesses faced severe downturns, essential services like grocery stores adapted quickly and were less affected by mobility restrictions.\n",
    "\n",
    "## Conclusion:\n",
    "This plot not only provides a visual representation of the evolving mobility trends in Texas during the pandemic but also serves as a useful tool for understanding the broader impacts of COVID-19 on consumer behavior, business sectors, and government policies. It can be used to assess the effectiveness of public health measures, identify patterns in consumer adaptation to restrictions, and forecast future trends in both essential and non-essential sectors as the economy continues to recover.\n",
    "\n",
    "Additionally, policymakers and business leaders can use insights from this data to better plan for future public health crises, ensuring that essential services remain operational while supporting the recovery of sectors severely impacted by restrictions."
   ]
  },
  {
   "cell_type": "markdown",
   "metadata": {},
   "source": [
    "- Did major Texas metropolitan areas (Houston, Dallas, Austin, San Antonio) experience different mobility trends compared to rural areas?\n",
    "    - Why it matters: Large cities likely had different mobility patterns compared to rural counties, influenced by population density, economic activity, and public transit usage\n",
    "    - Key variables: `region_2`, `transit_change`, `workplace_change`, `residential_change`"
   ]
  },
  {
   "cell_type": "markdown",
   "metadata": {},
   "source": [
    "# Population Density greater than 1000/mi^2:\n",
    "- https://www.texascounties.net/statistics/popdensity2020.htm"
   ]
  },
  {
   "cell_type": "markdown",
   "metadata": {},
   "source": [
    "## STOPPED CHECKING HERE. dont delete "
   ]
  },
  {
   "cell_type": "code",
   "execution_count": null,
   "metadata": {
    "vscode": {
     "languageId": "r"
    }
   },
   "outputs": [],
   "source": [
    "# Filtering data for major metropolitan areas and rural areas\n",
    "metro_areas <- c(\"Harris County\", \"Dallas County\", \"Travis County\", \"Bexar County\", \"Tarrant County\", \"Collin County\", \"Denton County\") \n",
    "texas_mobility_data_cleaned$metro_area <- ifelse(texas_mobility_data_cleaned$sub_region_2 %in% metro_areas, \n",
    "                                                 \"Metro\", \"Rural\")\n"
   ]
  },
  {
   "cell_type": "code",
   "execution_count": null,
   "metadata": {
    "vscode": {
     "languageId": "r"
    }
   },
   "outputs": [],
   "source": [
    "# Scatter plot for transit stations\n",
    "ggplot(texas_mobility_data_cleaned, aes(x = date, y = transit_stations_percent_change_from_baseline, \n",
    "                                       color = metro_area)) +\n",
    "  geom_point() +\n",
    "  labs(title = \"Transit Stations Mobility Trend\", x = \"Date\", \n",
    "       y = \"Percent Change from Baseline\") +\n",
    "  theme_minimal() +\n",
    "  scale_color_manual(values = c(\"Metro\" = \"blue\", \"Rural\" = \"red\")) +\n",
    "  theme(legend.position = \"bottom\")"
   ]
  },
  {
   "cell_type": "markdown",
   "metadata": {},
   "source": [
    "### **Transit Stations Mobility Trend**  \n",
    "The scatterplot indicates that metropolitan areas with a population density greater than \n",
    "1,000/mi² experienced significantly greater fluctuations in transit station mobility \n",
    "compared to rural counties. This is likely due to the higher reliance on public \n",
    "transportation in urban centers like Houston, Dallas, Austin, and San Antonio. \n",
    "\n",
    "During the early phases of the COVID-19 pandemic, transit mobility saw a steep decline \n",
    "in metro areas, coinciding with lockdowns, work-from-home policies, and public transit \n",
    "restrictions. In contrast, rural areas, which are less dependent on public transportation, \n",
    "exhibited smaller and more stable changes. The gradual recovery in metro transit usage, \n",
    "visible in the latter part of the scatterplot, aligns with the easing of restrictions \n",
    "and the reopening of businesses, but full recovery appears slow, possibly due to continued \n",
    "remote work trends.  \n"
   ]
  },
  {
   "cell_type": "code",
   "execution_count": null,
   "metadata": {
    "vscode": {
     "languageId": "r"
    }
   },
   "outputs": [],
   "source": [
    "# Scatter plot for workplaces\n",
    "ggplot(texas_mobility_data_cleaned, aes(x = date, y = workplaces_percent_change_from_baseline, \n",
    "                                       color = metro_area)) +\n",
    "  geom_point() +\n",
    "  labs(title = \"Workplaces Mobility Trend\", x = \"Date\", \n",
    "       y = \"Percent Change from Baseline\") +\n",
    "  theme_minimal() +\n",
    "  scale_color_manual(values = c(\"Metro\" = \"darkgreen\", \"Rural\" = \"darkgoldenrod2\")) +\n",
    "  theme(legend.position = \"bottom\")\n"
   ]
  },
  {
   "cell_type": "markdown",
   "metadata": {},
   "source": [
    "### **Workplace Mobility Trend**  \n",
    "The scatterplot shows that both rural and metropolitan areas experienced fluctuations in \n",
    "workplace mobility, but the impact was significantly more pronounced in metro areas. \n",
    "This discrepancy can be attributed to the higher concentration of corporate offices, \n",
    "service industries, and non-essential businesses in urban areas, many of which either shut \n",
    "down or transitioned to remote work during the pandemic. \n",
    "\n",
    "Rural areas, on the other hand, are more likely to have essential industries such as \n",
    "agriculture, manufacturing, and small businesses that continued operations with fewer \n",
    "interruptions. The data suggests that workplace mobility in metro areas saw a sharp \n",
    "decline during the lockdown period, followed by a gradual but incomplete recovery, \n",
    "while rural areas displayed smaller deviations from baseline levels.  "
   ]
  },
  {
   "cell_type": "code",
   "execution_count": null,
   "metadata": {
    "vscode": {
     "languageId": "r"
    }
   },
   "outputs": [],
   "source": [
    "# Scatter plot for residential\n",
    "ggplot(texas_mobility_data_cleaned, aes(x = date, y = residential_percent_change_from_baseline, \n",
    "                                       color = metro_area)) +\n",
    "  geom_point() +\n",
    "  labs(title = \"Residential Mobility Trend\", x = \"Date\", \n",
    "       y = \"Percent Change from Baseline\") +\n",
    "  theme_minimal() +\n",
    "  scale_color_manual(values = c(\"Metro\" = \"blue1\", \"Rural\" = \"#ec1010\")) +\n",
    "  theme(legend.position = \"bottom\")\n"
   ]
  },
  {
   "cell_type": "markdown",
   "metadata": {},
   "source": [
    "### **Residential Mobility Trend**  \n",
    "The scatterplot highlights significant changes in residential mobility for both metro \n",
    "and rural counties, though the impact was more pronounced in metropolitan areas. \n",
    "The sharp increase in residential mobility at the start of the pandemic suggests \n",
    "that people were spending more time at home due to lockdown measures, remote work, \n",
    "and online schooling. \n",
    "\n",
    "Metro areas exhibited even greater deviations, likely because urban populations were \n",
    "more affected by stay-at-home orders and had fewer outdoor or non-residential spaces \n",
    "available for activity. Rural areas, while also affected, had a comparatively moderate \n",
    "shift, possibly due to lower population density and greater opportunities for outdoor \n",
    "movement. As restrictions eased, residential mobility began to decline, though it \n",
    "remained above baseline levels, suggesting a lasting impact of remote work and \n",
    "hybrid work arrangements. "
   ]
  },
  {
   "cell_type": "markdown",
   "metadata": {},
   "source": [
    "### *Extra Analysis*"
   ]
  },
  {
   "cell_type": "code",
   "execution_count": null,
   "metadata": {
    "vscode": {
     "languageId": "r"
    }
   },
   "outputs": [],
   "source": [
    "# Prepare and standardize the data for PCA\n",
    "mobility_data_scaled <- scale(texas_mobility_data_cleaned %>%\n",
    "  select(\n",
    "    retail_and_recreation_percent_change_from_baseline,\n",
    "    grocery_and_pharmacy_percent_change_from_baseline,\n",
    "    workplaces_percent_change_from_baseline,\n",
    "    residential_percent_change_from_baseline,\n",
    "    transit_stations_percent_change_from_baseline\n",
    "  ))\n",
    "\n",
    "# Perform PCA\n",
    "pca <- prcomp(mobility_data_scaled)\n",
    "\n",
    "# PCA Summary (Explained Variance)\n",
    "summary(pca)"
   ]
  },
  {
   "cell_type": "code",
   "execution_count": null,
   "metadata": {
    "vscode": {
     "languageId": "r"
    }
   },
   "outputs": [],
   "source": [
    "# Extract PCA loadings (contributions of original variables)\n",
    "pca_loadings <- as.data.frame(pca$rotation)\n",
    "\n",
    "# Renamed variables for clarity\n",
    "pca_loadings$Variable <- c(\"rr\", \"gp\", \"w\", \"r\", \"t\")\n",
    "# Extract PCA scores and attach county information\n",
    "biplot_data <- as.data.frame(pca$x) %>%\n",
    "  cbind(County = texas_mobility_data_cleaned$sub_region_2)\n",
    "\n",
    "# Scree Plot (Variance Explained by Each Principal Component)\n",
    "scree_data <- data.frame(PC = 1:length(pca$sdev), Variance = pca$sdev^2 / sum(pca$sdev^2))"
   ]
  },
  {
   "cell_type": "code",
   "execution_count": null,
   "metadata": {
    "vscode": {
     "languageId": "r"
    }
   },
   "outputs": [],
   "source": [
    "ggplot(scree_data, aes(x = PC, y = Variance)) +\n",
    "  geom_bar(stat = \"identity\", fill = \"skyblue\") +\n",
    "  labs(title = \"Scree Plot\", x = \"Principal Component\", y = \"Variance Explained\") +\n",
    "  theme_minimal()"
   ]
  },
  {
   "cell_type": "markdown",
   "metadata": {},
   "source": [
    "## Principal Component Analysis (PCA) Summary and Interpretation\n",
    "\n",
    "### Understanding PCA  \n",
    "Principal Component Analysis (PCA) is a dimensionality reduction technique that transforms a dataset with multiple correlated variables into a smaller set of uncorrelated components, called principal components (PCs), while preserving as much variance as possible. The first principal component (PC1) captures the highest amount of variance in the data, with each subsequent component capturing progressively less. In this analysis, the PCA summary provides insight into how much variability each principal component explains in relation to the measured mobility features.  \n",
    "\n",
    "### PCA Summary Interpretation  \n",
    "The results indicate that **PC1 has the highest standard deviation (1.7822) and accounts for 63.52% of the total variance**, making it the most significant component in describing mobility trends across Texas counties. This suggests that PC1 represents a broad trend affecting all mobility features, such as changes in workplace activity, transit usage, and visits to retail, grocery, and residential areas. **PC2 explains an additional 19.53% of the variance**, bringing the cumulative variance explained by the first two components to **83.05%**. This suggests that most of the variation in mobility patterns can be effectively summarized using just these two components. **PC3 contributes 9.87%**, while **PC4 and PC5 explain 5.52% and 1.57%**, respectively, indicating that their contributions are minimal.  \n"
   ]
  },
  {
   "cell_type": "code",
   "execution_count": null,
   "metadata": {
    "vscode": {
     "languageId": "r"
    }
   },
   "outputs": [],
   "source": [
    "# PCA Plot (First Two Principal Components)\n",
    "pca_plot <- ggplot(biplot_data, aes(x = PC1, y = PC2, color = County)) +\n",
    "  geom_point() +\n",
    "  labs(title = \"PCA: Mobility Data Dimensionality Reduction\", \n",
    "       x = \"Principal Component 1\", y = \"Principal Component 2\") +\n",
    "  theme_minimal()\n",
    "\n",
    "# Save the plot\n",
    "ggsave(\"pca_plot.png\", plot = pca_plot, width = 10, height = 6)"
   ]
  },
  {
   "cell_type": "code",
   "execution_count": null,
   "metadata": {
    "vscode": {
     "languageId": "r"
    }
   },
   "outputs": [],
   "source": [
    "# PCA Loadings Plot (Contribution of Each Variable)\n",
    "loading_df_long <- gather(pca_loadings, PC, loading_value, -Variable)\n",
    "\n",
    "ggplot(loading_df_long, aes(x = Variable, y = loading_value, fill = PC)) +\n",
    "  geom_bar(stat = \"identity\", position = \"dodge\") +\n",
    "  coord_flip() +\n",
    "  theme_minimal() +\n",
    "  labs(title = \"PCA Loadings: Contribution of Each Variable to Principal Components\",\n",
    "       x = \"Variables\", y = \"Loading Value\")"
   ]
  },
  {
   "cell_type": "code",
   "execution_count": null,
   "metadata": {
    "vscode": {
     "languageId": "r"
    }
   },
   "outputs": [],
   "source": [
    "# Prints the PCA loadings\n",
    "print(pca$rotation)"
   ]
  },
  {
   "cell_type": "markdown",
   "metadata": {},
   "source": [
    "### **Interpretation of PCA Loadings in the Context of COVID-19 Mobility Data**\n",
    "\n",
    "#### **Understanding Principal Component Analysis (PCA) in Simple Terms**  \n",
    "Principal Component Analysis (PCA) is a technique used to simplify complex data by identifying patterns and grouping related variables. It transforms the data into new variables, called **principal components (PCs)**, which explain the most important patterns in the data. Each principal component is a combination of the original variables, and the goal is to reduce the number of variables while retaining as much information as possible.  \n",
    "\n",
    "In this case, the data we are analyzing includes mobility trends across different locations, such as how much people were visiting retail stores, working in offices, or staying home. The PCA allows us to combine these behaviors into simpler patterns (the principal components), making it easier to understand the broader trends across counties in Texas.\n",
    "\n",
    "### **PCA Loadings and Their Interpretation**  \n",
    "The PCA loadings represent how each of the original features (in this case, mobility behaviors) contributes to the new components. The values show whether a particular mobility behavior has a strong positive or negative relationship with a principal component. The higher the absolute value, the more influence that behavior has on the component.\n",
    "\n",
    "Let's go through each principal component (PC) and explain what they represent, especially in the context of COVID-19.\n",
    "\n",
    "---\n",
    "\n",
    "### **PC1 (63.52% Variance Explained): \"Work from Home vs. Public Movement\"**\n",
    "\n",
    "- **Highest Positive Contribution: Residential Mobility (+0.4891)**  \n",
    "  - **Interpretation:** People who stayed at home more often (higher residential mobility) contribute positively to PC1. During COVID-19, many individuals were confined to their homes due to lockdowns and social distancing measures. This reflects the shift in daily life where more people worked from home and limited their outdoor activities. A higher PC1 score means areas where people stayed home more often.\n",
    "  \n",
    "- **Highest Negative Contributions: Retail & Recreation (-0.4847), Workplaces (-0.4518), Transit Stations (-0.4246), Grocery & Pharmacy (-0.3762)**  \n",
    "  - **Interpretation:** The more people visited retail stores, went to work, used public transportation, or went to grocery stores, the lower their PC1 value. During the peak of the pandemic, mobility to non-essential places like stores or offices decreased significantly, as people stayed home to avoid infection. A lower PC1 score suggests that people were engaging in more outdoor or work-related activities, indicating less social distancing.  \n",
    "  - **COVID-19 Context:** PC1 may represent a contrast between residential stability (more people staying home) and more public-based activities (visiting stores, commuting to work). Areas with higher PC1 scores were likely more affected by stay-at-home measures, while areas with lower PC1 scores had higher mobility and less strict restrictions.\n",
    "\n",
    "---\n",
    "\n",
    "### **PC2 (19.53% Variance Explained): \"Work Mobility vs. Household-Related Movement\"**\n",
    "\n",
    "- **Highest Positive Contribution: Workplaces (+0.5457)**  \n",
    "  - **Interpretation:** The more people were going to work (higher workplace mobility), the higher their score on PC2. During COVID-19, many employees transitioned to remote work, and fewer people were commuting to their offices. A higher PC2 value likely represents regions where work-related travel was more common, indicating a less strict shutdown or more essential workers.\n",
    "  \n",
    "- **Highest Negative Contributions: Grocery & Pharmacy (-0.6193), Residential (-0.4392)**  \n",
    "  - **Interpretation:** When people spent more time shopping for groceries and pharmacy goods or stayed at home more (higher residential mobility), their PC2 values decreased. During the pandemic, especially in early stages, people were making essential trips for groceries and other necessities, but overall mobility for non-essential activities was limited. A lower PC2 score could indicate areas where people primarily engaged in essential activities and fewer people went to work.\n",
    "  - **COVID-19 Context:** PC2 appears to represent a divide between regions where people were primarily engaging in work-related mobility versus those focusing more on household or essential needs. Areas with higher workplace mobility (higher PC2 scores) may have been less affected by remote work trends and more dependent on essential sectors.\n",
    "\n",
    "---\n",
    "\n",
    "### **PC3 (9.87% Variance Explained): \"Transit Usage and Essential Shopping\"**\n",
    "\n",
    "- **Highest Positive Contribution: Transit Stations (+0.8572)**  \n",
    "  - **Interpretation:** Areas where people relied more on public transportation during the pandemic contributed more positively to PC3. Public transit usage significantly dropped during COVID-19, with people avoiding crowded spaces to limit exposure. Therefore, a higher PC3 value suggests areas where transit use was still relatively common.\n",
    "  \n",
    "- **Highest Negative Contribution: Grocery & Pharmacy (-0.4583)**  \n",
    "  - **Interpretation:** Areas with high grocery and pharmacy-related movement had a negative contribution to PC3, meaning they were more likely associated with reduced transit usage. Essential trips to stores and pharmacies were likely made by car rather than public transport during the pandemic, especially as people avoided crowded spaces.\n",
    "  - **COVID-19 Context:** PC3 seems to capture the reliance on transit during the pandemic. High values indicate areas where transit use was more consistent, while low values suggest that people preferred personal vehicles for essential errands, reflecting a shift in transportation behavior due to health concerns.\n",
    "\n",
    "---\n",
    "\n",
    "### **PC4 (5.52% Variance Explained): \"Recreational vs. Essential Movement\"**\n",
    "\n",
    "- **Highest Positive Contribution: Grocery & Pharmacy (+0.5123)**  \n",
    "  - **Interpretation:** PC4 seems to capture the distinction between essential (grocery/pharmacy) and recreational (retail/recreation) mobility. Areas with higher scores on PC4 likely had more movement for essential activities, such as grocery shopping, rather than for recreational purposes.\n",
    "\n",
    "- **Highest Negative Contribution: Retail & Recreation (-0.7908)**  \n",
    "  - **Interpretation:** Higher retail and recreational mobility negatively contributed to PC4. During the pandemic, recreational activities like dining out, visiting entertainment venues, or shopping for non-essential goods were limited. Thus, lower values on PC4 indicate higher non-essential activity and less focus on essential needs.\n",
    "  - **COVID-19 Context:** PC4 likely differentiates between essential (grocery) and non-essential (recreation/retail) mobility. During the pandemic, many non-essential businesses shut down or faced reduced customer traffic, which is captured by the negative loadings for retail/recreation.\n",
    "\n",
    "---\n",
    "\n",
    "### **PC5 (1.57% Variance Explained): \"Minor Variations in Mobility Patterns\"**\n",
    "\n",
    "- **Highest Positive Contribution: Grocery & Pharmacy (+0.0504)**  \n",
    "  - **Interpretation:** This component shows minor variations that are not as significant in explaining the overall mobility patterns. Grocery and pharmacy trips were slightly more prominent in this component but not as strongly as in PC4.\n",
    "\n",
    "- **Highest Negative Contributions: Workplaces (-0.6324), Residential (-0.7415)**  \n",
    "  - **Interpretation:** PC5 shows a relationship between workplace and residential mobility but only explains a very small portion of the overall variance. This suggests that changes in work-related and residential movement were less significant or consistent compared to the other principal components.\n",
    "  - **COVID-19 Context:** PC5 is not as critical for understanding the broader mobility shifts during COVID-19. It likely represents residual or less impactful patterns in workplace and residential mobility, which were somewhat stable in comparison to the larger trends captured in other components.\n",
    "\n",
    "---\n",
    "\n",
    "### **Conclusion**\n",
    "\n",
    "The PCA analysis of mobility data during COVID-19 offers valuable insights into how movement patterns were shaped by the pandemic. **PC1** highlights the balance between staying home and engaging in public activities. **PC2** contrasts work-related mobility with household-related activities, indicating where remote work was more common. **PC3** reveals transit usage, showing a shift from public transport to personal vehicles. **PC4** differentiates essential grocery trips from recreational activities, while **PC5** captures minor variations in workplace and residential mobility.  \n",
    "\n",
    "These findings help us understand how the pandemic reshaped mobility behaviors across Texas, with significant implications for both public health strategies and the economic impact of restrictions.\n"
   ]
  },
  {
   "cell_type": "code",
   "execution_count": null,
   "metadata": {
    "vscode": {
     "languageId": "r"
    }
   },
   "outputs": [],
   "source": [
    "# Biplot (PCA Variable Arrows)\n",
    "options(repr.plot.width = 16, repr.plot.height = 14)\n",
    "\n",
    "ggplot(biplot_data, aes(x = PC1, y = PC2, color = County)) +\n",
    "  geom_point() +\n",
    "  geom_segment(data = pca_loadings, \n",
    "               aes(x = 0, y = 0, xend = PC1, yend = PC2), \n",
    "               arrow = arrow(type = \"closed\", length = unit(0.1, \"inches\")), \n",
    "               color = \"blue\", linewidth = 1) +\n",
    "  geom_text(data = pca_loadings, \n",
    "            aes(x = PC1 * 1.3, y = PC2 * 1.3, label = Variable), \n",
    "            color = \"blue\", size = 5) +\n",
    "  labs(title = \"PCA Biplot (PC1 vs PC2)\", x = \"Principal Component 1\", y = \"Principal Component 2\") +\n",
    "  theme_minimal() +\n",
    "  coord_fixed(ratio = 1)"
   ]
  },
  {
   "cell_type": "markdown",
   "metadata": {},
   "source": [
    "### **Interpretation of the PCA Biplot**\n",
    "\n",
    "The PCA biplot provides a visual representation of the relationship between the principal components (PC1 and PC2) and the original variables. In this plot, each arrow represents a feature (such as mobility behaviors), and the direction and length of the arrow indicate how strongly that feature is related to the principal components. Here is a breakdown of the plot:\n",
    "\n",
    "#### **Key Features and Interpretations**\n",
    "\n",
    "- **PC1 (Horizontal Axis)**: This component captures the greatest amount of variance in the data. It contrasts residential mobility (time spent at home) with public mobility (commuting to work, visiting retail locations, and using transit).\n",
    "- **PC2 (Vertical Axis)**: This component captures a secondary dimension of variance, distinguishing between work-related mobility and essential versus recreational mobility.\n",
    "\n",
    "#### **Variable Contributions in the Biplot**:\n",
    "\n",
    "1. **Workplaces (`w`)**:  \n",
    "   - The arrow for workplace mobility points upwards and to the left, meaning that workplace mobility is positively associated with **PC2** and negatively associated with **PC1**.  \n",
    "   - **Interpretation**: Areas with high workplace mobility tend to have higher **PC2** values (indicating more work-related activity) and lower **PC1** values (suggesting less residential stability and fewer stay-at-home behaviors).\n",
    "\n",
    "2. **Retail and Recreation (`rr`)** and **Transit (`t`)**:\n",
    "   - Both the retail and recreation and transit arrows point diagonally downward toward the intersection of PC1 and PC2. This indicates that these features are negatively correlated with both principal components.\n",
    "   - **Interpretation**: Regions with higher retail and recreational mobility, as well as more transit use, typically show lower scores on **PC1** (more public engagement and less stay-at-home behavior) and **PC2** (indicating a focus on essential mobility rather than recreational activities). This suggests a relationship between less restrictive mobility and higher public engagement.\n",
    "\n",
    "3. **Grocery and Pharmacy (`gp`)**:\n",
    "   - The grocery and pharmacy arrow points slightly downward, toward **PC1**, indicating that this feature is most strongly associated with **PC1**.\n",
    "   - **Interpretation**: Higher mobility to grocery stores and pharmacies, which represents essential trips, correlates with higher **PC1** values. This could suggest that in regions with more essential trips, people are likely to stay at home more frequently, which was a common behavior during COVID-19 lockdowns and restrictions.\n",
    "\n",
    "4. **Residential (`r`)**:\n",
    "   - The residential mobility arrow points in the opposite direction of the workplace arrow and towards **PC1**.\n",
    "   - **Interpretation**: Residential mobility is strongly related to **PC1**. As residential mobility increases (meaning more people are staying at home), **PC1** scores increase as well. This suggests that increased time spent at home, often due to lockdown measures, is associated with higher scores on **PC1**. This contrasts with workplace and recreational mobility, which generally decreased during the pandemic.\n",
    "\n",
    "#### **Visualizing the Relationships**:\n",
    "- **Clustered Counties**: Counties that cluster together in the plot likely share similar mobility trends, such as areas with high work-related mobility versus those with more residential stability.\n",
    "- **Arrow Directions and Lengths**: Longer arrows indicate that the feature has a stronger influence on the principal components. For example, **transit stations** are particularly influential on **PC3**, while **workplaces** and **residential** mobility are major factors in **PC1** and **PC2**.\n",
    "\n",
    "#### **How These Results Reflect COVID-19 Trends**\n",
    "\n",
    "The results from the PCA biplot align well with observed trends during the COVID-19 pandemic:\n",
    "\n",
    "- **Workplaces**: During the pandemic, there was a significant reduction in workplace mobility due to lockdowns and remote work policies. The **workplaces** arrow pointing to **PC2** suggests that regions with higher work mobility had lower **PC1** values, indicating a correlation between reduced stay-at-home behaviors and more essential work activity.\n",
    "  \n",
    "- **Retail and Recreation**: These types of mobility, such as visits to shopping centers and recreational areas, were heavily restricted during the pandemic. The arrows for **retail and recreation** and **transit** pointing diagonally downwards suggest a negative correlation with both **PC1** and **PC2**, reflecting the reduction in non-essential mobility and public interactions during COVID-19 lockdowns.\n",
    "\n",
    "- **Grocery and Pharmacy**: Trips to grocery stores and pharmacies were among the few types of mobility allowed during lockdowns. The **grocery and pharmacy** arrow pointing toward **PC1** reflects that higher **PC1** values are associated with more essential trips, showing that areas with more essential mobility also had higher stay-at-home behaviors, as expected during the pandemic.\n",
    "\n",
    "- **Residential**: **Residential mobility** increased during the pandemic, as people were encouraged to stay at home. The arrow for **residential mobility** pointing in the opposite direction of **workplaces** indicates that areas with more people staying at home (higher **PC1** values) had less work-related and public mobility, aligning with the COVID-19 trend of sheltering in place.\n",
    "\n",
    "#### **Conclusion**\n",
    "The biplot accurately represents the mobility changes during the COVID-19 pandemic, highlighting the complex relationship between work, essential, and recreational mobility. It shows that **residential mobility** was associated with higher **PC1** values (more time at home), while **workplaces**, **retail**, and **transit** mobility had more variable influences on **PC2** and **PC1**, reflecting the varying restrictions and behaviors during the pandemic. This analysis provides valuable insights into how different aspects of mobility were affected by the pandemic and how they relate to the overall trend of reduced social and public engagement."
   ]
  },
  {
   "cell_type": "markdown",
   "metadata": {},
   "source": [
    "## 2.2 Covid Cases Census Data"
   ]
  },
  {
   "cell_type": "markdown",
   "metadata": {},
   "source": [
    "### **Key Questions for COVID-19 Cases Census Data**  \n",
    "\n",
    "- **Which Texas counties exhibit the highest COVID-19 infection and mortality rates per capita, and how do demographic factors (e.g., population size, income levels) correlate with these trends?**  \n",
    "    - *Why it matters:* Identifies high-risk counties to prioritize public health interventions and resource allocation.  \n",
    "    - *Key variables:* `county_name`, `state`, `confirmed_cases`, `deaths`, `total_pop`, `median_income`, `commuters_by_public_transportation`\n",
    "\n",
    "- **How do COVID-19 case rates differ between urban and rural counties, and how do socioeconomic factors (e.g., income levels, public assistance rates) influence these trends?**  \n",
    "    - *Why it matters:* Understanding these differences helps tailor health policies and support for both urban and rural areas.  \n",
    "    - *Key variables:* `county_name`, `total_pop`, `confirmed_cases`, `median_income`, `households_public_asst_or_food_stamps`  \n",
    "\n",
    "- **Which counties have the lowest per capita access to workers staying at home, and how does this relate to COVID-19 case rates?**  \n",
    "    - *Why it matters:* Helps assess the impact of workplace exposure on infection rates and informs policy on remote work feasibility.  \n",
    "    - *Key variables:* `county_name`, `confirmed_cases`, `worked_at_home`, `total_pop`  \n",
    "\n",
    "- **How do poverty and public assistance rates correlate with COVID-19 case and mortality rates across Texas counties?**  \n",
    "    - *Why it matters:* Evaluates the role of economic vulnerability in COVID-19 outcomes to inform targeted aid programs.  \n",
    "    - *Key variables:* `county_name`, `confirmed_cases`, `deaths`, `poverty_rate`, `households_public_asst_or_food_stamps`, `income_less_10000`, `income_10000_14999`, `income_15000_19999`\n"
   ]
  },
  {
   "cell_type": "markdown",
   "metadata": {},
   "source": [
    "[9 point]\n",
    "- Describe what data is available. \n",
    "- Choose 5-10 important variables for the questions you have identified in the section above. \n",
    "- Describe the type of data (scale, values, etc.) of the most critical variables in the data. \n",
    "\n"
   ]
  },
  {
   "cell_type": "code",
   "execution_count": null,
   "metadata": {
    "vscode": {
     "languageId": "r"
    }
   },
   "outputs": [],
   "source": [
    "# Randomly display 10 rows\n",
    "covid_cases_census %>%\n",
    "  sample_n(10)"
   ]
  },
  {
   "cell_type": "code",
   "execution_count": null,
   "metadata": {
    "vscode": {
     "languageId": "r"
    }
   },
   "outputs": [],
   "source": [
    "str(covid_cases_census)"
   ]
  },
  {
   "cell_type": "code",
   "execution_count": null,
   "metadata": {
    "vscode": {
     "languageId": "r"
    }
   },
   "outputs": [],
   "source": [
    "glimpse(covid_cases_census)"
   ]
  },
  {
   "cell_type": "code",
   "execution_count": null,
   "metadata": {
    "vscode": {
     "languageId": "r"
    }
   },
   "outputs": [],
   "source": [
    "covid_cases_census %>%\n",
    "  colnames()"
   ]
  },
  {
   "cell_type": "markdown",
   "metadata": {},
   "source": [
    "[9 Points]\n",
    "- Verify data quality: \n",
    "    - Are there missing values? \n",
    "    - Duplicate Data? \n",
    "    - Outliers? \n",
    "    - Are those mistakes? \n",
    "    - How can these be fixed? \n",
    "- Ensure your report states how much data is removed and how much you have left. \n",
    "\n"
   ]
  },
  {
   "cell_type": "markdown",
   "metadata": {},
   "source": [
    "[9 points]\n",
    "- Give appropriate statistics (range, mode, mean, median, variance, etc.) for the most important variables in these files and describe what they mean or if you find something interesting. \n",
    "\n"
   ]
  },
  {
   "cell_type": "markdown",
   "metadata": {},
   "source": [
    "\n",
    "[9 points]\n",
    "- Visually explore the chosen attributes appropriately. \n",
    "- Provide an interpretation for each graph. \n",
    "- Explain why you chose the visualization for each attribute type. \n"
   ]
  },
  {
   "cell_type": "markdown",
   "metadata": {},
   "source": [
    "[9 points]\n",
    "- Explore relationships between attributes: \n",
    "    - Look at the attributes and then use cross-tabulation, correlation, group-wise averages, box plots, etc., as appropriate. "
   ]
  },
  {
   "cell_type": "markdown",
   "metadata": {},
   "source": [
    "## 2.3 Covid Cases Texas"
   ]
  },
  {
   "cell_type": "markdown",
   "metadata": {},
   "source": [
    "[9 point]\n",
    "- Describe what data is available. \n",
    "- Choose 5-10 important variables for the questions you have identified in the section above. \n",
    "- Describe the type of data (scale, values, etc.) of the most critical variables in the data. \n",
    "\n"
   ]
  },
  {
   "cell_type": "markdown",
   "metadata": {},
   "source": [
    "[9 Points]\n",
    "- Verify data quality: \n",
    "    - Are there missing values? \n",
    "    - Duplicate Data? \n",
    "    - Outliers? \n",
    "    - Are those mistakes? \n",
    "    - How can these be fixed? \n",
    "- Ensure your report states how much data is removed and how much you have left. \n",
    "\n"
   ]
  },
  {
   "cell_type": "markdown",
   "metadata": {},
   "source": [
    "[9 points]\n",
    "- Give appropriate statistics (range, mode, mean, median, variance, etc.) for the most important variables in these files and describe what they mean or if you find something interesting. \n",
    "\n"
   ]
  },
  {
   "cell_type": "markdown",
   "metadata": {},
   "source": [
    "[9 points]\n",
    "- Visually explore the chosen attributes appropriately. \n",
    "- Provide an interpretation for each graph. \n",
    "- Explain why you chose the visualization for each attribute type. \n",
    "\n"
   ]
  },
  {
   "cell_type": "markdown",
   "metadata": {},
   "source": [
    "[9 points]\n",
    "- Explore relationships between attributes: \n",
    "    - Look at the attributes and then use cross-tabulation, correlation, group-wise averages, box plots, etc., as appropriate. "
   ]
  },
  {
   "cell_type": "markdown",
   "metadata": {},
   "source": [
    "# 3. Data Preparation [30 points]\n",
    "[30 points]\n",
    "- Create a data set with objects as rows and features as columns. \n",
    "- Use as objects counties in the US. \n",
    "- The data set must be included in your report. \n",
    "- Provide a table in your Word document that shows the data (values) for the first 10 rows for all the features you have selected and/or created. \n",
    "- Interesting additional features may be, for example: \n",
    "    - When was the first case reported?\n",
    "    - How (densely) populated is the county?\n",
    "    - What resources does a county have (money, hospital)?\n",
    "    - What is the social distancing response, and how long did it take after the first case?\n",
    "- You can come up with more critical questions for your chosen stakeholder."
   ]
  },
  {
   "cell_type": "markdown",
   "metadata": {},
   "source": [
    "# 4. Data Preparation [15 points]\n",
    "[15 points]\n",
    "- Formulate some recommendations for the questions developed in section 1. based on the results in 2. and 3. \n",
    "- Make sure your recommendations are based on data and are actionable for the stakeholder (i.e., the stakeholder has the power to execute the recommendations). "
   ]
  },
  {
   "cell_type": "markdown",
   "metadata": {},
   "source": [
    "# Required Appendix\n",
    "A list that specifies the part of the project they have worked on as the lead or a supporter."
   ]
  },
  {
   "cell_type": "markdown",
   "metadata": {},
   "source": []
  }
 ],
 "metadata": {
  "kernelspec": {
   "display_name": "R",
   "language": "R",
   "name": "ir"
  },
  "language_info": {
   "codemirror_mode": "r",
   "file_extension": ".r",
   "mimetype": "text/x-r-source",
   "name": "R",
   "pygments_lexer": "r",
   "version": "4.4.2"
  }
 },
 "nbformat": 4,
 "nbformat_minor": 2
}
