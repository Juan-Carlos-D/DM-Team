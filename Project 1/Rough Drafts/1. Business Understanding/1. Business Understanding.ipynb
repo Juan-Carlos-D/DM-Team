{
 "cells": [
  {
   "cell_type": "markdown",
   "metadata": {},
   "source": [
    "# <div style=\"text-align: center;\">Project 1: Data & Visualization</div>"
   ]
  },
  {
   "cell_type": "markdown",
   "metadata": {},
   "source": [
    "I have extracted data about the number of cases, demographics, and social distancing and put the data sets on Canvas (see above). You can always get more data directly from the link above.\n",
    "\n",
    "Some general example questions we are interested in answering throughout the semester are:\n",
    "\n",
    "- What is the trend in different areas (states, counties) of the US?\n",
    "- Is social distancing done, and is it working?\n",
    "- Can we identify regions that do particularly well? Why did they do well?\n",
    "- Can we predict the development in a region given the data from other areas?\n",
    "- What actions can we recommend to provide an effective emergency response?\n",
    "- During the projects, you will come up with your own questions.\n",
    "\n",
    "In this project, we will focus on cleaning and understanding the data. You need to work on the following steps of the CRISP-DM framework:"
   ]
  },
  {
   "cell_type": "markdown",
   "metadata": {},
   "source": [
    "# 1. Problem Description (Business Understanding) [10 points]\n",
    "[3 points]\n",
    "Describe the Problem: \n",
    "- What is COVID-19, and what is social distancing and flattening the curve? \n",
    "- Why is it important to look at data about the virus spread, hospitalizations, and available resources? \n",
    "\n",
    "[7 point]\n",
    "- Choose a stakeholder for whom you analyze and, later on, model the data. \n",
    "- Define some questions that are important for this stakeholder. \n",
    "- What decisions can your stakeholders make, and how would they affect COVID-19 outcomes? \n",
    "- Brainstorm this a lot since this choice will guide your exploration of this and all the following projects. \n",
    "- Make sure you can produce actionable recommendations for these questions using your data later in your report. "
   ]
  },
  {
   "cell_type": "markdown",
   "metadata": {},
   "source": [
    "## 1 Problem Description\n",
    "##### 1.1 *What is COVID-19, and what are social distancing and flattening the curve?*\n",
    "- COVID-19, caused by the SARS-CoV-2 virus, is a respiratory illness that emerged in late 2019 and led to a global pandemic. It spreads primarily through respiratory droplets and airborne transmission, causing symptoms ranging from mild respiratory issues to severe complications such as pneumonia, organ failure, and death, particularly in high-risk populations ([cdc.gov](https://www.cdc.gov/covid/about/index.html?CDC_AA_refVal=https%3A%2F%2Fwww.cdc.gov%2Fcoronavirus%2F2019-ncov%2Fprevent-getting-sick%2Fhow-covid-spreads.html)). \n",
    "- Social distancing refers to reducing close physical interactions between individuals to prevent viral spread. This includes staying at least six feet apart, avoiding large gatherings, and minimizing non-essential travel ([who.int](https://www.who.int/emergencies/diseases/novel-coronavirus-2019/advice-for-public)).\n",
    "- Flattening the curve refers to implementing measures, such as social distancing, mask mandates, lockdowns, and remote work policies, to slow the virus's spread. The goal is to reduce the peak number of cases, preventing healthcare systems from becoming overwhelmed and ensuring medical resources remain available for critical patientsof cases and preventing healthcare systems from being overwhelmed (source: [michiganmedicine.org](https://www.michiganmedicine.org/health-lab/flattening-curve-covid-19-what-does-it-mean-and-how-can-you-help?)).\n",
    "\n",
    "##### 1.2 *Why is it important to look at data about the virus spread, hospitalizations, and available resources?*\n",
    "Analyzing COVID-19 data is essential for evidence-based decision-making in public health. Monitoring infection rates, hospital capacity, and medical resource availability helps in:\n",
    "- Identifying outbreak hotspots – Tracking new cases allows health agencies to implement targeted restrictions before widespread community transmission occurs ([jhu.edu](https://coronavirus.jhu.edu/data)).\n",
    "- Resource allocation – Data on hospitalizations guide the distribution of ICU beds, ventilators, and medical personnel where they are needed most ([nih.gov](https://www.nhlbi.nih.gov/covid)).\n",
    "- Assessing policy effectiveness – Evaluating trends before and after interventions (e.g., lockdowns, mask mandates, and vaccine rollouts) determines which strategies work best ([researchunc.edu](https://research.unc.edu/2020/10/01/the-importance-of-covid-19-data-collection-and-transmission).\n",
    "- Protecting vulnerable populations – Disaggregated data by age, race, socioeconomic status, and pre-existing conditions ensure at-risk groups receive priority care and vaccinations ([cdc.gov](https://covid.cdc.gov/covid-data-tracker/#datatracker-home)).\n",
    "\n",
    "##### 1.3 *Choose a stakeholder for whom you analyze and, later on, model the data*\n",
    "- The chosen stakeholder is the **Public Health Department** of Dallas, TX: **Dallas County Health and Human Services**. The Dallas County Health and Human Services (DCHHS) is responsible for monitoring public health trends, implementing COVID-19 policies, and allocating healthcare resources within Dallas County. They provide COVID-19 testing, vaccinations, hospital coordination, and outbreak management ([DCHSS](https://www.dallascounty.org/departments/dchhs)). \n",
    "-  This stakeholder is ideal for this analysis because:\n",
    "    - They oversee pandemic response efforts for a major metropolitan area with a diverse population.\n",
    "    - They make critical decisions on public health measures affecting millions of residents in Dallas County.\n",
    "    - Their policies impact local businesses, healthcare facilities, schools, and public services.\n",
    "\n",
    "##### 1.4 *Define some questions that are important for this stakeholder.*\n",
    "To effectively support DCHHS in decision-making, this analysis focuses on the following key questions:\n",
    "- What are the current COVID-19 infection rates across different city neighborhoods?\n",
    "    - This helps identify outbreak hotspots and areas needing immediate intervention.\n",
    "- Which demographic groups are experiencing higher hospitalization rates?\n",
    "    - Understanding vulnerable populations allows for more targeted healthcare and vaccination efforts.\n",
    "- How effective have social distancing measures been in reducing virus transmission?\n",
    "    - This will guide decisions on continuing, adjusting, or relaxing restrictions.\n",
    "- What is the current capacity of local hospitals, and how close are they to being overwhelmed?\n",
    "    - This informs resource allocation and helps prevent healthcare system collapse.\n",
    "- What percentage of the population has been vaccinated, and how does this correlate with infection rates?\n",
    "    - This helps determine if vaccination efforts need to be expanded or if additional measures are required\n",
    "- How have previous public health mandates (e.g., mask requirements, business restrictions) impacted case trends?\n",
    "    - This is important for evaluating the effectiveness of past strategies and shaping future actions.\n",
    "\n",
    "- Why Are These Questions Important?\n",
    "    - These questions are critical because they allow DCHHS to:\n",
    "        - Identify and address COVID-19 hotspots to implement targeted interventions before widespread transmission occurs.\n",
    "        - Allocate medical resources more efficiently based on the current needs and capacity of local hospitals.\n",
    "        - Evaluate the effectiveness of public health measures to decide whether they should be intensified, relaxed, or restructured.\n",
    "        - Protect vulnerable populations by ensuring that healthcare services, such as vaccination and treatment, are prioritized based on demographic risk factors.\n",
    "    - Answering these questions will enable DCHHS to make informed, data-driven decisions that can directly improve public health outcomes in Dallas County.\n",
    "\n",
    "##### 1.5 *What decisions can your stakeholders make, and how would they affect COVID-19 outcomes?*\n",
    "DCHHS plays a critical role in pandemic response by making data-driven decisions that directly impact COVID-19 transmission, healthcare system strain, and mortality rates. Their key decision areas include:\n",
    "- Implementing or Adjusting Social Distancing Measures\n",
    "    - By analyzing infection trends, DCHHS can tighten or relax mask mandates, capacity limits, and stay-at-home orders.\n",
    "    - Example: During the Delta variant surge (2021), Dallas County reinstated indoor mask mandates based on rising case counts, reducing the growth rate of hospitalizations ([dallasnews.com](https://www.dallasnews.com/news/2021/08/11/dallas-county-judge-clay-jenkins-issues-new-mandate-requiring-masks-in-schools-businesses/)).\n",
    "\n",
    "- Allocating Medical Resources Efficiently\n",
    "    - Hospitalization and ICU data guide staffing and resource distribution across Dallas County hospitals.\n",
    "    - Example: In July 2020, data-driven planning helped prevent hospital overload by redistributing ventilators to high-need areas in Dallas hospitals ([texastribune.org](https://www.texastribune.org/2020/07/14/texas-hospitals-coronavirus/))\n",
    "\n",
    "- Target Vaccination and Outreach Programs\n",
    "    - Demographic analysis ensures that high-risk and underserved communities receive vaccines early.\n",
    "    - Example: DCHHS launched community-based vaccination clinics in South Dallas, where vaccination rates were low and case rates were high ([parklandhealth.org](https://www.parklandhealth.org/community-calendar/dchhs-popup-clinics-2176?utm_source=chatgpt.com)).\n",
    "\n",
    "- Public Health Communication Strategies\n",
    "    - Data helps shape effective health campaigns to encourage compliance with safety measures.\n",
    "    - Example: DCHHS used real-time mobility data to warn against holiday travel surges in December 2020, reducing travel-related infections ([nbcdfw.com](https://www.nbcdfw.com/news/local/holiday-travel-surge-amid-rising-covid-19-cases/2843212/)).\n",
    "\n",
    "Each of these decisions directly affects COVID-19 outcomes by controlling transmission, reducing hospital burden, and saving lives.\n",
    "\n",
    "##### 1.6 *What data is needed?*\n",
    "For this analysis, several types of data will be necessary:\n",
    "- COVID-19 case data: Information on the number of infections, recoveries, and deaths, segmented by location, age, and other demographics.\n",
    "- Hospitalization data: Data on ICU capacity, ventilator use, and hospital admissions related to COVID-19.\n",
    "- Social distancing and mobility data: Information on people's movement patterns to understand compliance with public health mandates and detect emerging risks (e.g., increased mobility during holidays).\n",
    "- Vaccination rates: Data on vaccination coverage, particularly broken down by demographic groups, to assess disparities in vaccine access and uptake.\n",
    "- Public health intervention data: Insights on mask mandates, social distancing measures, and other interventions, along with their timeline and geographic implementation.\n",
    "\n",
    "By collecting and analyzing these data points, DCHHS can develop a clearer picture of the pandemic’s impact, forecast future trends, and make decisions that mitigate harm to the community."
   ]
  },
  {
   "cell_type": "markdown",
   "metadata": {},
   "source": [
    "# 2. Data Understanding [45 points]\n",
    "You must include all three provided datasets in your analysis!\n",
    "\n",
    "[9 point]\n",
    "- Describe what data is available. \n",
    "- Choose 5-10 important variables for the questions you have identified in the section above. \n",
    "- Describe the type of data (scale, values, etc.) of the most critical variables in the data. \n",
    "\n",
    "[9 Points]\n",
    "- Verify data quality: \n",
    "    - Are there missing values? \n",
    "    - Duplicate Data? \n",
    "    - Outliers? \n",
    "    - Are those mistakes? \n",
    "    - How can these be fixed? \n",
    "- Ensure your report states how much data is removed and how much you have left. \n",
    "\n",
    "[9 points]\n",
    "- Give appropriate statistics (range, mode, mean, median, variance, etc.) for the most important variables in these files and describe what they mean or if you find something interesting. \n",
    "\n",
    "[9 points]\n",
    "- Visually explore the chosen attributes appropriately. \n",
    "- Provide an interpretation for each graph. \n",
    "- Explain why you chose the visualization for each attribute type. \n",
    "\n",
    "[9 points]\n",
    "- Explore relationships between attributes: \n",
    "    - Look at the attributes and then use cross-tabulation, correlation, group-wise averages, box plots, etc., as appropriate. "
   ]
  },
  {
   "cell_type": "markdown",
   "metadata": {},
   "source": [
    "# 3. Data Preparation [30 points]\n",
    "[30 points]\n",
    "- Create a data set with objects as rows and features as columns. \n",
    "- Use as objects counties in the US. \n",
    "- The data set must be included in your report. \n",
    "- Provide a table in your Word document that shows the data (values) for the first 10 rows for all the features you have selected and/or created. \n",
    "- Interesting additional features may be, for example: \n",
    "    - When was the first case reported?\n",
    "    - How (densely) populated is the county?\n",
    "    - What resources does a county have (money, hospital)?\n",
    "    - What is the social distancing response, and how long did it take after the first case?\n",
    "- You can come up with more critical questions for your chosen stakeholder."
   ]
  },
  {
   "cell_type": "markdown",
   "metadata": {},
   "source": [
    "# 4. Data Preparation [15 points]\n",
    "[15 points]\n",
    "- Formulate some recommendations for the questions developed in section 1. based on the results in 2. and 3. \n",
    "- Make sure your recommendations are based on data and are actionable for the stakeholder (i.e., the stakeholder has the power to execute the recommendations). "
   ]
  },
  {
   "cell_type": "markdown",
   "metadata": {},
   "source": [
    "# Required Appendix\n",
    "A list that specifies the part of the project they have worked on as the lead or a supporter."
   ]
  }
 ],
 "metadata": {
  "kernelspec": {
   "display_name": "R",
   "language": "R",
   "name": "ir"
  },
  "language_info": {
   "name": "R",
   "version": "3.12.6"
  }
 },
 "nbformat": 4,
 "nbformat_minor": 2
}
